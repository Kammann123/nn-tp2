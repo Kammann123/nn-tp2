{
 "cells": [
  {
   "cell_type": "markdown",
   "id": "demanding-cigarette",
   "metadata": {},
   "source": [
    "# Redes Neuronales - Trabajo Práctico N° 2 - Ejercicio 1 - Regresión Logística\n",
    "# Notebook #3: Implementación de un modelo MLP\n",
    "En esta notebook se busca aprovechar los conocimientos de las anteriores e implementar un modelo MLP para poder estimar la condición de diabético de un paciente, perteneciente al Pima Indians Dataset analizado en la primer notebook."
   ]
  },
  {
   "cell_type": "markdown",
   "id": "first-receptor",
   "metadata": {},
   "source": [
    "# 1. Cargando base de datos"
   ]
  },
  {
   "cell_type": "code",
   "execution_count": 1,
   "id": "polished-diploma",
   "metadata": {},
   "outputs": [],
   "source": [
    "import numpy as np"
   ]
  },
  {
   "cell_type": "code",
   "execution_count": 2,
   "id": "outstanding-intranet",
   "metadata": {},
   "outputs": [],
   "source": [
    "import pandas as pd\n",
    "pd.options.mode.chained_assignment = None  # default='warn'"
   ]
  },
  {
   "cell_type": "code",
   "execution_count": 3,
   "id": "advised-praise",
   "metadata": {},
   "outputs": [],
   "source": [
    "import importlib"
   ]
  },
  {
   "cell_type": "code",
   "execution_count": 4,
   "id": "ignored-stable",
   "metadata": {},
   "outputs": [
    {
     "data": {
      "text/html": [
       "<div>\n",
       "<style scoped>\n",
       "    .dataframe tbody tr th:only-of-type {\n",
       "        vertical-align: middle;\n",
       "    }\n",
       "\n",
       "    .dataframe tbody tr th {\n",
       "        vertical-align: top;\n",
       "    }\n",
       "\n",
       "    .dataframe thead th {\n",
       "        text-align: right;\n",
       "    }\n",
       "</style>\n",
       "<table border=\"1\" class=\"dataframe\">\n",
       "  <thead>\n",
       "    <tr style=\"text-align: right;\">\n",
       "      <th></th>\n",
       "      <th>Pregnancies</th>\n",
       "      <th>Glucose</th>\n",
       "      <th>BloodPressure</th>\n",
       "      <th>SkinThickness</th>\n",
       "      <th>Insulin</th>\n",
       "      <th>BMI</th>\n",
       "      <th>DiabetesPedigreeFunction</th>\n",
       "      <th>Age</th>\n",
       "      <th>Outcome</th>\n",
       "    </tr>\n",
       "  </thead>\n",
       "  <tbody>\n",
       "    <tr>\n",
       "      <th>0</th>\n",
       "      <td>6</td>\n",
       "      <td>148</td>\n",
       "      <td>72</td>\n",
       "      <td>35</td>\n",
       "      <td>0</td>\n",
       "      <td>33.6</td>\n",
       "      <td>0.627</td>\n",
       "      <td>50</td>\n",
       "      <td>1</td>\n",
       "    </tr>\n",
       "    <tr>\n",
       "      <th>1</th>\n",
       "      <td>1</td>\n",
       "      <td>85</td>\n",
       "      <td>66</td>\n",
       "      <td>29</td>\n",
       "      <td>0</td>\n",
       "      <td>26.6</td>\n",
       "      <td>0.351</td>\n",
       "      <td>31</td>\n",
       "      <td>0</td>\n",
       "    </tr>\n",
       "    <tr>\n",
       "      <th>2</th>\n",
       "      <td>8</td>\n",
       "      <td>183</td>\n",
       "      <td>64</td>\n",
       "      <td>0</td>\n",
       "      <td>0</td>\n",
       "      <td>23.3</td>\n",
       "      <td>0.672</td>\n",
       "      <td>32</td>\n",
       "      <td>1</td>\n",
       "    </tr>\n",
       "    <tr>\n",
       "      <th>3</th>\n",
       "      <td>1</td>\n",
       "      <td>89</td>\n",
       "      <td>66</td>\n",
       "      <td>23</td>\n",
       "      <td>94</td>\n",
       "      <td>28.1</td>\n",
       "      <td>0.167</td>\n",
       "      <td>21</td>\n",
       "      <td>0</td>\n",
       "    </tr>\n",
       "    <tr>\n",
       "      <th>4</th>\n",
       "      <td>0</td>\n",
       "      <td>137</td>\n",
       "      <td>40</td>\n",
       "      <td>35</td>\n",
       "      <td>168</td>\n",
       "      <td>43.1</td>\n",
       "      <td>2.288</td>\n",
       "      <td>33</td>\n",
       "      <td>1</td>\n",
       "    </tr>\n",
       "  </tbody>\n",
       "</table>\n",
       "</div>"
      ],
      "text/plain": [
       "   Pregnancies  Glucose  BloodPressure  SkinThickness  Insulin   BMI  \\\n",
       "0            6      148             72             35        0  33.6   \n",
       "1            1       85             66             29        0  26.6   \n",
       "2            8      183             64              0        0  23.3   \n",
       "3            1       89             66             23       94  28.1   \n",
       "4            0      137             40             35      168  43.1   \n",
       "\n",
       "   DiabetesPedigreeFunction  Age  Outcome  \n",
       "0                     0.627   50        1  \n",
       "1                     0.351   31        0  \n",
       "2                     0.672   32        1  \n",
       "3                     0.167   21        0  \n",
       "4                     2.288   33        1  "
      ]
     },
     "execution_count": 4,
     "metadata": {},
     "output_type": "execute_result"
    }
   ],
   "source": [
    "# Read database from .csv\n",
    "df = pd.read_csv('../../databases/diabetes.csv', delimiter=',')\n",
    "\n",
    "# Show first rows of data\n",
    "df.head()"
   ]
  },
  {
   "cell_type": "markdown",
   "id": "natural-gregory",
   "metadata": {},
   "source": [
    "# 2. Preprocesamiento de los datos"
   ]
  },
  {
   "cell_type": "markdown",
   "id": "surprising-young",
   "metadata": {},
   "source": [
    "## 2.1 Filtrado de valores inválidos"
   ]
  },
  {
   "cell_type": "code",
   "execution_count": 5,
   "id": "amber-colorado",
   "metadata": {},
   "outputs": [],
   "source": [
    "# Filtering Glucose values\n",
    "df['Glucose'].replace(0, np.nan, inplace=True)\n",
    "\n",
    "# Filtering Blood Pressure values\n",
    "df['BloodPressure'].replace(0, np.nan, inplace=True)\n",
    "\n",
    "# Filtering Skin Thickness values\n",
    "df['SkinThickness'].replace(0, np.nan, inplace=True)\n",
    "\n",
    "# Filtering Insulin values\n",
    "df['Insulin'].replace(0, np.nan, inplace=True)\n",
    "\n",
    "# Filtering Body Mass Index values\n",
    "df['BMI'].replace(0, np.nan, inplace=True)"
   ]
  },
  {
   "cell_type": "markdown",
   "id": "municipal-botswana",
   "metadata": {},
   "source": [
    "## 2.2 Remoción de Outliers"
   ]
  },
  {
   "cell_type": "code",
   "execution_count": 6,
   "id": "amended-petroleum",
   "metadata": {},
   "outputs": [
    {
     "name": "stdout",
     "output_type": "stream",
     "text": [
      "INFO:tensorflow:Enabling eager execution\n",
      "INFO:tensorflow:Enabling v2 tensorshape\n",
      "INFO:tensorflow:Enabling resource variables\n",
      "INFO:tensorflow:Enabling tensor equality\n",
      "INFO:tensorflow:Enabling control flow v2\n"
     ]
    }
   ],
   "source": [
    "from src.helper import remove_outliers"
   ]
  },
  {
   "cell_type": "code",
   "execution_count": 7,
   "id": "ruled-coordinator",
   "metadata": {},
   "outputs": [
    {
     "data": {
      "text/html": [
       "<div>\n",
       "<style scoped>\n",
       "    .dataframe tbody tr th:only-of-type {\n",
       "        vertical-align: middle;\n",
       "    }\n",
       "\n",
       "    .dataframe tbody tr th {\n",
       "        vertical-align: top;\n",
       "    }\n",
       "\n",
       "    .dataframe thead th {\n",
       "        text-align: right;\n",
       "    }\n",
       "</style>\n",
       "<table border=\"1\" class=\"dataframe\">\n",
       "  <thead>\n",
       "    <tr style=\"text-align: right;\">\n",
       "      <th></th>\n",
       "      <th>Pregnancies</th>\n",
       "      <th>Glucose</th>\n",
       "      <th>BloodPressure</th>\n",
       "      <th>SkinThickness</th>\n",
       "      <th>Insulin</th>\n",
       "      <th>BMI</th>\n",
       "      <th>DiabetesPedigreeFunction</th>\n",
       "      <th>Age</th>\n",
       "      <th>Outcome</th>\n",
       "    </tr>\n",
       "  </thead>\n",
       "  <tbody>\n",
       "    <tr>\n",
       "      <th>count</th>\n",
       "      <td>764.000000</td>\n",
       "      <td>763.000000</td>\n",
       "      <td>719.000000</td>\n",
       "      <td>538.000000</td>\n",
       "      <td>370.000000</td>\n",
       "      <td>749.000000</td>\n",
       "      <td>739.000000</td>\n",
       "      <td>759.000000</td>\n",
       "      <td>768.000000</td>\n",
       "    </tr>\n",
       "    <tr>\n",
       "      <th>mean</th>\n",
       "      <td>3.786649</td>\n",
       "      <td>121.686763</td>\n",
       "      <td>72.115438</td>\n",
       "      <td>28.903346</td>\n",
       "      <td>132.610811</td>\n",
       "      <td>32.204005</td>\n",
       "      <td>0.429832</td>\n",
       "      <td>32.805007</td>\n",
       "      <td>0.348958</td>\n",
       "    </tr>\n",
       "    <tr>\n",
       "      <th>std</th>\n",
       "      <td>3.278714</td>\n",
       "      <td>30.535641</td>\n",
       "      <td>11.239072</td>\n",
       "      <td>9.865480</td>\n",
       "      <td>74.285393</td>\n",
       "      <td>6.491385</td>\n",
       "      <td>0.249684</td>\n",
       "      <td>11.113182</td>\n",
       "      <td>0.476951</td>\n",
       "    </tr>\n",
       "    <tr>\n",
       "      <th>min</th>\n",
       "      <td>0.000000</td>\n",
       "      <td>44.000000</td>\n",
       "      <td>40.000000</td>\n",
       "      <td>7.000000</td>\n",
       "      <td>14.000000</td>\n",
       "      <td>18.200000</td>\n",
       "      <td>0.078000</td>\n",
       "      <td>21.000000</td>\n",
       "      <td>0.000000</td>\n",
       "    </tr>\n",
       "    <tr>\n",
       "      <th>25%</th>\n",
       "      <td>1.000000</td>\n",
       "      <td>99.000000</td>\n",
       "      <td>64.000000</td>\n",
       "      <td>22.000000</td>\n",
       "      <td>75.000000</td>\n",
       "      <td>27.400000</td>\n",
       "      <td>0.238000</td>\n",
       "      <td>24.000000</td>\n",
       "      <td>0.000000</td>\n",
       "    </tr>\n",
       "    <tr>\n",
       "      <th>50%</th>\n",
       "      <td>3.000000</td>\n",
       "      <td>117.000000</td>\n",
       "      <td>72.000000</td>\n",
       "      <td>29.000000</td>\n",
       "      <td>120.000000</td>\n",
       "      <td>32.000000</td>\n",
       "      <td>0.356000</td>\n",
       "      <td>29.000000</td>\n",
       "      <td>0.000000</td>\n",
       "    </tr>\n",
       "    <tr>\n",
       "      <th>75%</th>\n",
       "      <td>6.000000</td>\n",
       "      <td>141.000000</td>\n",
       "      <td>80.000000</td>\n",
       "      <td>36.000000</td>\n",
       "      <td>177.500000</td>\n",
       "      <td>36.500000</td>\n",
       "      <td>0.587000</td>\n",
       "      <td>40.000000</td>\n",
       "      <td>1.000000</td>\n",
       "    </tr>\n",
       "    <tr>\n",
       "      <th>max</th>\n",
       "      <td>13.000000</td>\n",
       "      <td>199.000000</td>\n",
       "      <td>104.000000</td>\n",
       "      <td>56.000000</td>\n",
       "      <td>360.000000</td>\n",
       "      <td>50.000000</td>\n",
       "      <td>1.191000</td>\n",
       "      <td>66.000000</td>\n",
       "      <td>1.000000</td>\n",
       "    </tr>\n",
       "  </tbody>\n",
       "</table>\n",
       "</div>"
      ],
      "text/plain": [
       "       Pregnancies     Glucose  BloodPressure  SkinThickness     Insulin  \\\n",
       "count   764.000000  763.000000     719.000000     538.000000  370.000000   \n",
       "mean      3.786649  121.686763      72.115438      28.903346  132.610811   \n",
       "std       3.278714   30.535641      11.239072       9.865480   74.285393   \n",
       "min       0.000000   44.000000      40.000000       7.000000   14.000000   \n",
       "25%       1.000000   99.000000      64.000000      22.000000   75.000000   \n",
       "50%       3.000000  117.000000      72.000000      29.000000  120.000000   \n",
       "75%       6.000000  141.000000      80.000000      36.000000  177.500000   \n",
       "max      13.000000  199.000000     104.000000      56.000000  360.000000   \n",
       "\n",
       "              BMI  DiabetesPedigreeFunction         Age     Outcome  \n",
       "count  749.000000                739.000000  759.000000  768.000000  \n",
       "mean    32.204005                  0.429832   32.805007    0.348958  \n",
       "std      6.491385                  0.249684   11.113182    0.476951  \n",
       "min     18.200000                  0.078000   21.000000    0.000000  \n",
       "25%     27.400000                  0.238000   24.000000    0.000000  \n",
       "50%     32.000000                  0.356000   29.000000    0.000000  \n",
       "75%     36.500000                  0.587000   40.000000    1.000000  \n",
       "max     50.000000                  1.191000   66.000000    1.000000  "
      ]
     },
     "execution_count": 7,
     "metadata": {},
     "output_type": "execute_result"
    }
   ],
   "source": [
    "x_labels = ['Pregnancies', 'Glucose', 'BloodPressure', 'SkinThickness', 'Insulin', 'BMI', 'DiabetesPedigreeFunction','Age']\n",
    "y_labels = ['Outcome']\n",
    "\n",
    "for column in x_labels:\n",
    "    remove_outliers(df, column)\n",
    "df.describe()"
   ]
  },
  {
   "cell_type": "markdown",
   "id": "turkish-newton",
   "metadata": {},
   "source": [
    "# 3. Separación del conjunto de entrenamiento y evaluación"
   ]
  },
  {
   "cell_type": "code",
   "execution_count": 8,
   "id": "honey-commodity",
   "metadata": {},
   "outputs": [],
   "source": [
    "from sklearn import model_selection"
   ]
  },
  {
   "cell_type": "code",
   "execution_count": 9,
   "id": "miniature-ambassador",
   "metadata": {},
   "outputs": [],
   "source": [
    "from sklearn import preprocessing"
   ]
  },
  {
   "cell_type": "code",
   "execution_count": 10,
   "id": "entitled-transaction",
   "metadata": {},
   "outputs": [],
   "source": [
    "# Define input and output variables for the model\n",
    "df_x = df[x_labels]\n",
    "df_y = df[y_labels]"
   ]
  },
  {
   "cell_type": "code",
   "execution_count": 11,
   "id": "visible-plain",
   "metadata": {},
   "outputs": [],
   "source": [
    "# Split the dataset into train_valid and test\n",
    "x_train_valid, x_test, y_train_valid, y_test = model_selection.train_test_split(df_x, df_y, test_size=0.2, random_state=5, shuffle=True) #rs=15\n",
    "\n",
    "# Split the train_valid sub-dataset into train and valid\n",
    "x_train, x_valid, y_train, y_valid = model_selection.train_test_split(x_train_valid, y_train_valid, test_size=0.3, random_state=27, shuffle=True) #rs=23"
   ]
  },
  {
   "cell_type": "code",
   "execution_count": 12,
   "id": "blessed-testimony",
   "metadata": {},
   "outputs": [
    {
     "data": {
      "text/html": [
       "<div>\n",
       "<style scoped>\n",
       "    .dataframe tbody tr th:only-of-type {\n",
       "        vertical-align: middle;\n",
       "    }\n",
       "\n",
       "    .dataframe tbody tr th {\n",
       "        vertical-align: top;\n",
       "    }\n",
       "\n",
       "    .dataframe thead th {\n",
       "        text-align: right;\n",
       "    }\n",
       "</style>\n",
       "<table border=\"1\" class=\"dataframe\">\n",
       "  <thead>\n",
       "    <tr style=\"text-align: right;\">\n",
       "      <th></th>\n",
       "      <th>Pregnancies</th>\n",
       "      <th>Glucose</th>\n",
       "      <th>BloodPressure</th>\n",
       "      <th>SkinThickness</th>\n",
       "      <th>Insulin</th>\n",
       "      <th>BMI</th>\n",
       "      <th>DiabetesPedigreeFunction</th>\n",
       "      <th>Age</th>\n",
       "    </tr>\n",
       "  </thead>\n",
       "  <tbody>\n",
       "    <tr>\n",
       "      <th>count</th>\n",
       "      <td>428.000000</td>\n",
       "      <td>427.000000</td>\n",
       "      <td>394.000000</td>\n",
       "      <td>297.000000</td>\n",
       "      <td>205.000000</td>\n",
       "      <td>416.000000</td>\n",
       "      <td>417.000000</td>\n",
       "      <td>424.000000</td>\n",
       "    </tr>\n",
       "    <tr>\n",
       "      <th>mean</th>\n",
       "      <td>3.740654</td>\n",
       "      <td>123.133489</td>\n",
       "      <td>71.685279</td>\n",
       "      <td>28.434343</td>\n",
       "      <td>135.268293</td>\n",
       "      <td>31.721635</td>\n",
       "      <td>0.415094</td>\n",
       "      <td>33.089623</td>\n",
       "    </tr>\n",
       "    <tr>\n",
       "      <th>std</th>\n",
       "      <td>3.241350</td>\n",
       "      <td>31.324119</td>\n",
       "      <td>11.248859</td>\n",
       "      <td>9.808809</td>\n",
       "      <td>73.920806</td>\n",
       "      <td>6.297409</td>\n",
       "      <td>0.245358</td>\n",
       "      <td>11.580390</td>\n",
       "    </tr>\n",
       "    <tr>\n",
       "      <th>min</th>\n",
       "      <td>0.000000</td>\n",
       "      <td>56.000000</td>\n",
       "      <td>44.000000</td>\n",
       "      <td>7.000000</td>\n",
       "      <td>15.000000</td>\n",
       "      <td>18.200000</td>\n",
       "      <td>0.078000</td>\n",
       "      <td>21.000000</td>\n",
       "    </tr>\n",
       "    <tr>\n",
       "      <th>25%</th>\n",
       "      <td>1.000000</td>\n",
       "      <td>100.000000</td>\n",
       "      <td>64.000000</td>\n",
       "      <td>21.000000</td>\n",
       "      <td>76.000000</td>\n",
       "      <td>27.300000</td>\n",
       "      <td>0.237000</td>\n",
       "      <td>24.000000</td>\n",
       "    </tr>\n",
       "    <tr>\n",
       "      <th>50%</th>\n",
       "      <td>3.000000</td>\n",
       "      <td>119.000000</td>\n",
       "      <td>72.000000</td>\n",
       "      <td>28.000000</td>\n",
       "      <td>126.000000</td>\n",
       "      <td>31.600000</td>\n",
       "      <td>0.334000</td>\n",
       "      <td>29.000000</td>\n",
       "    </tr>\n",
       "    <tr>\n",
       "      <th>75%</th>\n",
       "      <td>6.000000</td>\n",
       "      <td>143.000000</td>\n",
       "      <td>78.000000</td>\n",
       "      <td>35.000000</td>\n",
       "      <td>180.000000</td>\n",
       "      <td>35.400000</td>\n",
       "      <td>0.580000</td>\n",
       "      <td>40.000000</td>\n",
       "    </tr>\n",
       "    <tr>\n",
       "      <th>max</th>\n",
       "      <td>13.000000</td>\n",
       "      <td>197.000000</td>\n",
       "      <td>102.000000</td>\n",
       "      <td>54.000000</td>\n",
       "      <td>342.000000</td>\n",
       "      <td>49.300000</td>\n",
       "      <td>1.191000</td>\n",
       "      <td>66.000000</td>\n",
       "    </tr>\n",
       "  </tbody>\n",
       "</table>\n",
       "</div>"
      ],
      "text/plain": [
       "       Pregnancies     Glucose  BloodPressure  SkinThickness     Insulin  \\\n",
       "count   428.000000  427.000000     394.000000     297.000000  205.000000   \n",
       "mean      3.740654  123.133489      71.685279      28.434343  135.268293   \n",
       "std       3.241350   31.324119      11.248859       9.808809   73.920806   \n",
       "min       0.000000   56.000000      44.000000       7.000000   15.000000   \n",
       "25%       1.000000  100.000000      64.000000      21.000000   76.000000   \n",
       "50%       3.000000  119.000000      72.000000      28.000000  126.000000   \n",
       "75%       6.000000  143.000000      78.000000      35.000000  180.000000   \n",
       "max      13.000000  197.000000     102.000000      54.000000  342.000000   \n",
       "\n",
       "              BMI  DiabetesPedigreeFunction         Age  \n",
       "count  416.000000                417.000000  424.000000  \n",
       "mean    31.721635                  0.415094   33.089623  \n",
       "std      6.297409                  0.245358   11.580390  \n",
       "min     18.200000                  0.078000   21.000000  \n",
       "25%     27.300000                  0.237000   24.000000  \n",
       "50%     31.600000                  0.334000   29.000000  \n",
       "75%     35.400000                  0.580000   40.000000  \n",
       "max     49.300000                  1.191000   66.000000  "
      ]
     },
     "execution_count": 12,
     "metadata": {},
     "output_type": "execute_result"
    }
   ],
   "source": [
    "x_train.describe()"
   ]
  },
  {
   "cell_type": "markdown",
   "id": "stock-inside",
   "metadata": {},
   "source": [
    "# 4. Reemplazo de valores inválidos"
   ]
  },
  {
   "cell_type": "code",
   "execution_count": 13,
   "id": "dominant-isolation",
   "metadata": {},
   "outputs": [
    {
     "name": "stderr",
     "output_type": "stream",
     "text": [
      "c:\\users\\joaco\\appdata\\local\\programs\\python\\python39\\lib\\site-packages\\pandas\\core\\series.py:4509: SettingWithCopyWarning: \n",
      "A value is trying to be set on a copy of a slice from a DataFrame\n",
      "\n",
      "See the caveats in the documentation: https://pandas.pydata.org/pandas-docs/stable/user_guide/indexing.html#returning-a-view-versus-a-copy\n",
      "  return super().replace(\n"
     ]
    }
   ],
   "source": [
    "# Compute the mean of training\n",
    "train_means = x_train.mean().to_numpy()\n",
    "\n",
    "# Replacing nan values of the train dataset with training mean values\n",
    "for index, column in enumerate(x_train.columns):\n",
    "    x_train.loc[:,column].replace(np.nan, train_means[index], inplace=True)\n",
    "\n",
    "# Replacing nan values of the test dataset with training mean values\n",
    "for index, column in enumerate(x_test.columns):\n",
    "    x_test.loc[:,column].replace(np.nan, train_means[index], inplace=True)\n",
    "    \n",
    "# Replacing nan values of the test dataset with training mean values\n",
    "for index, column in enumerate(x_valid.columns):\n",
    "    x_valid.loc[:,column].replace(np.nan, train_means[index], inplace=True)"
   ]
  },
  {
   "cell_type": "code",
   "execution_count": 14,
   "id": "violent-yorkshire",
   "metadata": {},
   "outputs": [
    {
     "data": {
      "text/html": [
       "<div>\n",
       "<style scoped>\n",
       "    .dataframe tbody tr th:only-of-type {\n",
       "        vertical-align: middle;\n",
       "    }\n",
       "\n",
       "    .dataframe tbody tr th {\n",
       "        vertical-align: top;\n",
       "    }\n",
       "\n",
       "    .dataframe thead th {\n",
       "        text-align: right;\n",
       "    }\n",
       "</style>\n",
       "<table border=\"1\" class=\"dataframe\">\n",
       "  <thead>\n",
       "    <tr style=\"text-align: right;\">\n",
       "      <th></th>\n",
       "      <th>Pregnancies</th>\n",
       "      <th>Glucose</th>\n",
       "      <th>BloodPressure</th>\n",
       "      <th>SkinThickness</th>\n",
       "      <th>Insulin</th>\n",
       "      <th>BMI</th>\n",
       "      <th>DiabetesPedigreeFunction</th>\n",
       "      <th>Age</th>\n",
       "    </tr>\n",
       "  </thead>\n",
       "  <tbody>\n",
       "    <tr>\n",
       "      <th>count</th>\n",
       "      <td>429.000000</td>\n",
       "      <td>429.000000</td>\n",
       "      <td>429.000000</td>\n",
       "      <td>429.000000</td>\n",
       "      <td>429.000000</td>\n",
       "      <td>429.000000</td>\n",
       "      <td>429.000000</td>\n",
       "      <td>429.000000</td>\n",
       "    </tr>\n",
       "    <tr>\n",
       "      <th>mean</th>\n",
       "      <td>3.740654</td>\n",
       "      <td>123.133489</td>\n",
       "      <td>71.685279</td>\n",
       "      <td>28.434343</td>\n",
       "      <td>135.268293</td>\n",
       "      <td>31.721635</td>\n",
       "      <td>0.415094</td>\n",
       "      <td>33.089623</td>\n",
       "    </tr>\n",
       "    <tr>\n",
       "      <th>std</th>\n",
       "      <td>3.237562</td>\n",
       "      <td>31.250846</td>\n",
       "      <td>10.779109</td>\n",
       "      <td>8.157184</td>\n",
       "      <td>51.034033</td>\n",
       "      <td>6.201033</td>\n",
       "      <td>0.241894</td>\n",
       "      <td>11.512548</td>\n",
       "    </tr>\n",
       "    <tr>\n",
       "      <th>min</th>\n",
       "      <td>0.000000</td>\n",
       "      <td>56.000000</td>\n",
       "      <td>44.000000</td>\n",
       "      <td>7.000000</td>\n",
       "      <td>15.000000</td>\n",
       "      <td>18.200000</td>\n",
       "      <td>0.078000</td>\n",
       "      <td>21.000000</td>\n",
       "    </tr>\n",
       "    <tr>\n",
       "      <th>25%</th>\n",
       "      <td>1.000000</td>\n",
       "      <td>100.000000</td>\n",
       "      <td>65.000000</td>\n",
       "      <td>24.000000</td>\n",
       "      <td>130.000000</td>\n",
       "      <td>27.400000</td>\n",
       "      <td>0.238000</td>\n",
       "      <td>24.000000</td>\n",
       "    </tr>\n",
       "    <tr>\n",
       "      <th>50%</th>\n",
       "      <td>3.000000</td>\n",
       "      <td>119.000000</td>\n",
       "      <td>71.685279</td>\n",
       "      <td>28.434343</td>\n",
       "      <td>135.268293</td>\n",
       "      <td>31.721635</td>\n",
       "      <td>0.342000</td>\n",
       "      <td>29.000000</td>\n",
       "    </tr>\n",
       "    <tr>\n",
       "      <th>75%</th>\n",
       "      <td>6.000000</td>\n",
       "      <td>143.000000</td>\n",
       "      <td>78.000000</td>\n",
       "      <td>32.000000</td>\n",
       "      <td>135.268293</td>\n",
       "      <td>35.200000</td>\n",
       "      <td>0.569000</td>\n",
       "      <td>40.000000</td>\n",
       "    </tr>\n",
       "    <tr>\n",
       "      <th>max</th>\n",
       "      <td>13.000000</td>\n",
       "      <td>197.000000</td>\n",
       "      <td>102.000000</td>\n",
       "      <td>54.000000</td>\n",
       "      <td>342.000000</td>\n",
       "      <td>49.300000</td>\n",
       "      <td>1.191000</td>\n",
       "      <td>66.000000</td>\n",
       "    </tr>\n",
       "  </tbody>\n",
       "</table>\n",
       "</div>"
      ],
      "text/plain": [
       "       Pregnancies     Glucose  BloodPressure  SkinThickness     Insulin  \\\n",
       "count   429.000000  429.000000     429.000000     429.000000  429.000000   \n",
       "mean      3.740654  123.133489      71.685279      28.434343  135.268293   \n",
       "std       3.237562   31.250846      10.779109       8.157184   51.034033   \n",
       "min       0.000000   56.000000      44.000000       7.000000   15.000000   \n",
       "25%       1.000000  100.000000      65.000000      24.000000  130.000000   \n",
       "50%       3.000000  119.000000      71.685279      28.434343  135.268293   \n",
       "75%       6.000000  143.000000      78.000000      32.000000  135.268293   \n",
       "max      13.000000  197.000000     102.000000      54.000000  342.000000   \n",
       "\n",
       "              BMI  DiabetesPedigreeFunction         Age  \n",
       "count  429.000000                429.000000  429.000000  \n",
       "mean    31.721635                  0.415094   33.089623  \n",
       "std      6.201033                  0.241894   11.512548  \n",
       "min     18.200000                  0.078000   21.000000  \n",
       "25%     27.400000                  0.238000   24.000000  \n",
       "50%     31.721635                  0.342000   29.000000  \n",
       "75%     35.200000                  0.569000   40.000000  \n",
       "max     49.300000                  1.191000   66.000000  "
      ]
     },
     "execution_count": 14,
     "metadata": {},
     "output_type": "execute_result"
    }
   ],
   "source": [
    "x_train.describe()"
   ]
  },
  {
   "cell_type": "markdown",
   "id": "narrative-score",
   "metadata": {},
   "source": [
    "# 5. Normalización de datos de entrada. Z Score. "
   ]
  },
  {
   "cell_type": "code",
   "execution_count": 15,
   "id": "loved-signature",
   "metadata": {},
   "outputs": [
    {
     "name": "stderr",
     "output_type": "stream",
     "text": [
      "c:\\users\\joaco\\appdata\\local\\programs\\python\\python39\\lib\\site-packages\\pandas\\core\\indexing.py:1637: SettingWithCopyWarning: \n",
      "A value is trying to be set on a copy of a slice from a DataFrame\n",
      "\n",
      "See the caveats in the documentation: https://pandas.pydata.org/pandas-docs/stable/user_guide/indexing.html#returning-a-view-versus-a-copy\n",
      "  self._setitem_single_block(indexer, value, name)\n",
      "c:\\users\\joaco\\appdata\\local\\programs\\python\\python39\\lib\\site-packages\\pandas\\core\\indexing.py:692: SettingWithCopyWarning: \n",
      "A value is trying to be set on a copy of a slice from a DataFrame\n",
      "\n",
      "See the caveats in the documentation: https://pandas.pydata.org/pandas-docs/stable/user_guide/indexing.html#returning-a-view-versus-a-copy\n",
      "  iloc._setitem_with_indexer(indexer, value, self.name)\n",
      "c:\\users\\joaco\\appdata\\local\\programs\\python\\python39\\lib\\site-packages\\pandas\\core\\indexing.py:1637: SettingWithCopyWarning: \n",
      "A value is trying to be set on a copy of a slice from a DataFrame\n",
      "\n",
      "See the caveats in the documentation: https://pandas.pydata.org/pandas-docs/stable/user_guide/indexing.html#returning-a-view-versus-a-copy\n",
      "  self._setitem_single_block(indexer, value, name)\n",
      "c:\\users\\joaco\\appdata\\local\\programs\\python\\python39\\lib\\site-packages\\pandas\\core\\indexing.py:692: SettingWithCopyWarning: \n",
      "A value is trying to be set on a copy of a slice from a DataFrame\n",
      "\n",
      "See the caveats in the documentation: https://pandas.pydata.org/pandas-docs/stable/user_guide/indexing.html#returning-a-view-versus-a-copy\n",
      "  iloc._setitem_with_indexer(indexer, value, self.name)\n",
      "c:\\users\\joaco\\appdata\\local\\programs\\python\\python39\\lib\\site-packages\\pandas\\core\\indexing.py:1637: SettingWithCopyWarning: \n",
      "A value is trying to be set on a copy of a slice from a DataFrame\n",
      "\n",
      "See the caveats in the documentation: https://pandas.pydata.org/pandas-docs/stable/user_guide/indexing.html#returning-a-view-versus-a-copy\n",
      "  self._setitem_single_block(indexer, value, name)\n",
      "c:\\users\\joaco\\appdata\\local\\programs\\python\\python39\\lib\\site-packages\\pandas\\core\\indexing.py:692: SettingWithCopyWarning: \n",
      "A value is trying to be set on a copy of a slice from a DataFrame\n",
      "\n",
      "See the caveats in the documentation: https://pandas.pydata.org/pandas-docs/stable/user_guide/indexing.html#returning-a-view-versus-a-copy\n",
      "  iloc._setitem_with_indexer(indexer, value, self.name)\n"
     ]
    }
   ],
   "source": [
    "# IMPORTANT! Backup unnormalized subsets for further utilization\n",
    "x_train_un = x_train\n",
    "x_valid_un = x_valid\n",
    "x_test_un = x_test\n",
    "\n",
    "# Apply z-score to all sub-datasets\n",
    "scalable_variables = ['Pregnancies', 'Glucose', 'BloodPressure', 'SkinThickness', 'Insulin', 'BMI', 'DiabetesPedigreeFunction','Age']\n",
    "\n",
    "if scalable_variables:\n",
    "    # Create an instance of the StandardScaler for each variable\n",
    "    scaler = preprocessing.StandardScaler()\n",
    "\n",
    "    # Fit the distribution\n",
    "    scaler.fit(x_train.loc[:, scalable_variables])\n",
    "\n",
    "    # Transform and normalize all variables\n",
    "    x_train.loc[:, scalable_variables] = scaler.transform(x_train.loc[:, scalable_variables])\n",
    "    x_test.loc[:, scalable_variables] = scaler.transform(x_test.loc[:, scalable_variables])\n",
    "    x_valid.loc[:, scalable_variables] = scaler.transform(x_valid.loc[:, scalable_variables])"
   ]
  },
  {
   "cell_type": "code",
   "execution_count": 16,
   "id": "devoted-particle",
   "metadata": {},
   "outputs": [
    {
     "data": {
      "text/html": [
       "<div>\n",
       "<style scoped>\n",
       "    .dataframe tbody tr th:only-of-type {\n",
       "        vertical-align: middle;\n",
       "    }\n",
       "\n",
       "    .dataframe tbody tr th {\n",
       "        vertical-align: top;\n",
       "    }\n",
       "\n",
       "    .dataframe thead th {\n",
       "        text-align: right;\n",
       "    }\n",
       "</style>\n",
       "<table border=\"1\" class=\"dataframe\">\n",
       "  <thead>\n",
       "    <tr style=\"text-align: right;\">\n",
       "      <th></th>\n",
       "      <th>Pregnancies</th>\n",
       "      <th>Glucose</th>\n",
       "      <th>BloodPressure</th>\n",
       "      <th>SkinThickness</th>\n",
       "      <th>Insulin</th>\n",
       "      <th>BMI</th>\n",
       "      <th>DiabetesPedigreeFunction</th>\n",
       "      <th>Age</th>\n",
       "    </tr>\n",
       "  </thead>\n",
       "  <tbody>\n",
       "    <tr>\n",
       "      <th>count</th>\n",
       "      <td>429.000000</td>\n",
       "      <td>4.290000e+02</td>\n",
       "      <td>4.290000e+02</td>\n",
       "      <td>4.290000e+02</td>\n",
       "      <td>4.290000e+02</td>\n",
       "      <td>4.290000e+02</td>\n",
       "      <td>4.290000e+02</td>\n",
       "      <td>4.290000e+02</td>\n",
       "    </tr>\n",
       "    <tr>\n",
       "      <th>mean</th>\n",
       "      <td>0.000000</td>\n",
       "      <td>1.573463e-16</td>\n",
       "      <td>6.211038e-17</td>\n",
       "      <td>2.794967e-16</td>\n",
       "      <td>-9.316557e-17</td>\n",
       "      <td>4.523706e-16</td>\n",
       "      <td>-1.594166e-16</td>\n",
       "      <td>-1.873663e-16</td>\n",
       "    </tr>\n",
       "    <tr>\n",
       "      <th>std</th>\n",
       "      <td>1.001168</td>\n",
       "      <td>1.001168e+00</td>\n",
       "      <td>1.001168e+00</td>\n",
       "      <td>1.001168e+00</td>\n",
       "      <td>1.001168e+00</td>\n",
       "      <td>1.001168e+00</td>\n",
       "      <td>1.001168e+00</td>\n",
       "      <td>1.001168e+00</td>\n",
       "    </tr>\n",
       "    <tr>\n",
       "      <th>min</th>\n",
       "      <td>-1.156741</td>\n",
       "      <td>-2.150722e+00</td>\n",
       "      <td>-2.571419e+00</td>\n",
       "      <td>-2.630733e+00</td>\n",
       "      <td>-2.359381e+00</td>\n",
       "      <td>-2.183091e+00</td>\n",
       "      <td>-1.395186e+00</td>\n",
       "      <td>-1.051352e+00</td>\n",
       "    </tr>\n",
       "    <tr>\n",
       "      <th>25%</th>\n",
       "      <td>-0.847506</td>\n",
       "      <td>-7.411159e-01</td>\n",
       "      <td>-6.209311e-01</td>\n",
       "      <td>-5.442467e-01</td>\n",
       "      <td>-1.033515e-01</td>\n",
       "      <td>-6.977354e-01</td>\n",
       "      <td>-7.329671e-01</td>\n",
       "      <td>-7.904623e-01</td>\n",
       "    </tr>\n",
       "    <tr>\n",
       "      <th>50%</th>\n",
       "      <td>-0.229036</td>\n",
       "      <td>-1.324225e-01</td>\n",
       "      <td>0.000000e+00</td>\n",
       "      <td>4.360404e-16</td>\n",
       "      <td>0.000000e+00</td>\n",
       "      <td>5.735917e-16</td>\n",
       "      <td>-3.025246e-01</td>\n",
       "      <td>-3.556465e-01</td>\n",
       "    </tr>\n",
       "    <tr>\n",
       "      <th>75%</th>\n",
       "      <td>0.698669</td>\n",
       "      <td>6.364533e-01</td>\n",
       "      <td>5.865135e-01</td>\n",
       "      <td>4.376289e-01</td>\n",
       "      <td>0.000000e+00</td>\n",
       "      <td>5.615881e-01</td>\n",
       "      <td>6.369989e-01</td>\n",
       "      <td>6.009482e-01</td>\n",
       "    </tr>\n",
       "    <tr>\n",
       "      <th>max</th>\n",
       "      <td>2.863314</td>\n",
       "      <td>2.366424e+00</td>\n",
       "      <td>2.815642e+00</td>\n",
       "      <td>3.137787e+00</td>\n",
       "      <td>4.055589e+00</td>\n",
       "      <td>2.838057e+00</td>\n",
       "      <td>3.211376e+00</td>\n",
       "      <td>2.861990e+00</td>\n",
       "    </tr>\n",
       "  </tbody>\n",
       "</table>\n",
       "</div>"
      ],
      "text/plain": [
       "       Pregnancies       Glucose  BloodPressure  SkinThickness       Insulin  \\\n",
       "count   429.000000  4.290000e+02   4.290000e+02   4.290000e+02  4.290000e+02   \n",
       "mean      0.000000  1.573463e-16   6.211038e-17   2.794967e-16 -9.316557e-17   \n",
       "std       1.001168  1.001168e+00   1.001168e+00   1.001168e+00  1.001168e+00   \n",
       "min      -1.156741 -2.150722e+00  -2.571419e+00  -2.630733e+00 -2.359381e+00   \n",
       "25%      -0.847506 -7.411159e-01  -6.209311e-01  -5.442467e-01 -1.033515e-01   \n",
       "50%      -0.229036 -1.324225e-01   0.000000e+00   4.360404e-16  0.000000e+00   \n",
       "75%       0.698669  6.364533e-01   5.865135e-01   4.376289e-01  0.000000e+00   \n",
       "max       2.863314  2.366424e+00   2.815642e+00   3.137787e+00  4.055589e+00   \n",
       "\n",
       "                BMI  DiabetesPedigreeFunction           Age  \n",
       "count  4.290000e+02              4.290000e+02  4.290000e+02  \n",
       "mean   4.523706e-16             -1.594166e-16 -1.873663e-16  \n",
       "std    1.001168e+00              1.001168e+00  1.001168e+00  \n",
       "min   -2.183091e+00             -1.395186e+00 -1.051352e+00  \n",
       "25%   -6.977354e-01             -7.329671e-01 -7.904623e-01  \n",
       "50%    5.735917e-16             -3.025246e-01 -3.556465e-01  \n",
       "75%    5.615881e-01              6.369989e-01  6.009482e-01  \n",
       "max    2.838057e+00              3.211376e+00  2.861990e+00  "
      ]
     },
     "execution_count": 16,
     "metadata": {},
     "output_type": "execute_result"
    }
   ],
   "source": [
    "x_train.describe()"
   ]
  },
  {
   "cell_type": "code",
   "execution_count": 17,
   "id": "linear-passenger",
   "metadata": {},
   "outputs": [],
   "source": [
    "# Loading TensorBoard for learning logging\n",
    "%load_ext tensorboard"
   ]
  },
  {
   "cell_type": "code",
   "execution_count": 18,
   "id": "affected-concert",
   "metadata": {},
   "outputs": [
    {
     "data": {
      "text/plain": [
       "Reusing TensorBoard on port 6006 (pid 30848), started 2:38:04 ago. (Use '!kill 30848' to kill it.)"
      ]
     },
     "metadata": {},
     "output_type": "display_data"
    },
    {
     "data": {
      "text/html": [
       "\n",
       "      <iframe id=\"tensorboard-frame-dbac9e75bb4f5413\" width=\"100%\" height=\"800\" frameborder=\"0\">\n",
       "      </iframe>\n",
       "      <script>\n",
       "        (function() {\n",
       "          const frame = document.getElementById(\"tensorboard-frame-dbac9e75bb4f5413\");\n",
       "          const url = new URL(\"/\", window.location);\n",
       "          const port = 6006;\n",
       "          if (port) {\n",
       "            url.port = port;\n",
       "          }\n",
       "          frame.src = url;\n",
       "        })();\n",
       "      </script>\n",
       "    "
      ],
      "text/plain": [
       "<IPython.core.display.HTML object>"
      ]
     },
     "metadata": {},
     "output_type": "display_data"
    }
   ],
   "source": [
    "# TensorBoard launch\n",
    "%tensorboard --logdir tb-logs"
   ]
  },
  {
   "cell_type": "markdown",
   "id": "ancient-easter",
   "metadata": {},
   "source": [
    "# 6. Multi Layer Perceptron (MLP) - Test #1"
   ]
  },
  {
   "cell_type": "markdown",
   "id": "starting-ordinance",
   "metadata": {},
   "source": [
    "Se crea un primer modelo usando las funciones de Keras, explícitamente."
   ]
  },
  {
   "cell_type": "code",
   "execution_count": 19,
   "id": "apparent-church",
   "metadata": {},
   "outputs": [],
   "source": [
    "from keras.models import Sequential, load_model\n",
    "from keras.layers import Dense, BatchNormalization, Dropout\n",
    "from keras.optimizers import SGD, Adam\n",
    "from keras.metrics import SensitivityAtSpecificity\n",
    "from keras.callbacks import TensorBoard, ModelCheckpoint\n",
    "import datetime"
   ]
  },
  {
   "cell_type": "code",
   "execution_count": 20,
   "id": "formal-climb",
   "metadata": {},
   "outputs": [],
   "source": [
    "units_per_layer = 3\n",
    "hidden_layers = 2\n",
    "input_dim = 8\n",
    "dropout_prob = 0\n",
    "# Define MLP model\n",
    "mlp_model = Sequential()\n",
    "for layer in range(hidden_layers):\n",
    "    mlp_model.add(Dense(units_per_layer, input_shape=(input_dim,), activation='relu', use_bias=True))\n",
    "    mlp_model.add(Dropout(dropout_prob))\n",
    "mlp_model.add(Dense(1, activation='sigmoid', use_bias=True)) # Output layer"
   ]
  },
  {
   "cell_type": "code",
   "execution_count": 21,
   "id": "smoking-annual",
   "metadata": {},
   "outputs": [
    {
     "name": "stdout",
     "output_type": "stream",
     "text": [
      "Model: \"sequential\"\n",
      "_________________________________________________________________\n",
      "Layer (type)                 Output Shape              Param #   \n",
      "=================================================================\n",
      "dense (Dense)                (None, 3)                 27        \n",
      "_________________________________________________________________\n",
      "dropout (Dropout)            (None, 3)                 0         \n",
      "_________________________________________________________________\n",
      "dense_1 (Dense)              (None, 3)                 12        \n",
      "_________________________________________________________________\n",
      "dropout_1 (Dropout)          (None, 3)                 0         \n",
      "_________________________________________________________________\n",
      "dense_2 (Dense)              (None, 1)                 4         \n",
      "=================================================================\n",
      "Total params: 43\n",
      "Trainable params: 43\n",
      "Non-trainable params: 0\n",
      "_________________________________________________________________\n"
     ]
    }
   ],
   "source": [
    "# Compiling model\n",
    "mlp_model.compile(optimizer='SGD', loss='binary_crossentropy', metrics=['AUC'])\n",
    "mlp_model.summary()"
   ]
  },
  {
   "cell_type": "code",
   "execution_count": 22,
   "id": "inappropriate-juice",
   "metadata": {},
   "outputs": [
    {
     "name": "stdout",
     "output_type": "stream",
     "text": [
      "6/6 [==============================] - 0s 1ms/step - loss: 0.5489 - auc: 0.7623\n"
     ]
    },
    {
     "data": {
      "text/plain": [
       "[0.548897385597229, 0.7622867226600647]"
      ]
     },
     "execution_count": 22,
     "metadata": {},
     "output_type": "execute_result"
    }
   ],
   "source": [
    "mlp_model.fit(x=x_train, y=y_train, validation_data=(x_valid, y_valid), shuffle=True, epochs=200, batch_size=32, verbose=0)\n",
    "mlp_model.evaluate(x_valid, y_valid)"
   ]
  },
  {
   "cell_type": "code",
   "execution_count": 23,
   "id": "surprising-consolidation",
   "metadata": {},
   "outputs": [],
   "source": [
    "from src import mlp_helper\n",
    "from src.mlp_helper import create_model, run_model\n",
    "importlib.reload(mlp_helper);"
   ]
  },
  {
   "cell_type": "markdown",
   "id": "assumed-wages",
   "metadata": {},
   "source": [
    "Se crea un modelo para verificar que la función *create_model* haga su tarea correctamente."
   ]
  },
  {
   "cell_type": "code",
   "execution_count": 24,
   "id": "prescription-rebate",
   "metadata": {},
   "outputs": [
    {
     "name": "stdout",
     "output_type": "stream",
     "text": [
      "Model: \"sequential\"\n",
      "_________________________________________________________________\n",
      "Layer (type)                 Output Shape              Param #   \n",
      "=================================================================\n",
      "dense (Dense)                (None, 4)                 36        \n",
      "_________________________________________________________________\n",
      "dense_1 (Dense)              (None, 4)                 20        \n",
      "_________________________________________________________________\n",
      "dense_2 (Dense)              (None, 4)                 20        \n",
      "_________________________________________________________________\n",
      "dense_3 (Dense)              (None, 4)                 20        \n",
      "_________________________________________________________________\n",
      "dense_4 (Dense)              (None, 1)                 5         \n",
      "=================================================================\n",
      "Total params: 101\n",
      "Trainable params: 101\n",
      "Non-trainable params: 0\n",
      "_________________________________________________________________\n"
     ]
    }
   ],
   "source": [
    "model = create_model(hidden_layers=4,\n",
    "                    units_per_layer=4,\n",
    "                    hidden_layer_activation='tanh',\n",
    "                    regularizer=None,\n",
    "                    regularizer_lambda=1e-10,\n",
    "                    dropout_rate=0.0,\n",
    "                    use_batch_normalization=False)\n",
    "model.summary()"
   ]
  },
  {
   "cell_type": "markdown",
   "id": "classical-induction",
   "metadata": {},
   "source": [
    "## Ejemplo #1 - Primera aproximación\n",
    "Se comienza con un modelo básico con una sola capa oculta, con dos neuronas al mismo nivel."
   ]
  },
  {
   "cell_type": "code",
   "execution_count": 25,
   "id": "historical-supplement",
   "metadata": {},
   "outputs": [
    {
     "name": "stdout",
     "output_type": "stream",
     "text": [
      "Model logs @ tb-logs/mlp/EX1/20210530-201740\n",
      "Model checkpoints @ checkpoints/mlp/20210530-201740\n",
      "Model: \"sequential_1\"\n",
      "_________________________________________________________________\n",
      "Layer (type)                 Output Shape              Param #   \n",
      "=================================================================\n",
      "dense_5 (Dense)              (None, 2)                 18        \n",
      "_________________________________________________________________\n",
      "dense_6 (Dense)              (None, 1)                 3         \n",
      "=================================================================\n",
      "Total params: 21\n",
      "Trainable params: 21\n",
      "Non-trainable params: 0\n",
      "_________________________________________________________________\n"
     ]
    },
    {
     "data": {
      "image/png": "[encoded data removed]",
      "text/plain": [
       "<Figure size 432x288 with 1 Axes>"
      ]
     },
     "metadata": {
      "needs_background": "light"
     },
     "output_type": "display_data"
    },
    {
     "name": "stdout",
     "output_type": "stream",
     "text": [
      "------------------- Main metric -------------------\n",
      "[AUC] Train: 0.8273 - Valid: 0.7776 - Test: 0.8761\n",
      "---------------- Secondary metrics ----------------\n",
      "[PPV] Train: 0.7080 - Valid: 0.6170 - Test: 0.7895\n",
      "[NPV] Train: 0.7848 - Valid: 0.7319 - Test: 0.7931\n",
      "[SEN] Train: 0.5405 - Valid: 0.4394 - Test: 0.5556\n",
      "[SPE] Train: 0.8826 - Valid: 0.8487 - Test: 0.9200\n",
      "---------------- Confusion Matrix -----------------\n",
      "Train: FP = 33 - TP = 80 - FN = 68 - TN = 248\n",
      "Valid: FP = 18 - TP = 29 - FN = 37 - TN = 101\n",
      "Test: FP = 8 - TP = 30 - FN = 24 - TN = 92\n",
      "--------------- Threshold Selection ---------------\n",
      "[F2S] Best f2 score for valid is 0.8122 @ threhsold = 0.1616\n"
     ]
    }
   ],
   "source": [
    "auc_train, auc_valid, auc_test = run_model(x_train=x_train, y_train=y_train, x_valid=x_valid, y_valid=y_valid, x_test=x_test, y_test=y_test,\n",
    "                                            optimizer='adam',\n",
    "                                            loss='binary_crossentropy',\n",
    "                                            momentum=0,\n",
    "                                            rho=0,\n",
    "                                            beta_1=0,\n",
    "                                            beta_2=0,\n",
    "                                            learning_rate=0.1,\n",
    "                                            decay_rate=0.5,\n",
    "                                            batch_size=64,\n",
    "                                            epochs=200,\n",
    "                                            patience=20,\n",
    "                                            min_delta=0.001,\n",
    "                                            tensorboard_on=True,\n",
    "                                            summary_on=True,\n",
    "                                            tag='EX1',\n",
    "                                            hidden_layers=1,\n",
    "                                            units_per_layer=2,\n",
    "                                            hidden_layer_activation='sigmoid',\n",
    "                                            regularizer='l2',\n",
    "                                            regularizer_lambda=1e-4,\n",
    "                                            dropout_rate=0.0,\n",
    "                                            use_batch_normalization=False)"
   ]
  },
  {
   "cell_type": "code",
   "execution_count": 26,
   "id": "likely-glasgow",
   "metadata": {},
   "outputs": [
    {
     "data": {
      "text/plain": [
       "Reusing TensorBoard on port 6006 (pid 28760), started 2:38:20 ago. (Use '!kill 28760' to kill it.)"
      ]
     },
     "metadata": {},
     "output_type": "display_data"
    },
    {
     "data": {
      "text/html": [
       "\n",
       "      <iframe id=\"tensorboard-frame-fd3783141028da29\" width=\"100%\" height=\"800\" frameborder=\"0\">\n",
       "      </iframe>\n",
       "      <script>\n",
       "        (function() {\n",
       "          const frame = document.getElementById(\"tensorboard-frame-fd3783141028da29\");\n",
       "          const url = new URL(\"/\", window.location);\n",
       "          const port = 6006;\n",
       "          if (port) {\n",
       "            url.port = port;\n",
       "          }\n",
       "          frame.src = url;\n",
       "        })();\n",
       "      </script>\n",
       "    "
      ],
      "text/plain": [
       "<IPython.core.display.HTML object>"
      ]
     },
     "metadata": {},
     "output_type": "display_data"
    }
   ],
   "source": [
    "# TensorBoard launch\n",
    "%tensorboard --logdir tb-logs/mlp/"
   ]
  },
  {
   "cell_type": "markdown",
   "id": "about-syndicate",
   "metadata": {},
   "source": [
    "## Ejemplo #2 - Probando SGD\n",
    "Veamos que este es el caso óptimo. Si cambio el learning rate se rompe. El momentum está **al máximo**. Esto significa, a priori, la posible presencia de un plató en donde arranca a optimizar. Seguimos con un modelo simple de dos neuronas en una misma capa oculta."
   ]
  },
  {
   "cell_type": "code",
   "execution_count": 27,
   "id": "surrounded-calvin",
   "metadata": {},
   "outputs": [
    {
     "name": "stdout",
     "output_type": "stream",
     "text": [
      "Model logs @ tb-logs/mlp/SGD1/20210530-201744\n",
      "Model checkpoints @ checkpoints/mlp/20210530-201744\n",
      "Model: \"sequential_2\"\n",
      "_________________________________________________________________\n",
      "Layer (type)                 Output Shape              Param #   \n",
      "=================================================================\n",
      "dense_7 (Dense)              (None, 2)                 18        \n",
      "_________________________________________________________________\n",
      "dense_8 (Dense)              (None, 1)                 3         \n",
      "=================================================================\n",
      "Total params: 21\n",
      "Trainable params: 21\n",
      "Non-trainable params: 0\n",
      "_________________________________________________________________\n"
     ]
    },
    {
     "data": {
      "image/png": "[encoded data removed]",
      "text/plain": [
       "<Figure size 432x288 with 1 Axes>"
      ]
     },
     "metadata": {
      "needs_background": "light"
     },
     "output_type": "display_data"
    },
    {
     "name": "stdout",
     "output_type": "stream",
     "text": [
      "------------------- Main metric -------------------\n",
      "[AUC] Train: 0.8172 - Valid: 0.7813 - Test: 0.8719\n",
      "---------------- Secondary metrics ----------------\n",
      "[PPV] Train: 0.5839 - Valid: 0.5811 - Test: 0.6727\n",
      "[NPV] Train: 0.7985 - Valid: 0.7928 - Test: 0.8283\n",
      "[SEN] Train: 0.6351 - Valid: 0.6515 - Test: 0.6852\n",
      "[SPE] Train: 0.7616 - Valid: 0.7395 - Test: 0.8200\n",
      "---------------- Confusion Matrix -----------------\n",
      "Train: FP = 67 - TP = 94 - FN = 54 - TN = 214\n",
      "Valid: FP = 31 - TP = 43 - FN = 23 - TN = 88\n",
      "Test: FP = 18 - TP = 37 - FN = 17 - TN = 82\n",
      "--------------- Threshold Selection ---------------\n",
      "[F2S] Best f2 score for valid is 0.8060 @ threhsold = 0.3333\n"
     ]
    }
   ],
   "source": [
    "auc_train, auc_valid, auc_test = run_model(x_train=x_train, y_train=y_train, x_valid=x_valid, y_valid=y_valid, x_test=x_test, y_test=y_test,\n",
    "                                            optimizer='sgd',\n",
    "                                            loss='binary_crossentropy',\n",
    "                                            momentum=1,\n",
    "                                            rho=0,\n",
    "                                            beta_1=0,\n",
    "                                            beta_2=0,\n",
    "                                            learning_rate=0.1,\n",
    "                                            decay_rate=0.8,\n",
    "                                            batch_size=32,\n",
    "                                            epochs=200,\n",
    "                                            patience=20,\n",
    "                                            min_delta=0.01,\n",
    "                                            tensorboard_on=True,\n",
    "                                            summary_on=True,\n",
    "                                            tag='SGD1',\n",
    "                                            hidden_layers=1,\n",
    "                                            units_per_layer=2,\n",
    "                                            hidden_layer_activation='sigmoid',\n",
    "                                            regularizer=None,\n",
    "                                            regularizer_lambda=1e-4,\n",
    "                                            dropout_rate=0.0,\n",
    "                                            use_batch_normalization=False)"
   ]
  },
  {
   "cell_type": "markdown",
   "id": "ceramic-oracle",
   "metadata": {},
   "source": [
    "Mirando TensorBoard, se aprecia un comportamiento divergente en la loss de **train** y de **valid**."
   ]
  },
  {
   "cell_type": "markdown",
   "id": "magnetic-moderator",
   "metadata": {},
   "source": [
    "## Ejemplo #3 - Probando Adam\n",
    "Vemos que en este caso, Adam produce resultados MUY superiores, variando el momentum entre sus extremos."
   ]
  },
  {
   "cell_type": "code",
   "execution_count": 28,
   "id": "threatened-victor",
   "metadata": {},
   "outputs": [
    {
     "name": "stdout",
     "output_type": "stream",
     "text": [
      "Model logs @ tb-logs/mlp/EX3/20210530-201748\n",
      "Model checkpoints @ checkpoints/mlp/20210530-201748\n",
      "Model: \"sequential_3\"\n",
      "_________________________________________________________________\n",
      "Layer (type)                 Output Shape              Param #   \n",
      "=================================================================\n",
      "dense_9 (Dense)              (None, 2)                 18        \n",
      "_________________________________________________________________\n",
      "dense_10 (Dense)             (None, 1)                 3         \n",
      "=================================================================\n",
      "Total params: 21\n",
      "Trainable params: 21\n",
      "Non-trainable params: 0\n",
      "_________________________________________________________________\n"
     ]
    },
    {
     "data": {
      "image/png": "[encoded data removed]",
      "text/plain": [
       "<Figure size 432x288 with 1 Axes>"
      ]
     },
     "metadata": {
      "needs_background": "light"
     },
     "output_type": "display_data"
    },
    {
     "name": "stdout",
     "output_type": "stream",
     "text": [
      "------------------- Main metric -------------------\n",
      "[AUC] Train: 0.8141 - Valid: 0.7735 - Test: 0.8648\n",
      "---------------- Secondary metrics ----------------\n",
      "[PPV] Train: nan - Valid: nan - Test: nan\n",
      "[NPV] Train: 0.6550 - Valid: 0.6432 - Test: 0.6494\n",
      "[SEN] Train: 0.0000 - Valid: 0.0000 - Test: 0.0000\n",
      "[SPE] Train: 1.0000 - Valid: 1.0000 - Test: 1.0000\n",
      "---------------- Confusion Matrix -----------------\n",
      "Train: FP = 0 - TP = 0 - FN = 148 - TN = 281\n",
      "Valid: FP = 0 - TP = 0 - FN = 66 - TN = 119\n",
      "Test: FP = 0 - TP = 0 - FN = 54 - TN = 100\n",
      "--------------- Threshold Selection ---------------\n",
      "[F2S] Best f2 score for valid is 0.8015 @ threhsold = 0.1818\n"
     ]
    }
   ],
   "source": [
    "auc_train, auc_valid, auc_test = run_model(x_train=x_train, y_train=y_train, x_valid=x_valid, y_valid=y_valid, x_test=x_test, y_test=y_test,\n",
    "                                            optimizer='adam',\n",
    "                                            loss='binary_crossentropy',\n",
    "                                            momentum=0,\n",
    "                                            rho=0,\n",
    "                                            beta_1=0.999,\n",
    "                                            beta_2=0.99,\n",
    "                                            learning_rate=0.098,\n",
    "                                            decay_rate=0.8,\n",
    "                                            batch_size=32,\n",
    "                                            epochs=200,\n",
    "                                            patience=20,\n",
    "                                            min_delta=0.01,\n",
    "                                            tensorboard_on=True,\n",
    "                                            summary_on=True,\n",
    "                                            tag='EX3',\n",
    "                                            hidden_layers=1,\n",
    "                                            units_per_layer=2,\n",
    "                                            hidden_layer_activation='sigmoid',\n",
    "                                            regularizer=None,\n",
    "                                            regularizer_lambda=0,\n",
    "                                            dropout_rate=0.0,\n",
    "                                            use_batch_normalization=False)"
   ]
  },
  {
   "cell_type": "markdown",
   "id": "vocal-adelaide",
   "metadata": {},
   "source": [
    "## Ejemplo #4 - Se agregan L2 y Dropout\n",
    "Además se disminuyen los *beta* del optimizador Adam."
   ]
  },
  {
   "cell_type": "code",
   "execution_count": 29,
   "id": "experienced-application",
   "metadata": {},
   "outputs": [
    {
     "name": "stdout",
     "output_type": "stream",
     "text": [
      "Model logs @ tb-logs/mlp/EX4/20210530-201752\n",
      "Model checkpoints @ checkpoints/mlp/20210530-201752\n",
      "Model: \"sequential_4\"\n",
      "_________________________________________________________________\n",
      "Layer (type)                 Output Shape              Param #   \n",
      "=================================================================\n",
      "dense_11 (Dense)             (None, 2)                 18        \n",
      "_________________________________________________________________\n",
      "dropout (Dropout)            (None, 2)                 0         \n",
      "_________________________________________________________________\n",
      "dense_12 (Dense)             (None, 1)                 3         \n",
      "=================================================================\n",
      "Total params: 21\n",
      "Trainable params: 21\n",
      "Non-trainable params: 0\n",
      "_________________________________________________________________\n"
     ]
    },
    {
     "data": {
      "image/png": "[encoded data removed]",
      "text/plain": [
       "<Figure size 432x288 with 1 Axes>"
      ]
     },
     "metadata": {
      "needs_background": "light"
     },
     "output_type": "display_data"
    },
    {
     "name": "stdout",
     "output_type": "stream",
     "text": [
      "------------------- Main metric -------------------\n",
      "[AUC] Train: 0.8179 - Valid: 0.7753 - Test: 0.8680\n",
      "---------------- Secondary metrics ----------------\n",
      "[PPV] Train: nan - Valid: nan - Test: nan\n",
      "[NPV] Train: 0.6550 - Valid: 0.6432 - Test: 0.6494\n",
      "[SEN] Train: 0.0000 - Valid: 0.0000 - Test: 0.0000\n",
      "[SPE] Train: 1.0000 - Valid: 1.0000 - Test: 1.0000\n",
      "---------------- Confusion Matrix -----------------\n",
      "Train: FP = 0 - TP = 0 - FN = 148 - TN = 281\n",
      "Valid: FP = 0 - TP = 0 - FN = 66 - TN = 119\n",
      "Test: FP = 0 - TP = 0 - FN = 54 - TN = 100\n",
      "--------------- Threshold Selection ---------------\n",
      "[F2S] Best f2 score for valid is 0.8000 @ threhsold = 0.1616\n"
     ]
    }
   ],
   "source": [
    "auc_train, auc_valid, auc_test = run_model(x_train=x_train, y_train=y_train, x_valid=x_valid, y_valid=y_valid, x_test=x_test, y_test=y_test,\n",
    "                                            optimizer='adam',\n",
    "                                            loss='binary_crossentropy',\n",
    "                                            momentum=0,\n",
    "                                            rho=0,\n",
    "                                            beta_1=0.9,\n",
    "                                            beta_2=0.9,\n",
    "                                            learning_rate=0.098,\n",
    "                                            decay_rate=0.8,\n",
    "                                            batch_size=32,\n",
    "                                            epochs=200,\n",
    "                                            patience=30,\n",
    "                                            min_delta=0.01,\n",
    "                                            tensorboard_on=True,\n",
    "                                            summary_on=True,\n",
    "                                            tag='EX4',\n",
    "                                            hidden_layers=1,\n",
    "                                            units_per_layer=2,\n",
    "                                            hidden_layer_activation='sigmoid',\n",
    "                                            regularizer='l2',\n",
    "                                            regularizer_lambda=1e-4,\n",
    "                                            dropout_rate=0.2,\n",
    "                                            use_batch_normalization=False)"
   ]
  },
  {
   "cell_type": "markdown",
   "id": "binary-ethiopia",
   "metadata": {},
   "source": [
    "Aumenta levemente la métrica en train, y lo mismo hace el overfitting."
   ]
  },
  {
   "cell_type": "markdown",
   "id": "arranged-uncle",
   "metadata": {},
   "source": [
    "## Ejemplo #5 - Caso límite: ¿Qué pasa si usamos probabilida de dropout = 1?\n",
    "En ese caso, caen todas las neuronas. Por ende, el modelo predicirá la solución trivial."
   ]
  },
  {
   "cell_type": "code",
   "execution_count": 30,
   "id": "atomic-adolescent",
   "metadata": {},
   "outputs": [
    {
     "name": "stdout",
     "output_type": "stream",
     "text": [
      "Model logs @ tb-logs/mlp/EX5/20210530-201756\n",
      "Model checkpoints @ checkpoints/mlp/20210530-201756\n",
      "Model: \"sequential_5\"\n",
      "_________________________________________________________________\n",
      "Layer (type)                 Output Shape              Param #   \n",
      "=================================================================\n",
      "dense_13 (Dense)             (None, 2)                 18        \n",
      "_________________________________________________________________\n",
      "dropout_1 (Dropout)          (None, 2)                 0         \n",
      "_________________________________________________________________\n",
      "dense_14 (Dense)             (None, 1)                 3         \n",
      "=================================================================\n",
      "Total params: 21\n",
      "Trainable params: 21\n",
      "Non-trainable params: 0\n",
      "_________________________________________________________________\n"
     ]
    },
    {
     "data": {
      "image/png": "[encoded data removed]",
      "text/plain": [
       "<Figure size 432x288 with 1 Axes>"
      ]
     },
     "metadata": {
      "needs_background": "light"
     },
     "output_type": "display_data"
    },
    {
     "name": "stdout",
     "output_type": "stream",
     "text": [
      "------------------- Main metric -------------------\n",
      "[AUC] Train: 0.6638 - Valid: 0.5819 - Test: 0.6174\n",
      "---------------- Secondary metrics ----------------\n",
      "[PPV] Train: nan - Valid: nan - Test: nan\n",
      "[NPV] Train: 0.6550 - Valid: 0.6432 - Test: 0.6494\n",
      "[SEN] Train: 0.0000 - Valid: 0.0000 - Test: 0.0000\n",
      "[SPE] Train: 1.0000 - Valid: 1.0000 - Test: 1.0000\n",
      "---------------- Confusion Matrix -----------------\n",
      "Train: FP = 0 - TP = 0 - FN = 148 - TN = 281\n",
      "Valid: FP = 0 - TP = 0 - FN = 66 - TN = 119\n",
      "Test: FP = 0 - TP = 0 - FN = 54 - TN = 100\n",
      "--------------- Threshold Selection ---------------\n",
      "[F2S] Best f2 score for valid is 0.7350 @ threhsold = 0.0000\n"
     ]
    }
   ],
   "source": [
    "auc_train, auc_valid, auc_test = run_model(x_train=x_train, y_train=y_train, x_valid=x_valid, y_valid=y_valid, x_test=x_test, y_test=y_test,\n",
    "                                            optimizer='adam',\n",
    "                                            loss='binary_crossentropy',\n",
    "                                            momentum=0,\n",
    "                                            rho=0,\n",
    "                                            beta_1=0.9,\n",
    "                                            beta_2=0.9,\n",
    "                                            learning_rate=0.098,\n",
    "                                            decay_rate=0.8,\n",
    "                                            batch_size=32,\n",
    "                                            epochs=200,\n",
    "                                            patience=30,\n",
    "                                            min_delta=0.01,\n",
    "                                            tensorboard_on=True,\n",
    "                                            summary_on=True,\n",
    "                                            tag='EX5',\n",
    "                                            hidden_layers=1,\n",
    "                                            units_per_layer=2,\n",
    "                                            hidden_layer_activation='sigmoid',\n",
    "                                            regularizer='l2',\n",
    "                                            regularizer_lambda=1e-7,\n",
    "                                            dropout_rate=0.999,\n",
    "                                            use_batch_normalization=False)"
   ]
  },
  {
   "cell_type": "markdown",
   "id": "caroline-judge",
   "metadata": {},
   "source": [
    "Del modelo anterior se observa que el dropout excesivo produce que se desactiven varias neuronas al entrenar, entorpeciendo el proceso. Luego el modelo clasifia todas las observaciones como negativas."
   ]
  },
  {
   "cell_type": "markdown",
   "id": "hearing-merchandise",
   "metadata": {},
   "source": [
    "## Ejemplo #6 - Sacamos Dropout y ponemos Batch Normalization\n",
    "Al mejor modelo obtenido hasta ahora, se le cambia dropout por batch normalization. Vemos que no existe mejora en el modelo."
   ]
  },
  {
   "cell_type": "code",
   "execution_count": 31,
   "id": "polish-magic",
   "metadata": {},
   "outputs": [
    {
     "name": "stdout",
     "output_type": "stream",
     "text": [
      "Model logs @ tb-logs/mlp/EX6/20210530-201800\n",
      "Model checkpoints @ checkpoints/mlp/20210530-201800\n",
      "Model: \"sequential_6\"\n",
      "_________________________________________________________________\n",
      "Layer (type)                 Output Shape              Param #   \n",
      "=================================================================\n",
      "dense_15 (Dense)             (None, 2)                 18        \n",
      "_________________________________________________________________\n",
      "batch_normalization (BatchNo (None, 2)                 8         \n",
      "_________________________________________________________________\n",
      "dense_16 (Dense)             (None, 1)                 3         \n",
      "=================================================================\n",
      "Total params: 29\n",
      "Trainable params: 25\n",
      "Non-trainable params: 4\n",
      "_________________________________________________________________\n"
     ]
    },
    {
     "data": {
      "image/png": "[encoded data removed]",
      "text/plain": [
       "<Figure size 432x288 with 1 Axes>"
      ]
     },
     "metadata": {
      "needs_background": "light"
     },
     "output_type": "display_data"
    },
    {
     "name": "stdout",
     "output_type": "stream",
     "text": [
      "------------------- Main metric -------------------\n",
      "[AUC] Train: 0.8335 - Valid: 0.7911 - Test: 0.8878\n",
      "---------------- Secondary metrics ----------------\n",
      "[PPV] Train: 0.6818 - Valid: 0.6333 - Test: 0.7400\n",
      "[NPV] Train: 0.8047 - Valid: 0.7760 - Test: 0.8365\n",
      "[SEN] Train: 0.6081 - Valid: 0.5758 - Test: 0.6852\n",
      "[SPE] Train: 0.8505 - Valid: 0.8151 - Test: 0.8700\n",
      "---------------- Confusion Matrix -----------------\n",
      "Train: FP = 42 - TP = 90 - FN = 58 - TN = 239\n",
      "Valid: FP = 22 - TP = 38 - FN = 28 - TN = 97\n",
      "Test: FP = 13 - TP = 37 - FN = 17 - TN = 87\n",
      "--------------- Threshold Selection ---------------\n",
      "[F2S] Best f2 score for valid is 0.7935 @ threhsold = 0.2525\n"
     ]
    }
   ],
   "source": [
    "auc_train, auc_valid, auc_test = run_model(x_train=x_train, y_train=y_train, x_valid=x_valid, y_valid=y_valid, x_test=x_test, y_test=y_test,\n",
    "                                            optimizer='adam',\n",
    "                                            loss='binary_crossentropy',\n",
    "                                            momentum=0,\n",
    "                                            rho=0,\n",
    "                                            beta_1=0.9,\n",
    "                                            beta_2=0.9,\n",
    "                                            learning_rate=0.098,\n",
    "                                            decay_rate=0.8,\n",
    "                                            batch_size=32,\n",
    "                                            epochs=200,\n",
    "                                            patience=30,\n",
    "                                            min_delta=0.01,\n",
    "                                            tensorboard_on=True,\n",
    "                                            summary_on=True,\n",
    "                                            tag='EX6',\n",
    "                                            hidden_layers=1,\n",
    "                                            units_per_layer=2,\n",
    "                                            hidden_layer_activation='sigmoid',\n",
    "                                            regularizer='l2',\n",
    "                                            regularizer_lambda=1e-7,\n",
    "                                            dropout_rate=0.0,\n",
    "                                            use_batch_normalization=True)"
   ]
  },
  {
   "cell_type": "markdown",
   "id": "proof-kruger",
   "metadata": {},
   "source": [
    "## Ejemplo #7 - Cambio en la función de activación, manteniendo el mejor modelo.\n",
    "Se cambia la función sigmoidea por una tangente hiperbólica."
   ]
  },
  {
   "cell_type": "code",
   "execution_count": 32,
   "id": "working-column",
   "metadata": {},
   "outputs": [
    {
     "name": "stdout",
     "output_type": "stream",
     "text": [
      "Model logs @ tb-logs/mlp/EX7/20210530-201805\n",
      "Model checkpoints @ checkpoints/mlp/20210530-201805\n",
      "Model: \"sequential_7\"\n",
      "_________________________________________________________________\n",
      "Layer (type)                 Output Shape              Param #   \n",
      "=================================================================\n",
      "dense_17 (Dense)             (None, 2)                 18        \n",
      "_________________________________________________________________\n",
      "batch_normalization_1 (Batch (None, 2)                 8         \n",
      "_________________________________________________________________\n",
      "dense_18 (Dense)             (None, 1)                 3         \n",
      "=================================================================\n",
      "Total params: 29\n",
      "Trainable params: 25\n",
      "Non-trainable params: 4\n",
      "_________________________________________________________________\n"
     ]
    },
    {
     "data": {
      "image/png": "[encoded data removed]",
      "text/plain": [
       "<Figure size 432x288 with 1 Axes>"
      ]
     },
     "metadata": {
      "needs_background": "light"
     },
     "output_type": "display_data"
    },
    {
     "name": "stdout",
     "output_type": "stream",
     "text": [
      "------------------- Main metric -------------------\n",
      "[AUC] Train: 0.8331 - Valid: 0.7774 - Test: 0.8856\n",
      "---------------- Secondary metrics ----------------\n",
      "[PPV] Train: 0.6767 - Valid: 0.6271 - Test: 0.7200\n",
      "[NPV] Train: 0.8041 - Valid: 0.7698 - Test: 0.8269\n",
      "[SEN] Train: 0.6081 - Valid: 0.5606 - Test: 0.6667\n",
      "[SPE] Train: 0.8470 - Valid: 0.8151 - Test: 0.8600\n",
      "---------------- Confusion Matrix -----------------\n",
      "Train: FP = 43 - TP = 90 - FN = 58 - TN = 238\n",
      "Valid: FP = 22 - TP = 37 - FN = 29 - TN = 97\n",
      "Test: FP = 14 - TP = 36 - FN = 18 - TN = 86\n",
      "--------------- Threshold Selection ---------------\n",
      "[F2S] Best f2 score for valid is 0.7824 @ threhsold = 0.1212\n"
     ]
    }
   ],
   "source": [
    "auc_train, auc_valid, auc_test = run_model(x_train=x_train, y_train=y_train, x_valid=x_valid, y_valid=y_valid, x_test=x_test, y_test=y_test,\n",
    "                                            optimizer='adam',\n",
    "                                            loss='binary_crossentropy',\n",
    "                                            momentum=0.,\n",
    "                                            rho=0,\n",
    "                                            beta_1=0.9,\n",
    "                                            beta_2=0.9,\n",
    "                                            learning_rate=0.098,\n",
    "                                            decay_rate=0.8,\n",
    "                                            batch_size=32,\n",
    "                                            epochs=200,\n",
    "                                            patience=30,\n",
    "                                            min_delta=0.01,\n",
    "                                            tensorboard_on=True,\n",
    "                                            summary_on=True,\n",
    "                                            tag='EX7',\n",
    "                                            hidden_layers=1,\n",
    "                                            units_per_layer=2,\n",
    "                                            hidden_layer_activation='tanh',\n",
    "                                            regularizer='l2',\n",
    "                                            regularizer_lambda=1e-7,\n",
    "                                            dropout_rate=0,\n",
    "                                            use_batch_normalization=True)"
   ]
  },
  {
   "cell_type": "markdown",
   "id": "similar-samba",
   "metadata": {},
   "source": [
    "Los resultados son similares a emplear la sigmoidea."
   ]
  },
  {
   "cell_type": "markdown",
   "id": "broken-hypothetical",
   "metadata": {},
   "source": [
    "Por otro lado, se prueba la **Leaky ReLU**."
   ]
  },
  {
   "cell_type": "code",
   "execution_count": 33,
   "id": "flush-catalog",
   "metadata": {},
   "outputs": [
    {
     "name": "stdout",
     "output_type": "stream",
     "text": [
      "Model logs @ tb-logs/mlp/EX7_1/20210530-201810\n",
      "Model checkpoints @ checkpoints/mlp/20210530-201810\n",
      "Model: \"sequential_8\"\n",
      "_________________________________________________________________\n",
      "Layer (type)                 Output Shape              Param #   \n",
      "=================================================================\n",
      "dense_19 (Dense)             (None, 2)                 18        \n",
      "_________________________________________________________________\n",
      "batch_normalization_2 (Batch (None, 2)                 8         \n",
      "_________________________________________________________________\n",
      "dense_20 (Dense)             (None, 1)                 3         \n",
      "=================================================================\n",
      "Total params: 29\n",
      "Trainable params: 25\n",
      "Non-trainable params: 4\n",
      "_________________________________________________________________\n"
     ]
    },
    {
     "data": {
      "image/png": "[encoded data removed]",
      "text/plain": [
       "<Figure size 432x288 with 1 Axes>"
      ]
     },
     "metadata": {
      "needs_background": "light"
     },
     "output_type": "display_data"
    },
    {
     "name": "stdout",
     "output_type": "stream",
     "text": [
      "------------------- Main metric -------------------\n",
      "[AUC] Train: 0.8320 - Valid: 0.7998 - Test: 0.8913\n",
      "---------------- Secondary metrics ----------------\n",
      "[PPV] Train: 0.6258 - Valid: 0.6269 - Test: 0.7143\n",
      "[NPV] Train: 0.8139 - Valid: 0.7966 - Test: 0.8571\n",
      "[SEN] Train: 0.6554 - Valid: 0.6364 - Test: 0.7407\n",
      "[SPE] Train: 0.7936 - Valid: 0.7899 - Test: 0.8400\n",
      "---------------- Confusion Matrix -----------------\n",
      "Train: FP = 58 - TP = 97 - FN = 51 - TN = 223\n",
      "Valid: FP = 25 - TP = 42 - FN = 24 - TN = 94\n",
      "Test: FP = 16 - TP = 40 - FN = 14 - TN = 84\n",
      "--------------- Threshold Selection ---------------\n",
      "[F2S] Best f2 score for valid is 0.8015 @ threhsold = 0.2121\n"
     ]
    }
   ],
   "source": [
    "from keras.layers import LeakyReLU\n",
    "auc_train, auc_valid, auc_test = run_model(x_train=x_train, y_train=y_train, x_valid=x_valid, y_valid=y_valid, x_test=x_test, y_test=y_test,\n",
    "                                            optimizer='adam',\n",
    "                                            loss='binary_crossentropy',\n",
    "                                            momentum=0.01,\n",
    "                                            rho=0,\n",
    "                                            beta_1=0.9,\n",
    "                                            beta_2=0.9,\n",
    "                                            learning_rate=0.098,\n",
    "                                            decay_rate=0.8,\n",
    "                                            batch_size=32,\n",
    "                                            epochs=200,\n",
    "                                            patience=30,\n",
    "                                            min_delta=0.01,\n",
    "                                            tensorboard_on=True,\n",
    "                                            summary_on=True,\n",
    "                                            tag='EX7_1',\n",
    "                                            hidden_layers=1,\n",
    "                                            units_per_layer=2,\n",
    "                                            hidden_layer_activation=LeakyReLU(alpha=0.04),\n",
    "                                            regularizer='l2',\n",
    "                                            regularizer_lambda=1e-7,\n",
    "                                            dropout_rate=0,\n",
    "                                            use_batch_normalization=True)"
   ]
  },
  {
   "cell_type": "markdown",
   "id": "embedded-dinner",
   "metadata": {},
   "source": [
    "## Ejemplo #8 - Cambio en la topología de la red"
   ]
  },
  {
   "cell_type": "code",
   "execution_count": 34,
   "id": "choice-craps",
   "metadata": {},
   "outputs": [
    {
     "name": "stdout",
     "output_type": "stream",
     "text": [
      "Model logs @ tb-logs/mlp/EX8/20210530-201820\n",
      "Model checkpoints @ checkpoints/mlp/20210530-201820\n",
      "Model: \"sequential_9\"\n",
      "_________________________________________________________________\n",
      "Layer (type)                 Output Shape              Param #   \n",
      "=================================================================\n",
      "dense_21 (Dense)             (None, 10)                90        \n",
      "_________________________________________________________________\n",
      "batch_normalization_3 (Batch (None, 10)                40        \n",
      "_________________________________________________________________\n",
      "dense_22 (Dense)             (None, 10)                110       \n",
      "_________________________________________________________________\n",
      "batch_normalization_4 (Batch (None, 10)                40        \n",
      "_________________________________________________________________\n",
      "dense_23 (Dense)             (None, 10)                110       \n",
      "_________________________________________________________________\n",
      "batch_normalization_5 (Batch (None, 10)                40        \n",
      "_________________________________________________________________\n",
      "dense_24 (Dense)             (None, 1)                 11        \n",
      "=================================================================\n",
      "Total params: 441\n",
      "Trainable params: 381\n",
      "Non-trainable params: 60\n",
      "_________________________________________________________________\n"
     ]
    },
    {
     "data": {
      "image/png": "[encoded data removed]",
      "text/plain": [
       "<Figure size 432x288 with 1 Axes>"
      ]
     },
     "metadata": {
      "needs_background": "light"
     },
     "output_type": "display_data"
    },
    {
     "name": "stdout",
     "output_type": "stream",
     "text": [
      "------------------- Main metric -------------------\n",
      "[AUC] Train: 0.8359 - Valid: 0.7376 - Test: 0.8452\n",
      "---------------- Secondary metrics ----------------\n",
      "[PPV] Train: 0.6456 - Valid: 0.6094 - Test: 0.6604\n",
      "[NPV] Train: 0.8303 - Valid: 0.7769 - Test: 0.8119\n",
      "[SEN] Train: 0.6892 - Valid: 0.5909 - Test: 0.6481\n",
      "[SPE] Train: 0.8007 - Valid: 0.7899 - Test: 0.8200\n",
      "---------------- Confusion Matrix -----------------\n",
      "Train: FP = 56 - TP = 102 - FN = 46 - TN = 225\n",
      "Valid: FP = 25 - TP = 39 - FN = 27 - TN = 94\n",
      "Test: FP = 18 - TP = 35 - FN = 19 - TN = 82\n",
      "--------------- Threshold Selection ---------------\n",
      "[F2S] Best f2 score for valid is 0.7350 @ threhsold = 0.0000\n"
     ]
    }
   ],
   "source": [
    "auc_train, auc_valid, auc_test = run_model(x_train=x_train, y_train=y_train, x_valid=x_valid, y_valid=y_valid, x_test=x_test, y_test=y_test,\n",
    "                                            optimizer='adam',\n",
    "                                            loss='binary_crossentropy',\n",
    "                                            momentum=0,\n",
    "                                            rho=0,\n",
    "                                            beta_1=0.9,\n",
    "                                            beta_2=0.9,\n",
    "                                            learning_rate=0.098,\n",
    "                                            decay_rate=0.8,\n",
    "                                            batch_size=32,\n",
    "                                            epochs=200,\n",
    "                                            patience=30,\n",
    "                                            min_delta=0.01,\n",
    "                                            tensorboard_on=True,\n",
    "                                            summary_on=True,\n",
    "                                            tag='EX8',\n",
    "                                            hidden_layers=3,\n",
    "                                            units_per_layer=10,\n",
    "                                            hidden_layer_activation='tanh',\n",
    "                                            regularizer='l2',\n",
    "                                            regularizer_lambda=1e-7,\n",
    "                                            dropout_rate=0,\n",
    "                                            use_batch_normalization=True)"
   ]
  },
  {
   "cell_type": "markdown",
   "id": "distinct-canon",
   "metadata": {},
   "source": [
    "Para este caso, el umbral que maximiza el f2-score es muy bajo."
   ]
  },
  {
   "cell_type": "markdown",
   "id": "interstate-morocco",
   "metadata": {},
   "source": [
    "## Ejemplo #9 - Cambio en topología de red #2"
   ]
  },
  {
   "cell_type": "code",
   "execution_count": 35,
   "id": "electrical-evanescence",
   "metadata": {},
   "outputs": [
    {
     "name": "stdout",
     "output_type": "stream",
     "text": [
      "Model logs @ tb-logs/mlp/EX9/20210530-201829\n",
      "Model checkpoints @ checkpoints/mlp/20210530-201829\n",
      "Model: \"sequential_10\"\n",
      "_________________________________________________________________\n",
      "Layer (type)                 Output Shape              Param #   \n",
      "=================================================================\n",
      "dense_25 (Dense)             (None, 50)                450       \n",
      "_________________________________________________________________\n",
      "batch_normalization_6 (Batch (None, 50)                200       \n",
      "_________________________________________________________________\n",
      "dense_26 (Dense)             (None, 50)                2550      \n",
      "_________________________________________________________________\n",
      "batch_normalization_7 (Batch (None, 50)                200       \n",
      "_________________________________________________________________\n",
      "dense_27 (Dense)             (None, 50)                2550      \n",
      "_________________________________________________________________\n",
      "batch_normalization_8 (Batch (None, 50)                200       \n",
      "_________________________________________________________________\n",
      "dense_28 (Dense)             (None, 1)                 51        \n",
      "=================================================================\n",
      "Total params: 6,201\n",
      "Trainable params: 5,901\n",
      "Non-trainable params: 300\n",
      "_________________________________________________________________\n"
     ]
    },
    {
     "data": {
      "image/png": "[encoded data removed]",
      "text/plain": [
       "<Figure size 432x288 with 1 Axes>"
      ]
     },
     "metadata": {
      "needs_background": "light"
     },
     "output_type": "display_data"
    },
    {
     "name": "stdout",
     "output_type": "stream",
     "text": [
      "------------------- Main metric -------------------\n",
      "[AUC] Train: 0.8325 - Valid: 0.7892 - Test: 0.8781\n",
      "---------------- Secondary metrics ----------------\n",
      "[PPV] Train: 0.6500 - Valid: 0.6271 - Test: 0.6792\n",
      "[NPV] Train: 0.8028 - Valid: 0.7698 - Test: 0.8218\n",
      "[SEN] Train: 0.6149 - Valid: 0.5606 - Test: 0.6667\n",
      "[SPE] Train: 0.8256 - Valid: 0.8151 - Test: 0.8300\n",
      "---------------- Confusion Matrix -----------------\n",
      "Train: FP = 49 - TP = 91 - FN = 57 - TN = 232\n",
      "Valid: FP = 22 - TP = 37 - FN = 29 - TN = 97\n",
      "Test: FP = 17 - TP = 36 - FN = 18 - TN = 83\n",
      "--------------- Threshold Selection ---------------\n",
      "[F2S] Best f2 score for valid is 0.8184 @ threhsold = 0.1010\n"
     ]
    }
   ],
   "source": [
    "auc_train, auc_valid, auc_test = run_model(x_train=x_train, y_train=y_train, x_valid=x_valid, y_valid=y_valid, x_test=x_test, y_test=y_test,\n",
    "                                            optimizer='adam',\n",
    "                                            loss='binary_crossentropy',\n",
    "                                            momentum=0,\n",
    "                                            rho=0.0,\n",
    "                                            beta_1=0.99,\n",
    "                                            beta_2=0.99,\n",
    "                                            learning_rate=0.098,\n",
    "                                            decay_rate=0.8,\n",
    "                                            batch_size=32,\n",
    "                                            epochs=2000,\n",
    "                                            patience=30,\n",
    "                                            min_delta=0.01,\n",
    "                                            tensorboard_on=True,\n",
    "                                            summary_on=True,\n",
    "                                            tag='EX9',\n",
    "                                            hidden_layers=3,\n",
    "                                            units_per_layer=50,\n",
    "                                            hidden_layer_activation='tanh',\n",
    "                                            regularizer='l1',\n",
    "                                            regularizer_lambda=1e-2,\n",
    "                                            dropout_rate=0,\n",
    "                                            use_batch_normalization=True)"
   ]
  },
  {
   "cell_type": "markdown",
   "id": "convenient-stranger",
   "metadata": {},
   "source": [
    "## Ejemplo #10 - Cambio a rmsprop"
   ]
  },
  {
   "cell_type": "code",
   "execution_count": 36,
   "id": "comic-dance",
   "metadata": {},
   "outputs": [
    {
     "name": "stdout",
     "output_type": "stream",
     "text": [
      "Model logs @ tb-logs/mlp/EX10/20210530-201841\n",
      "Model checkpoints @ checkpoints/mlp/20210530-201841\n",
      "Model: \"sequential_11\"\n",
      "_________________________________________________________________\n",
      "Layer (type)                 Output Shape              Param #   \n",
      "=================================================================\n",
      "dense_29 (Dense)             (None, 50)                450       \n",
      "_________________________________________________________________\n",
      "dropout_2 (Dropout)          (None, 50)                0         \n",
      "_________________________________________________________________\n",
      "dense_30 (Dense)             (None, 50)                2550      \n",
      "_________________________________________________________________\n",
      "dropout_3 (Dropout)          (None, 50)                0         \n",
      "_________________________________________________________________\n",
      "dense_31 (Dense)             (None, 1)                 51        \n",
      "=================================================================\n",
      "Total params: 3,051\n",
      "Trainable params: 3,051\n",
      "Non-trainable params: 0\n",
      "_________________________________________________________________\n"
     ]
    },
    {
     "data": {
      "image/png": "[encoded data removed]",
      "text/plain": [
       "<Figure size 432x288 with 1 Axes>"
      ]
     },
     "metadata": {
      "needs_background": "light"
     },
     "output_type": "display_data"
    },
    {
     "name": "stdout",
     "output_type": "stream",
     "text": [
      "------------------- Main metric -------------------\n",
      "[AUC] Train: 0.8325 - Valid: 0.7930 - Test: 0.8869\n",
      "---------------- Secondary metrics ----------------\n",
      "[PPV] Train: 0.7339 - Valid: 0.7045 - Test: 0.7727\n",
      "[NPV] Train: 0.7875 - Valid: 0.7518 - Test: 0.8182\n",
      "[SEN] Train: 0.5405 - Valid: 0.4697 - Test: 0.6296\n",
      "[SPE] Train: 0.8968 - Valid: 0.8908 - Test: 0.9000\n",
      "---------------- Confusion Matrix -----------------\n",
      "Train: FP = 29 - TP = 80 - FN = 68 - TN = 252\n",
      "Valid: FP = 13 - TP = 31 - FN = 35 - TN = 106\n",
      "Test: FP = 10 - TP = 34 - FN = 20 - TN = 90\n",
      "--------------- Threshold Selection ---------------\n",
      "[F2S] Best f2 score for valid is 0.8077 @ threhsold = 0.1717\n"
     ]
    }
   ],
   "source": [
    "auc_train, auc_valid, auc_test = run_model(x_train=x_train, y_train=y_train, x_valid=x_valid, y_valid=y_valid, x_test=x_test, y_test=y_test,\n",
    "                                            optimizer='rmsprop',\n",
    "                                            loss='binary_crossentropy',\n",
    "                                            momentum=0.1,\n",
    "                                            rho=0.8,\n",
    "                                            beta_1=0,\n",
    "                                            beta_2=0,\n",
    "                                            learning_rate=0.098,\n",
    "                                            decay_rate=0.8,\n",
    "                                            batch_size=32,\n",
    "                                            epochs=2000,\n",
    "                                            patience=30,\n",
    "                                            min_delta=0.01,\n",
    "                                            tensorboard_on=True,\n",
    "                                            summary_on=True,\n",
    "                                            tag='EX10',\n",
    "                                            hidden_layers=2,\n",
    "                                            units_per_layer=50,\n",
    "                                            hidden_layer_activation='tanh',\n",
    "                                            regularizer='l1',\n",
    "                                            regularizer_lambda=1e-2,\n",
    "                                            dropout_rate=0.2,\n",
    "                                            use_batch_normalization=False)"
   ]
  },
  {
   "cell_type": "markdown",
   "id": "premier-quebec",
   "metadata": {},
   "source": [
    "# Using HyperOpt"
   ]
  },
  {
   "cell_type": "code",
   "execution_count": 84,
   "id": "absent-corps",
   "metadata": {},
   "outputs": [],
   "source": [
    "import hyperopt"
   ]
  },
  {
   "cell_type": "code",
   "execution_count": 85,
   "id": "pending-genetics",
   "metadata": {},
   "outputs": [],
   "source": [
    "from hyperopt.pyll import scope"
   ]
  },
  {
   "cell_type": "code",
   "execution_count": 86,
   "id": "normal-prefix",
   "metadata": {},
   "outputs": [],
   "source": [
    "from src import mlp_helper"
   ]
  },
  {
   "cell_type": "code",
   "execution_count": 87,
   "id": "great-signature",
   "metadata": {},
   "outputs": [],
   "source": [
    "def objective(kwargs):\n",
    "    \"\"\" Objective function for the hyperopt algorithm. \"\"\"\n",
    "    \n",
    "    # Setting some fixed values\n",
    "    kwargs['tensorboard_on'] = False\n",
    "    kwargs['summary_on'] = False\n",
    "    kwargs['epochs'] = 500\n",
    "    kwargs['batch_size'] = 64\n",
    "    kwargs['optimizer'] = 'adam'\n",
    "    kwargs['beta_1'] = 0.9\n",
    "    kwargs['beta_2'] = 0.9\n",
    "    kwargs['dropout_rate'] = 0\n",
    "    \n",
    "    # Running the model with the given hyperparameters and retrieving the test set performance\n",
    "    # WARNING! We're using the same valid set for both valid and test, but can be ignored, it does not affect\n",
    "    # because it was something we had to do to reuse the function...\n",
    "    _, _, eval_test = mlp_helper.run_model(x_train, y_train, x_valid, y_valid, x_valid, y_valid, **kwargs)\n",
    "    auc_test = eval_test['auc']\n",
    "    return (-1*auc_test)"
   ]
  },
  {
   "cell_type": "code",
   "execution_count": 88,
   "id": "large-distinction",
   "metadata": {},
   "outputs": [],
   "source": [
    "space = {\n",
    "    'use_batch_normalization': hyperopt.hp.choice('use_batch_normalization', [False, True]),\n",
    "    'learning_rate': hyperopt.hp.choice('learning_rate', [1.0, 0.5, 0.1, 0.01]),\n",
    "    'hidden_layers': scope.int(hyperopt.hp.quniform('hidden_layers', 1, 10, 1)),\n",
    "    'units_per_layer': scope.int(hyperopt.hp.quniform('units_per_layer', 2, 100, 8)),\n",
    "    'hidden_layer_activation': hyperopt.hp.choice('hidden_layer_activation', ['relu', 'tanh','sigmoid'])\n",
    "    #'regularizer': hyperopt.hp.choice('regularizer', ['l1', 'l2']),\n",
    "    #'regularizer_lambda': hyperopt.hp.choice('regularizer_lambda', [1, 1e-2, 1e-3, 1e-5, 1e-7])\n",
    "}"
   ]
  },
  {
   "cell_type": "code",
   "execution_count": 89,
   "id": "opposed-growing",
   "metadata": {},
   "outputs": [],
   "source": [
    "algorithm = hyperopt.tpe.suggest"
   ]
  },
  {
   "cell_type": "code",
   "execution_count": 90,
   "id": "maritime-brief",
   "metadata": {},
   "outputs": [
    {
     "name": "stdout",
     "output_type": "stream",
     "text": [
      "100%|█████████████████████████████████████████████| 200/200 [16:35<00:00,  4.98s/trial, best loss: -0.8270944741532976]\n"
     ]
    }
   ],
   "source": [
    "trials = hyperopt.Trials()\n",
    "best = hyperopt.fmin(objective, space, algo=algorithm, max_evals=200, trials=trials)"
   ]
  },
  {
   "cell_type": "code",
   "execution_count": 91,
   "id": "based-reliance",
   "metadata": {},
   "outputs": [
    {
     "data": {
      "text/plain": [
       "{'hidden_layer_activation': 2,\n",
       " 'hidden_layers': 1.0,\n",
       " 'learning_rate': 1,\n",
       " 'units_per_layer': 64.0,\n",
       " 'use_batch_normalization': 0}"
      ]
     },
     "execution_count": 91,
     "metadata": {},
     "output_type": "execute_result"
    }
   ],
   "source": [
    "best"
   ]
  },
  {
   "cell_type": "code",
   "execution_count": 47,
   "id": "frequent-amount",
   "metadata": {},
   "outputs": [
    {
     "name": "stdout",
     "output_type": "stream",
     "text": [
      "Model logs @ tb-logs/mlp/BEST/20210530-203427\n",
      "Model checkpoints @ checkpoints/mlp/20210530-203427\n",
      "Model: \"sequential_112\"\n",
      "_________________________________________________________________\n",
      "Layer (type)                 Output Shape              Param #   \n",
      "=================================================================\n",
      "dense_750 (Dense)            (None, 80)                720       \n",
      "_________________________________________________________________\n",
      "batch_normalization_455 (Bat (None, 80)                320       \n",
      "_________________________________________________________________\n",
      "dense_751 (Dense)            (None, 80)                6480      \n",
      "_________________________________________________________________\n",
      "batch_normalization_456 (Bat (None, 80)                320       \n",
      "_________________________________________________________________\n",
      "dense_752 (Dense)            (None, 80)                6480      \n",
      "_________________________________________________________________\n",
      "batch_normalization_457 (Bat (None, 80)                320       \n",
      "_________________________________________________________________\n",
      "dense_753 (Dense)            (None, 80)                6480      \n",
      "_________________________________________________________________\n",
      "batch_normalization_458 (Bat (None, 80)                320       \n",
      "_________________________________________________________________\n",
      "dense_754 (Dense)            (None, 80)                6480      \n",
      "_________________________________________________________________\n",
      "batch_normalization_459 (Bat (None, 80)                320       \n",
      "_________________________________________________________________\n",
      "dense_755 (Dense)            (None, 80)                6480      \n",
      "_________________________________________________________________\n",
      "batch_normalization_460 (Bat (None, 80)                320       \n",
      "_________________________________________________________________\n",
      "dense_756 (Dense)            (None, 1)                 81        \n",
      "=================================================================\n",
      "Total params: 35,121\n",
      "Trainable params: 34,161\n",
      "Non-trainable params: 960\n",
      "_________________________________________________________________\n"
     ]
    },
    {
     "data": {
      "image/png": "[encoded data removed]",
      "text/plain": [
       "<Figure size 432x288 with 1 Axes>"
      ]
     },
     "metadata": {
      "needs_background": "light"
     },
     "output_type": "display_data"
    },
    {
     "name": "stdout",
     "output_type": "stream",
     "text": [
      "------------------- Main metric -------------------\n",
      "[AUC] Train: 0.8521 - Valid: 0.7907 - Test: 0.8196\n",
      "---------------- Secondary metrics ----------------\n",
      "[PPV] Train: 0.5734 - Valid: 0.5269 - Test: 0.5488\n",
      "[NPV] Train: 0.8910 - Valid: 0.8152 - Test: 0.8750\n",
      "[SEN] Train: 0.8446 - Valid: 0.7424 - Test: 0.8333\n",
      "[SPE] Train: 0.6690 - Valid: 0.6303 - Test: 0.6300\n",
      "---------------- Confusion Matrix -----------------\n",
      "Train: FP = 93 - TP = 125 - FN = 23 - TN = 188\n",
      "Valid: FP = 44 - TP = 49 - FN = 17 - TN = 75\n",
      "Test: FP = 37 - TP = 45 - FN = 9 - TN = 63\n",
      "--------------- Threshold Selection ---------------\n",
      "[F2S] Best f2 score for valid is 0.8065 @ threhsold = 0.3030\n"
     ]
    }
   ],
   "source": [
    "# 100/100 [10:26<00:00,  6.27s/trial, best loss: -0.8358798064680418]\n",
    "auc_train, auc_valid, auc_test = run_model(x_train=x_train, y_train=y_train, x_valid=x_valid, y_valid=y_valid, x_test=x_test, y_test=y_test,\n",
    "                                            optimizer='adam',\n",
    "                                            loss='binary_crossentropy',\n",
    "                                            beta_1=0.9,\n",
    "                                            beta_2=0.9,\n",
    "                                            learning_rate=0.01,\n",
    "                                            batch_size=64,\n",
    "                                            epochs=500,\n",
    "                                            patience=30,\n",
    "                                            tensorboard_on=True,\n",
    "                                            summary_on=True,\n",
    "                                            tag='BEST1',\n",
    "                                            hidden_layers=6,\n",
    "                                            units_per_layer=80,\n",
    "                                            hidden_layer_activation='tanh',\n",
    "                                            use_batch_normalization=True)"
   ]
  },
  {
   "cell_type": "code",
   "execution_count": 66,
   "id": "weekly-color",
   "metadata": {},
   "outputs": [
    {
     "name": "stdout",
     "output_type": "stream",
     "text": [
      "Model logs @ tb-logs/mlp/BEST2/20210530-210238\n",
      "Model checkpoints @ checkpoints/mlp/20210530-210238\n",
      "Model: \"sequential_213\"\n",
      "_________________________________________________________________\n",
      "Layer (type)                 Output Shape              Param #   \n",
      "=================================================================\n",
      "dense_1291 (Dense)           (None, 40)                360       \n",
      "_________________________________________________________________\n",
      "batch_normalization_718 (Bat (None, 40)                160       \n",
      "_________________________________________________________________\n",
      "dense_1292 (Dense)           (None, 40)                1640      \n",
      "_________________________________________________________________\n",
      "batch_normalization_719 (Bat (None, 40)                160       \n",
      "_________________________________________________________________\n",
      "dense_1293 (Dense)           (None, 1)                 41        \n",
      "=================================================================\n",
      "Total params: 2,361\n",
      "Trainable params: 2,201\n",
      "Non-trainable params: 160\n",
      "_________________________________________________________________\n"
     ]
    },
    {
     "data": {
      "image/png": "[encoded data removed]",
      "text/plain": [
       "<Figure size 432x288 with 1 Axes>"
      ]
     },
     "metadata": {
      "needs_background": "light"
     },
     "output_type": "display_data"
    },
    {
     "name": "stdout",
     "output_type": "stream",
     "text": [
      "------------------- Main metric -------------------\n",
      "[AUC] Train: 0.8208 - Valid: 0.8097 - Test: 0.8802\n",
      "---------------- Secondary metrics ----------------\n",
      "[PPV] Train: 0.4667 - Valid: 0.4809 - Test: 0.4862\n",
      "[NPV] Train: 0.9380 - Valid: 0.9444 - Test: 0.9778\n",
      "[SEN] Train: 0.9459 - Valid: 0.9545 - Test: 0.9815\n",
      "[SPE] Train: 0.4306 - Valid: 0.4286 - Test: 0.4400\n",
      "---------------- Confusion Matrix -----------------\n",
      "Train: FP = 160 - TP = 140 - FN = 8 - TN = 121\n",
      "Valid: FP = 68 - TP = 63 - FN = 3 - TN = 51\n",
      "Test: FP = 56 - TP = 53 - FN = 1 - TN = 44\n",
      "--------------- Threshold Selection ---------------\n",
      "[F2S] Best f2 score for valid is 0.8060 @ threhsold = 0.4949\n"
     ]
    }
   ],
   "source": [
    "# 100%|████████████████████████████████████████████| 100/100 [08:46<00:00,  5.27s/trial, best loss: -0.8156353450471097]\n",
    "auc_train, auc_valid, auc_test = run_model(x_train=x_train, y_train=y_train, x_valid=x_valid, y_valid=y_valid, x_test=x_test, y_test=y_test,\n",
    "                                            optimizer='adam',\n",
    "                                            loss='binary_crossentropy',\n",
    "                                            beta_1=0.9,\n",
    "                                            beta_2=0.9,\n",
    "                                            learning_rate=1,\n",
    "                                            batch_size=64,\n",
    "                                            epochs=500,\n",
    "                                            patience=30,\n",
    "                                            tensorboard_on=True,\n",
    "                                            summary_on=True,\n",
    "                                            tag='BEST2',\n",
    "                                            regularizer='l1',\n",
    "                                            regularizer_lambda=1e-2,\n",
    "                                            hidden_layers=2,\n",
    "                                            units_per_layer=40,\n",
    "                                            hidden_layer_activation='relu',\n",
    "                                            use_batch_normalization=True)"
   ]
  },
  {
   "cell_type": "code",
   "execution_count": 75,
   "id": "eleven-front",
   "metadata": {},
   "outputs": [
    {
     "name": "stdout",
     "output_type": "stream",
     "text": [
      "Model logs @ tb-logs/mlp/BEST2/20210530-213150\n",
      "Model checkpoints @ checkpoints/mlp/20210530-213150\n",
      "Model: \"sequential_414\"\n",
      "_________________________________________________________________\n",
      "Layer (type)                 Output Shape              Param #   \n",
      "=================================================================\n",
      "dense_2247 (Dense)           (None, 30)                270       \n",
      "_________________________________________________________________\n",
      "batch_normalization_1297 (Ba (None, 30)                120       \n",
      "_________________________________________________________________\n",
      "dense_2248 (Dense)           (None, 30)                930       \n",
      "_________________________________________________________________\n",
      "batch_normalization_1298 (Ba (None, 30)                120       \n",
      "_________________________________________________________________\n",
      "dense_2249 (Dense)           (None, 30)                930       \n",
      "_________________________________________________________________\n",
      "batch_normalization_1299 (Ba (None, 30)                120       \n",
      "_________________________________________________________________\n",
      "dense_2250 (Dense)           (None, 30)                930       \n",
      "_________________________________________________________________\n",
      "batch_normalization_1300 (Ba (None, 30)                120       \n",
      "_________________________________________________________________\n",
      "dense_2251 (Dense)           (None, 1)                 31        \n",
      "=================================================================\n",
      "Total params: 3,571\n",
      "Trainable params: 3,331\n",
      "Non-trainable params: 240\n",
      "_________________________________________________________________\n"
     ]
    },
    {
     "data": {
      "image/png": "[encoded data removed]",
      "text/plain": [
       "<Figure size 432x288 with 1 Axes>"
      ]
     },
     "metadata": {
      "needs_background": "light"
     },
     "output_type": "display_data"
    },
    {
     "name": "stdout",
     "output_type": "stream",
     "text": [
      "------------------- Main metric -------------------\n",
      "[AUC] Train: 0.8249 - Valid: 0.8154 - Test: 0.8778\n",
      "---------------- Secondary metrics ----------------\n",
      "[PPV] Train: 0.3450 - Valid: 0.3568 - Test: 0.3506\n",
      "[NPV] Train: nan - Valid: nan - Test: nan\n",
      "[SEN] Train: 1.0000 - Valid: 1.0000 - Test: 1.0000\n",
      "[SPE] Train: 0.0000 - Valid: 0.0000 - Test: 0.0000\n",
      "---------------- Confusion Matrix -----------------\n",
      "Train: FP = 281 - TP = 148 - FN = 0 - TN = 0\n",
      "Valid: FP = 119 - TP = 66 - FN = 0 - TN = 0\n",
      "Test: FP = 100 - TP = 54 - FN = 0 - TN = 0\n",
      "--------------- Threshold Selection ---------------\n",
      "[F2S] Best f2 score for valid is 0.7838 @ threhsold = 0.7172\n"
     ]
    }
   ],
   "source": [
    "#100%|█████████████████████████████████████████████| 200/200 [18:49<00:00,  5.65s/trial, best loss: -0.8209829386299974]\n",
    "auc_train, auc_valid, auc_test = run_model(x_train=x_train, y_train=y_train, x_valid=x_valid, y_valid=y_valid, x_test=x_test, y_test=y_test,\n",
    "                                            optimizer='adam',\n",
    "                                            loss='binary_crossentropy',\n",
    "                                            beta_1=0.9,\n",
    "                                            beta_2=0.9,\n",
    "                                            learning_rate=0.5,\n",
    "                                            batch_size=64,\n",
    "                                            epochs=500,\n",
    "                                            patience=30,\n",
    "                                            tensorboard_on=True,\n",
    "                                            summary_on=True,\n",
    "                                            tag='BEST2',\n",
    "                                            regularizer='l2',\n",
    "                                            regularizer_lambda=1e-2,\n",
    "                                            hidden_layers=4,\n",
    "                                            units_per_layer=30,\n",
    "                                            hidden_layer_activation='relu',\n",
    "                                            use_batch_normalization=True)"
   ]
  },
  {
   "cell_type": "code",
   "execution_count": 92,
   "id": "younger-construction",
   "metadata": {},
   "outputs": [
    {
     "name": "stdout",
     "output_type": "stream",
     "text": [
      "Model logs @ tb-logs/mlp/BEST4/20210530-220129\n",
      "Model checkpoints @ checkpoints/mlp/20210530-220129\n",
      "Model: \"sequential_630\"\n",
      "_________________________________________________________________\n",
      "Layer (type)                 Output Shape              Param #   \n",
      "=================================================================\n",
      "dense_3197 (Dense)           (None, 64)                576       \n",
      "_________________________________________________________________\n",
      "dense_3198 (Dense)           (None, 1)                 65        \n",
      "=================================================================\n",
      "Total params: 641\n",
      "Trainable params: 641\n",
      "Non-trainable params: 0\n",
      "_________________________________________________________________\n"
     ]
    },
    {
     "data": {
      "image/png": "[encoded data removed]",
      "text/plain": [
       "<Figure size 432x288 with 1 Axes>"
      ]
     },
     "metadata": {
      "needs_background": "light"
     },
     "output_type": "display_data"
    },
    {
     "name": "stdout",
     "output_type": "stream",
     "text": [
      "------------------- Main metric -------------------\n",
      "[AUC] Train: 0.9053 - Valid: 0.7918 - Test: 0.8569\n",
      "---------------- Secondary metrics ----------------\n",
      "[PPV] Train: 0.7826 - Valid: 0.6792 - Test: 0.7111\n",
      "[NPV] Train: 0.8625 - Valid: 0.7727 - Test: 0.7982\n",
      "[SEN] Train: 0.7297 - Valid: 0.5455 - Test: 0.5926\n",
      "[SPE] Train: 0.8932 - Valid: 0.8571 - Test: 0.8700\n",
      "---------------- Confusion Matrix -----------------\n",
      "Train: FP = 30 - TP = 108 - FN = 40 - TN = 251\n",
      "Valid: FP = 17 - TP = 36 - FN = 30 - TN = 102\n",
      "Test: FP = 13 - TP = 32 - FN = 22 - TN = 87\n",
      "--------------- Threshold Selection ---------------\n",
      "[F2S] Best f2 score for valid is 0.8020 @ threhsold = 0.0101\n"
     ]
    }
   ],
   "source": [
    "#100%|█████████████████████████████████████████████| 200/200 [18:49<00:00,  5.65s/trial, best loss: -0.8209829386299974]\n",
    "auc_train, auc_valid, auc_test = run_model(x_train=x_train, y_train=y_train, x_valid=x_valid, y_valid=y_valid, x_test=x_test, y_test=y_test,\n",
    "                                            optimizer='adam',\n",
    "                                            loss='binary_crossentropy',\n",
    "                                            beta_1=0.9,\n",
    "                                            beta_2=0.9,\n",
    "                                            learning_rate=0.5,\n",
    "                                            batch_size=64,\n",
    "                                            epochs=500,\n",
    "                                            patience=30,\n",
    "                                            tensorboard_on=True,\n",
    "                                            summary_on=True,\n",
    "                                            tag='BEST4',\n",
    "                                            hidden_layers=1,\n",
    "                                            units_per_layer=64,\n",
    "                                            hidden_layer_activation='sigmoid',\n",
    "                                            use_batch_normalization=False)"
   ]
  }
 ],
 "metadata": {
  "kernelspec": {
   "display_name": "Python 3",
   "language": "python",
   "name": "python3"
  },
  "language_info": {
   "codemirror_mode": {
    "name": "ipython",
    "version": 3
   },
   "file_extension": ".py",
   "mimetype": "text/x-python",
   "name": "python",
   "nbconvert_exporter": "python",
   "pygments_lexer": "ipython3",
   "version": "3.9.2"
  }
 },
 "nbformat": 4,
 "nbformat_minor": 5
}
