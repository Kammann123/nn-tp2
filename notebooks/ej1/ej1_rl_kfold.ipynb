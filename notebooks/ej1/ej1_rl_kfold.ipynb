{
 "cells": [
  {
   "cell_type": "markdown",
   "id": "oriental-savage",
   "metadata": {},
   "source": [
    "# Redes Neuronales - Trabajo Práctico N° 2 - Ejercicio 1 - Regresión Logística\n",
    "# Notebook #4: K Folding + HyperOpt en regresión logística\n",
    "En esta notebook se emplea K Folding para la optimización de un modelo de regresión logística con HyperOpt.\n",
    "### Integrantes del grupo\n",
    "* Kammann, Lucas Agustín\n",
    "* Gaytan, Joaquín Oscar"
   ]
  },
  {
   "cell_type": "code",
   "execution_count": 1,
   "id": "sound-resistance",
   "metadata": {},
   "outputs": [],
   "source": [
    "import numpy as np"
   ]
  },
  {
   "cell_type": "code",
   "execution_count": 2,
   "id": "portable-chinese",
   "metadata": {},
   "outputs": [],
   "source": [
    "import pandas as pd\n",
    "pd.options.mode.chained_assignment = None  # default='warn'"
   ]
  },
  {
   "cell_type": "code",
   "execution_count": 3,
   "id": "short-tract",
   "metadata": {},
   "outputs": [
    {
     "data": {
      "text/html": [
       "<div>\n",
       "<style scoped>\n",
       "    .dataframe tbody tr th:only-of-type {\n",
       "        vertical-align: middle;\n",
       "    }\n",
       "\n",
       "    .dataframe tbody tr th {\n",
       "        vertical-align: top;\n",
       "    }\n",
       "\n",
       "    .dataframe thead th {\n",
       "        text-align: right;\n",
       "    }\n",
       "</style>\n",
       "<table border=\"1\" class=\"dataframe\">\n",
       "  <thead>\n",
       "    <tr style=\"text-align: right;\">\n",
       "      <th></th>\n",
       "      <th>Pregnancies</th>\n",
       "      <th>Glucose</th>\n",
       "      <th>BloodPressure</th>\n",
       "      <th>SkinThickness</th>\n",
       "      <th>Insulin</th>\n",
       "      <th>BMI</th>\n",
       "      <th>DiabetesPedigreeFunction</th>\n",
       "      <th>Age</th>\n",
       "      <th>Outcome</th>\n",
       "    </tr>\n",
       "  </thead>\n",
       "  <tbody>\n",
       "    <tr>\n",
       "      <th>0</th>\n",
       "      <td>6</td>\n",
       "      <td>148</td>\n",
       "      <td>72</td>\n",
       "      <td>35</td>\n",
       "      <td>0</td>\n",
       "      <td>33.6</td>\n",
       "      <td>0.627</td>\n",
       "      <td>50</td>\n",
       "      <td>1</td>\n",
       "    </tr>\n",
       "    <tr>\n",
       "      <th>1</th>\n",
       "      <td>1</td>\n",
       "      <td>85</td>\n",
       "      <td>66</td>\n",
       "      <td>29</td>\n",
       "      <td>0</td>\n",
       "      <td>26.6</td>\n",
       "      <td>0.351</td>\n",
       "      <td>31</td>\n",
       "      <td>0</td>\n",
       "    </tr>\n",
       "    <tr>\n",
       "      <th>2</th>\n",
       "      <td>8</td>\n",
       "      <td>183</td>\n",
       "      <td>64</td>\n",
       "      <td>0</td>\n",
       "      <td>0</td>\n",
       "      <td>23.3</td>\n",
       "      <td>0.672</td>\n",
       "      <td>32</td>\n",
       "      <td>1</td>\n",
       "    </tr>\n",
       "    <tr>\n",
       "      <th>3</th>\n",
       "      <td>1</td>\n",
       "      <td>89</td>\n",
       "      <td>66</td>\n",
       "      <td>23</td>\n",
       "      <td>94</td>\n",
       "      <td>28.1</td>\n",
       "      <td>0.167</td>\n",
       "      <td>21</td>\n",
       "      <td>0</td>\n",
       "    </tr>\n",
       "    <tr>\n",
       "      <th>4</th>\n",
       "      <td>0</td>\n",
       "      <td>137</td>\n",
       "      <td>40</td>\n",
       "      <td>35</td>\n",
       "      <td>168</td>\n",
       "      <td>43.1</td>\n",
       "      <td>2.288</td>\n",
       "      <td>33</td>\n",
       "      <td>1</td>\n",
       "    </tr>\n",
       "  </tbody>\n",
       "</table>\n",
       "</div>"
      ],
      "text/plain": [
       "   Pregnancies  Glucose  BloodPressure  SkinThickness  Insulin   BMI  \\\n",
       "0            6      148             72             35        0  33.6   \n",
       "1            1       85             66             29        0  26.6   \n",
       "2            8      183             64              0        0  23.3   \n",
       "3            1       89             66             23       94  28.1   \n",
       "4            0      137             40             35      168  43.1   \n",
       "\n",
       "   DiabetesPedigreeFunction  Age  Outcome  \n",
       "0                     0.627   50        1  \n",
       "1                     0.351   31        0  \n",
       "2                     0.672   32        1  \n",
       "3                     0.167   21        0  \n",
       "4                     2.288   33        1  "
      ]
     },
     "execution_count": 3,
     "metadata": {},
     "output_type": "execute_result"
    }
   ],
   "source": [
    "# Read database from .csv\n",
    "df = pd.read_csv('../../databases/diabetes.csv', delimiter=',')\n",
    "\n",
    "# Show first rows of data\n",
    "df.head()"
   ]
  },
  {
   "cell_type": "code",
   "execution_count": 4,
   "id": "proud-secretary",
   "metadata": {},
   "outputs": [
    {
     "name": "stdout",
     "output_type": "stream",
     "text": [
      "INFO:tensorflow:Enabling eager execution\n",
      "INFO:tensorflow:Enabling v2 tensorshape\n",
      "INFO:tensorflow:Enabling resource variables\n",
      "INFO:tensorflow:Enabling tensor equality\n",
      "INFO:tensorflow:Enabling control flow v2\n"
     ]
    }
   ],
   "source": [
    "from src.rl_helper import run_model_with_kfold\n",
    "from src.helper import  print_metrics"
   ]
  },
  {
   "cell_type": "code",
   "execution_count": 5,
   "id": "technological-motorcycle",
   "metadata": {},
   "outputs": [],
   "source": [
    "train_dict, valid_dict, test_dict = run_model_with_kfold(df=df, test_size=0.2, folds=5, random_state=15,              \n",
    "                                                          learning_rate=0.1,\n",
    "                                                          tag='best3',\n",
    "                                                          degree=2,\n",
    "                                                          optimizer='adam',\n",
    "                                                          beta_1=0.9,\n",
    "                                                          beta_2=0.9,\n",
    "                                                          batch_size=32,\n",
    "                                                          epochs=500,\n",
    "                                                          tensorboard_on=False,\n",
    "                                                          checkpoints_on=True,\n",
    "                                                          summary_on=False,\n",
    "                                                          l1=0,\n",
    "                                                          l2=1e-2\n",
    "                                                         );"
   ]
  },
  {
   "cell_type": "code",
   "execution_count": 6,
   "id": "senior-prize",
   "metadata": {},
   "outputs": [
    {
     "name": "stdout",
     "output_type": "stream",
     "text": [
      "------------------- Main metric -------------------\n",
      "[AUC] Train: 0.8380 - Valid: 0.8613 - Test: 0.8025\n",
      "---------------- Secondary metrics ----------------\n",
      "[PPV] Train: 0.5517 - Valid: 0.5718 - Test: 0.4590\n",
      "[NPV] Train: 0.9118 - Valid: 0.9528 - Test: 0.9013\n",
      "[SEN] Train: 0.8972 - Valid: 0.9474 - Test: 0.8522\n",
      "[SPE] Train: 0.5761 - Valid: 0.5908 - Test: 0.5574\n"
     ]
    }
   ],
   "source": [
    "print_metrics(train_dict, valid_dict, test_dict)"
   ]
  },
  {
   "cell_type": "markdown",
   "id": "underlying-chart",
   "metadata": {},
   "source": [
    "# Using HyperOpt"
   ]
  },
  {
   "cell_type": "code",
   "execution_count": 17,
   "id": "contained-territory",
   "metadata": {},
   "outputs": [],
   "source": [
    "import hyperopt"
   ]
  },
  {
   "cell_type": "code",
   "execution_count": 18,
   "id": "united-immunology",
   "metadata": {},
   "outputs": [],
   "source": [
    "from hyperopt.pyll import scope"
   ]
  },
  {
   "cell_type": "code",
   "execution_count": 19,
   "id": "accepted-bobby",
   "metadata": {},
   "outputs": [],
   "source": [
    "def objective(kwargs):\n",
    "    \"\"\" Objective function for the hyperopt algorithm. \"\"\"\n",
    "    \n",
    "    # Setting some fixed values\n",
    "    kwargs['tensorboard_on'] = False\n",
    "    kwargs['summary_on'] = False\n",
    "    kwargs['epochs'] = 500\n",
    "    kwargs['batch_size'] = 32\n",
    "    kwargs['optimizer'] = 'adam'\n",
    "    kwargs['beta_1'] = 0.9\n",
    "    kwargs['beta_2'] = 0.9\n",
    "    \n",
    "    # Running the model with the given hyperparameters and retrieving the test set performance\n",
    "    # WARNING! We're using the same valid set for both valid and test, but can be ignored, it does not affect\n",
    "    # because it was something we had to do to reuse the function...\n",
    "    _, eval_valid, _ = run_model_with_kfold(df=df, folds=5, test_size=0.2, random_state=15, **kwargs)\n",
    "    auc_valid = eval_valid['auc']\n",
    "    return (-1*auc_valid)"
   ]
  },
  {
   "cell_type": "code",
   "execution_count": 20,
   "id": "wooden-ethics",
   "metadata": {},
   "outputs": [],
   "source": [
    "space = {\n",
    "    'learning_rate': hyperopt.hp.choice('learning_rate', [1.0, 0.5, 0.1, 0.01]),\n",
    "    'l1' : hyperopt.hp.choice('l1', [0, 1e-2, 1e-3, 1e-4]),\n",
    "    'l2' : hyperopt.hp.choice('l2', [0, 1e-2, 1e-3, 1e-4]), \n",
    "    'degree': scope.int(hyperopt.hp.quniform('degree', 1, 6, 1))\n",
    "}"
   ]
  },
  {
   "cell_type": "code",
   "execution_count": 21,
   "id": "crucial-maintenance",
   "metadata": {},
   "outputs": [],
   "source": [
    "algorithm = hyperopt.tpe.suggest"
   ]
  },
  {
   "cell_type": "code",
   "execution_count": 22,
   "id": "casual-berkeley",
   "metadata": {},
   "outputs": [
    {
     "name": "stdout",
     "output_type": "stream",
     "text": [
      "100%|█████████████████████████████████████████████| 100/100 [33:48<00:00, 20.29s/trial, best loss: -0.8732455733500564]\n"
     ]
    }
   ],
   "source": [
    "trials = hyperopt.Trials()\n",
    "best = hyperopt.fmin(objective, space, algo=algorithm, max_evals=100, trials=trials)"
   ]
  },
  {
   "cell_type": "code",
   "execution_count": 24,
   "id": "funny-testimony",
   "metadata": {},
   "outputs": [
    {
     "data": {
      "text/plain": [
       "{'degree': 2.0, 'l1': 2, 'l2': 3, 'learning_rate': 2}"
      ]
     },
     "execution_count": 24,
     "metadata": {},
     "output_type": "execute_result"
    }
   ],
   "source": [
    "best"
   ]
  },
  {
   "cell_type": "code",
   "execution_count": 25,
   "id": "analyzed-croatia",
   "metadata": {},
   "outputs": [],
   "source": [
    "train_dict, valid_dict, test_dict = run_model_with_kfold(df=df, test_size=0.2, folds=5, random_state=15,              \n",
    "                                                          learning_rate=0.1,\n",
    "                                                          tag='best7',\n",
    "                                                          degree=2,\n",
    "                                                          optimizer='adam',\n",
    "                                                          beta_1=0.9,\n",
    "                                                          beta_2=0.9,\n",
    "                                                          batch_size=32,\n",
    "                                                          epochs=500,\n",
    "                                                          tensorboard_on=False,\n",
    "                                                          checkpoints_on=True,\n",
    "                                                          summary_on=False,\n",
    "                                                          l1=1e-3,\n",
    "                                                          l2=1e-4\n",
    "                                                         );"
   ]
  },
  {
   "cell_type": "code",
   "execution_count": 26,
   "id": "molecular-texture",
   "metadata": {},
   "outputs": [
    {
     "name": "stdout",
     "output_type": "stream",
     "text": [
      "------------------- Main metric -------------------\n",
      "[AUC] Train: 0.8615 - Valid: 0.8644 - Test: 0.7907\n",
      "---------------- Secondary metrics ----------------\n",
      "[PPV] Train: 0.5639 - Valid: 0.5927 - Test: 0.4648\n",
      "[NPV] Train: 0.9257 - Valid: 0.9487 - Test: 0.8942\n",
      "[SEN] Train: 0.9102 - Valid: 0.9428 - Test: 0.8304\n",
      "[SPE] Train: 0.5958 - Valid: 0.6186 - Test: 0.5833\n"
     ]
    }
   ],
   "source": [
    "print_metrics(train_dict, valid_dict, test_dict)"
   ]
  }
 ],
 "metadata": {
  "kernelspec": {
   "display_name": "Python 3",
   "language": "python",
   "name": "python3"
  },
  "language_info": {
   "codemirror_mode": {
    "name": "ipython",
    "version": 3
   },
   "file_extension": ".py",
   "mimetype": "text/x-python",
   "name": "python",
   "nbconvert_exporter": "python",
   "pygments_lexer": "ipython3",
   "version": "3.9.2"
  }
 },
 "nbformat": 4,
 "nbformat_minor": 5
}
