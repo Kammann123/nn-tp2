{
 "cells": [
  {
   "cell_type": "markdown",
   "id": "induced-affiliation",
   "metadata": {},
   "source": [
    "# Redes Neuronales - Trabajo Práctico N° 2 - Ejercicio 1 - Regresión Logística\n",
    "# Notebook #5: K Folding + HyperOpt en MLP\n",
    "En esta notebook se emplea K Folding para la optimización de un modelo MLP con HyperOpt.\n",
    "### Integrantes del grupo\n",
    "* Kammann, Lucas Agustín\n",
    "* Gaytan, Joaquín Oscar"
   ]
  },
  {
   "cell_type": "code",
   "execution_count": 1,
   "id": "favorite-dependence",
   "metadata": {},
   "outputs": [],
   "source": [
    "import numpy as np"
   ]
  },
  {
   "cell_type": "code",
   "execution_count": 2,
   "id": "sacred-coaching",
   "metadata": {},
   "outputs": [],
   "source": [
    "import pandas as pd\n",
    "pd.options.mode.chained_assignment = None  # default='warn'"
   ]
  },
  {
   "cell_type": "code",
   "execution_count": 3,
   "id": "detected-placement",
   "metadata": {},
   "outputs": [
    {
     "data": {
      "text/html": [
       "<div>\n",
       "<style scoped>\n",
       "    .dataframe tbody tr th:only-of-type {\n",
       "        vertical-align: middle;\n",
       "    }\n",
       "\n",
       "    .dataframe tbody tr th {\n",
       "        vertical-align: top;\n",
       "    }\n",
       "\n",
       "    .dataframe thead th {\n",
       "        text-align: right;\n",
       "    }\n",
       "</style>\n",
       "<table border=\"1\" class=\"dataframe\">\n",
       "  <thead>\n",
       "    <tr style=\"text-align: right;\">\n",
       "      <th></th>\n",
       "      <th>Pregnancies</th>\n",
       "      <th>Glucose</th>\n",
       "      <th>BloodPressure</th>\n",
       "      <th>SkinThickness</th>\n",
       "      <th>Insulin</th>\n",
       "      <th>BMI</th>\n",
       "      <th>DiabetesPedigreeFunction</th>\n",
       "      <th>Age</th>\n",
       "      <th>Outcome</th>\n",
       "    </tr>\n",
       "  </thead>\n",
       "  <tbody>\n",
       "    <tr>\n",
       "      <th>0</th>\n",
       "      <td>6</td>\n",
       "      <td>148</td>\n",
       "      <td>72</td>\n",
       "      <td>35</td>\n",
       "      <td>0</td>\n",
       "      <td>33.6</td>\n",
       "      <td>0.627</td>\n",
       "      <td>50</td>\n",
       "      <td>1</td>\n",
       "    </tr>\n",
       "    <tr>\n",
       "      <th>1</th>\n",
       "      <td>1</td>\n",
       "      <td>85</td>\n",
       "      <td>66</td>\n",
       "      <td>29</td>\n",
       "      <td>0</td>\n",
       "      <td>26.6</td>\n",
       "      <td>0.351</td>\n",
       "      <td>31</td>\n",
       "      <td>0</td>\n",
       "    </tr>\n",
       "    <tr>\n",
       "      <th>2</th>\n",
       "      <td>8</td>\n",
       "      <td>183</td>\n",
       "      <td>64</td>\n",
       "      <td>0</td>\n",
       "      <td>0</td>\n",
       "      <td>23.3</td>\n",
       "      <td>0.672</td>\n",
       "      <td>32</td>\n",
       "      <td>1</td>\n",
       "    </tr>\n",
       "    <tr>\n",
       "      <th>3</th>\n",
       "      <td>1</td>\n",
       "      <td>89</td>\n",
       "      <td>66</td>\n",
       "      <td>23</td>\n",
       "      <td>94</td>\n",
       "      <td>28.1</td>\n",
       "      <td>0.167</td>\n",
       "      <td>21</td>\n",
       "      <td>0</td>\n",
       "    </tr>\n",
       "    <tr>\n",
       "      <th>4</th>\n",
       "      <td>0</td>\n",
       "      <td>137</td>\n",
       "      <td>40</td>\n",
       "      <td>35</td>\n",
       "      <td>168</td>\n",
       "      <td>43.1</td>\n",
       "      <td>2.288</td>\n",
       "      <td>33</td>\n",
       "      <td>1</td>\n",
       "    </tr>\n",
       "  </tbody>\n",
       "</table>\n",
       "</div>"
      ],
      "text/plain": [
       "   Pregnancies  Glucose  BloodPressure  SkinThickness  Insulin   BMI  \\\n",
       "0            6      148             72             35        0  33.6   \n",
       "1            1       85             66             29        0  26.6   \n",
       "2            8      183             64              0        0  23.3   \n",
       "3            1       89             66             23       94  28.1   \n",
       "4            0      137             40             35      168  43.1   \n",
       "\n",
       "   DiabetesPedigreeFunction  Age  Outcome  \n",
       "0                     0.627   50        1  \n",
       "1                     0.351   31        0  \n",
       "2                     0.672   32        1  \n",
       "3                     0.167   21        0  \n",
       "4                     2.288   33        1  "
      ]
     },
     "execution_count": 3,
     "metadata": {},
     "output_type": "execute_result"
    }
   ],
   "source": [
    "# Read database from .csv\n",
    "df = pd.read_csv('../../databases/diabetes.csv', delimiter=',')\n",
    "\n",
    "# Show first rows of data\n",
    "df.head()"
   ]
  },
  {
   "cell_type": "code",
   "execution_count": 4,
   "id": "offshore-lawrence",
   "metadata": {},
   "outputs": [
    {
     "name": "stdout",
     "output_type": "stream",
     "text": [
      "INFO:tensorflow:Enabling eager execution\n",
      "INFO:tensorflow:Enabling v2 tensorshape\n",
      "INFO:tensorflow:Enabling resource variables\n",
      "INFO:tensorflow:Enabling tensor equality\n",
      "INFO:tensorflow:Enabling control flow v2\n"
     ]
    }
   ],
   "source": [
    "from src.mlp_helper import run_model_with_kfold"
   ]
  },
  {
   "cell_type": "code",
   "execution_count": 5,
   "id": "human-receptor",
   "metadata": {},
   "outputs": [],
   "source": [
    "train_dict, valid_dict, test_dict = run_model_with_kfold(df=df, test_size=0.2, folds=5, random_state=15,\n",
    "                                            optimizer='adam',\n",
    "                                            loss='binary_crossentropy',\n",
    "                                            momentum=0,\n",
    "                                            rho=0,\n",
    "                                            beta_1=0,\n",
    "                                            beta_2=0,\n",
    "                                            learning_rate=0.1,\n",
    "                                            decay_rate=0.5,\n",
    "                                            batch_size=64,\n",
    "                                            epochs=200,\n",
    "                                            patience=20,\n",
    "                                            min_delta=0.001,\n",
    "                                            tensorboard_on=False,\n",
    "                                            summary_on=False,\n",
    "                                            tag='EX1',\n",
    "                                            hidden_layers=1,\n",
    "                                            units_per_layer=2,\n",
    "                                            hidden_layer_activation='sigmoid',\n",
    "                                            regularizer='l2',\n",
    "                                            regularizer_lambda=1e-4,\n",
    "                                            dropout_rate=0.0,\n",
    "                                            use_batch_normalization=False)"
   ]
  },
  {
   "cell_type": "code",
   "execution_count": 6,
   "id": "opposite-anxiety",
   "metadata": {},
   "outputs": [
    {
     "name": "stdout",
     "output_type": "stream",
     "text": [
      "[AUC] Train: 0.8421 - Valid: 0.8326 - Test: 0.8052\n"
     ]
    }
   ],
   "source": [
    "auc_train = train_dict['auc']\n",
    "auc_valid = valid_dict['auc']\n",
    "auc_test = test_dict['auc']\n",
    "print(f'[AUC] Train: {auc_train:.4f} - Valid: {auc_valid:.4f} - Test: {auc_test:.4f}')"
   ]
  },
  {
   "cell_type": "markdown",
   "id": "korean-questionnaire",
   "metadata": {},
   "source": [
    "# Using HyperOpt"
   ]
  },
  {
   "cell_type": "code",
   "execution_count": 7,
   "id": "formal-blood",
   "metadata": {},
   "outputs": [],
   "source": [
    "import hyperopt"
   ]
  },
  {
   "cell_type": "code",
   "execution_count": 8,
   "id": "computational-kinase",
   "metadata": {},
   "outputs": [],
   "source": [
    "from hyperopt.pyll import scope"
   ]
  },
  {
   "cell_type": "code",
   "execution_count": 9,
   "id": "reflected-house",
   "metadata": {},
   "outputs": [],
   "source": [
    "from src import mlp_helper\n",
    "from src.helper import print_metrics"
   ]
  },
  {
   "cell_type": "code",
   "execution_count": null,
   "id": "returning-moral",
   "metadata": {},
   "outputs": [],
   "source": [
    "def objective(kwargs):\n",
    "    \"\"\" Objective function for the hyperopt algorithm. \"\"\"\n",
    "    \n",
    "    # Setting some fixed values\n",
    "    kwargs['tensorboard_on'] = False\n",
    "    kwargs['summary_on'] = False\n",
    "    kwargs['epochs'] = 500\n",
    "    kwargs['batch_size'] = 64\n",
    "    kwargs['optimizer'] = 'adam'\n",
    "    kwargs['beta_1'] = 0.9\n",
    "    kwargs['beta_2'] = 0.9\n",
    "    kwargs['dropout_rate'] = 0\n",
    "    \n",
    "    # Running the model with the given hyperparameters and retrieving the test set performance\n",
    "    # WARNING! We're using the same valid set for both valid and test, but can be ignored, it does not affect\n",
    "    # because it was something we had to do to reuse the function...\n",
    "    _, eval_valid, _ = mlp_helper.run_model_with_kfold(df=df, folds=5, test_size=0.2, random_state=15, **kwargs)\n",
    "    auc_valid = eval_valid['auc']\n",
    "    return (-1*auc_valid)"
   ]
  },
  {
   "cell_type": "code",
   "execution_count": 45,
   "id": "recovered-windsor",
   "metadata": {},
   "outputs": [],
   "source": [
    "space = {\n",
    "    'use_batch_normalization': hyperopt.hp.choice('use_batch_normalization', [False, True]),\n",
    "    'learning_rate': hyperopt.hp.choice('learning_rate', [1.0, 0.5, 0.1, 0.01]),\n",
    "    'hidden_layers': scope.int(hyperopt.hp.quniform('hidden_layers', 1, 10, 1)),\n",
    "    'units_per_layer': scope.int(hyperopt.hp.quniform('units_per_layer', 2, 100, 8)),\n",
    "    'hidden_layer_activation': hyperopt.hp.choice('hidden_layer_activation', ['relu', 'tanh','sigmoid']),\n",
    "    'regularizer': hyperopt.hp.choice('regularizer', ['l1', 'l2']),\n",
    "    'regularizer_lambda': hyperopt.hp.choice('regularizer_lambda', [1, 1e-2, 1e-3, 1e-5, 1e-7])\n",
    "}"
   ]
  },
  {
   "cell_type": "code",
   "execution_count": 46,
   "id": "discrete-detroit",
   "metadata": {},
   "outputs": [],
   "source": [
    "algorithm = hyperopt.tpe.suggest"
   ]
  },
  {
   "cell_type": "code",
   "execution_count": 47,
   "id": "private-scanner",
   "metadata": {},
   "outputs": [
    {
     "name": "stdout",
     "output_type": "stream",
     "text": [
      "  0%|▏                                              | 1/200 [00:13<45:42, 13.78s/trial, best loss: -0.8339706355993766]"
     ]
    },
    {
     "name": "stderr",
     "output_type": "stream",
     "text": [
      "C:\\Users\\Joaco\\Desktop\\TP2 Redes Neuronales\\nn-tp2\\notebooks\\ej1\\src\\mlp_helper.py:158: RuntimeWarning: Mean of empty slice\n",
      "  train_dict['ppv'] = np.nanmean(train_dict['ppv'])\n",
      "\n",
      "C:\\Users\\Joaco\\Desktop\\TP2 Redes Neuronales\\nn-tp2\\notebooks\\ej1\\src\\mlp_helper.py:164: RuntimeWarning: Mean of empty slice\n",
      "  valid_dict['ppv'] = np.nanmean(valid_dict['ppv'])\n",
      "\n",
      "C:\\Users\\Joaco\\Desktop\\TP2 Redes Neuronales\\nn-tp2\\notebooks\\ej1\\src\\mlp_helper.py:170: RuntimeWarning: Mean of empty slice\n",
      "  test_dict['ppv'] = np.nanmean(test_dict['ppv'])\n",
      "\n"
     ]
    },
    {
     "name": "stdout",
     "output_type": "stream",
     "text": [
      "  2%|▋                                            | 3/200 [01:13<1:25:33, 26.06s/trial, best loss: -0.8339706355993766]"
     ]
    },
    {
     "name": "stderr",
     "output_type": "stream",
     "text": [
      "C:\\Users\\Joaco\\Desktop\\TP2 Redes Neuronales\\nn-tp2\\notebooks\\ej1\\src\\mlp_helper.py:158: RuntimeWarning: Mean of empty slice\n",
      "  train_dict['ppv'] = np.nanmean(train_dict['ppv'])\n",
      "\n",
      "C:\\Users\\Joaco\\Desktop\\TP2 Redes Neuronales\\nn-tp2\\notebooks\\ej1\\src\\mlp_helper.py:164: RuntimeWarning: Mean of empty slice\n",
      "  valid_dict['ppv'] = np.nanmean(valid_dict['ppv'])\n",
      "\n",
      "C:\\Users\\Joaco\\Desktop\\TP2 Redes Neuronales\\nn-tp2\\notebooks\\ej1\\src\\mlp_helper.py:170: RuntimeWarning: Mean of empty slice\n",
      "  test_dict['ppv'] = np.nanmean(test_dict['ppv'])\n",
      "\n"
     ]
    },
    {
     "name": "stdout",
     "output_type": "stream",
     "text": [
      "  5%|██▏                                         | 10/200 [04:17<1:30:55, 28.71s/trial, best loss: -0.8339706355993766]"
     ]
    },
    {
     "name": "stderr",
     "output_type": "stream",
     "text": [
      "C:\\Users\\Joaco\\Desktop\\TP2 Redes Neuronales\\nn-tp2\\notebooks\\ej1\\src\\mlp_helper.py:158: RuntimeWarning: Mean of empty slice\n",
      "  train_dict['ppv'] = np.nanmean(train_dict['ppv'])\n",
      "\n",
      "C:\\Users\\Joaco\\Desktop\\TP2 Redes Neuronales\\nn-tp2\\notebooks\\ej1\\src\\mlp_helper.py:164: RuntimeWarning: Mean of empty slice\n",
      "  valid_dict['ppv'] = np.nanmean(valid_dict['ppv'])\n",
      "\n",
      "C:\\Users\\Joaco\\Desktop\\TP2 Redes Neuronales\\nn-tp2\\notebooks\\ej1\\src\\mlp_helper.py:170: RuntimeWarning: Mean of empty slice\n",
      "  test_dict['ppv'] = np.nanmean(test_dict['ppv'])\n",
      "\n"
     ]
    },
    {
     "name": "stdout",
     "output_type": "stream",
     "text": [
      "  6%|██▋                                          | 12/200 [05:01<1:17:00, 24.58s/trial, best loss: -0.846386518858208]"
     ]
    },
    {
     "name": "stderr",
     "output_type": "stream",
     "text": [
      "C:\\Users\\Joaco\\Desktop\\TP2 Redes Neuronales\\nn-tp2\\notebooks\\ej1\\src\\mlp_helper.py:158: RuntimeWarning: Mean of empty slice\n",
      "  train_dict['ppv'] = np.nanmean(train_dict['ppv'])\n",
      "\n",
      "C:\\Users\\Joaco\\Desktop\\TP2 Redes Neuronales\\nn-tp2\\notebooks\\ej1\\src\\mlp_helper.py:164: RuntimeWarning: Mean of empty slice\n",
      "  valid_dict['ppv'] = np.nanmean(valid_dict['ppv'])\n",
      "\n",
      "C:\\Users\\Joaco\\Desktop\\TP2 Redes Neuronales\\nn-tp2\\notebooks\\ej1\\src\\mlp_helper.py:170: RuntimeWarning: Mean of empty slice\n",
      "  test_dict['ppv'] = np.nanmean(test_dict['ppv'])\n",
      "\n"
     ]
    },
    {
     "name": "stdout",
     "output_type": "stream",
     "text": [
      "  8%|███▍                                          | 15/200 [05:45<56:44, 18.40s/trial, best loss: -0.8591401303710526]"
     ]
    },
    {
     "name": "stderr",
     "output_type": "stream",
     "text": [
      "C:\\Users\\Joaco\\Desktop\\TP2 Redes Neuronales\\nn-tp2\\notebooks\\ej1\\src\\mlp_helper.py:158: RuntimeWarning: Mean of empty slice\n",
      "  train_dict['ppv'] = np.nanmean(train_dict['ppv'])\n",
      "\n",
      "C:\\Users\\Joaco\\Desktop\\TP2 Redes Neuronales\\nn-tp2\\notebooks\\ej1\\src\\mlp_helper.py:164: RuntimeWarning: Mean of empty slice\n",
      "  valid_dict['ppv'] = np.nanmean(valid_dict['ppv'])\n",
      "\n",
      "C:\\Users\\Joaco\\Desktop\\TP2 Redes Neuronales\\nn-tp2\\notebooks\\ej1\\src\\mlp_helper.py:170: RuntimeWarning: Mean of empty slice\n",
      "  test_dict['ppv'] = np.nanmean(test_dict['ppv'])\n",
      "\n"
     ]
    },
    {
     "name": "stdout",
     "output_type": "stream",
     "text": [
      "  8%|███▌                                        | 16/200 [06:18<1:09:21, 22.62s/trial, best loss: -0.8591401303710526]"
     ]
    },
    {
     "name": "stderr",
     "output_type": "stream",
     "text": [
      "C:\\Users\\Joaco\\Desktop\\TP2 Redes Neuronales\\nn-tp2\\notebooks\\ej1\\src\\mlp_helper.py:158: RuntimeWarning: Mean of empty slice\n",
      "  train_dict['ppv'] = np.nanmean(train_dict['ppv'])\n",
      "\n",
      "C:\\Users\\Joaco\\Desktop\\TP2 Redes Neuronales\\nn-tp2\\notebooks\\ej1\\src\\mlp_helper.py:164: RuntimeWarning: Mean of empty slice\n",
      "  valid_dict['ppv'] = np.nanmean(valid_dict['ppv'])\n",
      "\n",
      "C:\\Users\\Joaco\\Desktop\\TP2 Redes Neuronales\\nn-tp2\\notebooks\\ej1\\src\\mlp_helper.py:170: RuntimeWarning: Mean of empty slice\n",
      "  test_dict['ppv'] = np.nanmean(test_dict['ppv'])\n",
      "\n"
     ]
    },
    {
     "name": "stdout",
     "output_type": "stream",
     "text": [
      " 10%|████▍                                       | 20/200 [07:58<1:09:04, 23.03s/trial, best loss: -0.8591401303710526]"
     ]
    },
    {
     "name": "stderr",
     "output_type": "stream",
     "text": [
      "C:\\Users\\Joaco\\Desktop\\TP2 Redes Neuronales\\nn-tp2\\notebooks\\ej1\\src\\mlp_helper.py:158: RuntimeWarning: Mean of empty slice\n",
      "  train_dict['ppv'] = np.nanmean(train_dict['ppv'])\n",
      "\n",
      "C:\\Users\\Joaco\\Desktop\\TP2 Redes Neuronales\\nn-tp2\\notebooks\\ej1\\src\\mlp_helper.py:164: RuntimeWarning: Mean of empty slice\n",
      "  valid_dict['ppv'] = np.nanmean(valid_dict['ppv'])\n",
      "\n",
      "C:\\Users\\Joaco\\Desktop\\TP2 Redes Neuronales\\nn-tp2\\notebooks\\ej1\\src\\mlp_helper.py:170: RuntimeWarning: Mean of empty slice\n",
      "  test_dict['ppv'] = np.nanmean(test_dict['ppv'])\n",
      "\n"
     ]
    },
    {
     "name": "stdout",
     "output_type": "stream",
     "text": [
      " 15%|██████▉                                       | 30/200 [10:29<45:09, 15.94s/trial, best loss: -0.8591401303710526]"
     ]
    },
    {
     "name": "stderr",
     "output_type": "stream",
     "text": [
      "C:\\Users\\Joaco\\Desktop\\TP2 Redes Neuronales\\nn-tp2\\notebooks\\ej1\\src\\mlp_helper.py:158: RuntimeWarning: Mean of empty slice\n",
      "  train_dict['ppv'] = np.nanmean(train_dict['ppv'])\n",
      "\n",
      "C:\\Users\\Joaco\\Desktop\\TP2 Redes Neuronales\\nn-tp2\\notebooks\\ej1\\src\\mlp_helper.py:164: RuntimeWarning: Mean of empty slice\n",
      "  valid_dict['ppv'] = np.nanmean(valid_dict['ppv'])\n",
      "\n",
      "C:\\Users\\Joaco\\Desktop\\TP2 Redes Neuronales\\nn-tp2\\notebooks\\ej1\\src\\mlp_helper.py:170: RuntimeWarning: Mean of empty slice\n",
      "  test_dict['ppv'] = np.nanmean(test_dict['ppv'])\n",
      "\n"
     ]
    },
    {
     "name": "stdout",
     "output_type": "stream",
     "text": [
      " 16%|███████▌                                      | 33/200 [11:28<53:05, 19.07s/trial, best loss: -0.8591401303710526]"
     ]
    },
    {
     "name": "stderr",
     "output_type": "stream",
     "text": [
      "C:\\Users\\Joaco\\Desktop\\TP2 Redes Neuronales\\nn-tp2\\notebooks\\ej1\\src\\mlp_helper.py:158: RuntimeWarning: Mean of empty slice\n",
      "  train_dict['ppv'] = np.nanmean(train_dict['ppv'])\n",
      "\n",
      "C:\\Users\\Joaco\\Desktop\\TP2 Redes Neuronales\\nn-tp2\\notebooks\\ej1\\src\\mlp_helper.py:164: RuntimeWarning: Mean of empty slice\n",
      "  valid_dict['ppv'] = np.nanmean(valid_dict['ppv'])\n",
      "\n",
      "C:\\Users\\Joaco\\Desktop\\TP2 Redes Neuronales\\nn-tp2\\notebooks\\ej1\\src\\mlp_helper.py:170: RuntimeWarning: Mean of empty slice\n",
      "  test_dict['ppv'] = np.nanmean(test_dict['ppv'])\n",
      "\n"
     ]
    },
    {
     "name": "stdout",
     "output_type": "stream",
     "text": [
      " 19%|████████▋                                     | 38/200 [13:06<57:19, 21.23s/trial, best loss: -0.8591401303710526]"
     ]
    },
    {
     "name": "stderr",
     "output_type": "stream",
     "text": [
      "C:\\Users\\Joaco\\Desktop\\TP2 Redes Neuronales\\nn-tp2\\notebooks\\ej1\\src\\mlp_helper.py:158: RuntimeWarning: Mean of empty slice\n",
      "  train_dict['ppv'] = np.nanmean(train_dict['ppv'])\n",
      "\n",
      "C:\\Users\\Joaco\\Desktop\\TP2 Redes Neuronales\\nn-tp2\\notebooks\\ej1\\src\\mlp_helper.py:164: RuntimeWarning: Mean of empty slice\n",
      "  valid_dict['ppv'] = np.nanmean(valid_dict['ppv'])\n",
      "\n",
      "C:\\Users\\Joaco\\Desktop\\TP2 Redes Neuronales\\nn-tp2\\notebooks\\ej1\\src\\mlp_helper.py:170: RuntimeWarning: Mean of empty slice\n",
      "  test_dict['ppv'] = np.nanmean(test_dict['ppv'])\n",
      "\n"
     ]
    },
    {
     "name": "stdout",
     "output_type": "stream",
     "text": [
      " 20%|█████████▏                                    | 40/200 [13:45<53:34, 20.09s/trial, best loss: -0.8591401303710526]"
     ]
    },
    {
     "name": "stderr",
     "output_type": "stream",
     "text": [
      "C:\\Users\\Joaco\\Desktop\\TP2 Redes Neuronales\\nn-tp2\\notebooks\\ej1\\src\\mlp_helper.py:158: RuntimeWarning: Mean of empty slice\n",
      "  train_dict['ppv'] = np.nanmean(train_dict['ppv'])\n",
      "\n",
      "C:\\Users\\Joaco\\Desktop\\TP2 Redes Neuronales\\nn-tp2\\notebooks\\ej1\\src\\mlp_helper.py:164: RuntimeWarning: Mean of empty slice\n",
      "  valid_dict['ppv'] = np.nanmean(valid_dict['ppv'])\n",
      "\n",
      "C:\\Users\\Joaco\\Desktop\\TP2 Redes Neuronales\\nn-tp2\\notebooks\\ej1\\src\\mlp_helper.py:170: RuntimeWarning: Mean of empty slice\n",
      "  test_dict['ppv'] = np.nanmean(test_dict['ppv'])\n",
      "\n"
     ]
    },
    {
     "name": "stdout",
     "output_type": "stream",
     "text": [
      " 24%|██████████▎                                 | 47/200 [16:45<1:09:10, 27.13s/trial, best loss: -0.8593267839908643]"
     ]
    },
    {
     "name": "stderr",
     "output_type": "stream",
     "text": [
      "C:\\Users\\Joaco\\Desktop\\TP2 Redes Neuronales\\nn-tp2\\notebooks\\ej1\\src\\mlp_helper.py:159: RuntimeWarning: Mean of empty slice\n",
      "  train_dict['npv'] = np.nanmean(train_dict['npv'])\n",
      "\n",
      "C:\\Users\\Joaco\\Desktop\\TP2 Redes Neuronales\\nn-tp2\\notebooks\\ej1\\src\\mlp_helper.py:165: RuntimeWarning: Mean of empty slice\n",
      "  valid_dict['npv'] = np.nanmean(valid_dict['npv'])\n",
      "\n",
      "C:\\Users\\Joaco\\Desktop\\TP2 Redes Neuronales\\nn-tp2\\notebooks\\ej1\\src\\mlp_helper.py:171: RuntimeWarning: Mean of empty slice\n",
      "  test_dict['npv'] = np.nanmean(test_dict['npv'])\n",
      "\n"
     ]
    },
    {
     "name": "stdout",
     "output_type": "stream",
     "text": [
      " 25%|███████████                                 | 50/200 [18:01<1:01:11, 24.47s/trial, best loss: -0.8638506903169096]"
     ]
    },
    {
     "name": "stderr",
     "output_type": "stream",
     "text": [
      "C:\\Users\\Joaco\\Desktop\\TP2 Redes Neuronales\\nn-tp2\\notebooks\\ej1\\src\\mlp_helper.py:159: RuntimeWarning: Mean of empty slice\n",
      "  train_dict['npv'] = np.nanmean(train_dict['npv'])\n",
      "\n",
      "C:\\Users\\Joaco\\Desktop\\TP2 Redes Neuronales\\nn-tp2\\notebooks\\ej1\\src\\mlp_helper.py:165: RuntimeWarning: Mean of empty slice\n",
      "  valid_dict['npv'] = np.nanmean(valid_dict['npv'])\n",
      "\n",
      "C:\\Users\\Joaco\\Desktop\\TP2 Redes Neuronales\\nn-tp2\\notebooks\\ej1\\src\\mlp_helper.py:171: RuntimeWarning: Mean of empty slice\n",
      "  test_dict['npv'] = np.nanmean(test_dict['npv'])\n",
      "\n"
     ]
    },
    {
     "name": "stdout",
     "output_type": "stream",
     "text": [
      " 28%|████████████▋                                 | 55/200 [20:02<57:53, 23.96s/trial, best loss: -0.8638506903169096]"
     ]
    },
    {
     "name": "stderr",
     "output_type": "stream",
     "text": [
      "C:\\Users\\Joaco\\Desktop\\TP2 Redes Neuronales\\nn-tp2\\notebooks\\ej1\\src\\mlp_helper.py:159: RuntimeWarning: Mean of empty slice\n",
      "  train_dict['npv'] = np.nanmean(train_dict['npv'])\n",
      "\n",
      "C:\\Users\\Joaco\\Desktop\\TP2 Redes Neuronales\\nn-tp2\\notebooks\\ej1\\src\\mlp_helper.py:165: RuntimeWarning: Mean of empty slice\n",
      "  valid_dict['npv'] = np.nanmean(valid_dict['npv'])\n",
      "\n",
      "C:\\Users\\Joaco\\Desktop\\TP2 Redes Neuronales\\nn-tp2\\notebooks\\ej1\\src\\mlp_helper.py:171: RuntimeWarning: Mean of empty slice\n",
      "  test_dict['npv'] = np.nanmean(test_dict['npv'])\n",
      "\n"
     ]
    },
    {
     "name": "stdout",
     "output_type": "stream",
     "text": [
      " 28%|█████████████                                 | 57/200 [20:38<50:02, 21.00s/trial, best loss: -0.8638506903169096]"
     ]
    },
    {
     "name": "stderr",
     "output_type": "stream",
     "text": [
      "C:\\Users\\Joaco\\Desktop\\TP2 Redes Neuronales\\nn-tp2\\notebooks\\ej1\\src\\mlp_helper.py:159: RuntimeWarning: Mean of empty slice\n",
      "  train_dict['npv'] = np.nanmean(train_dict['npv'])\n",
      "\n",
      "C:\\Users\\Joaco\\Desktop\\TP2 Redes Neuronales\\nn-tp2\\notebooks\\ej1\\src\\mlp_helper.py:165: RuntimeWarning: Mean of empty slice\n",
      "  valid_dict['npv'] = np.nanmean(valid_dict['npv'])\n",
      "\n",
      "C:\\Users\\Joaco\\Desktop\\TP2 Redes Neuronales\\nn-tp2\\notebooks\\ej1\\src\\mlp_helper.py:171: RuntimeWarning: Mean of empty slice\n",
      "  test_dict['npv'] = np.nanmean(test_dict['npv'])\n",
      "\n"
     ]
    },
    {
     "name": "stdout",
     "output_type": "stream",
     "text": [
      " 30%|█████████████▌                                | 59/200 [21:13<45:00, 19.15s/trial, best loss: -0.8638506903169096]"
     ]
    },
    {
     "name": "stderr",
     "output_type": "stream",
     "text": [
      "C:\\Users\\Joaco\\Desktop\\TP2 Redes Neuronales\\nn-tp2\\notebooks\\ej1\\src\\mlp_helper.py:158: RuntimeWarning: Mean of empty slice\n",
      "  train_dict['ppv'] = np.nanmean(train_dict['ppv'])\n",
      "\n",
      "C:\\Users\\Joaco\\Desktop\\TP2 Redes Neuronales\\nn-tp2\\notebooks\\ej1\\src\\mlp_helper.py:164: RuntimeWarning: Mean of empty slice\n",
      "  valid_dict['ppv'] = np.nanmean(valid_dict['ppv'])\n",
      "\n",
      "C:\\Users\\Joaco\\Desktop\\TP2 Redes Neuronales\\nn-tp2\\notebooks\\ej1\\src\\mlp_helper.py:170: RuntimeWarning: Mean of empty slice\n",
      "  test_dict['ppv'] = np.nanmean(test_dict['ppv'])\n",
      "\n"
     ]
    },
    {
     "name": "stdout",
     "output_type": "stream",
     "text": [
      " 30%|█████████████▊                                | 60/200 [21:33<45:53, 19.67s/trial, best loss: -0.8638506903169096]"
     ]
    },
    {
     "name": "stderr",
     "output_type": "stream",
     "text": [
      "C:\\Users\\Joaco\\Desktop\\TP2 Redes Neuronales\\nn-tp2\\notebooks\\ej1\\src\\mlp_helper.py:159: RuntimeWarning: Mean of empty slice\n",
      "  train_dict['npv'] = np.nanmean(train_dict['npv'])\n",
      "\n",
      "C:\\Users\\Joaco\\Desktop\\TP2 Redes Neuronales\\nn-tp2\\notebooks\\ej1\\src\\mlp_helper.py:165: RuntimeWarning: Mean of empty slice\n",
      "  valid_dict['npv'] = np.nanmean(valid_dict['npv'])\n",
      "\n",
      "C:\\Users\\Joaco\\Desktop\\TP2 Redes Neuronales\\nn-tp2\\notebooks\\ej1\\src\\mlp_helper.py:171: RuntimeWarning: Mean of empty slice\n",
      "  test_dict['npv'] = np.nanmean(test_dict['npv'])\n",
      "\n"
     ]
    },
    {
     "name": "stdout",
     "output_type": "stream",
     "text": [
      " 32%|██████████████▍                               | 63/200 [22:27<41:28, 18.16s/trial, best loss: -0.8638506903169096]"
     ]
    },
    {
     "name": "stderr",
     "output_type": "stream",
     "text": [
      "C:\\Users\\Joaco\\Desktop\\TP2 Redes Neuronales\\nn-tp2\\notebooks\\ej1\\src\\mlp_helper.py:158: RuntimeWarning: Mean of empty slice\n",
      "  train_dict['ppv'] = np.nanmean(train_dict['ppv'])\n",
      "\n",
      "C:\\Users\\Joaco\\Desktop\\TP2 Redes Neuronales\\nn-tp2\\notebooks\\ej1\\src\\mlp_helper.py:164: RuntimeWarning: Mean of empty slice\n",
      "  valid_dict['ppv'] = np.nanmean(valid_dict['ppv'])\n",
      "\n",
      "C:\\Users\\Joaco\\Desktop\\TP2 Redes Neuronales\\nn-tp2\\notebooks\\ej1\\src\\mlp_helper.py:170: RuntimeWarning: Mean of empty slice\n",
      "  test_dict['ppv'] = np.nanmean(test_dict['ppv'])\n",
      "\n"
     ]
    },
    {
     "name": "stdout",
     "output_type": "stream",
     "text": [
      " 32%|██████████████▉                               | 65/200 [23:10<43:25, 19.30s/trial, best loss: -0.8638506903169096]"
     ]
    },
    {
     "name": "stderr",
     "output_type": "stream",
     "text": [
      "C:\\Users\\Joaco\\Desktop\\TP2 Redes Neuronales\\nn-tp2\\notebooks\\ej1\\src\\mlp_helper.py:159: RuntimeWarning: Mean of empty slice\n",
      "  train_dict['npv'] = np.nanmean(train_dict['npv'])\n",
      "\n",
      "C:\\Users\\Joaco\\Desktop\\TP2 Redes Neuronales\\nn-tp2\\notebooks\\ej1\\src\\mlp_helper.py:165: RuntimeWarning: Mean of empty slice\n",
      "  valid_dict['npv'] = np.nanmean(valid_dict['npv'])\n",
      "\n",
      "C:\\Users\\Joaco\\Desktop\\TP2 Redes Neuronales\\nn-tp2\\notebooks\\ej1\\src\\mlp_helper.py:171: RuntimeWarning: Mean of empty slice\n",
      "  test_dict['npv'] = np.nanmean(test_dict['npv'])\n",
      "\n"
     ]
    },
    {
     "name": "stdout",
     "output_type": "stream",
     "text": [
      " 42%|███████████████████                           | 83/200 [29:43<43:20, 22.22s/trial, best loss: -0.8651503242130782]"
     ]
    },
    {
     "name": "stderr",
     "output_type": "stream",
     "text": [
      "C:\\Users\\Joaco\\Desktop\\TP2 Redes Neuronales\\nn-tp2\\notebooks\\ej1\\src\\mlp_helper.py:158: RuntimeWarning: Mean of empty slice\n",
      "  train_dict['ppv'] = np.nanmean(train_dict['ppv'])\n",
      "\n",
      "C:\\Users\\Joaco\\Desktop\\TP2 Redes Neuronales\\nn-tp2\\notebooks\\ej1\\src\\mlp_helper.py:164: RuntimeWarning: Mean of empty slice\n",
      "  valid_dict['ppv'] = np.nanmean(valid_dict['ppv'])\n",
      "\n",
      "C:\\Users\\Joaco\\Desktop\\TP2 Redes Neuronales\\nn-tp2\\notebooks\\ej1\\src\\mlp_helper.py:170: RuntimeWarning: Mean of empty slice\n",
      "  test_dict['ppv'] = np.nanmean(test_dict['ppv'])\n",
      "\n"
     ]
    },
    {
     "name": "stdout",
     "output_type": "stream",
     "text": [
      " 42%|███████████████████▎                          | 84/200 [30:11<46:19, 23.96s/trial, best loss: -0.8651503242130782]"
     ]
    },
    {
     "name": "stderr",
     "output_type": "stream",
     "text": [
      "C:\\Users\\Joaco\\Desktop\\TP2 Redes Neuronales\\nn-tp2\\notebooks\\ej1\\src\\mlp_helper.py:159: RuntimeWarning: Mean of empty slice\n",
      "  train_dict['npv'] = np.nanmean(train_dict['npv'])\n",
      "\n",
      "C:\\Users\\Joaco\\Desktop\\TP2 Redes Neuronales\\nn-tp2\\notebooks\\ej1\\src\\mlp_helper.py:165: RuntimeWarning: Mean of empty slice\n",
      "  valid_dict['npv'] = np.nanmean(valid_dict['npv'])\n",
      "\n",
      "C:\\Users\\Joaco\\Desktop\\TP2 Redes Neuronales\\nn-tp2\\notebooks\\ej1\\src\\mlp_helper.py:171: RuntimeWarning: Mean of empty slice\n",
      "  test_dict['npv'] = np.nanmean(test_dict['npv'])\n",
      "\n"
     ]
    },
    {
     "name": "stdout",
     "output_type": "stream",
     "text": [
      " 44%|████████████████████                          | 87/200 [31:11<40:56, 21.74s/trial, best loss: -0.8651503242130782]"
     ]
    },
    {
     "name": "stderr",
     "output_type": "stream",
     "text": [
      "C:\\Users\\Joaco\\Desktop\\TP2 Redes Neuronales\\nn-tp2\\notebooks\\ej1\\src\\mlp_helper.py:158: RuntimeWarning: Mean of empty slice\n",
      "  train_dict['ppv'] = np.nanmean(train_dict['ppv'])\n",
      "\n",
      "C:\\Users\\Joaco\\Desktop\\TP2 Redes Neuronales\\nn-tp2\\notebooks\\ej1\\src\\mlp_helper.py:164: RuntimeWarning: Mean of empty slice\n",
      "  valid_dict['ppv'] = np.nanmean(valid_dict['ppv'])\n",
      "\n",
      "C:\\Users\\Joaco\\Desktop\\TP2 Redes Neuronales\\nn-tp2\\notebooks\\ej1\\src\\mlp_helper.py:170: RuntimeWarning: Mean of empty slice\n",
      "  test_dict['ppv'] = np.nanmean(test_dict['ppv'])\n",
      "\n"
     ]
    },
    {
     "name": "stdout",
     "output_type": "stream",
     "text": [
      " 45%|████████████████████▋                         | 90/200 [32:22<43:31, 23.74s/trial, best loss: -0.8651503242130782]"
     ]
    },
    {
     "name": "stderr",
     "output_type": "stream",
     "text": [
      "C:\\Users\\Joaco\\Desktop\\TP2 Redes Neuronales\\nn-tp2\\notebooks\\ej1\\src\\mlp_helper.py:158: RuntimeWarning: Mean of empty slice\n",
      "  train_dict['ppv'] = np.nanmean(train_dict['ppv'])\n",
      "\n",
      "C:\\Users\\Joaco\\Desktop\\TP2 Redes Neuronales\\nn-tp2\\notebooks\\ej1\\src\\mlp_helper.py:164: RuntimeWarning: Mean of empty slice\n",
      "  valid_dict['ppv'] = np.nanmean(valid_dict['ppv'])\n",
      "\n",
      "C:\\Users\\Joaco\\Desktop\\TP2 Redes Neuronales\\nn-tp2\\notebooks\\ej1\\src\\mlp_helper.py:170: RuntimeWarning: Mean of empty slice\n",
      "  test_dict['ppv'] = np.nanmean(test_dict['ppv'])\n",
      "\n"
     ]
    },
    {
     "name": "stdout",
     "output_type": "stream",
     "text": [
      " 46%|████████████████████▉                         | 91/200 [32:52<46:26, 25.57s/trial, best loss: -0.8651503242130782]"
     ]
    },
    {
     "name": "stderr",
     "output_type": "stream",
     "text": [
      "C:\\Users\\Joaco\\Desktop\\TP2 Redes Neuronales\\nn-tp2\\notebooks\\ej1\\src\\mlp_helper.py:159: RuntimeWarning: Mean of empty slice\n",
      "  train_dict['npv'] = np.nanmean(train_dict['npv'])\n",
      "\n",
      "C:\\Users\\Joaco\\Desktop\\TP2 Redes Neuronales\\nn-tp2\\notebooks\\ej1\\src\\mlp_helper.py:165: RuntimeWarning: Mean of empty slice\n",
      "  valid_dict['npv'] = np.nanmean(valid_dict['npv'])\n",
      "\n",
      "C:\\Users\\Joaco\\Desktop\\TP2 Redes Neuronales\\nn-tp2\\notebooks\\ej1\\src\\mlp_helper.py:171: RuntimeWarning: Mean of empty slice\n",
      "  test_dict['npv'] = np.nanmean(test_dict['npv'])\n",
      "\n"
     ]
    },
    {
     "name": "stdout",
     "output_type": "stream",
     "text": [
      " 46%|█████████████████████▏                        | 92/200 [33:10<42:00, 23.34s/trial, best loss: -0.8651503242130782]"
     ]
    },
    {
     "name": "stderr",
     "output_type": "stream",
     "text": [
      "C:\\Users\\Joaco\\Desktop\\TP2 Redes Neuronales\\nn-tp2\\notebooks\\ej1\\src\\mlp_helper.py:159: RuntimeWarning: Mean of empty slice\n",
      "  train_dict['npv'] = np.nanmean(train_dict['npv'])\n",
      "\n",
      "C:\\Users\\Joaco\\Desktop\\TP2 Redes Neuronales\\nn-tp2\\notebooks\\ej1\\src\\mlp_helper.py:165: RuntimeWarning: Mean of empty slice\n",
      "  valid_dict['npv'] = np.nanmean(valid_dict['npv'])\n",
      "\n",
      "C:\\Users\\Joaco\\Desktop\\TP2 Redes Neuronales\\nn-tp2\\notebooks\\ej1\\src\\mlp_helper.py:171: RuntimeWarning: Mean of empty slice\n",
      "  test_dict['npv'] = np.nanmean(test_dict['npv'])\n",
      "\n"
     ]
    },
    {
     "name": "stdout",
     "output_type": "stream",
     "text": [
      " 47%|█████████████████████▌                        | 94/200 [33:55<40:29, 22.92s/trial, best loss: -0.8651503242130782]"
     ]
    },
    {
     "name": "stderr",
     "output_type": "stream",
     "text": [
      "C:\\Users\\Joaco\\Desktop\\TP2 Redes Neuronales\\nn-tp2\\notebooks\\ej1\\src\\mlp_helper.py:159: RuntimeWarning: Mean of empty slice\n",
      "  train_dict['npv'] = np.nanmean(train_dict['npv'])\n",
      "\n",
      "C:\\Users\\Joaco\\Desktop\\TP2 Redes Neuronales\\nn-tp2\\notebooks\\ej1\\src\\mlp_helper.py:165: RuntimeWarning: Mean of empty slice\n",
      "  valid_dict['npv'] = np.nanmean(valid_dict['npv'])\n",
      "\n",
      "C:\\Users\\Joaco\\Desktop\\TP2 Redes Neuronales\\nn-tp2\\notebooks\\ej1\\src\\mlp_helper.py:171: RuntimeWarning: Mean of empty slice\n",
      "  test_dict['npv'] = np.nanmean(test_dict['npv'])\n",
      "\n"
     ]
    },
    {
     "name": "stdout",
     "output_type": "stream",
     "text": [
      " 48%|█████████████████████▊                        | 95/200 [34:09<35:19, 20.19s/trial, best loss: -0.8651503242130782]"
     ]
    },
    {
     "name": "stderr",
     "output_type": "stream",
     "text": [
      "C:\\Users\\Joaco\\Desktop\\TP2 Redes Neuronales\\nn-tp2\\notebooks\\ej1\\src\\mlp_helper.py:159: RuntimeWarning: Mean of empty slice\n",
      "  train_dict['npv'] = np.nanmean(train_dict['npv'])\n",
      "\n",
      "C:\\Users\\Joaco\\Desktop\\TP2 Redes Neuronales\\nn-tp2\\notebooks\\ej1\\src\\mlp_helper.py:165: RuntimeWarning: Mean of empty slice\n",
      "  valid_dict['npv'] = np.nanmean(valid_dict['npv'])\n",
      "\n",
      "C:\\Users\\Joaco\\Desktop\\TP2 Redes Neuronales\\nn-tp2\\notebooks\\ej1\\src\\mlp_helper.py:171: RuntimeWarning: Mean of empty slice\n",
      "  test_dict['npv'] = np.nanmean(test_dict['npv'])\n",
      "\n"
     ]
    },
    {
     "name": "stdout",
     "output_type": "stream",
     "text": [
      " 48%|██████████████████████                        | 96/200 [34:48<44:59, 25.95s/trial, best loss: -0.8651503242130782]"
     ]
    },
    {
     "name": "stderr",
     "output_type": "stream",
     "text": [
      "C:\\Users\\Joaco\\Desktop\\TP2 Redes Neuronales\\nn-tp2\\notebooks\\ej1\\src\\mlp_helper.py:158: RuntimeWarning: Mean of empty slice\n",
      "  train_dict['ppv'] = np.nanmean(train_dict['ppv'])\n",
      "\n",
      "C:\\Users\\Joaco\\Desktop\\TP2 Redes Neuronales\\nn-tp2\\notebooks\\ej1\\src\\mlp_helper.py:164: RuntimeWarning: Mean of empty slice\n",
      "  valid_dict['ppv'] = np.nanmean(valid_dict['ppv'])\n",
      "\n",
      "C:\\Users\\Joaco\\Desktop\\TP2 Redes Neuronales\\nn-tp2\\notebooks\\ej1\\src\\mlp_helper.py:170: RuntimeWarning: Mean of empty slice\n",
      "  test_dict['ppv'] = np.nanmean(test_dict['ppv'])\n",
      "\n"
     ]
    },
    {
     "name": "stdout",
     "output_type": "stream",
     "text": [
      " 48%|██████████████████████▎                       | 97/200 [35:25<50:22, 29.34s/trial, best loss: -0.8651503242130782]"
     ]
    },
    {
     "name": "stderr",
     "output_type": "stream",
     "text": [
      "C:\\Users\\Joaco\\Desktop\\TP2 Redes Neuronales\\nn-tp2\\notebooks\\ej1\\src\\mlp_helper.py:158: RuntimeWarning: Mean of empty slice\n",
      "  train_dict['ppv'] = np.nanmean(train_dict['ppv'])\n",
      "\n",
      "C:\\Users\\Joaco\\Desktop\\TP2 Redes Neuronales\\nn-tp2\\notebooks\\ej1\\src\\mlp_helper.py:164: RuntimeWarning: Mean of empty slice\n",
      "  valid_dict['ppv'] = np.nanmean(valid_dict['ppv'])\n",
      "\n",
      "C:\\Users\\Joaco\\Desktop\\TP2 Redes Neuronales\\nn-tp2\\notebooks\\ej1\\src\\mlp_helper.py:170: RuntimeWarning: Mean of empty slice\n",
      "  test_dict['ppv'] = np.nanmean(test_dict['ppv'])\n",
      "\n"
     ]
    },
    {
     "name": "stdout",
     "output_type": "stream",
     "text": [
      " 49%|██████████████████████▌                       | 98/200 [35:50<47:40, 28.05s/trial, best loss: -0.8651503242130782]"
     ]
    },
    {
     "name": "stderr",
     "output_type": "stream",
     "text": [
      "C:\\Users\\Joaco\\Desktop\\TP2 Redes Neuronales\\nn-tp2\\notebooks\\ej1\\src\\mlp_helper.py:159: RuntimeWarning: Mean of empty slice\n",
      "  train_dict['npv'] = np.nanmean(train_dict['npv'])\n",
      "\n",
      "C:\\Users\\Joaco\\Desktop\\TP2 Redes Neuronales\\nn-tp2\\notebooks\\ej1\\src\\mlp_helper.py:165: RuntimeWarning: Mean of empty slice\n",
      "  valid_dict['npv'] = np.nanmean(valid_dict['npv'])\n",
      "\n",
      "C:\\Users\\Joaco\\Desktop\\TP2 Redes Neuronales\\nn-tp2\\notebooks\\ej1\\src\\mlp_helper.py:171: RuntimeWarning: Mean of empty slice\n",
      "  test_dict['npv'] = np.nanmean(test_dict['npv'])\n",
      "\n"
     ]
    },
    {
     "name": "stdout",
     "output_type": "stream",
     "text": [
      " 52%|███████████████████████▏                     | 103/200 [37:27<32:35, 20.16s/trial, best loss: -0.8651503242130782]"
     ]
    },
    {
     "name": "stderr",
     "output_type": "stream",
     "text": [
      "C:\\Users\\Joaco\\Desktop\\TP2 Redes Neuronales\\nn-tp2\\notebooks\\ej1\\src\\mlp_helper.py:159: RuntimeWarning: Mean of empty slice\n",
      "  train_dict['npv'] = np.nanmean(train_dict['npv'])\n",
      "\n",
      "C:\\Users\\Joaco\\Desktop\\TP2 Redes Neuronales\\nn-tp2\\notebooks\\ej1\\src\\mlp_helper.py:165: RuntimeWarning: Mean of empty slice\n",
      "  valid_dict['npv'] = np.nanmean(valid_dict['npv'])\n",
      "\n",
      "C:\\Users\\Joaco\\Desktop\\TP2 Redes Neuronales\\nn-tp2\\notebooks\\ej1\\src\\mlp_helper.py:171: RuntimeWarning: Mean of empty slice\n",
      "  test_dict['npv'] = np.nanmean(test_dict['npv'])\n",
      "\n"
     ]
    },
    {
     "name": "stdout",
     "output_type": "stream",
     "text": [
      " 52%|███████████████████████▍                     | 104/200 [37:45<31:22, 19.61s/trial, best loss: -0.8651503242130782]"
     ]
    },
    {
     "name": "stderr",
     "output_type": "stream",
     "text": [
      "C:\\Users\\Joaco\\Desktop\\TP2 Redes Neuronales\\nn-tp2\\notebooks\\ej1\\src\\mlp_helper.py:158: RuntimeWarning: Mean of empty slice\n",
      "  train_dict['ppv'] = np.nanmean(train_dict['ppv'])\n",
      "\n",
      "C:\\Users\\Joaco\\Desktop\\TP2 Redes Neuronales\\nn-tp2\\notebooks\\ej1\\src\\mlp_helper.py:164: RuntimeWarning: Mean of empty slice\n",
      "  valid_dict['ppv'] = np.nanmean(valid_dict['ppv'])\n",
      "\n",
      "C:\\Users\\Joaco\\Desktop\\TP2 Redes Neuronales\\nn-tp2\\notebooks\\ej1\\src\\mlp_helper.py:170: RuntimeWarning: Mean of empty slice\n",
      "  test_dict['ppv'] = np.nanmean(test_dict['ppv'])\n",
      "\n"
     ]
    },
    {
     "name": "stdout",
     "output_type": "stream",
     "text": [
      " 53%|███████████████████████▊                     | 106/200 [38:33<34:12, 21.83s/trial, best loss: -0.8651503242130782]"
     ]
    },
    {
     "name": "stderr",
     "output_type": "stream",
     "text": [
      "C:\\Users\\Joaco\\Desktop\\TP2 Redes Neuronales\\nn-tp2\\notebooks\\ej1\\src\\mlp_helper.py:158: RuntimeWarning: Mean of empty slice\n",
      "  train_dict['ppv'] = np.nanmean(train_dict['ppv'])\n",
      "\n",
      "C:\\Users\\Joaco\\Desktop\\TP2 Redes Neuronales\\nn-tp2\\notebooks\\ej1\\src\\mlp_helper.py:164: RuntimeWarning: Mean of empty slice\n",
      "  valid_dict['ppv'] = np.nanmean(valid_dict['ppv'])\n",
      "\n",
      "C:\\Users\\Joaco\\Desktop\\TP2 Redes Neuronales\\nn-tp2\\notebooks\\ej1\\src\\mlp_helper.py:170: RuntimeWarning: Mean of empty slice\n",
      "  test_dict['ppv'] = np.nanmean(test_dict['ppv'])\n",
      "\n"
     ]
    },
    {
     "name": "stdout",
     "output_type": "stream",
     "text": [
      " 55%|████████████████████████▊                    | 110/200 [40:21<38:07, 25.42s/trial, best loss: -0.8651503242130782]"
     ]
    },
    {
     "name": "stderr",
     "output_type": "stream",
     "text": [
      "C:\\Users\\Joaco\\Desktop\\TP2 Redes Neuronales\\nn-tp2\\notebooks\\ej1\\src\\mlp_helper.py:158: RuntimeWarning: Mean of empty slice\n",
      "  train_dict['ppv'] = np.nanmean(train_dict['ppv'])\n",
      "\n",
      "C:\\Users\\Joaco\\Desktop\\TP2 Redes Neuronales\\nn-tp2\\notebooks\\ej1\\src\\mlp_helper.py:164: RuntimeWarning: Mean of empty slice\n",
      "  valid_dict['ppv'] = np.nanmean(valid_dict['ppv'])\n",
      "\n",
      "C:\\Users\\Joaco\\Desktop\\TP2 Redes Neuronales\\nn-tp2\\notebooks\\ej1\\src\\mlp_helper.py:170: RuntimeWarning: Mean of empty slice\n",
      "  test_dict['ppv'] = np.nanmean(test_dict['ppv'])\n",
      "\n"
     ]
    },
    {
     "name": "stdout",
     "output_type": "stream",
     "text": [
      " 56%|████████████████████████▉                    | 111/200 [40:42<35:45, 24.11s/trial, best loss: -0.8651503242130782]"
     ]
    },
    {
     "name": "stderr",
     "output_type": "stream",
     "text": [
      "C:\\Users\\Joaco\\Desktop\\TP2 Redes Neuronales\\nn-tp2\\notebooks\\ej1\\src\\mlp_helper.py:159: RuntimeWarning: Mean of empty slice\n",
      "  train_dict['npv'] = np.nanmean(train_dict['npv'])\n",
      "\n",
      "C:\\Users\\Joaco\\Desktop\\TP2 Redes Neuronales\\nn-tp2\\notebooks\\ej1\\src\\mlp_helper.py:165: RuntimeWarning: Mean of empty slice\n",
      "  valid_dict['npv'] = np.nanmean(valid_dict['npv'])\n",
      "\n",
      "C:\\Users\\Joaco\\Desktop\\TP2 Redes Neuronales\\nn-tp2\\notebooks\\ej1\\src\\mlp_helper.py:171: RuntimeWarning: Mean of empty slice\n",
      "  test_dict['npv'] = np.nanmean(test_dict['npv'])\n",
      "\n"
     ]
    },
    {
     "name": "stdout",
     "output_type": "stream",
     "text": [
      " 56%|█████████████████████████▍                   | 113/200 [41:28<33:08, 22.85s/trial, best loss: -0.8651503242130782]"
     ]
    },
    {
     "name": "stderr",
     "output_type": "stream",
     "text": [
      "C:\\Users\\Joaco\\Desktop\\TP2 Redes Neuronales\\nn-tp2\\notebooks\\ej1\\src\\mlp_helper.py:159: RuntimeWarning: Mean of empty slice\n",
      "  train_dict['npv'] = np.nanmean(train_dict['npv'])\n",
      "\n",
      "C:\\Users\\Joaco\\Desktop\\TP2 Redes Neuronales\\nn-tp2\\notebooks\\ej1\\src\\mlp_helper.py:165: RuntimeWarning: Mean of empty slice\n",
      "  valid_dict['npv'] = np.nanmean(valid_dict['npv'])\n",
      "\n",
      "C:\\Users\\Joaco\\Desktop\\TP2 Redes Neuronales\\nn-tp2\\notebooks\\ej1\\src\\mlp_helper.py:171: RuntimeWarning: Mean of empty slice\n",
      "  test_dict['npv'] = np.nanmean(test_dict['npv'])\n",
      "\n"
     ]
    },
    {
     "name": "stdout",
     "output_type": "stream",
     "text": [
      " 57%|█████████████████████████▋                   | 114/200 [41:49<31:52, 22.24s/trial, best loss: -0.8651503242130782]"
     ]
    },
    {
     "name": "stderr",
     "output_type": "stream",
     "text": [
      "C:\\Users\\Joaco\\Desktop\\TP2 Redes Neuronales\\nn-tp2\\notebooks\\ej1\\src\\mlp_helper.py:158: RuntimeWarning: Mean of empty slice\n",
      "  train_dict['ppv'] = np.nanmean(train_dict['ppv'])\n",
      "\n",
      "C:\\Users\\Joaco\\Desktop\\TP2 Redes Neuronales\\nn-tp2\\notebooks\\ej1\\src\\mlp_helper.py:164: RuntimeWarning: Mean of empty slice\n",
      "  valid_dict['ppv'] = np.nanmean(valid_dict['ppv'])\n",
      "\n",
      "C:\\Users\\Joaco\\Desktop\\TP2 Redes Neuronales\\nn-tp2\\notebooks\\ej1\\src\\mlp_helper.py:170: RuntimeWarning: Mean of empty slice\n",
      "  test_dict['ppv'] = np.nanmean(test_dict['ppv'])\n",
      "\n"
     ]
    },
    {
     "name": "stdout",
     "output_type": "stream",
     "text": [
      " 57%|█████████████████████████▊                   | 115/200 [42:19<34:56, 24.66s/trial, best loss: -0.8651503242130782]"
     ]
    },
    {
     "name": "stderr",
     "output_type": "stream",
     "text": [
      "C:\\Users\\Joaco\\Desktop\\TP2 Redes Neuronales\\nn-tp2\\notebooks\\ej1\\src\\mlp_helper.py:159: RuntimeWarning: Mean of empty slice\n",
      "  train_dict['npv'] = np.nanmean(train_dict['npv'])\n",
      "\n",
      "C:\\Users\\Joaco\\Desktop\\TP2 Redes Neuronales\\nn-tp2\\notebooks\\ej1\\src\\mlp_helper.py:165: RuntimeWarning: Mean of empty slice\n",
      "  valid_dict['npv'] = np.nanmean(valid_dict['npv'])\n",
      "\n",
      "C:\\Users\\Joaco\\Desktop\\TP2 Redes Neuronales\\nn-tp2\\notebooks\\ej1\\src\\mlp_helper.py:171: RuntimeWarning: Mean of empty slice\n",
      "  test_dict['npv'] = np.nanmean(test_dict['npv'])\n",
      "\n"
     ]
    },
    {
     "name": "stdout",
     "output_type": "stream",
     "text": [
      " 59%|██████████████████████████▌                  | 118/200 [43:28<32:40, 23.91s/trial, best loss: -0.8651503242130782]"
     ]
    },
    {
     "name": "stderr",
     "output_type": "stream",
     "text": [
      "C:\\Users\\Joaco\\Desktop\\TP2 Redes Neuronales\\nn-tp2\\notebooks\\ej1\\src\\mlp_helper.py:159: RuntimeWarning: Mean of empty slice\n",
      "  train_dict['npv'] = np.nanmean(train_dict['npv'])\n",
      "\n",
      "C:\\Users\\Joaco\\Desktop\\TP2 Redes Neuronales\\nn-tp2\\notebooks\\ej1\\src\\mlp_helper.py:165: RuntimeWarning: Mean of empty slice\n",
      "  valid_dict['npv'] = np.nanmean(valid_dict['npv'])\n",
      "\n",
      "C:\\Users\\Joaco\\Desktop\\TP2 Redes Neuronales\\nn-tp2\\notebooks\\ej1\\src\\mlp_helper.py:171: RuntimeWarning: Mean of empty slice\n",
      "  test_dict['npv'] = np.nanmean(test_dict['npv'])\n",
      "\n"
     ]
    },
    {
     "name": "stdout",
     "output_type": "stream",
     "text": [
      " 62%|███████████████████████████▋                 | 123/200 [46:17<44:03, 34.33s/trial, best loss: -0.8651503242130782]"
     ]
    },
    {
     "name": "stderr",
     "output_type": "stream",
     "text": [
      "C:\\Users\\Joaco\\Desktop\\TP2 Redes Neuronales\\nn-tp2\\notebooks\\ej1\\src\\mlp_helper.py:158: RuntimeWarning: Mean of empty slice\n",
      "  train_dict['ppv'] = np.nanmean(train_dict['ppv'])\n",
      "\n",
      "C:\\Users\\Joaco\\Desktop\\TP2 Redes Neuronales\\nn-tp2\\notebooks\\ej1\\src\\mlp_helper.py:164: RuntimeWarning: Mean of empty slice\n",
      "  valid_dict['ppv'] = np.nanmean(valid_dict['ppv'])\n",
      "\n",
      "C:\\Users\\Joaco\\Desktop\\TP2 Redes Neuronales\\nn-tp2\\notebooks\\ej1\\src\\mlp_helper.py:170: RuntimeWarning: Mean of empty slice\n",
      "  test_dict['ppv'] = np.nanmean(test_dict['ppv'])\n",
      "\n"
     ]
    },
    {
     "name": "stdout",
     "output_type": "stream",
     "text": [
      " 62%|███████████████████████████▉                 | 124/200 [46:40<38:57, 30.76s/trial, best loss: -0.8651503242130782]"
     ]
    },
    {
     "name": "stderr",
     "output_type": "stream",
     "text": [
      "C:\\Users\\Joaco\\Desktop\\TP2 Redes Neuronales\\nn-tp2\\notebooks\\ej1\\src\\mlp_helper.py:159: RuntimeWarning: Mean of empty slice\n",
      "  train_dict['npv'] = np.nanmean(train_dict['npv'])\n",
      "\n",
      "C:\\Users\\Joaco\\Desktop\\TP2 Redes Neuronales\\nn-tp2\\notebooks\\ej1\\src\\mlp_helper.py:165: RuntimeWarning: Mean of empty slice\n",
      "  valid_dict['npv'] = np.nanmean(valid_dict['npv'])\n",
      "\n",
      "C:\\Users\\Joaco\\Desktop\\TP2 Redes Neuronales\\nn-tp2\\notebooks\\ej1\\src\\mlp_helper.py:171: RuntimeWarning: Mean of empty slice\n",
      "  test_dict['npv'] = np.nanmean(test_dict['npv'])\n",
      "\n"
     ]
    },
    {
     "name": "stdout",
     "output_type": "stream",
     "text": [
      " 62%|████████████████████████████▏                | 125/200 [46:57<33:17, 26.63s/trial, best loss: -0.8651503242130782]"
     ]
    },
    {
     "name": "stderr",
     "output_type": "stream",
     "text": [
      "C:\\Users\\Joaco\\Desktop\\TP2 Redes Neuronales\\nn-tp2\\notebooks\\ej1\\src\\mlp_helper.py:159: RuntimeWarning: Mean of empty slice\n",
      "  train_dict['npv'] = np.nanmean(train_dict['npv'])\n",
      "\n",
      "C:\\Users\\Joaco\\Desktop\\TP2 Redes Neuronales\\nn-tp2\\notebooks\\ej1\\src\\mlp_helper.py:165: RuntimeWarning: Mean of empty slice\n",
      "  valid_dict['npv'] = np.nanmean(valid_dict['npv'])\n",
      "\n",
      "C:\\Users\\Joaco\\Desktop\\TP2 Redes Neuronales\\nn-tp2\\notebooks\\ej1\\src\\mlp_helper.py:171: RuntimeWarning: Mean of empty slice\n",
      "  test_dict['npv'] = np.nanmean(test_dict['npv'])\n",
      "\n"
     ]
    },
    {
     "name": "stdout",
     "output_type": "stream",
     "text": [
      " 64%|████████████████████████████▊                | 128/200 [48:14<32:30, 27.09s/trial, best loss: -0.8651503242130782]"
     ]
    },
    {
     "name": "stderr",
     "output_type": "stream",
     "text": [
      "C:\\Users\\Joaco\\Desktop\\TP2 Redes Neuronales\\nn-tp2\\notebooks\\ej1\\src\\mlp_helper.py:158: RuntimeWarning: Mean of empty slice\n",
      "  train_dict['ppv'] = np.nanmean(train_dict['ppv'])\n",
      "\n",
      "C:\\Users\\Joaco\\Desktop\\TP2 Redes Neuronales\\nn-tp2\\notebooks\\ej1\\src\\mlp_helper.py:164: RuntimeWarning: Mean of empty slice\n",
      "  valid_dict['ppv'] = np.nanmean(valid_dict['ppv'])\n",
      "\n",
      "C:\\Users\\Joaco\\Desktop\\TP2 Redes Neuronales\\nn-tp2\\notebooks\\ej1\\src\\mlp_helper.py:170: RuntimeWarning: Mean of empty slice\n",
      "  test_dict['ppv'] = np.nanmean(test_dict['ppv'])\n",
      "\n"
     ]
    },
    {
     "name": "stdout",
     "output_type": "stream",
     "text": [
      " 65%|█████████████████████████████▎               | 130/200 [49:03<30:05, 25.79s/trial, best loss: -0.8651503242130782]"
     ]
    },
    {
     "name": "stderr",
     "output_type": "stream",
     "text": [
      "C:\\Users\\Joaco\\Desktop\\TP2 Redes Neuronales\\nn-tp2\\notebooks\\ej1\\src\\mlp_helper.py:158: RuntimeWarning: Mean of empty slice\n",
      "  train_dict['ppv'] = np.nanmean(train_dict['ppv'])\n",
      "\n",
      "C:\\Users\\Joaco\\Desktop\\TP2 Redes Neuronales\\nn-tp2\\notebooks\\ej1\\src\\mlp_helper.py:164: RuntimeWarning: Mean of empty slice\n",
      "  valid_dict['ppv'] = np.nanmean(valid_dict['ppv'])\n",
      "\n",
      "C:\\Users\\Joaco\\Desktop\\TP2 Redes Neuronales\\nn-tp2\\notebooks\\ej1\\src\\mlp_helper.py:170: RuntimeWarning: Mean of empty slice\n",
      "  test_dict['ppv'] = np.nanmean(test_dict['ppv'])\n",
      "\n"
     ]
    },
    {
     "name": "stdout",
     "output_type": "stream",
     "text": [
      " 66%|█████████████████████████████▋               | 132/200 [49:42<25:55, 22.88s/trial, best loss: -0.8651503242130782]"
     ]
    },
    {
     "name": "stderr",
     "output_type": "stream",
     "text": [
      "C:\\Users\\Joaco\\Desktop\\TP2 Redes Neuronales\\nn-tp2\\notebooks\\ej1\\src\\mlp_helper.py:158: RuntimeWarning: Mean of empty slice\n",
      "  train_dict['ppv'] = np.nanmean(train_dict['ppv'])\n",
      "\n",
      "C:\\Users\\Joaco\\Desktop\\TP2 Redes Neuronales\\nn-tp2\\notebooks\\ej1\\src\\mlp_helper.py:164: RuntimeWarning: Mean of empty slice\n",
      "  valid_dict['ppv'] = np.nanmean(valid_dict['ppv'])\n",
      "\n",
      "C:\\Users\\Joaco\\Desktop\\TP2 Redes Neuronales\\nn-tp2\\notebooks\\ej1\\src\\mlp_helper.py:170: RuntimeWarning: Mean of empty slice\n",
      "  test_dict['ppv'] = np.nanmean(test_dict['ppv'])\n",
      "\n"
     ]
    },
    {
     "name": "stdout",
     "output_type": "stream",
     "text": [
      " 67%|██████████████████████████████▏              | 134/200 [50:38<27:44, 25.21s/trial, best loss: -0.8651503242130782]"
     ]
    },
    {
     "name": "stderr",
     "output_type": "stream",
     "text": [
      "C:\\Users\\Joaco\\Desktop\\TP2 Redes Neuronales\\nn-tp2\\notebooks\\ej1\\src\\mlp_helper.py:158: RuntimeWarning: Mean of empty slice\n",
      "  train_dict['ppv'] = np.nanmean(train_dict['ppv'])\n",
      "\n",
      "C:\\Users\\Joaco\\Desktop\\TP2 Redes Neuronales\\nn-tp2\\notebooks\\ej1\\src\\mlp_helper.py:164: RuntimeWarning: Mean of empty slice\n",
      "  valid_dict['ppv'] = np.nanmean(valid_dict['ppv'])\n",
      "\n",
      "C:\\Users\\Joaco\\Desktop\\TP2 Redes Neuronales\\nn-tp2\\notebooks\\ej1\\src\\mlp_helper.py:170: RuntimeWarning: Mean of empty slice\n",
      "  test_dict['ppv'] = np.nanmean(test_dict['ppv'])\n",
      "\n"
     ]
    },
    {
     "name": "stdout",
     "output_type": "stream",
     "text": [
      " 70%|███████████████████████████████▍             | 140/200 [53:12<26:13, 26.23s/trial, best loss: -0.8651503242130782]"
     ]
    },
    {
     "name": "stderr",
     "output_type": "stream",
     "text": [
      "C:\\Users\\Joaco\\Desktop\\TP2 Redes Neuronales\\nn-tp2\\notebooks\\ej1\\src\\mlp_helper.py:159: RuntimeWarning: Mean of empty slice\n",
      "  train_dict['npv'] = np.nanmean(train_dict['npv'])\n",
      "\n",
      "C:\\Users\\Joaco\\Desktop\\TP2 Redes Neuronales\\nn-tp2\\notebooks\\ej1\\src\\mlp_helper.py:165: RuntimeWarning: Mean of empty slice\n",
      "  valid_dict['npv'] = np.nanmean(valid_dict['npv'])\n",
      "\n",
      "C:\\Users\\Joaco\\Desktop\\TP2 Redes Neuronales\\nn-tp2\\notebooks\\ej1\\src\\mlp_helper.py:171: RuntimeWarning: Mean of empty slice\n",
      "  test_dict['npv'] = np.nanmean(test_dict['npv'])\n",
      "\n"
     ]
    },
    {
     "name": "stdout",
     "output_type": "stream",
     "text": [
      " 71%|███████████████████████████████▉             | 142/200 [53:51<22:09, 22.91s/trial, best loss: -0.8651503242130782]"
     ]
    },
    {
     "name": "stderr",
     "output_type": "stream",
     "text": [
      "C:\\Users\\Joaco\\Desktop\\TP2 Redes Neuronales\\nn-tp2\\notebooks\\ej1\\src\\mlp_helper.py:159: RuntimeWarning: Mean of empty slice\n",
      "  train_dict['npv'] = np.nanmean(train_dict['npv'])\n",
      "\n",
      "C:\\Users\\Joaco\\Desktop\\TP2 Redes Neuronales\\nn-tp2\\notebooks\\ej1\\src\\mlp_helper.py:165: RuntimeWarning: Mean of empty slice\n",
      "  valid_dict['npv'] = np.nanmean(valid_dict['npv'])\n",
      "\n",
      "C:\\Users\\Joaco\\Desktop\\TP2 Redes Neuronales\\nn-tp2\\notebooks\\ej1\\src\\mlp_helper.py:171: RuntimeWarning: Mean of empty slice\n",
      "  test_dict['npv'] = np.nanmean(test_dict['npv'])\n",
      "\n"
     ]
    },
    {
     "name": "stdout",
     "output_type": "stream",
     "text": [
      " 74%|█████████████████████████████████▌           | 149/200 [57:08<23:54, 28.13s/trial, best loss: -0.8651503242130782]"
     ]
    },
    {
     "name": "stderr",
     "output_type": "stream",
     "text": [
      "C:\\Users\\Joaco\\Desktop\\TP2 Redes Neuronales\\nn-tp2\\notebooks\\ej1\\src\\mlp_helper.py:159: RuntimeWarning: Mean of empty slice\n",
      "  train_dict['npv'] = np.nanmean(train_dict['npv'])\n",
      "\n",
      "C:\\Users\\Joaco\\Desktop\\TP2 Redes Neuronales\\nn-tp2\\notebooks\\ej1\\src\\mlp_helper.py:165: RuntimeWarning: Mean of empty slice\n",
      "  valid_dict['npv'] = np.nanmean(valid_dict['npv'])\n",
      "\n",
      "C:\\Users\\Joaco\\Desktop\\TP2 Redes Neuronales\\nn-tp2\\notebooks\\ej1\\src\\mlp_helper.py:171: RuntimeWarning: Mean of empty slice\n",
      "  test_dict['npv'] = np.nanmean(test_dict['npv'])\n",
      "\n"
     ]
    },
    {
     "name": "stdout",
     "output_type": "stream",
     "text": [
      " 75%|█████████████████████████████████▊           | 150/200 [57:45<25:26, 30.54s/trial, best loss: -0.8651503242130782]"
     ]
    },
    {
     "name": "stderr",
     "output_type": "stream",
     "text": [
      "C:\\Users\\Joaco\\Desktop\\TP2 Redes Neuronales\\nn-tp2\\notebooks\\ej1\\src\\mlp_helper.py:159: RuntimeWarning: Mean of empty slice\n",
      "  train_dict['npv'] = np.nanmean(train_dict['npv'])\n",
      "\n",
      "C:\\Users\\Joaco\\Desktop\\TP2 Redes Neuronales\\nn-tp2\\notebooks\\ej1\\src\\mlp_helper.py:165: RuntimeWarning: Mean of empty slice\n",
      "  valid_dict['npv'] = np.nanmean(valid_dict['npv'])\n",
      "\n",
      "C:\\Users\\Joaco\\Desktop\\TP2 Redes Neuronales\\nn-tp2\\notebooks\\ej1\\src\\mlp_helper.py:171: RuntimeWarning: Mean of empty slice\n",
      "  test_dict['npv'] = np.nanmean(test_dict['npv'])\n",
      "\n"
     ]
    },
    {
     "name": "stdout",
     "output_type": "stream",
     "text": [
      " 76%|██████████████████████████████████▏          | 152/200 [58:57<27:00, 33.75s/trial, best loss: -0.8651503242130782]"
     ]
    },
    {
     "name": "stderr",
     "output_type": "stream",
     "text": [
      "C:\\Users\\Joaco\\Desktop\\TP2 Redes Neuronales\\nn-tp2\\notebooks\\ej1\\src\\mlp_helper.py:159: RuntimeWarning: Mean of empty slice\n",
      "  train_dict['npv'] = np.nanmean(train_dict['npv'])\n",
      "\n",
      "C:\\Users\\Joaco\\Desktop\\TP2 Redes Neuronales\\nn-tp2\\notebooks\\ej1\\src\\mlp_helper.py:165: RuntimeWarning: Mean of empty slice\n",
      "  valid_dict['npv'] = np.nanmean(valid_dict['npv'])\n",
      "\n",
      "C:\\Users\\Joaco\\Desktop\\TP2 Redes Neuronales\\nn-tp2\\notebooks\\ej1\\src\\mlp_helper.py:171: RuntimeWarning: Mean of empty slice\n",
      "  test_dict['npv'] = np.nanmean(test_dict['npv'])\n",
      "\n"
     ]
    },
    {
     "name": "stdout",
     "output_type": "stream",
     "text": [
      " 78%|█████████████████████████████████▊         | 157/200 [1:01:36<23:09, 32.32s/trial, best loss: -0.8651503242130782]"
     ]
    },
    {
     "name": "stderr",
     "output_type": "stream",
     "text": [
      "C:\\Users\\Joaco\\Desktop\\TP2 Redes Neuronales\\nn-tp2\\notebooks\\ej1\\src\\mlp_helper.py:158: RuntimeWarning: Mean of empty slice\n",
      "  train_dict['ppv'] = np.nanmean(train_dict['ppv'])\n",
      "\n",
      "C:\\Users\\Joaco\\Desktop\\TP2 Redes Neuronales\\nn-tp2\\notebooks\\ej1\\src\\mlp_helper.py:164: RuntimeWarning: Mean of empty slice\n",
      "  valid_dict['ppv'] = np.nanmean(valid_dict['ppv'])\n",
      "\n",
      "C:\\Users\\Joaco\\Desktop\\TP2 Redes Neuronales\\nn-tp2\\notebooks\\ej1\\src\\mlp_helper.py:170: RuntimeWarning: Mean of empty slice\n",
      "  test_dict['ppv'] = np.nanmean(test_dict['ppv'])\n",
      "\n"
     ]
    },
    {
     "name": "stdout",
     "output_type": "stream",
     "text": [
      " 79%|█████████████████████████████████▉         | 158/200 [1:02:16<24:13, 34.61s/trial, best loss: -0.8651503242130782]"
     ]
    },
    {
     "name": "stderr",
     "output_type": "stream",
     "text": [
      "C:\\Users\\Joaco\\Desktop\\TP2 Redes Neuronales\\nn-tp2\\notebooks\\ej1\\src\\mlp_helper.py:158: RuntimeWarning: Mean of empty slice\n",
      "  train_dict['ppv'] = np.nanmean(train_dict['ppv'])\n",
      "\n",
      "C:\\Users\\Joaco\\Desktop\\TP2 Redes Neuronales\\nn-tp2\\notebooks\\ej1\\src\\mlp_helper.py:164: RuntimeWarning: Mean of empty slice\n",
      "  valid_dict['ppv'] = np.nanmean(valid_dict['ppv'])\n",
      "\n",
      "C:\\Users\\Joaco\\Desktop\\TP2 Redes Neuronales\\nn-tp2\\notebooks\\ej1\\src\\mlp_helper.py:170: RuntimeWarning: Mean of empty slice\n",
      "  test_dict['ppv'] = np.nanmean(test_dict['ppv'])\n",
      "\n"
     ]
    },
    {
     "name": "stdout",
     "output_type": "stream",
     "text": [
      " 80%|██████████████████████████████████▏        | 159/200 [1:02:52<23:51, 34.92s/trial, best loss: -0.8651503242130782]"
     ]
    },
    {
     "name": "stderr",
     "output_type": "stream",
     "text": [
      "C:\\Users\\Joaco\\Desktop\\TP2 Redes Neuronales\\nn-tp2\\notebooks\\ej1\\src\\mlp_helper.py:158: RuntimeWarning: Mean of empty slice\n",
      "  train_dict['ppv'] = np.nanmean(train_dict['ppv'])\n",
      "\n",
      "C:\\Users\\Joaco\\Desktop\\TP2 Redes Neuronales\\nn-tp2\\notebooks\\ej1\\src\\mlp_helper.py:164: RuntimeWarning: Mean of empty slice\n",
      "  valid_dict['ppv'] = np.nanmean(valid_dict['ppv'])\n",
      "\n",
      "C:\\Users\\Joaco\\Desktop\\TP2 Redes Neuronales\\nn-tp2\\notebooks\\ej1\\src\\mlp_helper.py:170: RuntimeWarning: Mean of empty slice\n",
      "  test_dict['ppv'] = np.nanmean(test_dict['ppv'])\n",
      "\n"
     ]
    },
    {
     "name": "stdout",
     "output_type": "stream",
     "text": [
      " 80%|██████████████████████████████████▍        | 160/200 [1:03:21<22:08, 33.20s/trial, best loss: -0.8651503242130782]"
     ]
    },
    {
     "name": "stderr",
     "output_type": "stream",
     "text": [
      "C:\\Users\\Joaco\\Desktop\\TP2 Redes Neuronales\\nn-tp2\\notebooks\\ej1\\src\\mlp_helper.py:159: RuntimeWarning: Mean of empty slice\n",
      "  train_dict['npv'] = np.nanmean(train_dict['npv'])\n",
      "\n",
      "C:\\Users\\Joaco\\Desktop\\TP2 Redes Neuronales\\nn-tp2\\notebooks\\ej1\\src\\mlp_helper.py:165: RuntimeWarning: Mean of empty slice\n",
      "  valid_dict['npv'] = np.nanmean(valid_dict['npv'])\n",
      "\n",
      "C:\\Users\\Joaco\\Desktop\\TP2 Redes Neuronales\\nn-tp2\\notebooks\\ej1\\src\\mlp_helper.py:171: RuntimeWarning: Mean of empty slice\n",
      "  test_dict['npv'] = np.nanmean(test_dict['npv'])\n",
      "\n"
     ]
    },
    {
     "name": "stdout",
     "output_type": "stream",
     "text": [
      " 82%|███████████████████████████████████▍       | 165/200 [1:05:50<16:28, 28.24s/trial, best loss: -0.8651503242130782]"
     ]
    },
    {
     "name": "stderr",
     "output_type": "stream",
     "text": [
      "C:\\Users\\Joaco\\Desktop\\TP2 Redes Neuronales\\nn-tp2\\notebooks\\ej1\\src\\mlp_helper.py:158: RuntimeWarning: Mean of empty slice\n",
      "  train_dict['ppv'] = np.nanmean(train_dict['ppv'])\n",
      "\n",
      "C:\\Users\\Joaco\\Desktop\\TP2 Redes Neuronales\\nn-tp2\\notebooks\\ej1\\src\\mlp_helper.py:164: RuntimeWarning: Mean of empty slice\n",
      "  valid_dict['ppv'] = np.nanmean(valid_dict['ppv'])\n",
      "\n",
      "C:\\Users\\Joaco\\Desktop\\TP2 Redes Neuronales\\nn-tp2\\notebooks\\ej1\\src\\mlp_helper.py:170: RuntimeWarning: Mean of empty slice\n",
      "  test_dict['ppv'] = np.nanmean(test_dict['ppv'])\n",
      "\n"
     ]
    },
    {
     "name": "stdout",
     "output_type": "stream",
     "text": [
      " 83%|███████████████████████████████████▋       | 166/200 [1:06:23<16:52, 29.79s/trial, best loss: -0.8651503242130782]"
     ]
    },
    {
     "name": "stderr",
     "output_type": "stream",
     "text": [
      "C:\\Users\\Joaco\\Desktop\\TP2 Redes Neuronales\\nn-tp2\\notebooks\\ej1\\src\\mlp_helper.py:159: RuntimeWarning: Mean of empty slice\n",
      "  train_dict['npv'] = np.nanmean(train_dict['npv'])\n",
      "\n",
      "C:\\Users\\Joaco\\Desktop\\TP2 Redes Neuronales\\nn-tp2\\notebooks\\ej1\\src\\mlp_helper.py:165: RuntimeWarning: Mean of empty slice\n",
      "  valid_dict['npv'] = np.nanmean(valid_dict['npv'])\n",
      "\n",
      "C:\\Users\\Joaco\\Desktop\\TP2 Redes Neuronales\\nn-tp2\\notebooks\\ej1\\src\\mlp_helper.py:171: RuntimeWarning: Mean of empty slice\n",
      "  test_dict['npv'] = np.nanmean(test_dict['npv'])\n",
      "\n"
     ]
    },
    {
     "name": "stdout",
     "output_type": "stream",
     "text": [
      " 86%|█████████████████████████████████████▏     | 173/200 [1:10:03<13:21, 29.67s/trial, best loss: -0.8651503242130782]"
     ]
    },
    {
     "name": "stderr",
     "output_type": "stream",
     "text": [
      "C:\\Users\\Joaco\\Desktop\\TP2 Redes Neuronales\\nn-tp2\\notebooks\\ej1\\src\\mlp_helper.py:159: RuntimeWarning: Mean of empty slice\n",
      "  train_dict['npv'] = np.nanmean(train_dict['npv'])\n",
      "\n",
      "C:\\Users\\Joaco\\Desktop\\TP2 Redes Neuronales\\nn-tp2\\notebooks\\ej1\\src\\mlp_helper.py:165: RuntimeWarning: Mean of empty slice\n",
      "  valid_dict['npv'] = np.nanmean(valid_dict['npv'])\n",
      "\n",
      "C:\\Users\\Joaco\\Desktop\\TP2 Redes Neuronales\\nn-tp2\\notebooks\\ej1\\src\\mlp_helper.py:171: RuntimeWarning: Mean of empty slice\n",
      "  test_dict['npv'] = np.nanmean(test_dict['npv'])\n",
      "\n"
     ]
    },
    {
     "name": "stdout",
     "output_type": "stream",
     "text": [
      " 88%|█████████████████████████████████████▋     | 175/200 [1:10:55<11:48, 28.34s/trial, best loss: -0.8651503242130782]"
     ]
    },
    {
     "name": "stderr",
     "output_type": "stream",
     "text": [
      "C:\\Users\\Joaco\\Desktop\\TP2 Redes Neuronales\\nn-tp2\\notebooks\\ej1\\src\\mlp_helper.py:159: RuntimeWarning: Mean of empty slice\n",
      "  train_dict['npv'] = np.nanmean(train_dict['npv'])\n",
      "\n",
      "C:\\Users\\Joaco\\Desktop\\TP2 Redes Neuronales\\nn-tp2\\notebooks\\ej1\\src\\mlp_helper.py:165: RuntimeWarning: Mean of empty slice\n",
      "  valid_dict['npv'] = np.nanmean(valid_dict['npv'])\n",
      "\n",
      "C:\\Users\\Joaco\\Desktop\\TP2 Redes Neuronales\\nn-tp2\\notebooks\\ej1\\src\\mlp_helper.py:171: RuntimeWarning: Mean of empty slice\n",
      "  test_dict['npv'] = np.nanmean(test_dict['npv'])\n",
      "\n"
     ]
    },
    {
     "name": "stdout",
     "output_type": "stream",
     "text": [
      " 88%|██████████████████████████████████████     | 177/200 [1:12:12<12:42, 33.15s/trial, best loss: -0.8651503242130782]"
     ]
    },
    {
     "name": "stderr",
     "output_type": "stream",
     "text": [
      "C:\\Users\\Joaco\\Desktop\\TP2 Redes Neuronales\\nn-tp2\\notebooks\\ej1\\src\\mlp_helper.py:159: RuntimeWarning: Mean of empty slice\n",
      "  train_dict['npv'] = np.nanmean(train_dict['npv'])\n",
      "\n",
      "C:\\Users\\Joaco\\Desktop\\TP2 Redes Neuronales\\nn-tp2\\notebooks\\ej1\\src\\mlp_helper.py:165: RuntimeWarning: Mean of empty slice\n",
      "  valid_dict['npv'] = np.nanmean(valid_dict['npv'])\n",
      "\n",
      "C:\\Users\\Joaco\\Desktop\\TP2 Redes Neuronales\\nn-tp2\\notebooks\\ej1\\src\\mlp_helper.py:171: RuntimeWarning: Mean of empty slice\n",
      "  test_dict['npv'] = np.nanmean(test_dict['npv'])\n",
      "\n"
     ]
    },
    {
     "name": "stdout",
     "output_type": "stream",
     "text": [
      " 92%|███████████████████████████████████████▎   | 183/200 [1:15:02<07:48, 27.55s/trial, best loss: -0.8651503242130782]"
     ]
    },
    {
     "name": "stderr",
     "output_type": "stream",
     "text": [
      "C:\\Users\\Joaco\\Desktop\\TP2 Redes Neuronales\\nn-tp2\\notebooks\\ej1\\src\\mlp_helper.py:159: RuntimeWarning: Mean of empty slice\n",
      "  train_dict['npv'] = np.nanmean(train_dict['npv'])\n",
      "\n",
      "C:\\Users\\Joaco\\Desktop\\TP2 Redes Neuronales\\nn-tp2\\notebooks\\ej1\\src\\mlp_helper.py:165: RuntimeWarning: Mean of empty slice\n",
      "  valid_dict['npv'] = np.nanmean(valid_dict['npv'])\n",
      "\n",
      "C:\\Users\\Joaco\\Desktop\\TP2 Redes Neuronales\\nn-tp2\\notebooks\\ej1\\src\\mlp_helper.py:171: RuntimeWarning: Mean of empty slice\n",
      "  test_dict['npv'] = np.nanmean(test_dict['npv'])\n",
      "\n"
     ]
    },
    {
     "name": "stdout",
     "output_type": "stream",
     "text": [
      " 92%|███████████████████████████████████████▌   | 184/200 [1:15:38<07:58, 29.94s/trial, best loss: -0.8651503242130782]"
     ]
    },
    {
     "name": "stderr",
     "output_type": "stream",
     "text": [
      "C:\\Users\\Joaco\\Desktop\\TP2 Redes Neuronales\\nn-tp2\\notebooks\\ej1\\src\\mlp_helper.py:158: RuntimeWarning: Mean of empty slice\n",
      "  train_dict['ppv'] = np.nanmean(train_dict['ppv'])\n",
      "\n",
      "C:\\Users\\Joaco\\Desktop\\TP2 Redes Neuronales\\nn-tp2\\notebooks\\ej1\\src\\mlp_helper.py:164: RuntimeWarning: Mean of empty slice\n",
      "  valid_dict['ppv'] = np.nanmean(valid_dict['ppv'])\n",
      "\n",
      "C:\\Users\\Joaco\\Desktop\\TP2 Redes Neuronales\\nn-tp2\\notebooks\\ej1\\src\\mlp_helper.py:170: RuntimeWarning: Mean of empty slice\n",
      "  test_dict['ppv'] = np.nanmean(test_dict['ppv'])\n",
      "\n"
     ]
    },
    {
     "name": "stdout",
     "output_type": "stream",
     "text": [
      " 95%|████████████████████████████████████████▊  | 190/200 [1:19:01<06:05, 36.50s/trial, best loss: -0.8651503242130782]"
     ]
    },
    {
     "name": "stderr",
     "output_type": "stream",
     "text": [
      "C:\\Users\\Joaco\\Desktop\\TP2 Redes Neuronales\\nn-tp2\\notebooks\\ej1\\src\\mlp_helper.py:158: RuntimeWarning: Mean of empty slice\n",
      "  train_dict['ppv'] = np.nanmean(train_dict['ppv'])\n",
      "\n",
      "C:\\Users\\Joaco\\Desktop\\TP2 Redes Neuronales\\nn-tp2\\notebooks\\ej1\\src\\mlp_helper.py:164: RuntimeWarning: Mean of empty slice\n",
      "  valid_dict['ppv'] = np.nanmean(valid_dict['ppv'])\n",
      "\n",
      "C:\\Users\\Joaco\\Desktop\\TP2 Redes Neuronales\\nn-tp2\\notebooks\\ej1\\src\\mlp_helper.py:170: RuntimeWarning: Mean of empty slice\n",
      "  test_dict['ppv'] = np.nanmean(test_dict['ppv'])\n",
      "\n"
     ]
    },
    {
     "name": "stdout",
     "output_type": "stream",
     "text": [
      " 96%|█████████████████████████████████████████▍ | 193/200 [1:20:21<03:29, 29.87s/trial, best loss: -0.8651503242130782]"
     ]
    },
    {
     "name": "stderr",
     "output_type": "stream",
     "text": [
      "C:\\Users\\Joaco\\Desktop\\TP2 Redes Neuronales\\nn-tp2\\notebooks\\ej1\\src\\mlp_helper.py:159: RuntimeWarning: Mean of empty slice\n",
      "  train_dict['npv'] = np.nanmean(train_dict['npv'])\n",
      "\n",
      "C:\\Users\\Joaco\\Desktop\\TP2 Redes Neuronales\\nn-tp2\\notebooks\\ej1\\src\\mlp_helper.py:165: RuntimeWarning: Mean of empty slice\n",
      "  valid_dict['npv'] = np.nanmean(valid_dict['npv'])\n",
      "\n",
      "C:\\Users\\Joaco\\Desktop\\TP2 Redes Neuronales\\nn-tp2\\notebooks\\ej1\\src\\mlp_helper.py:171: RuntimeWarning: Mean of empty slice\n",
      "  test_dict['npv'] = np.nanmean(test_dict['npv'])\n",
      "\n"
     ]
    },
    {
     "name": "stdout",
     "output_type": "stream",
     "text": [
      " 97%|█████████████████████████████████████████▋ | 194/200 [1:20:50<02:57, 29.59s/trial, best loss: -0.8651503242130782]"
     ]
    },
    {
     "name": "stderr",
     "output_type": "stream",
     "text": [
      "C:\\Users\\Joaco\\Desktop\\TP2 Redes Neuronales\\nn-tp2\\notebooks\\ej1\\src\\mlp_helper.py:158: RuntimeWarning: Mean of empty slice\n",
      "  train_dict['ppv'] = np.nanmean(train_dict['ppv'])\n",
      "\n",
      "C:\\Users\\Joaco\\Desktop\\TP2 Redes Neuronales\\nn-tp2\\notebooks\\ej1\\src\\mlp_helper.py:164: RuntimeWarning: Mean of empty slice\n",
      "  valid_dict['ppv'] = np.nanmean(valid_dict['ppv'])\n",
      "\n",
      "C:\\Users\\Joaco\\Desktop\\TP2 Redes Neuronales\\nn-tp2\\notebooks\\ej1\\src\\mlp_helper.py:170: RuntimeWarning: Mean of empty slice\n",
      "  test_dict['ppv'] = np.nanmean(test_dict['ppv'])\n",
      "\n"
     ]
    },
    {
     "name": "stdout",
     "output_type": "stream",
     "text": [
      " 98%|█████████████████████████████████████████▉ | 195/200 [1:21:14<02:20, 28.01s/trial, best loss: -0.8651503242130782]"
     ]
    },
    {
     "name": "stderr",
     "output_type": "stream",
     "text": [
      "C:\\Users\\Joaco\\Desktop\\TP2 Redes Neuronales\\nn-tp2\\notebooks\\ej1\\src\\mlp_helper.py:159: RuntimeWarning: Mean of empty slice\n",
      "  train_dict['npv'] = np.nanmean(train_dict['npv'])\n",
      "\n",
      "C:\\Users\\Joaco\\Desktop\\TP2 Redes Neuronales\\nn-tp2\\notebooks\\ej1\\src\\mlp_helper.py:165: RuntimeWarning: Mean of empty slice\n",
      "  valid_dict['npv'] = np.nanmean(valid_dict['npv'])\n",
      "\n",
      "C:\\Users\\Joaco\\Desktop\\TP2 Redes Neuronales\\nn-tp2\\notebooks\\ej1\\src\\mlp_helper.py:171: RuntimeWarning: Mean of empty slice\n",
      "  test_dict['npv'] = np.nanmean(test_dict['npv'])\n",
      "\n"
     ]
    },
    {
     "name": "stdout",
     "output_type": "stream",
     "text": [
      " 98%|██████████████████████████████████████████▏| 196/200 [1:21:50<02:01, 30.27s/trial, best loss: -0.8651503242130782]"
     ]
    },
    {
     "name": "stderr",
     "output_type": "stream",
     "text": [
      "C:\\Users\\Joaco\\Desktop\\TP2 Redes Neuronales\\nn-tp2\\notebooks\\ej1\\src\\mlp_helper.py:164: RuntimeWarning: Mean of empty slice\n",
      "  valid_dict['ppv'] = np.nanmean(valid_dict['ppv'])\n",
      "\n",
      "C:\\Users\\Joaco\\Desktop\\TP2 Redes Neuronales\\nn-tp2\\notebooks\\ej1\\src\\mlp_helper.py:170: RuntimeWarning: Mean of empty slice\n",
      "  test_dict['ppv'] = np.nanmean(test_dict['ppv'])\n",
      "\n"
     ]
    },
    {
     "name": "stdout",
     "output_type": "stream",
     "text": [
      "100%|███████████████████████████████████████████| 200/200 [1:23:37<00:00, 25.09s/trial, best loss: -0.8651503242130782]\n"
     ]
    }
   ],
   "source": [
    "trials = hyperopt.Trials()\n",
    "best = hyperopt.fmin(objective, space, algo=algorithm, max_evals=200, trials=trials)"
   ]
  },
  {
   "cell_type": "code",
   "execution_count": 48,
   "id": "running-resistance",
   "metadata": {},
   "outputs": [
    {
     "data": {
      "text/plain": [
       "{'hidden_layer_activation': 0,\n",
       " 'hidden_layers': 4.0,\n",
       " 'learning_rate': 2,\n",
       " 'regularizer': 1,\n",
       " 'regularizer_lambda': 1,\n",
       " 'units_per_layer': 56.0,\n",
       " 'use_batch_normalization': 1}"
      ]
     },
     "execution_count": 48,
     "metadata": {},
     "output_type": "execute_result"
    }
   ],
   "source": [
    "best"
   ]
  },
  {
   "cell_type": "code",
   "execution_count": 38,
   "id": "secondary-visitor",
   "metadata": {},
   "outputs": [],
   "source": [
    "train_dict, valid_dict, test_dict = run_model_with_kfold(df=df, test_size=0.2, folds=5, random_state=15,\n",
    "                                            optimizer='adam',\n",
    "                                            loss='binary_crossentropy',\n",
    "                                            beta_1=0.9,\n",
    "                                            beta_2=0.9,\n",
    "                                            learning_rate=0.01,\n",
    "                                            batch_size=64,\n",
    "                                            epochs=500,\n",
    "                                            tensorboard_on=False,\n",
    "                                            summary_on=False,\n",
    "                                            tag='best_kfold',\n",
    "                                            hidden_layers=5,\n",
    "                                            units_per_layer=72,\n",
    "                                            hidden_layer_activation='relu',\n",
    "                                            dropout_rate=0.0,\n",
    "                                            use_batch_normalization=False)"
   ]
  },
  {
   "cell_type": "code",
   "execution_count": 39,
   "id": "latin-archive",
   "metadata": {},
   "outputs": [
    {
     "name": "stdout",
     "output_type": "stream",
     "text": [
      "[AUC] Train: 0.8814 - Valid: 0.8533 - Test: 0.7997\n"
     ]
    }
   ],
   "source": [
    "print_metrics(train_dict, valid_dict, test_dict)"
   ]
  },
  {
   "cell_type": "code",
   "execution_count": 49,
   "id": "satellite-patio",
   "metadata": {},
   "outputs": [],
   "source": [
    "train_dict, valid_dict, test_dict = run_model_with_kfold(df=df, test_size=0.2, folds=5, random_state=15,\n",
    "                                            optimizer='adam',\n",
    "                                            loss='binary_crossentropy',\n",
    "                                            beta_1=0.9,\n",
    "                                            beta_2=0.9,\n",
    "                                            learning_rate=0.1,\n",
    "                                            batch_size=64,\n",
    "                                            regularizer='l2',\n",
    "                                            regularizer_lambda=1e-2,\n",
    "                                            epochs=500,\n",
    "                                            tensorboard_on=False,\n",
    "                                            summary_on=False,\n",
    "                                            tag='best_kfold',\n",
    "                                            hidden_layers=4,\n",
    "                                            units_per_layer=56,\n",
    "                                            hidden_layer_activation='relu',\n",
    "                                            dropout_rate=0.0,\n",
    "                                            use_batch_normalization=True)"
   ]
  },
  {
   "cell_type": "code",
   "execution_count": 50,
   "id": "embedded-brunei",
   "metadata": {},
   "outputs": [
    {
     "name": "stdout",
     "output_type": "stream",
     "text": [
      "[AUC] Train: 0.8768 - Valid: 0.8580 - Test: 0.7952\n"
     ]
    }
   ],
   "source": [
    "print_metrics(train_dict, valid_dict, test_dict)"
   ]
  }
 ],
 "metadata": {
  "kernelspec": {
   "display_name": "Python 3",
   "language": "python",
   "name": "python3"
  },
  "language_info": {
   "codemirror_mode": {
    "name": "ipython",
    "version": 3
   },
   "file_extension": ".py",
   "mimetype": "text/x-python",
   "name": "python",
   "nbconvert_exporter": "python",
   "pygments_lexer": "ipython3",
   "version": "3.9.2"
  }
 },
 "nbformat": 4,
 "nbformat_minor": 5
}
