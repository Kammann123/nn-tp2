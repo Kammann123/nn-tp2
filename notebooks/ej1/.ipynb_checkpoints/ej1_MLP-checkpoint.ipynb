{
 "cells": [
  {
   "cell_type": "markdown",
   "id": "prostate-clothing",
   "metadata": {},
   "source": [
    "# Redes Neuronales - Trabajo Práctico N° 2 - Ejercicio 1 - Regresión Logística\n",
    "# Notebook #3: Implementación de un modelo MLP\n",
    "En esta notebook se busca aprovechar los conocimientos de las anteriores e implementar un modelo MLP para poder estimar la condición de diabético de un paciente, perteneciente al Pima Indians Dataset analizado en la primer notebook."
   ]
  },
  {
   "cell_type": "markdown",
   "id": "current-material",
   "metadata": {},
   "source": [
    "# 1. Cargando base de datos"
   ]
  },
  {
   "cell_type": "code",
   "execution_count": 1,
   "id": "anonymous-motel",
   "metadata": {},
   "outputs": [],
   "source": [
    "import numpy as np"
   ]
  },
  {
   "cell_type": "code",
   "execution_count": 2,
   "id": "english-tucson",
   "metadata": {},
   "outputs": [],
   "source": [
    "import pandas as pd"
   ]
  },
  {
   "cell_type": "code",
   "execution_count": 3,
   "id": "choice-tension",
   "metadata": {},
   "outputs": [],
   "source": [
    "import importlib"
   ]
  },
  {
   "cell_type": "code",
   "execution_count": 4,
   "id": "collaborative-intent",
   "metadata": {},
   "outputs": [
    {
     "data": {
      "text/html": [
       "<div>\n",
       "<style scoped>\n",
       "    .dataframe tbody tr th:only-of-type {\n",
       "        vertical-align: middle;\n",
       "    }\n",
       "\n",
       "    .dataframe tbody tr th {\n",
       "        vertical-align: top;\n",
       "    }\n",
       "\n",
       "    .dataframe thead th {\n",
       "        text-align: right;\n",
       "    }\n",
       "</style>\n",
       "<table border=\"1\" class=\"dataframe\">\n",
       "  <thead>\n",
       "    <tr style=\"text-align: right;\">\n",
       "      <th></th>\n",
       "      <th>Pregnancies</th>\n",
       "      <th>Glucose</th>\n",
       "      <th>BloodPressure</th>\n",
       "      <th>SkinThickness</th>\n",
       "      <th>Insulin</th>\n",
       "      <th>BMI</th>\n",
       "      <th>DiabetesPedigreeFunction</th>\n",
       "      <th>Age</th>\n",
       "      <th>Outcome</th>\n",
       "    </tr>\n",
       "  </thead>\n",
       "  <tbody>\n",
       "    <tr>\n",
       "      <th>0</th>\n",
       "      <td>6</td>\n",
       "      <td>148</td>\n",
       "      <td>72</td>\n",
       "      <td>35</td>\n",
       "      <td>0</td>\n",
       "      <td>33.6</td>\n",
       "      <td>0.627</td>\n",
       "      <td>50</td>\n",
       "      <td>1</td>\n",
       "    </tr>\n",
       "    <tr>\n",
       "      <th>1</th>\n",
       "      <td>1</td>\n",
       "      <td>85</td>\n",
       "      <td>66</td>\n",
       "      <td>29</td>\n",
       "      <td>0</td>\n",
       "      <td>26.6</td>\n",
       "      <td>0.351</td>\n",
       "      <td>31</td>\n",
       "      <td>0</td>\n",
       "    </tr>\n",
       "    <tr>\n",
       "      <th>2</th>\n",
       "      <td>8</td>\n",
       "      <td>183</td>\n",
       "      <td>64</td>\n",
       "      <td>0</td>\n",
       "      <td>0</td>\n",
       "      <td>23.3</td>\n",
       "      <td>0.672</td>\n",
       "      <td>32</td>\n",
       "      <td>1</td>\n",
       "    </tr>\n",
       "    <tr>\n",
       "      <th>3</th>\n",
       "      <td>1</td>\n",
       "      <td>89</td>\n",
       "      <td>66</td>\n",
       "      <td>23</td>\n",
       "      <td>94</td>\n",
       "      <td>28.1</td>\n",
       "      <td>0.167</td>\n",
       "      <td>21</td>\n",
       "      <td>0</td>\n",
       "    </tr>\n",
       "    <tr>\n",
       "      <th>4</th>\n",
       "      <td>0</td>\n",
       "      <td>137</td>\n",
       "      <td>40</td>\n",
       "      <td>35</td>\n",
       "      <td>168</td>\n",
       "      <td>43.1</td>\n",
       "      <td>2.288</td>\n",
       "      <td>33</td>\n",
       "      <td>1</td>\n",
       "    </tr>\n",
       "  </tbody>\n",
       "</table>\n",
       "</div>"
      ],
      "text/plain": [
       "   Pregnancies  Glucose  BloodPressure  SkinThickness  Insulin   BMI  \\\n",
       "0            6      148             72             35        0  33.6   \n",
       "1            1       85             66             29        0  26.6   \n",
       "2            8      183             64              0        0  23.3   \n",
       "3            1       89             66             23       94  28.1   \n",
       "4            0      137             40             35      168  43.1   \n",
       "\n",
       "   DiabetesPedigreeFunction  Age  Outcome  \n",
       "0                     0.627   50        1  \n",
       "1                     0.351   31        0  \n",
       "2                     0.672   32        1  \n",
       "3                     0.167   21        0  \n",
       "4                     2.288   33        1  "
      ]
     },
     "execution_count": 4,
     "metadata": {},
     "output_type": "execute_result"
    }
   ],
   "source": [
    "# Read database from .csv\n",
    "df = pd.read_csv('../../databases/diabetes.csv', delimiter=',')\n",
    "\n",
    "# Show first rows of data\n",
    "df.head()"
   ]
  },
  {
   "cell_type": "markdown",
   "id": "vital-reviewer",
   "metadata": {},
   "source": [
    "# 2. Preprocesamiento de los datos"
   ]
  },
  {
   "cell_type": "markdown",
   "id": "assigned-science",
   "metadata": {},
   "source": [
    "## 2.1 Filtrado de valores inválidos"
   ]
  },
  {
   "cell_type": "code",
   "execution_count": 5,
   "id": "coordinated-springfield",
   "metadata": {},
   "outputs": [],
   "source": [
    "# Filtering Glucose values\n",
    "df['Glucose'].replace(0, np.nan, inplace=True)\n",
    "\n",
    "# Filtering Blood Pressure values\n",
    "df['BloodPressure'].replace(0, np.nan, inplace=True)\n",
    "\n",
    "# Filtering Skin Thickness values\n",
    "df['SkinThickness'].replace(0, np.nan, inplace=True)\n",
    "\n",
    "# Filtering Insulin values\n",
    "df['Insulin'].replace(0, np.nan, inplace=True)\n",
    "\n",
    "# Filtering Body Mass Index values\n",
    "df['BMI'].replace(0, np.nan, inplace=True)"
   ]
  },
  {
   "cell_type": "markdown",
   "id": "historical-silly",
   "metadata": {},
   "source": [
    "## 2.2 Remoción de Outliers"
   ]
  },
  {
   "cell_type": "code",
   "execution_count": 6,
   "id": "stylish-division",
   "metadata": {},
   "outputs": [
    {
     "name": "stdout",
     "output_type": "stream",
     "text": [
      "INFO:tensorflow:Enabling eager execution\n",
      "INFO:tensorflow:Enabling v2 tensorshape\n",
      "INFO:tensorflow:Enabling resource variables\n",
      "INFO:tensorflow:Enabling tensor equality\n",
      "INFO:tensorflow:Enabling control flow v2\n"
     ]
    }
   ],
   "source": [
    "from src.helper import remove_outliers"
   ]
  },
  {
   "cell_type": "code",
   "execution_count": 7,
   "id": "sustained-blair",
   "metadata": {},
   "outputs": [
    {
     "data": {
      "text/html": [
       "<div>\n",
       "<style scoped>\n",
       "    .dataframe tbody tr th:only-of-type {\n",
       "        vertical-align: middle;\n",
       "    }\n",
       "\n",
       "    .dataframe tbody tr th {\n",
       "        vertical-align: top;\n",
       "    }\n",
       "\n",
       "    .dataframe thead th {\n",
       "        text-align: right;\n",
       "    }\n",
       "</style>\n",
       "<table border=\"1\" class=\"dataframe\">\n",
       "  <thead>\n",
       "    <tr style=\"text-align: right;\">\n",
       "      <th></th>\n",
       "      <th>Pregnancies</th>\n",
       "      <th>Glucose</th>\n",
       "      <th>BloodPressure</th>\n",
       "      <th>SkinThickness</th>\n",
       "      <th>Insulin</th>\n",
       "      <th>BMI</th>\n",
       "      <th>DiabetesPedigreeFunction</th>\n",
       "      <th>Age</th>\n",
       "      <th>Outcome</th>\n",
       "    </tr>\n",
       "  </thead>\n",
       "  <tbody>\n",
       "    <tr>\n",
       "      <th>count</th>\n",
       "      <td>764.000000</td>\n",
       "      <td>763.000000</td>\n",
       "      <td>719.000000</td>\n",
       "      <td>538.000000</td>\n",
       "      <td>370.000000</td>\n",
       "      <td>749.000000</td>\n",
       "      <td>739.000000</td>\n",
       "      <td>759.000000</td>\n",
       "      <td>768.000000</td>\n",
       "    </tr>\n",
       "    <tr>\n",
       "      <th>mean</th>\n",
       "      <td>3.786649</td>\n",
       "      <td>121.686763</td>\n",
       "      <td>72.115438</td>\n",
       "      <td>28.903346</td>\n",
       "      <td>132.610811</td>\n",
       "      <td>32.204005</td>\n",
       "      <td>0.429832</td>\n",
       "      <td>32.805007</td>\n",
       "      <td>0.348958</td>\n",
       "    </tr>\n",
       "    <tr>\n",
       "      <th>std</th>\n",
       "      <td>3.278714</td>\n",
       "      <td>30.535641</td>\n",
       "      <td>11.239072</td>\n",
       "      <td>9.865480</td>\n",
       "      <td>74.285393</td>\n",
       "      <td>6.491385</td>\n",
       "      <td>0.249684</td>\n",
       "      <td>11.113182</td>\n",
       "      <td>0.476951</td>\n",
       "    </tr>\n",
       "    <tr>\n",
       "      <th>min</th>\n",
       "      <td>0.000000</td>\n",
       "      <td>44.000000</td>\n",
       "      <td>40.000000</td>\n",
       "      <td>7.000000</td>\n",
       "      <td>14.000000</td>\n",
       "      <td>18.200000</td>\n",
       "      <td>0.078000</td>\n",
       "      <td>21.000000</td>\n",
       "      <td>0.000000</td>\n",
       "    </tr>\n",
       "    <tr>\n",
       "      <th>25%</th>\n",
       "      <td>1.000000</td>\n",
       "      <td>99.000000</td>\n",
       "      <td>64.000000</td>\n",
       "      <td>22.000000</td>\n",
       "      <td>75.000000</td>\n",
       "      <td>27.400000</td>\n",
       "      <td>0.238000</td>\n",
       "      <td>24.000000</td>\n",
       "      <td>0.000000</td>\n",
       "    </tr>\n",
       "    <tr>\n",
       "      <th>50%</th>\n",
       "      <td>3.000000</td>\n",
       "      <td>117.000000</td>\n",
       "      <td>72.000000</td>\n",
       "      <td>29.000000</td>\n",
       "      <td>120.000000</td>\n",
       "      <td>32.000000</td>\n",
       "      <td>0.356000</td>\n",
       "      <td>29.000000</td>\n",
       "      <td>0.000000</td>\n",
       "    </tr>\n",
       "    <tr>\n",
       "      <th>75%</th>\n",
       "      <td>6.000000</td>\n",
       "      <td>141.000000</td>\n",
       "      <td>80.000000</td>\n",
       "      <td>36.000000</td>\n",
       "      <td>177.500000</td>\n",
       "      <td>36.500000</td>\n",
       "      <td>0.587000</td>\n",
       "      <td>40.000000</td>\n",
       "      <td>1.000000</td>\n",
       "    </tr>\n",
       "    <tr>\n",
       "      <th>max</th>\n",
       "      <td>13.000000</td>\n",
       "      <td>199.000000</td>\n",
       "      <td>104.000000</td>\n",
       "      <td>56.000000</td>\n",
       "      <td>360.000000</td>\n",
       "      <td>50.000000</td>\n",
       "      <td>1.191000</td>\n",
       "      <td>66.000000</td>\n",
       "      <td>1.000000</td>\n",
       "    </tr>\n",
       "  </tbody>\n",
       "</table>\n",
       "</div>"
      ],
      "text/plain": [
       "       Pregnancies     Glucose  BloodPressure  SkinThickness     Insulin  \\\n",
       "count   764.000000  763.000000     719.000000     538.000000  370.000000   \n",
       "mean      3.786649  121.686763      72.115438      28.903346  132.610811   \n",
       "std       3.278714   30.535641      11.239072       9.865480   74.285393   \n",
       "min       0.000000   44.000000      40.000000       7.000000   14.000000   \n",
       "25%       1.000000   99.000000      64.000000      22.000000   75.000000   \n",
       "50%       3.000000  117.000000      72.000000      29.000000  120.000000   \n",
       "75%       6.000000  141.000000      80.000000      36.000000  177.500000   \n",
       "max      13.000000  199.000000     104.000000      56.000000  360.000000   \n",
       "\n",
       "              BMI  DiabetesPedigreeFunction         Age     Outcome  \n",
       "count  749.000000                739.000000  759.000000  768.000000  \n",
       "mean    32.204005                  0.429832   32.805007    0.348958  \n",
       "std      6.491385                  0.249684   11.113182    0.476951  \n",
       "min     18.200000                  0.078000   21.000000    0.000000  \n",
       "25%     27.400000                  0.238000   24.000000    0.000000  \n",
       "50%     32.000000                  0.356000   29.000000    0.000000  \n",
       "75%     36.500000                  0.587000   40.000000    1.000000  \n",
       "max     50.000000                  1.191000   66.000000    1.000000  "
      ]
     },
     "execution_count": 7,
     "metadata": {},
     "output_type": "execute_result"
    }
   ],
   "source": [
    "x_labels = ['Pregnancies', 'Glucose', 'BloodPressure', 'SkinThickness', 'Insulin', 'BMI', 'DiabetesPedigreeFunction','Age']\n",
    "y_labels = ['Outcome']\n",
    "\n",
    "for column in x_labels:\n",
    "    remove_outliers(df, column)\n",
    "df.describe()"
   ]
  },
  {
   "cell_type": "markdown",
   "id": "literary-sympathy",
   "metadata": {},
   "source": [
    "# 3. Separación del conjunto de entrenamiento y evaluación"
   ]
  },
  {
   "cell_type": "code",
   "execution_count": 8,
   "id": "operational-calculator",
   "metadata": {},
   "outputs": [],
   "source": [
    "from sklearn import model_selection"
   ]
  },
  {
   "cell_type": "code",
   "execution_count": 9,
   "id": "forward-highland",
   "metadata": {},
   "outputs": [],
   "source": [
    "from sklearn import preprocessing"
   ]
  },
  {
   "cell_type": "code",
   "execution_count": 10,
   "id": "acoustic-start",
   "metadata": {},
   "outputs": [],
   "source": [
    "# Define input and output variables for the model\n",
    "df_x = df[x_labels]\n",
    "df_y = df[y_labels]"
   ]
  },
  {
   "cell_type": "code",
   "execution_count": 11,
   "id": "industrial-italy",
   "metadata": {},
   "outputs": [],
   "source": [
    "# Split the dataset into train_valid and test\n",
    "x_train_valid, x_test, y_train_valid, y_test = model_selection.train_test_split(df_x, df_y, test_size=0.2, random_state=5, shuffle=True) #rs=15\n",
    "\n",
    "# Split the train_valid sub-dataset into train and valid\n",
    "x_train, x_valid, y_train, y_valid = model_selection.train_test_split(x_train_valid, y_train_valid, test_size=0.3, random_state=27, shuffle=True) #rs=23"
   ]
  },
  {
   "cell_type": "code",
   "execution_count": 12,
   "id": "expected-catch",
   "metadata": {},
   "outputs": [
    {
     "data": {
      "text/html": [
       "<div>\n",
       "<style scoped>\n",
       "    .dataframe tbody tr th:only-of-type {\n",
       "        vertical-align: middle;\n",
       "    }\n",
       "\n",
       "    .dataframe tbody tr th {\n",
       "        vertical-align: top;\n",
       "    }\n",
       "\n",
       "    .dataframe thead th {\n",
       "        text-align: right;\n",
       "    }\n",
       "</style>\n",
       "<table border=\"1\" class=\"dataframe\">\n",
       "  <thead>\n",
       "    <tr style=\"text-align: right;\">\n",
       "      <th></th>\n",
       "      <th>Pregnancies</th>\n",
       "      <th>Glucose</th>\n",
       "      <th>BloodPressure</th>\n",
       "      <th>SkinThickness</th>\n",
       "      <th>Insulin</th>\n",
       "      <th>BMI</th>\n",
       "      <th>DiabetesPedigreeFunction</th>\n",
       "      <th>Age</th>\n",
       "    </tr>\n",
       "  </thead>\n",
       "  <tbody>\n",
       "    <tr>\n",
       "      <th>count</th>\n",
       "      <td>428.000000</td>\n",
       "      <td>427.000000</td>\n",
       "      <td>394.000000</td>\n",
       "      <td>297.000000</td>\n",
       "      <td>205.000000</td>\n",
       "      <td>416.000000</td>\n",
       "      <td>417.000000</td>\n",
       "      <td>424.000000</td>\n",
       "    </tr>\n",
       "    <tr>\n",
       "      <th>mean</th>\n",
       "      <td>3.740654</td>\n",
       "      <td>123.133489</td>\n",
       "      <td>71.685279</td>\n",
       "      <td>28.434343</td>\n",
       "      <td>135.268293</td>\n",
       "      <td>31.721635</td>\n",
       "      <td>0.415094</td>\n",
       "      <td>33.089623</td>\n",
       "    </tr>\n",
       "    <tr>\n",
       "      <th>std</th>\n",
       "      <td>3.241350</td>\n",
       "      <td>31.324119</td>\n",
       "      <td>11.248859</td>\n",
       "      <td>9.808809</td>\n",
       "      <td>73.920806</td>\n",
       "      <td>6.297409</td>\n",
       "      <td>0.245358</td>\n",
       "      <td>11.580390</td>\n",
       "    </tr>\n",
       "    <tr>\n",
       "      <th>min</th>\n",
       "      <td>0.000000</td>\n",
       "      <td>56.000000</td>\n",
       "      <td>44.000000</td>\n",
       "      <td>7.000000</td>\n",
       "      <td>15.000000</td>\n",
       "      <td>18.200000</td>\n",
       "      <td>0.078000</td>\n",
       "      <td>21.000000</td>\n",
       "    </tr>\n",
       "    <tr>\n",
       "      <th>25%</th>\n",
       "      <td>1.000000</td>\n",
       "      <td>100.000000</td>\n",
       "      <td>64.000000</td>\n",
       "      <td>21.000000</td>\n",
       "      <td>76.000000</td>\n",
       "      <td>27.300000</td>\n",
       "      <td>0.237000</td>\n",
       "      <td>24.000000</td>\n",
       "    </tr>\n",
       "    <tr>\n",
       "      <th>50%</th>\n",
       "      <td>3.000000</td>\n",
       "      <td>119.000000</td>\n",
       "      <td>72.000000</td>\n",
       "      <td>28.000000</td>\n",
       "      <td>126.000000</td>\n",
       "      <td>31.600000</td>\n",
       "      <td>0.334000</td>\n",
       "      <td>29.000000</td>\n",
       "    </tr>\n",
       "    <tr>\n",
       "      <th>75%</th>\n",
       "      <td>6.000000</td>\n",
       "      <td>143.000000</td>\n",
       "      <td>78.000000</td>\n",
       "      <td>35.000000</td>\n",
       "      <td>180.000000</td>\n",
       "      <td>35.400000</td>\n",
       "      <td>0.580000</td>\n",
       "      <td>40.000000</td>\n",
       "    </tr>\n",
       "    <tr>\n",
       "      <th>max</th>\n",
       "      <td>13.000000</td>\n",
       "      <td>197.000000</td>\n",
       "      <td>102.000000</td>\n",
       "      <td>54.000000</td>\n",
       "      <td>342.000000</td>\n",
       "      <td>49.300000</td>\n",
       "      <td>1.191000</td>\n",
       "      <td>66.000000</td>\n",
       "    </tr>\n",
       "  </tbody>\n",
       "</table>\n",
       "</div>"
      ],
      "text/plain": [
       "       Pregnancies     Glucose  BloodPressure  SkinThickness     Insulin  \\\n",
       "count   428.000000  427.000000     394.000000     297.000000  205.000000   \n",
       "mean      3.740654  123.133489      71.685279      28.434343  135.268293   \n",
       "std       3.241350   31.324119      11.248859       9.808809   73.920806   \n",
       "min       0.000000   56.000000      44.000000       7.000000   15.000000   \n",
       "25%       1.000000  100.000000      64.000000      21.000000   76.000000   \n",
       "50%       3.000000  119.000000      72.000000      28.000000  126.000000   \n",
       "75%       6.000000  143.000000      78.000000      35.000000  180.000000   \n",
       "max      13.000000  197.000000     102.000000      54.000000  342.000000   \n",
       "\n",
       "              BMI  DiabetesPedigreeFunction         Age  \n",
       "count  416.000000                417.000000  424.000000  \n",
       "mean    31.721635                  0.415094   33.089623  \n",
       "std      6.297409                  0.245358   11.580390  \n",
       "min     18.200000                  0.078000   21.000000  \n",
       "25%     27.300000                  0.237000   24.000000  \n",
       "50%     31.600000                  0.334000   29.000000  \n",
       "75%     35.400000                  0.580000   40.000000  \n",
       "max     49.300000                  1.191000   66.000000  "
      ]
     },
     "execution_count": 12,
     "metadata": {},
     "output_type": "execute_result"
    }
   ],
   "source": [
    "x_train.describe()"
   ]
  },
  {
   "cell_type": "markdown",
   "id": "detected-curve",
   "metadata": {},
   "source": [
    "# 4. Reemplazo de valores inválidos"
   ]
  },
  {
   "cell_type": "code",
   "execution_count": 13,
   "id": "differential-nicholas",
   "metadata": {},
   "outputs": [
    {
     "name": "stderr",
     "output_type": "stream",
     "text": [
      "c:\\users\\joaco\\appdata\\local\\programs\\python\\python39\\lib\\site-packages\\pandas\\core\\series.py:4509: SettingWithCopyWarning: \n",
      "A value is trying to be set on a copy of a slice from a DataFrame\n",
      "\n",
      "See the caveats in the documentation: https://pandas.pydata.org/pandas-docs/stable/user_guide/indexing.html#returning-a-view-versus-a-copy\n",
      "  return super().replace(\n"
     ]
    }
   ],
   "source": [
    "# Compute the mean of training\n",
    "train_means = x_train.mean().to_numpy()\n",
    "\n",
    "# Replacing nan values of the train dataset with training mean values\n",
    "for index, column in enumerate(x_train.columns):\n",
    "    x_train.loc[:,column].replace(np.nan, train_means[index], inplace=True)\n",
    "\n",
    "# Replacing nan values of the test dataset with training mean values\n",
    "for index, column in enumerate(x_test.columns):\n",
    "    x_test.loc[:,column].replace(np.nan, train_means[index], inplace=True)\n",
    "    \n",
    "# Replacing nan values of the test dataset with training mean values\n",
    "for index, column in enumerate(x_valid.columns):\n",
    "    x_valid.loc[:,column].replace(np.nan, train_means[index], inplace=True)"
   ]
  },
  {
   "cell_type": "code",
   "execution_count": 14,
   "id": "human-modem",
   "metadata": {},
   "outputs": [
    {
     "data": {
      "text/html": [
       "<div>\n",
       "<style scoped>\n",
       "    .dataframe tbody tr th:only-of-type {\n",
       "        vertical-align: middle;\n",
       "    }\n",
       "\n",
       "    .dataframe tbody tr th {\n",
       "        vertical-align: top;\n",
       "    }\n",
       "\n",
       "    .dataframe thead th {\n",
       "        text-align: right;\n",
       "    }\n",
       "</style>\n",
       "<table border=\"1\" class=\"dataframe\">\n",
       "  <thead>\n",
       "    <tr style=\"text-align: right;\">\n",
       "      <th></th>\n",
       "      <th>Pregnancies</th>\n",
       "      <th>Glucose</th>\n",
       "      <th>BloodPressure</th>\n",
       "      <th>SkinThickness</th>\n",
       "      <th>Insulin</th>\n",
       "      <th>BMI</th>\n",
       "      <th>DiabetesPedigreeFunction</th>\n",
       "      <th>Age</th>\n",
       "    </tr>\n",
       "  </thead>\n",
       "  <tbody>\n",
       "    <tr>\n",
       "      <th>count</th>\n",
       "      <td>429.000000</td>\n",
       "      <td>429.000000</td>\n",
       "      <td>429.000000</td>\n",
       "      <td>429.000000</td>\n",
       "      <td>429.000000</td>\n",
       "      <td>429.000000</td>\n",
       "      <td>429.000000</td>\n",
       "      <td>429.000000</td>\n",
       "    </tr>\n",
       "    <tr>\n",
       "      <th>mean</th>\n",
       "      <td>3.740654</td>\n",
       "      <td>123.133489</td>\n",
       "      <td>71.685279</td>\n",
       "      <td>28.434343</td>\n",
       "      <td>135.268293</td>\n",
       "      <td>31.721635</td>\n",
       "      <td>0.415094</td>\n",
       "      <td>33.089623</td>\n",
       "    </tr>\n",
       "    <tr>\n",
       "      <th>std</th>\n",
       "      <td>3.237562</td>\n",
       "      <td>31.250846</td>\n",
       "      <td>10.779109</td>\n",
       "      <td>8.157184</td>\n",
       "      <td>51.034033</td>\n",
       "      <td>6.201033</td>\n",
       "      <td>0.241894</td>\n",
       "      <td>11.512548</td>\n",
       "    </tr>\n",
       "    <tr>\n",
       "      <th>min</th>\n",
       "      <td>0.000000</td>\n",
       "      <td>56.000000</td>\n",
       "      <td>44.000000</td>\n",
       "      <td>7.000000</td>\n",
       "      <td>15.000000</td>\n",
       "      <td>18.200000</td>\n",
       "      <td>0.078000</td>\n",
       "      <td>21.000000</td>\n",
       "    </tr>\n",
       "    <tr>\n",
       "      <th>25%</th>\n",
       "      <td>1.000000</td>\n",
       "      <td>100.000000</td>\n",
       "      <td>65.000000</td>\n",
       "      <td>24.000000</td>\n",
       "      <td>130.000000</td>\n",
       "      <td>27.400000</td>\n",
       "      <td>0.238000</td>\n",
       "      <td>24.000000</td>\n",
       "    </tr>\n",
       "    <tr>\n",
       "      <th>50%</th>\n",
       "      <td>3.000000</td>\n",
       "      <td>119.000000</td>\n",
       "      <td>71.685279</td>\n",
       "      <td>28.434343</td>\n",
       "      <td>135.268293</td>\n",
       "      <td>31.721635</td>\n",
       "      <td>0.342000</td>\n",
       "      <td>29.000000</td>\n",
       "    </tr>\n",
       "    <tr>\n",
       "      <th>75%</th>\n",
       "      <td>6.000000</td>\n",
       "      <td>143.000000</td>\n",
       "      <td>78.000000</td>\n",
       "      <td>32.000000</td>\n",
       "      <td>135.268293</td>\n",
       "      <td>35.200000</td>\n",
       "      <td>0.569000</td>\n",
       "      <td>40.000000</td>\n",
       "    </tr>\n",
       "    <tr>\n",
       "      <th>max</th>\n",
       "      <td>13.000000</td>\n",
       "      <td>197.000000</td>\n",
       "      <td>102.000000</td>\n",
       "      <td>54.000000</td>\n",
       "      <td>342.000000</td>\n",
       "      <td>49.300000</td>\n",
       "      <td>1.191000</td>\n",
       "      <td>66.000000</td>\n",
       "    </tr>\n",
       "  </tbody>\n",
       "</table>\n",
       "</div>"
      ],
      "text/plain": [
       "       Pregnancies     Glucose  BloodPressure  SkinThickness     Insulin  \\\n",
       "count   429.000000  429.000000     429.000000     429.000000  429.000000   \n",
       "mean      3.740654  123.133489      71.685279      28.434343  135.268293   \n",
       "std       3.237562   31.250846      10.779109       8.157184   51.034033   \n",
       "min       0.000000   56.000000      44.000000       7.000000   15.000000   \n",
       "25%       1.000000  100.000000      65.000000      24.000000  130.000000   \n",
       "50%       3.000000  119.000000      71.685279      28.434343  135.268293   \n",
       "75%       6.000000  143.000000      78.000000      32.000000  135.268293   \n",
       "max      13.000000  197.000000     102.000000      54.000000  342.000000   \n",
       "\n",
       "              BMI  DiabetesPedigreeFunction         Age  \n",
       "count  429.000000                429.000000  429.000000  \n",
       "mean    31.721635                  0.415094   33.089623  \n",
       "std      6.201033                  0.241894   11.512548  \n",
       "min     18.200000                  0.078000   21.000000  \n",
       "25%     27.400000                  0.238000   24.000000  \n",
       "50%     31.721635                  0.342000   29.000000  \n",
       "75%     35.200000                  0.569000   40.000000  \n",
       "max     49.300000                  1.191000   66.000000  "
      ]
     },
     "execution_count": 14,
     "metadata": {},
     "output_type": "execute_result"
    }
   ],
   "source": [
    "x_train.describe()"
   ]
  },
  {
   "cell_type": "markdown",
   "id": "italian-simpson",
   "metadata": {},
   "source": [
    "# 5. Normalización de datos de entrada. Z Score. "
   ]
  },
  {
   "cell_type": "code",
   "execution_count": 15,
   "id": "british-marble",
   "metadata": {},
   "outputs": [
    {
     "name": "stderr",
     "output_type": "stream",
     "text": [
      "c:\\users\\joaco\\appdata\\local\\programs\\python\\python39\\lib\\site-packages\\pandas\\core\\indexing.py:1637: SettingWithCopyWarning: \n",
      "A value is trying to be set on a copy of a slice from a DataFrame\n",
      "\n",
      "See the caveats in the documentation: https://pandas.pydata.org/pandas-docs/stable/user_guide/indexing.html#returning-a-view-versus-a-copy\n",
      "  self._setitem_single_block(indexer, value, name)\n",
      "c:\\users\\joaco\\appdata\\local\\programs\\python\\python39\\lib\\site-packages\\pandas\\core\\indexing.py:692: SettingWithCopyWarning: \n",
      "A value is trying to be set on a copy of a slice from a DataFrame\n",
      "\n",
      "See the caveats in the documentation: https://pandas.pydata.org/pandas-docs/stable/user_guide/indexing.html#returning-a-view-versus-a-copy\n",
      "  iloc._setitem_with_indexer(indexer, value, self.name)\n",
      "c:\\users\\joaco\\appdata\\local\\programs\\python\\python39\\lib\\site-packages\\pandas\\core\\indexing.py:1637: SettingWithCopyWarning: \n",
      "A value is trying to be set on a copy of a slice from a DataFrame\n",
      "\n",
      "See the caveats in the documentation: https://pandas.pydata.org/pandas-docs/stable/user_guide/indexing.html#returning-a-view-versus-a-copy\n",
      "  self._setitem_single_block(indexer, value, name)\n",
      "c:\\users\\joaco\\appdata\\local\\programs\\python\\python39\\lib\\site-packages\\pandas\\core\\indexing.py:692: SettingWithCopyWarning: \n",
      "A value is trying to be set on a copy of a slice from a DataFrame\n",
      "\n",
      "See the caveats in the documentation: https://pandas.pydata.org/pandas-docs/stable/user_guide/indexing.html#returning-a-view-versus-a-copy\n",
      "  iloc._setitem_with_indexer(indexer, value, self.name)\n",
      "c:\\users\\joaco\\appdata\\local\\programs\\python\\python39\\lib\\site-packages\\pandas\\core\\indexing.py:1637: SettingWithCopyWarning: \n",
      "A value is trying to be set on a copy of a slice from a DataFrame\n",
      "\n",
      "See the caveats in the documentation: https://pandas.pydata.org/pandas-docs/stable/user_guide/indexing.html#returning-a-view-versus-a-copy\n",
      "  self._setitem_single_block(indexer, value, name)\n",
      "c:\\users\\joaco\\appdata\\local\\programs\\python\\python39\\lib\\site-packages\\pandas\\core\\indexing.py:692: SettingWithCopyWarning: \n",
      "A value is trying to be set on a copy of a slice from a DataFrame\n",
      "\n",
      "See the caveats in the documentation: https://pandas.pydata.org/pandas-docs/stable/user_guide/indexing.html#returning-a-view-versus-a-copy\n",
      "  iloc._setitem_with_indexer(indexer, value, self.name)\n"
     ]
    }
   ],
   "source": [
    "# IMPORTANT! Backup unnormalized subsets for further utilization\n",
    "x_train_un = x_train\n",
    "x_valid_un = x_valid\n",
    "x_test_un = x_test\n",
    "\n",
    "# Apply z-score to all sub-datasets\n",
    "scalable_variables = ['Pregnancies', 'Glucose', 'BloodPressure', 'SkinThickness', 'Insulin', 'BMI', 'DiabetesPedigreeFunction','Age']\n",
    "\n",
    "if scalable_variables:\n",
    "    # Create an instance of the StandardScaler for each variable\n",
    "    scaler = preprocessing.StandardScaler()\n",
    "\n",
    "    # Fit the distribution\n",
    "    scaler.fit(x_train.loc[:, scalable_variables])\n",
    "\n",
    "    # Transform and normalize all variables\n",
    "    x_train.loc[:, scalable_variables] = scaler.transform(x_train.loc[:, scalable_variables])\n",
    "    x_test.loc[:, scalable_variables] = scaler.transform(x_test.loc[:, scalable_variables])\n",
    "    x_valid.loc[:, scalable_variables] = scaler.transform(x_valid.loc[:, scalable_variables])"
   ]
  },
  {
   "cell_type": "code",
   "execution_count": 16,
   "id": "occupied-trash",
   "metadata": {},
   "outputs": [
    {
     "data": {
      "text/html": [
       "<div>\n",
       "<style scoped>\n",
       "    .dataframe tbody tr th:only-of-type {\n",
       "        vertical-align: middle;\n",
       "    }\n",
       "\n",
       "    .dataframe tbody tr th {\n",
       "        vertical-align: top;\n",
       "    }\n",
       "\n",
       "    .dataframe thead th {\n",
       "        text-align: right;\n",
       "    }\n",
       "</style>\n",
       "<table border=\"1\" class=\"dataframe\">\n",
       "  <thead>\n",
       "    <tr style=\"text-align: right;\">\n",
       "      <th></th>\n",
       "      <th>Pregnancies</th>\n",
       "      <th>Glucose</th>\n",
       "      <th>BloodPressure</th>\n",
       "      <th>SkinThickness</th>\n",
       "      <th>Insulin</th>\n",
       "      <th>BMI</th>\n",
       "      <th>DiabetesPedigreeFunction</th>\n",
       "      <th>Age</th>\n",
       "    </tr>\n",
       "  </thead>\n",
       "  <tbody>\n",
       "    <tr>\n",
       "      <th>count</th>\n",
       "      <td>429.000000</td>\n",
       "      <td>4.290000e+02</td>\n",
       "      <td>4.290000e+02</td>\n",
       "      <td>4.290000e+02</td>\n",
       "      <td>4.290000e+02</td>\n",
       "      <td>4.290000e+02</td>\n",
       "      <td>4.290000e+02</td>\n",
       "      <td>4.290000e+02</td>\n",
       "    </tr>\n",
       "    <tr>\n",
       "      <th>mean</th>\n",
       "      <td>0.000000</td>\n",
       "      <td>1.573463e-16</td>\n",
       "      <td>6.211038e-17</td>\n",
       "      <td>2.794967e-16</td>\n",
       "      <td>-9.316557e-17</td>\n",
       "      <td>4.523706e-16</td>\n",
       "      <td>-1.594166e-16</td>\n",
       "      <td>-1.873663e-16</td>\n",
       "    </tr>\n",
       "    <tr>\n",
       "      <th>std</th>\n",
       "      <td>1.001168</td>\n",
       "      <td>1.001168e+00</td>\n",
       "      <td>1.001168e+00</td>\n",
       "      <td>1.001168e+00</td>\n",
       "      <td>1.001168e+00</td>\n",
       "      <td>1.001168e+00</td>\n",
       "      <td>1.001168e+00</td>\n",
       "      <td>1.001168e+00</td>\n",
       "    </tr>\n",
       "    <tr>\n",
       "      <th>min</th>\n",
       "      <td>-1.156741</td>\n",
       "      <td>-2.150722e+00</td>\n",
       "      <td>-2.571419e+00</td>\n",
       "      <td>-2.630733e+00</td>\n",
       "      <td>-2.359381e+00</td>\n",
       "      <td>-2.183091e+00</td>\n",
       "      <td>-1.395186e+00</td>\n",
       "      <td>-1.051352e+00</td>\n",
       "    </tr>\n",
       "    <tr>\n",
       "      <th>25%</th>\n",
       "      <td>-0.847506</td>\n",
       "      <td>-7.411159e-01</td>\n",
       "      <td>-6.209311e-01</td>\n",
       "      <td>-5.442467e-01</td>\n",
       "      <td>-1.033515e-01</td>\n",
       "      <td>-6.977354e-01</td>\n",
       "      <td>-7.329671e-01</td>\n",
       "      <td>-7.904623e-01</td>\n",
       "    </tr>\n",
       "    <tr>\n",
       "      <th>50%</th>\n",
       "      <td>-0.229036</td>\n",
       "      <td>-1.324225e-01</td>\n",
       "      <td>0.000000e+00</td>\n",
       "      <td>4.360404e-16</td>\n",
       "      <td>0.000000e+00</td>\n",
       "      <td>5.735917e-16</td>\n",
       "      <td>-3.025246e-01</td>\n",
       "      <td>-3.556465e-01</td>\n",
       "    </tr>\n",
       "    <tr>\n",
       "      <th>75%</th>\n",
       "      <td>0.698669</td>\n",
       "      <td>6.364533e-01</td>\n",
       "      <td>5.865135e-01</td>\n",
       "      <td>4.376289e-01</td>\n",
       "      <td>0.000000e+00</td>\n",
       "      <td>5.615881e-01</td>\n",
       "      <td>6.369989e-01</td>\n",
       "      <td>6.009482e-01</td>\n",
       "    </tr>\n",
       "    <tr>\n",
       "      <th>max</th>\n",
       "      <td>2.863314</td>\n",
       "      <td>2.366424e+00</td>\n",
       "      <td>2.815642e+00</td>\n",
       "      <td>3.137787e+00</td>\n",
       "      <td>4.055589e+00</td>\n",
       "      <td>2.838057e+00</td>\n",
       "      <td>3.211376e+00</td>\n",
       "      <td>2.861990e+00</td>\n",
       "    </tr>\n",
       "  </tbody>\n",
       "</table>\n",
       "</div>"
      ],
      "text/plain": [
       "       Pregnancies       Glucose  BloodPressure  SkinThickness       Insulin  \\\n",
       "count   429.000000  4.290000e+02   4.290000e+02   4.290000e+02  4.290000e+02   \n",
       "mean      0.000000  1.573463e-16   6.211038e-17   2.794967e-16 -9.316557e-17   \n",
       "std       1.001168  1.001168e+00   1.001168e+00   1.001168e+00  1.001168e+00   \n",
       "min      -1.156741 -2.150722e+00  -2.571419e+00  -2.630733e+00 -2.359381e+00   \n",
       "25%      -0.847506 -7.411159e-01  -6.209311e-01  -5.442467e-01 -1.033515e-01   \n",
       "50%      -0.229036 -1.324225e-01   0.000000e+00   4.360404e-16  0.000000e+00   \n",
       "75%       0.698669  6.364533e-01   5.865135e-01   4.376289e-01  0.000000e+00   \n",
       "max       2.863314  2.366424e+00   2.815642e+00   3.137787e+00  4.055589e+00   \n",
       "\n",
       "                BMI  DiabetesPedigreeFunction           Age  \n",
       "count  4.290000e+02              4.290000e+02  4.290000e+02  \n",
       "mean   4.523706e-16             -1.594166e-16 -1.873663e-16  \n",
       "std    1.001168e+00              1.001168e+00  1.001168e+00  \n",
       "min   -2.183091e+00             -1.395186e+00 -1.051352e+00  \n",
       "25%   -6.977354e-01             -7.329671e-01 -7.904623e-01  \n",
       "50%    5.735917e-16             -3.025246e-01 -3.556465e-01  \n",
       "75%    5.615881e-01              6.369989e-01  6.009482e-01  \n",
       "max    2.838057e+00              3.211376e+00  2.861990e+00  "
      ]
     },
     "execution_count": 16,
     "metadata": {},
     "output_type": "execute_result"
    }
   ],
   "source": [
    "x_train.describe()"
   ]
  },
  {
   "cell_type": "code",
   "execution_count": 17,
   "id": "fatal-moisture",
   "metadata": {},
   "outputs": [],
   "source": [
    "# Loading TensorBoard for learning logging\n",
    "%load_ext tensorboard"
   ]
  },
  {
   "cell_type": "code",
   "execution_count": 18,
   "id": "intimate-christianity",
   "metadata": {},
   "outputs": [
    {
     "data": {
      "text/html": [
       "\n",
       "      <iframe id=\"tensorboard-frame-e22ed24735ee92c8\" width=\"100%\" height=\"800\" frameborder=\"0\">\n",
       "      </iframe>\n",
       "      <script>\n",
       "        (function() {\n",
       "          const frame = document.getElementById(\"tensorboard-frame-e22ed24735ee92c8\");\n",
       "          const url = new URL(\"/\", window.location);\n",
       "          const port = 6006;\n",
       "          if (port) {\n",
       "            url.port = port;\n",
       "          }\n",
       "          frame.src = url;\n",
       "        })();\n",
       "      </script>\n",
       "    "
      ],
      "text/plain": [
       "<IPython.core.display.HTML object>"
      ]
     },
     "metadata": {},
     "output_type": "display_data"
    }
   ],
   "source": [
    "# TensorBoard launch\n",
    "%tensorboard --logdir tb-logs"
   ]
  },
  {
   "cell_type": "markdown",
   "id": "historic-medication",
   "metadata": {},
   "source": [
    "# 6. Multi Layer Perceptron (MLP) - Test #1"
   ]
  },
  {
   "cell_type": "markdown",
   "id": "combined-architect",
   "metadata": {},
   "source": [
    "Se crea un primer modelo usando las funciones de Keras, explícitamente."
   ]
  },
  {
   "cell_type": "code",
   "execution_count": 20,
   "id": "textile-second",
   "metadata": {},
   "outputs": [],
   "source": [
    "from keras.models import Sequential, load_model\n",
    "from keras.layers import Dense, BatchNormalization, Dropout\n",
    "from keras.optimizers import SGD, Adam\n",
    "from keras.metrics import SensitivityAtSpecificity\n",
    "from keras.callbacks import TensorBoard, ModelCheckpoint\n",
    "import datetime"
   ]
  },
  {
   "cell_type": "code",
   "execution_count": 21,
   "id": "changed-stone",
   "metadata": {},
   "outputs": [],
   "source": [
    "units_per_layer = 3\n",
    "hidden_layers = 2\n",
    "input_dim = 8\n",
    "dropout_prob = 0\n",
    "# Define MLP model\n",
    "mlp_model = Sequential()\n",
    "for layer in range(hidden_layers):\n",
    "    mlp_model.add(Dense(units_per_layer, input_shape=(input_dim,), activation='relu', use_bias=True))\n",
    "    mlp_model.add(Dropout(dropout_prob))\n",
    "mlp_model.add(Dense(1, activation='sigmoid', use_bias=True)) # Output layer"
   ]
  },
  {
   "cell_type": "code",
   "execution_count": 22,
   "id": "framed-relaxation",
   "metadata": {},
   "outputs": [
    {
     "name": "stdout",
     "output_type": "stream",
     "text": [
      "Model: \"sequential\"\n",
      "_________________________________________________________________\n",
      "Layer (type)                 Output Shape              Param #   \n",
      "=================================================================\n",
      "dense (Dense)                (None, 3)                 27        \n",
      "_________________________________________________________________\n",
      "dropout (Dropout)            (None, 3)                 0         \n",
      "_________________________________________________________________\n",
      "dense_1 (Dense)              (None, 3)                 12        \n",
      "_________________________________________________________________\n",
      "dropout_1 (Dropout)          (None, 3)                 0         \n",
      "_________________________________________________________________\n",
      "dense_2 (Dense)              (None, 1)                 4         \n",
      "=================================================================\n",
      "Total params: 43\n",
      "Trainable params: 43\n",
      "Non-trainable params: 0\n",
      "_________________________________________________________________\n"
     ]
    }
   ],
   "source": [
    "# Compiling model\n",
    "mlp_model.compile(optimizer='SGD', loss='binary_crossentropy', metrics=['AUC'])\n",
    "mlp_model.summary()"
   ]
  },
  {
   "cell_type": "code",
   "execution_count": 36,
   "id": "upset-thread",
   "metadata": {},
   "outputs": [
    {
     "name": "stdout",
     "output_type": "stream",
     "text": [
      "6/6 [==============================] - 0s 1ms/step - loss: 0.5452 - auc: 0.7680\n"
     ]
    },
    {
     "data": {
      "text/plain": [
       "[0.5451861619949341, 0.7679526805877686]"
      ]
     },
     "execution_count": 36,
     "metadata": {},
     "output_type": "execute_result"
    }
   ],
   "source": [
    "mlp_model.fit(x=x_train, y=y_train, validation_data=(x_valid, y_valid), shuffle=True, epochs=200, batch_size=32, verbose=0)\n",
    "mlp_model.evaluate(x_valid, y_valid)"
   ]
  },
  {
   "cell_type": "code",
   "execution_count": 24,
   "id": "blessed-basketball",
   "metadata": {},
   "outputs": [],
   "source": [
    "from src import mlp_helper\n",
    "from src.mlp_helper import create_model, run_model\n",
    "importlib.reload(mlp_helper);"
   ]
  },
  {
   "cell_type": "markdown",
   "id": "widespread-planner",
   "metadata": {},
   "source": [
    "Se crea un modelo para verificar que la función *create_model* haga su tarea correctamente."
   ]
  },
  {
   "cell_type": "code",
   "execution_count": 25,
   "id": "divine-louis",
   "metadata": {},
   "outputs": [
    {
     "name": "stdout",
     "output_type": "stream",
     "text": [
      "Model: \"sequential\"\n",
      "_________________________________________________________________\n",
      "Layer (type)                 Output Shape              Param #   \n",
      "=================================================================\n",
      "dense (Dense)                (None, 4)                 36        \n",
      "_________________________________________________________________\n",
      "dense_1 (Dense)              (None, 4)                 20        \n",
      "_________________________________________________________________\n",
      "dense_2 (Dense)              (None, 4)                 20        \n",
      "_________________________________________________________________\n",
      "dense_3 (Dense)              (None, 4)                 20        \n",
      "_________________________________________________________________\n",
      "dense_4 (Dense)              (None, 1)                 5         \n",
      "=================================================================\n",
      "Total params: 101\n",
      "Trainable params: 101\n",
      "Non-trainable params: 0\n",
      "_________________________________________________________________\n"
     ]
    }
   ],
   "source": [
    "model = create_model(hidden_layers=4,\n",
    "                    units_per_layer=4,\n",
    "                    hidden_layer_activation='tanh',\n",
    "                    regularizer=None,\n",
    "                    regularizer_lambda=1e-10,\n",
    "                    dropout_rate=0.0,\n",
    "                    use_batch_normalization=False)\n",
    "model.summary()"
   ]
  },
  {
   "cell_type": "markdown",
   "id": "saving-qatar",
   "metadata": {},
   "source": [
    "## Ejemplo #1 - Primera aproximación\n",
    "Se comienza con un modelo básico con una sola capa oculta, con dos neuronas al mismo nivel."
   ]
  },
  {
   "cell_type": "code",
   "execution_count": 26,
   "id": "binding-middle",
   "metadata": {},
   "outputs": [
    {
     "name": "stdout",
     "output_type": "stream",
     "text": [
      "Model logs @ tb-logs/mlp/EX1/20210530-173916\n",
      "Model checkpoints @ checkpoints/mlp/20210530-173916\n",
      "Model: \"sequential_1\"\n",
      "_________________________________________________________________\n",
      "Layer (type)                 Output Shape              Param #   \n",
      "=================================================================\n",
      "dense_5 (Dense)              (None, 2)                 18        \n",
      "_________________________________________________________________\n",
      "dense_6 (Dense)              (None, 1)                 3         \n",
      "=================================================================\n",
      "Total params: 21\n",
      "Trainable params: 21\n",
      "Non-trainable params: 0\n",
      "_________________________________________________________________\n",
      "(429, 8) (429, 1)\n",
      "(185, 8) (185, 1)\n",
      "(154, 8) (154, 1)\n"
     ]
    },
    {
     "data": {
      "image/png": "[encoded data removed]",
      "text/plain": [
       "<Figure size 432x288 with 1 Axes>"
      ]
     },
     "metadata": {
      "needs_background": "light"
     },
     "output_type": "display_data"
    },
    {
     "name": "stdout",
     "output_type": "stream",
     "text": [
      "------------------- Main metric -------------------\n",
      "[AUC] Train: 0.8261 - Valid: 0.7713 - Test: 0.8722\n",
      "---------------- Secondary metrics ----------------\n",
      "[PPV] Train: 0.6489 - Valid: 0.6316 - Test: 0.7556\n",
      "[NPV] Train: 0.7886 - Valid: 0.7656 - Test: 0.8165\n",
      "[SEN] Train: 0.5743 - Valid: 0.5455 - Test: 0.6296\n",
      "[SPE] Train: 0.8363 - Valid: 0.8235 - Test: 0.8900\n",
      "---------------- Confusion Matrix -----------------\n",
      "Train: FP = 46 - TP = 85 - FN = 63 - TN = 235\n",
      "Valid: FP = 21 - TP = 36 - FN = 30 - TN = 98\n",
      "Test: FP = 11 - TP = 34 - FN = 20 - TN = 89\n",
      "--------------- Threshold Selection ---------------\n",
      "[F2S] Best f2 score for valid is 0.8060 @ threhsold = 0.1515\n"
     ]
    }
   ],
   "source": [
    "auc_train, auc_valid, auc_test = run_model(x_train=x_train, y_train=y_train, x_valid=x_valid, y_valid=y_valid, x_test=x_test, y_test=y_test,\n",
    "                                            optimizer='adam',\n",
    "                                            loss='binary_crossentropy',\n",
    "                                            momentum=0,\n",
    "                                            rho=0,\n",
    "                                            beta_1=0,\n",
    "                                            beta_2=0,\n",
    "                                            learning_rate=0.1,\n",
    "                                            decay_rate=0.5,\n",
    "                                            batch_size=64,\n",
    "                                            epochs=200,\n",
    "                                            patience=20,\n",
    "                                            min_delta=0.001,\n",
    "                                            tensorboard_on=True,\n",
    "                                            summary_on=True,\n",
    "                                            tag='EX1',\n",
    "                                            hidden_layers=1,\n",
    "                                            units_per_layer=2,\n",
    "                                            hidden_layer_activation='sigmoid',\n",
    "                                            regularizer='l2',\n",
    "                                            regularizer_lambda=1e-4,\n",
    "                                            dropout_rate=0.0,\n",
    "                                            use_batch_normalization=False)"
   ]
  },
  {
   "cell_type": "code",
   "execution_count": 27,
   "id": "domestic-survival",
   "metadata": {},
   "outputs": [
    {
     "data": {
      "text/html": [
       "\n",
       "      <iframe id=\"tensorboard-frame-ae6a137c97c5286f\" width=\"100%\" height=\"800\" frameborder=\"0\">\n",
       "      </iframe>\n",
       "      <script>\n",
       "        (function() {\n",
       "          const frame = document.getElementById(\"tensorboard-frame-ae6a137c97c5286f\");\n",
       "          const url = new URL(\"/\", window.location);\n",
       "          const port = 6006;\n",
       "          if (port) {\n",
       "            url.port = port;\n",
       "          }\n",
       "          frame.src = url;\n",
       "        })();\n",
       "      </script>\n",
       "    "
      ],
      "text/plain": [
       "<IPython.core.display.HTML object>"
      ]
     },
     "metadata": {},
     "output_type": "display_data"
    }
   ],
   "source": [
    "# TensorBoard launch\n",
    "%tensorboard --logdir tb-logs/mlp/"
   ]
  },
  {
   "cell_type": "markdown",
   "id": "critical-recorder",
   "metadata": {},
   "source": [
    "## Ejemplo #2 - Probando SGD\n",
    "Veamos que este es el caso óptimo. Si cambio el learning rate se rompe. El momentum está **al máximo**. Esto significa, a priori, la posible presencia de un plató en donde arranca a optimizar. Seguimos con un modelo simple de dos neuronas en una misma capa oculta."
   ]
  },
  {
   "cell_type": "code",
   "execution_count": 28,
   "id": "numeric-egypt",
   "metadata": {},
   "outputs": [
    {
     "name": "stdout",
     "output_type": "stream",
     "text": [
      "Model logs @ tb-logs/mlp/SGD1/20210530-173925\n",
      "Model checkpoints @ checkpoints/mlp/20210530-173925\n",
      "Model: \"sequential_2\"\n",
      "_________________________________________________________________\n",
      "Layer (type)                 Output Shape              Param #   \n",
      "=================================================================\n",
      "dense_7 (Dense)              (None, 2)                 18        \n",
      "_________________________________________________________________\n",
      "dense_8 (Dense)              (None, 1)                 3         \n",
      "=================================================================\n",
      "Total params: 21\n",
      "Trainable params: 21\n",
      "Non-trainable params: 0\n",
      "_________________________________________________________________\n",
      "(429, 8) (429, 1)\n",
      "(185, 8) (185, 1)\n",
      "(154, 8) (154, 1)\n"
     ]
    },
    {
     "data": {
      "image/png": "[encoded data removed]",
      "text/plain": [
       "<Figure size 432x288 with 1 Axes>"
      ]
     },
     "metadata": {
      "needs_background": "light"
     },
     "output_type": "display_data"
    },
    {
     "name": "stdout",
     "output_type": "stream",
     "text": [
      "------------------- Main metric -------------------\n",
      "[AUC] Train: 0.8155 - Valid: 0.7811 - Test: 0.8678\n",
      "---------------- Secondary metrics ----------------\n",
      "[PPV] Train: 0.5000 - Valid: 0.5086 - Test: 0.5306\n",
      "[NPV] Train: 0.9182 - Valid: 0.8986 - Test: 0.9643\n",
      "[SEN] Train: 0.9122 - Valid: 0.8939 - Test: 0.9630\n",
      "[SPE] Train: 0.5196 - Valid: 0.5210 - Test: 0.5400\n",
      "---------------- Confusion Matrix -----------------\n",
      "Train: FP = 135 - TP = 135 - FN = 13 - TN = 146\n",
      "Valid: FP = 57 - TP = 59 - FN = 7 - TN = 62\n",
      "Test: FP = 46 - TP = 52 - FN = 2 - TN = 54\n",
      "--------------- Threshold Selection ---------------\n",
      "[F2S] Best f2 score for valid is 0.8020 @ threhsold = 0.4444\n"
     ]
    }
   ],
   "source": [
    "auc_train, auc_valid, auc_test = run_model(x_train=x_train, y_train=y_train, x_valid=x_valid, y_valid=y_valid, x_test=x_test, y_test=y_test,\n",
    "                                            optimizer='sgd',\n",
    "                                            loss='binary_crossentropy',\n",
    "                                            momentum=1,\n",
    "                                            rho=0,\n",
    "                                            beta_1=0,\n",
    "                                            beta_2=0,\n",
    "                                            learning_rate=0.1,\n",
    "                                            decay_rate=0.8,\n",
    "                                            batch_size=32,\n",
    "                                            epochs=200,\n",
    "                                            patience=20,\n",
    "                                            min_delta=0.01,\n",
    "                                            tensorboard_on=True,\n",
    "                                            summary_on=True,\n",
    "                                            tag='SGD1',\n",
    "                                            hidden_layers=1,\n",
    "                                            units_per_layer=2,\n",
    "                                            hidden_layer_activation='sigmoid',\n",
    "                                            regularizer=None,\n",
    "                                            regularizer_lambda=1e-4,\n",
    "                                            dropout_rate=0.0,\n",
    "                                            use_batch_normalization=False)"
   ]
  },
  {
   "cell_type": "markdown",
   "id": "terminal-oasis",
   "metadata": {},
   "source": [
    "Mirando TensorBoard, se aprecia un comportamiento divergente en la loss de **train** y de **valid**."
   ]
  },
  {
   "cell_type": "markdown",
   "id": "anonymous-hungarian",
   "metadata": {},
   "source": [
    "## Ejemplo #3 - Probando Adam\n",
    "Vemos que en este caso, Adam produce resultados MUY superiores, variando el momentum entre sus extremos."
   ]
  },
  {
   "cell_type": "code",
   "execution_count": 38,
   "id": "thirty-anxiety",
   "metadata": {},
   "outputs": [
    {
     "name": "stdout",
     "output_type": "stream",
     "text": [
      "Model logs @ tb-logs/mlp/EX3/20210530-175217\n",
      "Model checkpoints @ checkpoints/mlp/20210530-175217\n",
      "Model: \"sequential_8\"\n",
      "_________________________________________________________________\n",
      "Layer (type)                 Output Shape              Param #   \n",
      "=================================================================\n",
      "dense_19 (Dense)             (None, 2)                 18        \n",
      "_________________________________________________________________\n",
      "dense_20 (Dense)             (None, 1)                 3         \n",
      "=================================================================\n",
      "Total params: 21\n",
      "Trainable params: 21\n",
      "Non-trainable params: 0\n",
      "_________________________________________________________________\n",
      "(429, 8) (429, 1)\n",
      "(185, 8) (185, 1)\n",
      "(154, 8) (154, 1)\n"
     ]
    },
    {
     "data": {
      "image/png": "[encoded data removed]",
      "text/plain": [
       "<Figure size 432x288 with 1 Axes>"
      ]
     },
     "metadata": {
      "needs_background": "light"
     },
     "output_type": "display_data"
    },
    {
     "name": "stdout",
     "output_type": "stream",
     "text": [
      "------------------- Main metric -------------------\n",
      "[AUC] Train: 0.8237 - Valid: 0.7737 - Test: 0.8707\n",
      "---------------- Secondary metrics ----------------\n",
      "[PPV] Train: 0.6209 - Valid: 0.5821 - Test: 0.7400\n",
      "[NPV] Train: 0.8080 - Valid: 0.7712 - Test: 0.8365\n",
      "[SEN] Train: 0.6419 - Valid: 0.5909 - Test: 0.6852\n",
      "[SPE] Train: 0.7936 - Valid: 0.7647 - Test: 0.8700\n",
      "---------------- Confusion Matrix -----------------\n",
      "Train: FP = 58 - TP = 95 - FN = 53 - TN = 223\n",
      "Valid: FP = 28 - TP = 39 - FN = 27 - TN = 91\n",
      "Test: FP = 13 - TP = 37 - FN = 17 - TN = 87\n",
      "--------------- Threshold Selection ---------------\n",
      "[F2S] Best f2 score for valid is 0.8081 @ threhsold = 0.1414\n"
     ]
    }
   ],
   "source": [
    "auc_train, auc_valid, auc_test = run_model(x_train=x_train, y_train=y_train, x_valid=x_valid, y_valid=y_valid, x_test=x_test, y_test=y_test,\n",
    "                                            optimizer='adam',\n",
    "                                            loss='binary_crossentropy',\n",
    "                                            momentum=0,\n",
    "                                            rho=0,\n",
    "                                            beta_1=0.999,\n",
    "                                            beta_2=0.99,\n",
    "                                            learning_rate=0.098,\n",
    "                                            decay_rate=0.8,\n",
    "                                            batch_size=32,\n",
    "                                            epochs=200,\n",
    "                                            patience=20,\n",
    "                                            min_delta=0.01,\n",
    "                                            tensorboard_on=True,\n",
    "                                            summary_on=True,\n",
    "                                            tag='EX3',\n",
    "                                            hidden_layers=1,\n",
    "                                            units_per_layer=2,\n",
    "                                            hidden_layer_activation='sigmoid',\n",
    "                                            regularizer=None,\n",
    "                                            regularizer_lambda=0,\n",
    "                                            dropout_rate=0.0,\n",
    "                                            use_batch_normalization=False)"
   ]
  },
  {
   "cell_type": "markdown",
   "id": "concrete-hands",
   "metadata": {},
   "source": [
    "## Ejemplo #4 - Se agregan L2 y Dropout\n",
    "Además se disminuyen los *beta* del optimizador Adam."
   ]
  },
  {
   "cell_type": "code",
   "execution_count": 41,
   "id": "artificial-phase",
   "metadata": {},
   "outputs": [
    {
     "name": "stdout",
     "output_type": "stream",
     "text": [
      "Model logs @ tb-logs/mlp/EX4/20210530-175354\n",
      "Model checkpoints @ checkpoints/mlp/20210530-175354\n",
      "Model: \"sequential_11\"\n",
      "_________________________________________________________________\n",
      "Layer (type)                 Output Shape              Param #   \n",
      "=================================================================\n",
      "dense_25 (Dense)             (None, 2)                 18        \n",
      "_________________________________________________________________\n",
      "dropout_5 (Dropout)          (None, 2)                 0         \n",
      "_________________________________________________________________\n",
      "dense_26 (Dense)             (None, 1)                 3         \n",
      "=================================================================\n",
      "Total params: 21\n",
      "Trainable params: 21\n",
      "Non-trainable params: 0\n",
      "_________________________________________________________________\n",
      "(429, 8) (429, 1)\n",
      "(185, 8) (185, 1)\n",
      "(154, 8) (154, 1)\n"
     ]
    },
    {
     "data": {
      "image/png": "[encoded data removed]",
      "text/plain": [
       "<Figure size 432x288 with 1 Axes>"
      ]
     },
     "metadata": {
      "needs_background": "light"
     },
     "output_type": "display_data"
    },
    {
     "name": "stdout",
     "output_type": "stream",
     "text": [
      "------------------- Main metric -------------------\n",
      "[AUC] Train: 0.8246 - Valid: 0.7847 - Test: 0.8717\n",
      "---------------- Secondary metrics ----------------\n",
      "[PPV] Train: 0.6391 - Valid: 0.6250 - Test: 0.7727\n",
      "[NPV] Train: 0.7872 - Valid: 0.7597 - Test: 0.8182\n",
      "[SEN] Train: 0.5743 - Valid: 0.5303 - Test: 0.6296\n",
      "[SPE] Train: 0.8292 - Valid: 0.8235 - Test: 0.9000\n",
      "---------------- Confusion Matrix -----------------\n",
      "Train: FP = 48 - TP = 85 - FN = 63 - TN = 233\n",
      "Valid: FP = 21 - TP = 35 - FN = 31 - TN = 98\n",
      "Test: FP = 10 - TP = 34 - FN = 20 - TN = 90\n",
      "--------------- Threshold Selection ---------------\n",
      "[F2S] Best f2 score for valid is 0.8081 @ threhsold = 0.1616\n"
     ]
    }
   ],
   "source": [
    "auc_train, auc_valid, auc_test = run_model(x_train=x_train, y_train=y_train, x_valid=x_valid, y_valid=y_valid, x_test=x_test, y_test=y_test,\n",
    "                                            optimizer='adam',\n",
    "                                            loss='binary_crossentropy',\n",
    "                                            momentum=0,\n",
    "                                            rho=0,\n",
    "                                            beta_1=0.9,\n",
    "                                            beta_2=0.9,\n",
    "                                            learning_rate=0.098,\n",
    "                                            decay_rate=0.8,\n",
    "                                            batch_size=32,\n",
    "                                            epochs=200,\n",
    "                                            patience=30,\n",
    "                                            min_delta=0.01,\n",
    "                                            tensorboard_on=True,\n",
    "                                            summary_on=True,\n",
    "                                            tag='EX4',\n",
    "                                            hidden_layers=1,\n",
    "                                            units_per_layer=2,\n",
    "                                            hidden_layer_activation='sigmoid',\n",
    "                                            regularizer='l2',\n",
    "                                            regularizer_lambda=1e-4,\n",
    "                                            dropout_rate=0.2,\n",
    "                                            use_batch_normalization=False)"
   ]
  },
  {
   "cell_type": "markdown",
   "id": "flexible-crime",
   "metadata": {},
   "source": [
    "Aumenta levemente la métrica en train, y lo mismo hace el overfitting."
   ]
  },
  {
   "cell_type": "markdown",
   "id": "numeric-treasure",
   "metadata": {},
   "source": [
    "## Ejemplo #5 - Caso límite: ¿Qué pasa si usamos probabilida de dropout = 1?\n",
    "En ese caso, caen todas las neuronas. Por ende, el modelo predicirá la solución trivial."
   ]
  },
  {
   "cell_type": "code",
   "execution_count": 43,
   "id": "printable-strain",
   "metadata": {},
   "outputs": [
    {
     "name": "stdout",
     "output_type": "stream",
     "text": [
      "Model logs @ tb-logs/mlp/EX5/20210530-175554\n",
      "Model checkpoints @ checkpoints/mlp/20210530-175554\n",
      "Model: \"sequential_12\"\n",
      "_________________________________________________________________\n",
      "Layer (type)                 Output Shape              Param #   \n",
      "=================================================================\n",
      "dense_27 (Dense)             (None, 2)                 18        \n",
      "_________________________________________________________________\n",
      "dropout_6 (Dropout)          (None, 2)                 0         \n",
      "_________________________________________________________________\n",
      "dense_28 (Dense)             (None, 1)                 3         \n",
      "=================================================================\n",
      "Total params: 21\n",
      "Trainable params: 21\n",
      "Non-trainable params: 0\n",
      "_________________________________________________________________\n",
      "(429, 8) (429, 1)\n",
      "(185, 8) (185, 1)\n",
      "(154, 8) (154, 1)\n"
     ]
    },
    {
     "name": "stderr",
     "output_type": "stream",
     "text": [
      "C:\\Users\\Joaco\\Desktop\\TP2 Redes Neuronales\\nn-tp2\\notebooks\\ej1\\src\\helper.py:71: RuntimeWarning: invalid value encountered in longlong_scalars\n",
      "  ppv_train = tp_train / (fp_train + tp_train)\n",
      "C:\\Users\\Joaco\\Desktop\\TP2 Redes Neuronales\\nn-tp2\\notebooks\\ej1\\src\\helper.py:72: RuntimeWarning: invalid value encountered in longlong_scalars\n",
      "  ppv_valid = tp_valid / (fp_valid + tp_valid)\n",
      "C:\\Users\\Joaco\\Desktop\\TP2 Redes Neuronales\\nn-tp2\\notebooks\\ej1\\src\\helper.py:73: RuntimeWarning: invalid value encountered in longlong_scalars\n",
      "  ppv_test = tp_test / (fp_test + tp_test)\n"
     ]
    },
    {
     "data": {
      "image/png": "[encoded data removed]",
      "text/plain": [
       "<Figure size 432x288 with 1 Axes>"
      ]
     },
     "metadata": {
      "needs_background": "light"
     },
     "output_type": "display_data"
    },
    {
     "name": "stdout",
     "output_type": "stream",
     "text": [
      "------------------- Main metric -------------------\n",
      "[AUC] Train: 0.2150 - Valid: 0.2161 - Test: 0.1709\n",
      "---------------- Secondary metrics ----------------\n",
      "[PPV] Train: nan - Valid: nan - Test: nan\n",
      "[NPV] Train: 0.6550 - Valid: 0.6432 - Test: 0.6494\n",
      "[SEN] Train: 0.0000 - Valid: 0.0000 - Test: 0.0000\n",
      "[SPE] Train: 1.0000 - Valid: 1.0000 - Test: 1.0000\n",
      "---------------- Confusion Matrix -----------------\n",
      "Train: FP = 0 - TP = 0 - FN = 148 - TN = 281\n",
      "Valid: FP = 0 - TP = 0 - FN = 66 - TN = 119\n",
      "Test: FP = 0 - TP = 0 - FN = 54 - TN = 100\n",
      "--------------- Threshold Selection ---------------\n",
      "[F2S] Best f2 score for valid is 0.7350 @ threhsold = 0.0000\n"
     ]
    }
   ],
   "source": [
    "auc_train, auc_valid, auc_test = run_model(x_train=x_train, y_train=y_train, x_valid=x_valid, y_valid=y_valid, x_test=x_test, y_test=y_test,\n",
    "                                            optimizer='adam',\n",
    "                                            loss='binary_crossentropy',\n",
    "                                            momentum=0,\n",
    "                                            rho=0,\n",
    "                                            beta_1=0.9,\n",
    "                                            beta_2=0.9,\n",
    "                                            learning_rate=0.098,\n",
    "                                            decay_rate=0.8,\n",
    "                                            batch_size=32,\n",
    "                                            epochs=200,\n",
    "                                            patience=30,\n",
    "                                            min_delta=0.01,\n",
    "                                            tensorboard_on=True,\n",
    "                                            summary_on=True,\n",
    "                                            tag='EX5',\n",
    "                                            hidden_layers=1,\n",
    "                                            units_per_layer=2,\n",
    "                                            hidden_layer_activation='sigmoid',\n",
    "                                            regularizer='l2',\n",
    "                                            regularizer_lambda=1e-7,\n",
    "                                            dropout_rate=0.999,\n",
    "                                            use_batch_normalization=False)"
   ]
  },
  {
   "cell_type": "markdown",
   "id": "alpine-arabic",
   "metadata": {},
   "source": [
    "Del modelo anterior se observa que el dropout excesivo produce que se desactiven varias neuronas al entrenar, entorpeciendo el proceso. Luego el modelo clasifia todas las observaciones como negativas."
   ]
  },
  {
   "cell_type": "markdown",
   "id": "lyric-italian",
   "metadata": {},
   "source": [
    "## Ejemplo #6 - Sacamos Dropout y ponemos Batch Normalization\n",
    "Al mejor modelo obtenido hasta ahora, se le cambia dropout por batch normalization. Vemos que no existe mejora en el modelo."
   ]
  },
  {
   "cell_type": "code",
   "execution_count": 47,
   "id": "dimensional-dining",
   "metadata": {},
   "outputs": [
    {
     "name": "stdout",
     "output_type": "stream",
     "text": [
      "Model logs @ tb-logs/mlp/EX6/20210530-175830\n",
      "Model checkpoints @ checkpoints/mlp/20210530-175830\n",
      "Model: \"sequential_15\"\n",
      "_________________________________________________________________\n",
      "Layer (type)                 Output Shape              Param #   \n",
      "=================================================================\n",
      "dense_33 (Dense)             (None, 2)                 18        \n",
      "_________________________________________________________________\n",
      "batch_normalization_3 (Batch (None, 2)                 8         \n",
      "_________________________________________________________________\n",
      "dense_34 (Dense)             (None, 1)                 3         \n",
      "=================================================================\n",
      "Total params: 29\n",
      "Trainable params: 25\n",
      "Non-trainable params: 4\n",
      "_________________________________________________________________\n",
      "(429, 8) (429, 1)\n",
      "(185, 8) (185, 1)\n",
      "(154, 8) (154, 1)\n"
     ]
    },
    {
     "data": {
      "image/png": "[encoded data removed]",
      "text/plain": [
       "<Figure size 432x288 with 1 Axes>"
      ]
     },
     "metadata": {
      "needs_background": "light"
     },
     "output_type": "display_data"
    },
    {
     "name": "stdout",
     "output_type": "stream",
     "text": [
      "------------------- Main metric -------------------\n",
      "[AUC] Train: 0.8363 - Valid: 0.8004 - Test: 0.8920\n",
      "---------------- Secondary metrics ----------------\n",
      "[PPV] Train: 0.6929 - Valid: 0.6379 - Test: 0.7200\n",
      "[NPV] Train: 0.8013 - Valid: 0.7717 - Test: 0.8269\n",
      "[SEN] Train: 0.5946 - Valid: 0.5606 - Test: 0.6667\n",
      "[SPE] Train: 0.8612 - Valid: 0.8235 - Test: 0.8600\n",
      "---------------- Confusion Matrix -----------------\n",
      "Train: FP = 39 - TP = 88 - FN = 60 - TN = 242\n",
      "Valid: FP = 21 - TP = 37 - FN = 29 - TN = 98\n",
      "Test: FP = 14 - TP = 36 - FN = 18 - TN = 86\n",
      "--------------- Threshold Selection ---------------\n",
      "[F2S] Best f2 score for valid is 0.8015 @ threhsold = 0.1515\n"
     ]
    }
   ],
   "source": [
    "auc_train, auc_valid, auc_test = run_model(x_train=x_train, y_train=y_train, x_valid=x_valid, y_valid=y_valid, x_test=x_test, y_test=y_test,\n",
    "                                            optimizer='adam',\n",
    "                                            loss='binary_crossentropy',\n",
    "                                            momentum=0,\n",
    "                                            rho=0,\n",
    "                                            beta_1=0.9,\n",
    "                                            beta_2=0.9,\n",
    "                                            learning_rate=0.098,\n",
    "                                            decay_rate=0.8,\n",
    "                                            batch_size=32,\n",
    "                                            epochs=200,\n",
    "                                            patience=30,\n",
    "                                            min_delta=0.01,\n",
    "                                            tensorboard_on=True,\n",
    "                                            summary_on=True,\n",
    "                                            tag='EX6',\n",
    "                                            hidden_layers=1,\n",
    "                                            units_per_layer=2,\n",
    "                                            hidden_layer_activation='sigmoid',\n",
    "                                            regularizer='l2',\n",
    "                                            regularizer_lambda=1e-7,\n",
    "                                            dropout_rate=0.0,\n",
    "                                            use_batch_normalization=True)"
   ]
  },
  {
   "cell_type": "markdown",
   "id": "essential-sound",
   "metadata": {},
   "source": [
    "## Ejemplo #7 - Cambio en la función de activación, manteniendo el mejor modelo.\n",
    "Se cambia la función sigmoidea por una tangente hiperbólica."
   ]
  },
  {
   "cell_type": "code",
   "execution_count": 49,
   "id": "hungarian-reynolds",
   "metadata": {},
   "outputs": [
    {
     "name": "stdout",
     "output_type": "stream",
     "text": [
      "Model logs @ tb-logs/mlp/EX7/20210530-180101\n",
      "Model checkpoints @ checkpoints/mlp/20210530-180101\n",
      "Model: \"sequential_17\"\n",
      "_________________________________________________________________\n",
      "Layer (type)                 Output Shape              Param #   \n",
      "=================================================================\n",
      "dense_37 (Dense)             (None, 2)                 18        \n",
      "_________________________________________________________________\n",
      "batch_normalization_4 (Batch (None, 2)                 8         \n",
      "_________________________________________________________________\n",
      "dense_38 (Dense)             (None, 1)                 3         \n",
      "=================================================================\n",
      "Total params: 29\n",
      "Trainable params: 25\n",
      "Non-trainable params: 4\n",
      "_________________________________________________________________\n",
      "(429, 8) (429, 1)\n",
      "(185, 8) (185, 1)\n",
      "(154, 8) (154, 1)\n"
     ]
    },
    {
     "data": {
      "image/png": "[encoded data removed]",
      "text/plain": [
       "<Figure size 432x288 with 1 Axes>"
      ]
     },
     "metadata": {
      "needs_background": "light"
     },
     "output_type": "display_data"
    },
    {
     "name": "stdout",
     "output_type": "stream",
     "text": [
      "------------------- Main metric -------------------\n",
      "[AUC] Train: 0.8281 - Valid: 0.7956 - Test: 0.8911\n",
      "---------------- Secondary metrics ----------------\n",
      "[PPV] Train: 0.6923 - Valid: 0.6296 - Test: 0.8140\n",
      "[NPV] Train: 0.7853 - Valid: 0.7557 - Test: 0.8288\n",
      "[SEN] Train: 0.5473 - Valid: 0.5152 - Test: 0.6481\n",
      "[SPE] Train: 0.8719 - Valid: 0.8319 - Test: 0.9200\n",
      "---------------- Confusion Matrix -----------------\n",
      "Train: FP = 36 - TP = 81 - FN = 67 - TN = 245\n",
      "Valid: FP = 20 - TP = 34 - FN = 32 - TN = 99\n",
      "Test: FP = 8 - TP = 35 - FN = 19 - TN = 92\n",
      "--------------- Threshold Selection ---------------\n",
      "[F2S] Best f2 score for valid is 0.7921 @ threhsold = 0.0909\n"
     ]
    }
   ],
   "source": [
    "auc_train, auc_valid, auc_test = run_model(x_train=x_train, y_train=y_train, x_valid=x_valid, y_valid=y_valid, x_test=x_test, y_test=y_test,\n",
    "                                            optimizer='adam',\n",
    "                                            loss='binary_crossentropy',\n",
    "                                            momentum=0.,\n",
    "                                            rho=0,\n",
    "                                            beta_1=0.9,\n",
    "                                            beta_2=0.9,\n",
    "                                            learning_rate=0.098,\n",
    "                                            decay_rate=0.8,\n",
    "                                            batch_size=32,\n",
    "                                            epochs=200,\n",
    "                                            patience=30,\n",
    "                                            min_delta=0.01,\n",
    "                                            tensorboard_on=True,\n",
    "                                            summary_on=True,\n",
    "                                            tag='EX7',\n",
    "                                            hidden_layers=1,\n",
    "                                            units_per_layer=2,\n",
    "                                            hidden_layer_activation='tanh',\n",
    "                                            regularizer='l2',\n",
    "                                            regularizer_lambda=1e-7,\n",
    "                                            dropout_rate=0,\n",
    "                                            use_batch_normalization=True)"
   ]
  },
  {
   "cell_type": "markdown",
   "id": "successful-peninsula",
   "metadata": {},
   "source": [
    "Los resultados son similares a emplear la sigmoidea."
   ]
  },
  {
   "cell_type": "markdown",
   "id": "resident-appreciation",
   "metadata": {},
   "source": [
    "Por otro lado, se prueba la **Leaky ReLU**."
   ]
  },
  {
   "cell_type": "code",
   "execution_count": 52,
   "id": "varied-child",
   "metadata": {},
   "outputs": [
    {
     "name": "stdout",
     "output_type": "stream",
     "text": [
      "Model logs @ tb-logs/mlp/EX7_1/20210530-180158\n",
      "Model checkpoints @ checkpoints/mlp/20210530-180158\n",
      "Model: \"sequential_19\"\n",
      "_________________________________________________________________\n",
      "Layer (type)                 Output Shape              Param #   \n",
      "=================================================================\n",
      "dense_41 (Dense)             (None, 2)                 18        \n",
      "_________________________________________________________________\n",
      "batch_normalization_6 (Batch (None, 2)                 8         \n",
      "_________________________________________________________________\n",
      "dense_42 (Dense)             (None, 1)                 3         \n",
      "=================================================================\n",
      "Total params: 29\n",
      "Trainable params: 25\n",
      "Non-trainable params: 4\n",
      "_________________________________________________________________\n",
      "(429, 8) (429, 1)\n",
      "(185, 8) (185, 1)\n",
      "(154, 8) (154, 1)\n"
     ]
    },
    {
     "data": {
      "image/png": "[encoded data removed]",
      "text/plain": [
       "<Figure size 432x288 with 1 Axes>"
      ]
     },
     "metadata": {
      "needs_background": "light"
     },
     "output_type": "display_data"
    },
    {
     "name": "stdout",
     "output_type": "stream",
     "text": [
      "------------------- Main metric -------------------\n",
      "[AUC] Train: 0.8346 - Valid: 0.7974 - Test: 0.8876\n",
      "---------------- Secondary metrics ----------------\n",
      "[PPV] Train: 0.6899 - Valid: 0.6415 - Test: 0.7451\n",
      "[NPV] Train: 0.8033 - Valid: 0.7576 - Test: 0.8447\n",
      "[SEN] Train: 0.6014 - Valid: 0.5152 - Test: 0.7037\n",
      "[SPE] Train: 0.8577 - Valid: 0.8403 - Test: 0.8700\n",
      "---------------- Confusion Matrix -----------------\n",
      "Train: FP = 40 - TP = 89 - FN = 59 - TN = 241\n",
      "Valid: FP = 19 - TP = 34 - FN = 32 - TN = 100\n",
      "Test: FP = 13 - TP = 38 - FN = 16 - TN = 87\n",
      "--------------- Threshold Selection ---------------\n",
      "[F2S] Best f2 score for valid is 0.8088 @ threhsold = 0.1414\n"
     ]
    }
   ],
   "source": [
    "from keras.layers import LeakyReLU\n",
    "auc_train, auc_valid, auc_test = run_model(x_train=x_train, y_train=y_train, x_valid=x_valid, y_valid=y_valid, x_test=x_test, y_test=y_test,\n",
    "                                            optimizer='adam',\n",
    "                                            loss='binary_crossentropy',\n",
    "                                            momentum=0.01,\n",
    "                                            rho=0,\n",
    "                                            beta_1=0.9,\n",
    "                                            beta_2=0.9,\n",
    "                                            learning_rate=0.098,\n",
    "                                            decay_rate=0.8,\n",
    "                                            batch_size=32,\n",
    "                                            epochs=200,\n",
    "                                            patience=30,\n",
    "                                            min_delta=0.01,\n",
    "                                            tensorboard_on=True,\n",
    "                                            summary_on=True,\n",
    "                                            tag='EX7_1',\n",
    "                                            hidden_layers=1,\n",
    "                                            units_per_layer=2,\n",
    "                                            hidden_layer_activation=LeakyReLU(alpha=0.04),\n",
    "                                            regularizer='l2',\n",
    "                                            regularizer_lambda=1e-7,\n",
    "                                            dropout_rate=0,\n",
    "                                            use_batch_normalization=True)"
   ]
  },
  {
   "cell_type": "markdown",
   "id": "finished-packet",
   "metadata": {},
   "source": [
    "## Ejemplo #8 - Cambio en la topología de la red"
   ]
  },
  {
   "cell_type": "code",
   "execution_count": 57,
   "id": "bulgarian-classics",
   "metadata": {},
   "outputs": [
    {
     "name": "stdout",
     "output_type": "stream",
     "text": [
      "Model logs @ tb-logs/mlp/EX8/20210530-180353\n",
      "Model checkpoints @ checkpoints/mlp/20210530-180353\n",
      "Model: \"sequential_24\"\n",
      "_________________________________________________________________\n",
      "Layer (type)                 Output Shape              Param #   \n",
      "=================================================================\n",
      "dense_59 (Dense)             (None, 10)                90        \n",
      "_________________________________________________________________\n",
      "batch_normalization_13 (Batc (None, 10)                40        \n",
      "_________________________________________________________________\n",
      "dense_60 (Dense)             (None, 10)                110       \n",
      "_________________________________________________________________\n",
      "batch_normalization_14 (Batc (None, 10)                40        \n",
      "_________________________________________________________________\n",
      "dense_61 (Dense)             (None, 10)                110       \n",
      "_________________________________________________________________\n",
      "batch_normalization_15 (Batc (None, 10)                40        \n",
      "_________________________________________________________________\n",
      "dense_62 (Dense)             (None, 1)                 11        \n",
      "=================================================================\n",
      "Total params: 441\n",
      "Trainable params: 381\n",
      "Non-trainable params: 60\n",
      "_________________________________________________________________\n",
      "(429, 8) (429, 1)\n",
      "(185, 8) (185, 1)\n",
      "(154, 8) (154, 1)\n"
     ]
    },
    {
     "data": {
      "image/png": "[encoded data removed]",
      "text/plain": [
       "<Figure size 432x288 with 1 Axes>"
      ]
     },
     "metadata": {
      "needs_background": "light"
     },
     "output_type": "display_data"
    },
    {
     "name": "stdout",
     "output_type": "stream",
     "text": [
      "------------------- Main metric -------------------\n",
      "[AUC] Train: 0.8304 - Valid: 0.7680 - Test: 0.8857\n",
      "---------------- Secondary metrics ----------------\n",
      "[PPV] Train: 0.7083 - Valid: 0.6346 - Test: 0.7907\n",
      "[NPV] Train: 0.7961 - Valid: 0.7519 - Test: 0.8198\n",
      "[SEN] Train: 0.5743 - Valid: 0.5000 - Test: 0.6296\n",
      "[SPE] Train: 0.8754 - Valid: 0.8403 - Test: 0.9100\n",
      "---------------- Confusion Matrix -----------------\n",
      "Train: FP = 35 - TP = 85 - FN = 63 - TN = 246\n",
      "Valid: FP = 19 - TP = 33 - FN = 33 - TN = 100\n",
      "Test: FP = 9 - TP = 34 - FN = 20 - TN = 91\n",
      "--------------- Threshold Selection ---------------\n",
      "[F2S] Best f2 score for valid is 0.7711 @ threhsold = 0.0707\n"
     ]
    }
   ],
   "source": [
    "auc_train, auc_valid, auc_test = run_model(x_train=x_train, y_train=y_train, x_valid=x_valid, y_valid=y_valid, x_test=x_test, y_test=y_test,\n",
    "                                            optimizer='adam',\n",
    "                                            loss='binary_crossentropy',\n",
    "                                            momentum=0,\n",
    "                                            rho=0,\n",
    "                                            beta_1=0.9,\n",
    "                                            beta_2=0.9,\n",
    "                                            learning_rate=0.098,\n",
    "                                            decay_rate=0.8,\n",
    "                                            batch_size=32,\n",
    "                                            epochs=200,\n",
    "                                            patience=30,\n",
    "                                            min_delta=0.01,\n",
    "                                            tensorboard_on=True,\n",
    "                                            summary_on=True,\n",
    "                                            tag='EX8',\n",
    "                                            hidden_layers=3,\n",
    "                                            units_per_layer=10,\n",
    "                                            hidden_layer_activation='tanh',\n",
    "                                            regularizer='l2',\n",
    "                                            regularizer_lambda=1e-7,\n",
    "                                            dropout_rate=0,\n",
    "                                            use_batch_normalization=True)"
   ]
  },
  {
   "cell_type": "markdown",
   "id": "discrete-psychiatry",
   "metadata": {},
   "source": [
    "Para este caso, el umbral que maximiza el f2-score es muy bajo."
   ]
  },
  {
   "cell_type": "markdown",
   "id": "velvet-superior",
   "metadata": {},
   "source": [
    "## Ejemplo #9 - Cambio en topología de red #2"
   ]
  },
  {
   "cell_type": "code",
   "execution_count": 62,
   "id": "quantitative-horror",
   "metadata": {},
   "outputs": [
    {
     "name": "stdout",
     "output_type": "stream",
     "text": [
      "Model logs @ tb-logs/mlp/EX9/20210530-180754\n",
      "Model checkpoints @ checkpoints/mlp/20210530-180754\n",
      "Model: \"sequential_29\"\n",
      "_________________________________________________________________\n",
      "Layer (type)                 Output Shape              Param #   \n",
      "=================================================================\n",
      "dense_75 (Dense)             (None, 50)                450       \n",
      "_________________________________________________________________\n",
      "batch_normalization_18 (Batc (None, 50)                200       \n",
      "_________________________________________________________________\n",
      "dense_76 (Dense)             (None, 50)                2550      \n",
      "_________________________________________________________________\n",
      "batch_normalization_19 (Batc (None, 50)                200       \n",
      "_________________________________________________________________\n",
      "dense_77 (Dense)             (None, 50)                2550      \n",
      "_________________________________________________________________\n",
      "batch_normalization_20 (Batc (None, 50)                200       \n",
      "_________________________________________________________________\n",
      "dense_78 (Dense)             (None, 1)                 51        \n",
      "=================================================================\n",
      "Total params: 6,201\n",
      "Trainable params: 5,901\n",
      "Non-trainable params: 300\n",
      "_________________________________________________________________\n",
      "(429, 8) (429, 1)\n",
      "(185, 8) (185, 1)\n",
      "(154, 8) (154, 1)\n"
     ]
    },
    {
     "data": {
      "image/png": "[encoded data removed]",
      "text/plain": [
       "<Figure size 432x288 with 1 Axes>"
      ]
     },
     "metadata": {
      "needs_background": "light"
     },
     "output_type": "display_data"
    },
    {
     "name": "stdout",
     "output_type": "stream",
     "text": [
      "------------------- Main metric -------------------\n",
      "[AUC] Train: 0.8484 - Valid: 0.7810 - Test: 0.8796\n",
      "---------------- Secondary metrics ----------------\n",
      "[PPV] Train: 0.6644 - Valid: 0.6129 - Test: 0.7308\n",
      "[NPV] Train: 0.8198 - Valid: 0.7724 - Test: 0.8431\n",
      "[SEN] Train: 0.6554 - Valid: 0.5758 - Test: 0.7037\n",
      "[SPE] Train: 0.8256 - Valid: 0.7983 - Test: 0.8600\n",
      "---------------- Confusion Matrix -----------------\n",
      "Train: FP = 49 - TP = 97 - FN = 51 - TN = 232\n",
      "Valid: FP = 24 - TP = 38 - FN = 28 - TN = 95\n",
      "Test: FP = 14 - TP = 38 - FN = 16 - TN = 86\n",
      "--------------- Threshold Selection ---------------\n",
      "[F2S] Best f2 score for valid is 0.7674 @ threhsold = 0.0707\n"
     ]
    }
   ],
   "source": [
    "auc_train, auc_valid, auc_test = run_model(x_train=x_train, y_train=y_train, x_valid=x_valid, y_valid=y_valid, x_test=x_test, y_test=y_test,\n",
    "                                            optimizer='adam',\n",
    "                                            loss='binary_crossentropy',\n",
    "                                            momentum=0,\n",
    "                                            rho=0.0,\n",
    "                                            beta_1=0.99,\n",
    "                                            beta_2=0.99,\n",
    "                                            learning_rate=0.098,\n",
    "                                            decay_rate=0.8,\n",
    "                                            batch_size=32,\n",
    "                                            epochs=2000,\n",
    "                                            patience=30,\n",
    "                                            min_delta=0.01,\n",
    "                                            tensorboard_on=True,\n",
    "                                            summary_on=True,\n",
    "                                            tag='EX9',\n",
    "                                            hidden_layers=3,\n",
    "                                            units_per_layer=50,\n",
    "                                            hidden_layer_activation='tanh',\n",
    "                                            regularizer='l1',\n",
    "                                            regularizer_lambda=1e-2,\n",
    "                                            dropout_rate=0,\n",
    "                                            use_batch_normalization=True)"
   ]
  },
  {
   "cell_type": "markdown",
   "id": "express-basic",
   "metadata": {},
   "source": [
    "## Ejemplo #10 - Cambio a rmsprop"
   ]
  },
  {
   "cell_type": "code",
   "execution_count": 61,
   "id": "alleged-resistance",
   "metadata": {},
   "outputs": [
    {
     "name": "stdout",
     "output_type": "stream",
     "text": [
      "Model logs @ tb-logs/mlp/EX10/20210530-180718\n",
      "Model checkpoints @ checkpoints/mlp/20210530-180718\n",
      "Model: \"sequential_28\"\n",
      "_________________________________________________________________\n",
      "Layer (type)                 Output Shape              Param #   \n",
      "=================================================================\n",
      "dense_72 (Dense)             (None, 50)                450       \n",
      "_________________________________________________________________\n",
      "dropout_18 (Dropout)         (None, 50)                0         \n",
      "_________________________________________________________________\n",
      "dense_73 (Dense)             (None, 50)                2550      \n",
      "_________________________________________________________________\n",
      "dropout_19 (Dropout)         (None, 50)                0         \n",
      "_________________________________________________________________\n",
      "dense_74 (Dense)             (None, 1)                 51        \n",
      "=================================================================\n",
      "Total params: 3,051\n",
      "Trainable params: 3,051\n",
      "Non-trainable params: 0\n",
      "_________________________________________________________________\n",
      "(429, 8) (429, 1)\n",
      "(185, 8) (185, 1)\n",
      "(154, 8) (154, 1)\n"
     ]
    },
    {
     "data": {
      "image/png": "[encoded data removed]",
      "text/plain": [
       "<Figure size 432x288 with 1 Axes>"
      ]
     },
     "metadata": {
      "needs_background": "light"
     },
     "output_type": "display_data"
    },
    {
     "name": "stdout",
     "output_type": "stream",
     "text": [
      "------------------- Main metric -------------------\n",
      "[AUC] Train: 0.8307 - Valid: 0.7920 - Test: 0.8919\n",
      "---------------- Secondary metrics ----------------\n",
      "[PPV] Train: 0.7155 - Valid: 0.6863 - Test: 0.7660\n",
      "[NPV] Train: 0.7923 - Valid: 0.7687 - Test: 0.8318\n",
      "[SEN] Train: 0.5608 - Valid: 0.5303 - Test: 0.6667\n",
      "[SPE] Train: 0.8826 - Valid: 0.8655 - Test: 0.8900\n",
      "---------------- Confusion Matrix -----------------\n",
      "Train: FP = 33 - TP = 83 - FN = 65 - TN = 248\n",
      "Valid: FP = 16 - TP = 35 - FN = 31 - TN = 103\n",
      "Test: FP = 11 - TP = 36 - FN = 18 - TN = 89\n",
      "--------------- Threshold Selection ---------------\n",
      "[F2S] Best f2 score for valid is 0.8036 @ threhsold = 0.1919\n"
     ]
    }
   ],
   "source": [
    "auc_train, auc_valid, auc_test = run_model(x_train=x_train, y_train=y_train, x_valid=x_valid, y_valid=y_valid, x_test=x_test, y_test=y_test,\n",
    "                                            optimizer='rmsprop',\n",
    "                                            loss='binary_crossentropy',\n",
    "                                            momentum=0.1,\n",
    "                                            rho=0.8,\n",
    "                                            beta_1=0,\n",
    "                                            beta_2=0,\n",
    "                                            learning_rate=0.098,\n",
    "                                            decay_rate=0.8,\n",
    "                                            batch_size=32,\n",
    "                                            epochs=2000,\n",
    "                                            patience=30,\n",
    "                                            min_delta=0.01,\n",
    "                                            tensorboard_on=True,\n",
    "                                            summary_on=True,\n",
    "                                            tag='EX10',\n",
    "                                            hidden_layers=2,\n",
    "                                            units_per_layer=50,\n",
    "                                            hidden_layer_activation='tanh',\n",
    "                                            regularizer='l1',\n",
    "                                            regularizer_lambda=1e-2,\n",
    "                                            dropout_rate=0.2,\n",
    "                                            use_batch_normalization=False)"
   ]
  }
 ],
 "metadata": {
  "kernelspec": {
   "display_name": "Python 3",
   "language": "python",
   "name": "python3"
  },
  "language_info": {
   "codemirror_mode": {
    "name": "ipython",
    "version": 3
   },
   "file_extension": ".py",
   "mimetype": "text/x-python",
   "name": "python",
   "nbconvert_exporter": "python",
   "pygments_lexer": "ipython3",
   "version": "3.9.2"
  }
 },
 "nbformat": 4,
 "nbformat_minor": 5
}
