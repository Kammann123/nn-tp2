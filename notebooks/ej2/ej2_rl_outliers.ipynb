{
 "cells": [
  {
   "cell_type": "markdown",
   "metadata": {},
   "source": [
    "# Redes Neuronales - Trabajo Práctico N° 2 - Ejercicio 2\n",
    "# Notebook #3: Experimento sobre outliers de salida \n",
    "\n",
    "## Integrantes del grupo\n",
    "* Gaytan, Joaquín Oscar\n",
    "* Kammann, Lucas Agustín"
   ]
  },
  {
   "cell_type": "markdown",
   "metadata": {},
   "source": [
    "# Fuentes\n",
    "\n",
    "### Link: https://www.neuraldesigner.com/blog/3_methods_to_deal_with_outliers\n",
    "Artículos sobre los **outliers**."
   ]
  },
  {
   "cell_type": "markdown",
   "metadata": {},
   "source": [
    "# 1. Cargando base de datos"
   ]
  },
  {
   "cell_type": "code",
   "execution_count": 2,
   "metadata": {},
   "outputs": [],
   "source": [
    "import pandas as pd\n",
    "pd.options.mode.chained_assignment = None  # default='warn'"
   ]
  },
  {
   "cell_type": "code",
   "execution_count": 3,
   "metadata": {},
   "outputs": [],
   "source": [
    "import importlib"
   ]
  },
  {
   "cell_type": "code",
   "execution_count": 4,
   "metadata": {},
   "outputs": [],
   "source": [
    "import sys"
   ]
  },
  {
   "cell_type": "code",
   "execution_count": 5,
   "metadata": {},
   "outputs": [],
   "source": [
    "sys.path.insert(0, '../..')"
   ]
  },
  {
   "cell_type": "code",
   "execution_count": 6,
   "metadata": {},
   "outputs": [],
   "source": [
    "# Read the database from the .csv file into a pandas dataframe\n",
    "df = pd.read_csv('../../databases/insurance.csv')"
   ]
  },
  {
   "cell_type": "markdown",
   "metadata": {},
   "source": [
    "# 2. Preprocesamiento de los datos"
   ]
  },
  {
   "cell_type": "code",
   "execution_count": 7,
   "metadata": {},
   "outputs": [],
   "source": [
    "from sklearn import preprocessing"
   ]
  },
  {
   "cell_type": "code",
   "execution_count": 22,
   "metadata": {},
   "outputs": [],
   "source": [
    "from src import helper\n",
    "importlib.reload(helper);"
   ]
  },
  {
   "cell_type": "markdown",
   "metadata": {},
   "source": [
    "## 2.1. Codificación de variables no numéricas"
   ]
  },
  {
   "cell_type": "code",
   "execution_count": 9,
   "metadata": {},
   "outputs": [],
   "source": [
    "# Create a label encoder for the sex variable or feature and create a new column in the dataframe \n",
    "# with the encoded version of the gender\n",
    "sex_encoder = preprocessing.LabelEncoder()\n",
    "sex_encoder.fit(df['sex'])\n",
    "df['sex-encoded'] = sex_encoder.transform(df['sex'])"
   ]
  },
  {
   "cell_type": "code",
   "execution_count": 10,
   "metadata": {},
   "outputs": [],
   "source": [
    "# Create a label encoder for the smoker variable or feature and create a new column in the dataframe\n",
    "# with the encoded version of the smoker\n",
    "smoker_encoder = preprocessing.LabelEncoder()\n",
    "smoker_encoder.fit(df['smoker'])\n",
    "df['smoker-encoded'] = smoker_encoder.transform(df['smoker'])"
   ]
  },
  {
   "cell_type": "code",
   "execution_count": 11,
   "metadata": {},
   "outputs": [],
   "source": [
    "# Create a one hot encoder and fit the available types of regions in the dataset\n",
    "region_encoder = preprocessing.OneHotEncoder()\n",
    "region_encoder.fit(df['region'].to_numpy().reshape(-1, 1))\n",
    "\n",
    "# Transform all entries into the one hot encoded representation\n",
    "encoded_regions = region_encoder.transform(df['region'].to_numpy().reshape(-1, 1)).toarray()\n",
    "\n",
    "# Add each new encoded variable or feature to the dataset\n",
    "for i, category in enumerate(region_encoder.categories_[0]):\n",
    "    df[f'{category}-encoded'] = encoded_regions.transpose()[i]"
   ]
  },
  {
   "cell_type": "markdown",
   "metadata": {},
   "source": [
    "## 2.2. Eliminando outliers\n",
    "A partir del análisis realizado sobre la base de datos sobre la cual se entrenan los modelos, se detectaron outliers en la variable del índice de masa corporal, se decide remover estos datos por completo ya que no fue necesario tener en cuenta una estrategia para corregir datos incompletos o incorrectos y el impacto que tiene sobre la totalidad de datos es menos del 1%. Entonces, se eliminan los casos con outliers del BMI."
   ]
  },
  {
   "cell_type": "code",
   "execution_count": 12,
   "metadata": {},
   "outputs": [],
   "source": [
    "# Remove outliers by setting NaN on those rows at the column of BMI\n",
    "helper.remove_outliers(df, 'bmi')\n",
    "helper.remove_outliers(df, 'charges')\n",
    "\n",
    "# Remove NaN values from the dataframe\n",
    "df = df.dropna()"
   ]
  },
  {
   "cell_type": "code",
   "execution_count": 13,
   "metadata": {},
   "outputs": [
    {
     "name": "stdout",
     "output_type": "stream",
     "text": [
      "<class 'pandas.core.frame.DataFrame'>\n",
      "Int64Index: 1193 entries, 0 to 1337\n",
      "Data columns (total 13 columns):\n",
      " #   Column             Non-Null Count  Dtype  \n",
      "---  ------             --------------  -----  \n",
      " 0   age                1193 non-null   int64  \n",
      " 1   sex                1193 non-null   object \n",
      " 2   bmi                1193 non-null   float64\n",
      " 3   children           1193 non-null   int64  \n",
      " 4   smoker             1193 non-null   object \n",
      " 5   region             1193 non-null   object \n",
      " 6   charges            1193 non-null   float64\n",
      " 7   sex-encoded        1193 non-null   int32  \n",
      " 8   smoker-encoded     1193 non-null   int32  \n",
      " 9   northeast-encoded  1193 non-null   float64\n",
      " 10  northwest-encoded  1193 non-null   float64\n",
      " 11  southeast-encoded  1193 non-null   float64\n",
      " 12  southwest-encoded  1193 non-null   float64\n",
      "dtypes: float64(6), int32(2), int64(2), object(3)\n",
      "memory usage: 121.2+ KB\n"
     ]
    }
   ],
   "source": [
    "df.info()"
   ]
  },
  {
   "cell_type": "markdown",
   "metadata": {},
   "source": [
    "## 2.2. Filtrado de variables"
   ]
  },
  {
   "cell_type": "code",
   "execution_count": 15,
   "metadata": {},
   "outputs": [],
   "source": [
    "# Filtering or removing of non desired variables\n",
    "df_x = df[['age', 'bmi', 'smoker-encoded', 'children', 'sex-encoded', 'northwest-encoded', 'northeast-encoded', 'southwest-encoded', 'southeast-encoded']]\n",
    "df_y = df['charges']"
   ]
  },
  {
   "cell_type": "markdown",
   "metadata": {},
   "source": [
    "# 3. Separación del conjunto de entrenamiento y evaluación"
   ]
  },
  {
   "cell_type": "code",
   "execution_count": 16,
   "metadata": {},
   "outputs": [],
   "source": [
    "from sklearn import model_selection"
   ]
  },
  {
   "cell_type": "code",
   "execution_count": 17,
   "metadata": {},
   "outputs": [],
   "source": [
    "from sklearn import preprocessing"
   ]
  },
  {
   "cell_type": "markdown",
   "metadata": {},
   "source": [
    "## 3.1. Separación de los conjuntos\n",
    "Se realiza la separación del conjunto de datos original en **train**, **valid** y **test**."
   ]
  },
  {
   "cell_type": "code",
   "execution_count": 18,
   "metadata": {},
   "outputs": [],
   "source": [
    "# Split the dataset into train_valid and test\n",
    "x_train_valid, x_test, y_train_valid, y_test = model_selection.train_test_split(df_x, df_y, test_size=0.2, random_state=5, shuffle=True)"
   ]
  },
  {
   "cell_type": "code",
   "execution_count": 19,
   "metadata": {},
   "outputs": [],
   "source": [
    "# Split the dataset into train and valid\n",
    "x_train, x_valid, y_train, y_valid = model_selection.train_test_split(x_train_valid, y_train_valid, test_size=0.2, random_state=15, shuffle=True)"
   ]
  },
  {
   "cell_type": "markdown",
   "metadata": {},
   "source": [
    "# 4. Regresión Lineal"
   ]
  },
  {
   "cell_type": "code",
   "execution_count": 20,
   "metadata": {},
   "outputs": [],
   "source": [
    "from src.ej2 import rl_helper\n",
    "importlib.reload(rl_helper);"
   ]
  },
  {
   "cell_type": "markdown",
   "metadata": {},
   "source": [
    "## 4.1. Experimentos, análisis y observaciones"
   ]
  },
  {
   "cell_type": "code",
   "execution_count": 19,
   "metadata": {},
   "outputs": [
    {
     "name": "stdout",
     "output_type": "stream",
     "text": [
      "Model logs at tb-logs/rl/outliers/experiment-1/20210531-161557\n",
      "Model checkpoints at checkpoints/rl/outliers/experiment-1/20210531-161557\n",
      "Model: \"sequential\"\n",
      "_________________________________________________________________\n",
      "Layer (type)                 Output Shape              Param #   \n",
      "=================================================================\n",
      "dense (Dense)                (None, 1)                 55        \n",
      "=================================================================\n",
      "Total params: 55\n",
      "Trainable params: 55\n",
      "Non-trainable params: 0\n",
      "_________________________________________________________________\n",
      "[MAE] Train: 1274.89 Valid: 1807.78 Test: 1287.49\n"
     ]
    }
   ],
   "source": [
    "# Run model experiment\n",
    "mae_train, mae_valid, mae_test = rl_helper.run_model(x_train, y_train, x_valid, y_valid, x_test, y_test,\n",
    "                                                     learning_rate=1000,\n",
    "                                                     degree=2,\n",
    "                                                     scheduler='exponential-decay',\n",
    "                                                     decay_rate=0.09,\n",
    "                                                     optimizer='adam',\n",
    "                                                     beta_1=0.9,\n",
    "                                                     beta_2=0.99,\n",
    "                                                     patience=50,\n",
    "                                                     min_delta=10,\n",
    "                                                     epochs=1000,\n",
    "                                                     batch_size=64,\n",
    "                                                     tag='outliers/experiment-1'\n",
    "                                                    )"
   ]
  },
  {
   "cell_type": "code",
   "execution_count": 20,
   "metadata": {},
   "outputs": [
    {
     "name": "stdout",
     "output_type": "stream",
     "text": [
      "Model logs at tb-logs/rl/outliers/experiment-2/20210531-161829\n",
      "Model checkpoints at checkpoints/rl/outliers/experiment-2/20210531-161829\n",
      "Model: \"sequential_1\"\n",
      "_________________________________________________________________\n",
      "Layer (type)                 Output Shape              Param #   \n",
      "=================================================================\n",
      "dense_1 (Dense)              (None, 1)                 220       \n",
      "=================================================================\n",
      "Total params: 220\n",
      "Trainable params: 220\n",
      "Non-trainable params: 0\n",
      "_________________________________________________________________\n",
      "[MAE] Train: 1330.9 Valid: 1960.79 Test: 1393.22\n"
     ]
    }
   ],
   "source": [
    "# Run model experiment\n",
    "mae_train, mae_valid, mae_test = rl_helper.run_model(x_train, y_train, x_valid, y_valid, x_test, y_test,\n",
    "                                                     learning_rate=1000,\n",
    "                                                     degree=3,\n",
    "                                                     scheduler='exponential-decay',\n",
    "                                                     decay_rate=0.09,\n",
    "                                                     optimizer='adam',\n",
    "                                                     beta_1=0.9,\n",
    "                                                     beta_2=0.99,\n",
    "                                                     patience=50,\n",
    "                                                     min_delta=10,\n",
    "                                                     epochs=1000,\n",
    "                                                     batch_size=64,\n",
    "                                                     tag='outliers/experiment-2'\n",
    "                                                    )"
   ]
  },
  {
   "cell_type": "code",
   "execution_count": 21,
   "metadata": {},
   "outputs": [
    {
     "name": "stdout",
     "output_type": "stream",
     "text": [
      "Model logs at tb-logs/rl/outliers/experiment-3/20210531-162055\n",
      "Model checkpoints at checkpoints/rl/outliers/experiment-3/20210531-162055\n",
      "Model: \"sequential_2\"\n",
      "_________________________________________________________________\n",
      "Layer (type)                 Output Shape              Param #   \n",
      "=================================================================\n",
      "dense_2 (Dense)              (None, 1)                 715       \n",
      "=================================================================\n",
      "Total params: 715\n",
      "Trainable params: 715\n",
      "Non-trainable params: 0\n",
      "_________________________________________________________________\n",
      "[MAE] Train: 1389.16 Valid: 2102.64 Test: 1560.98\n"
     ]
    }
   ],
   "source": [
    "# Run model experiment\n",
    "mae_train, mae_valid, mae_test = rl_helper.run_model(x_train, y_train, x_valid, y_valid, x_test, y_test,\n",
    "                                                     learning_rate=1000,\n",
    "                                                     degree=4,\n",
    "                                                     scheduler='exponential-decay',\n",
    "                                                     decay_rate=0.09,\n",
    "                                                     optimizer='adam',\n",
    "                                                     beta_1=0.9,\n",
    "                                                     beta_2=0.99,\n",
    "                                                     patience=50,\n",
    "                                                     min_delta=10,\n",
    "                                                     epochs=1000,\n",
    "                                                     batch_size=64,\n",
    "                                                     tag='outliers/experiment-3'\n",
    "                                                    )"
   ]
  },
  {
   "cell_type": "code",
   "execution_count": 22,
   "metadata": {},
   "outputs": [
    {
     "name": "stdout",
     "output_type": "stream",
     "text": [
      "Model logs at tb-logs/rl/outliers/experiment-4/20210531-162355\n",
      "Model checkpoints at checkpoints/rl/outliers/experiment-4/20210531-162355\n",
      "Model: \"sequential_3\"\n",
      "_________________________________________________________________\n",
      "Layer (type)                 Output Shape              Param #   \n",
      "=================================================================\n",
      "dense_3 (Dense)              (None, 1)                 55        \n",
      "=================================================================\n",
      "Total params: 55\n",
      "Trainable params: 55\n",
      "Non-trainable params: 0\n",
      "_________________________________________________________________\n",
      "[MAE] Train: 17087004.0 Valid: 25829874.0 Test: 18361222.0\n"
     ]
    }
   ],
   "source": [
    "# Run model experiment\n",
    "mae_train, mae_valid, mae_test = rl_helper.run_model(x_train, y_train, x_valid, y_valid, x_test, y_test,\n",
    "                                                     learning_rate=1000,\n",
    "                                                     degree=2,\n",
    "                                                     scheduler='exponential-decay',\n",
    "                                                     decay_rate=0.09,\n",
    "                                                     loss='mse',\n",
    "                                                     optimizer='adam',\n",
    "                                                     beta_1=0.9,\n",
    "                                                     beta_2=0.99,\n",
    "                                                     patience=50,\n",
    "                                                     min_delta=10,\n",
    "                                                     epochs=1000,\n",
    "                                                     batch_size=64,\n",
    "                                                     tag='outliers/experiment-4'\n",
    "                                                    )"
   ]
  },
  {
   "cell_type": "markdown",
   "metadata": {},
   "source": [
    "## 4.2. Usando K-Folding"
   ]
  },
  {
   "cell_type": "code",
   "execution_count": 21,
   "metadata": {},
   "outputs": [
    {
     "name": "stdout",
     "output_type": "stream",
     "text": [
      "[MAE] Train: 1275.95 Valid: 1275.3 Test: 1709.64\n"
     ]
    }
   ],
   "source": [
    "# Run model experiment\n",
    "train_maes, valid_maes, test_maes = rl_helper.run_model_with_kfold(df_x, df_y, test_size=0.2, n_splits=8, random_state=20,\n",
    "                                                                learning_rate=1000,\n",
    "                                                                degree=2,\n",
    "                                                                scheduler='exponential-decay',\n",
    "                                                                decay_rate=0.09,\n",
    "                                                                optimizer='adam',\n",
    "                                                                beta_1=0.9,\n",
    "                                                                beta_2=0.99,\n",
    "                                                                patience=50,\n",
    "                                                                min_delta=10,\n",
    "                                                                epochs=1000,\n",
    "                                                                batch_size=64,\n",
    "                                                                tag='outliers/kfold',\n",
    "                                                                tensorboard_on=False,\n",
    "                                                                summary_on=False\n",
    "                                                               )\n",
    "\n",
    "# Inform results\n",
    "mae_train = round(train_maes.mean(), 2)\n",
    "mae_valid = round(valid_maes.mean(), 2)\n",
    "mae_test = round(test_maes.mean(), 2)\n",
    "print(f'[MAE] Train: {mae_train} Valid: {mae_valid} Test: {mae_test}')"
   ]
  },
  {
   "cell_type": "code",
   "execution_count": 23,
   "metadata": {},
   "outputs": [
    {
     "data": {
      "image/png": "[encoded data removed]",
      "text/plain": [
       "<Figure size 1080x576 with 1 Axes>"
      ]
     },
     "metadata": {
      "needs_background": "light"
     },
     "output_type": "display_data"
    }
   ],
   "source": [
    "helper.plot_kfold_metrics(train_maes, valid_maes, test_maes)"
   ]
  },
  {
   "cell_type": "markdown",
   "metadata": {},
   "source": [
    "# Conclusión\n",
    "El objetivo de este análisis fue responder, **¿se pueden remover outliers de la salida?**, o al menos tratar de discernir el impacto que estos tienen sobre cómo entrenamos el modelo. Particularmente, al remover los outliers de la variable de salida se redujo las diferencias de la performance del modelo entre diferentes conjuntos, y además se mejoró la métrica en general. Esto tiene sentido, el modelo debe ser capaz de adaptarse acorde a la función de costo sobre el conjunto de entrenamiento, y cuando se presentan outliers, se hace más dificil ajustarse bien a todos los datos. Además, siempre y cuando no sean suficientes datos sucederá que no hay información suficiente para ajustarse bien a los outliers. Por otro lado, como desventaja, al remover esos datos **¿qué pasa si queremos predecirlos?**.\n",
    "\n",
    "En otro sentido, **¿cuál es el dominio que el modelo debe interpolar?**, podría interpretarse la presencia de outliers como datos o información por fuera de lo común y por ende por fuera de un dominio sobre el cuál tiene sentido que el modelo prediga. En ese caso, también se podría preguntar si es mejor que el modelo ajuste mejor sobre los datos que cumplen con una distribución usual, por sobre gastar recursos de entrenamiento incluyendo esos outliers, dado que uno podría pensar que es preferible dar una predicción dentro de un rango pero con buena precisión.\n",
    "\n",
    "Ademas, resulta interesante observar que se puede ver claramente la diferencia entre la **varianza** de los estimadores de la métrica sobre diferentes conjuntos, particularmente en **validation** donde se tienen menos muestras, se tiene una mayor varianza."
   ]
  }
 ],
 "metadata": {
  "kernelspec": {
   "display_name": "Python 3",
   "language": "python",
   "name": "python3"
  },
  "language_info": {
   "codemirror_mode": {
    "name": "ipython",
    "version": 3
   },
   "file_extension": ".py",
   "mimetype": "text/x-python",
   "name": "python",
   "nbconvert_exporter": "python",
   "pygments_lexer": "ipython3",
   "version": "3.8.5"
  }
 },
 "nbformat": 4,
 "nbformat_minor": 4
}
