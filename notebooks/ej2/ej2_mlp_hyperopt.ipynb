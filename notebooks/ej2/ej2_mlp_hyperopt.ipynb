{
 "cells": [
  {
   "cell_type": "markdown",
   "metadata": {},
   "source": [
    "# Fuentes\n",
    "\n",
    "### Link: https://www.dlology.com/blog/how-to-do-hyperparameter-search-with-baysian-optimization-for-keras-model/\n",
    "Explicación de cómo utilizar el método de optimización bayesiana para buscar los hiper parámetros del modelo para resolver el problema.\n",
    "\n",
    "### Link: https://www.kaggle.com/prashant111/bayesian-optimization-using-hyperopt\n",
    "Ahora viendo cómo resolverlo utilizando la librería de **hyperopt**."
   ]
  },
  {
   "cell_type": "markdown",
   "metadata": {},
   "source": [
    "# 1. Cargando base de datos"
   ]
  },
  {
   "cell_type": "code",
   "execution_count": 84,
   "metadata": {},
   "outputs": [],
   "source": [
    "import pandas as pd\n",
    "pd.options.mode.chained_assignment = None  # default='warn'"
   ]
  },
  {
   "cell_type": "code",
   "execution_count": 85,
   "metadata": {},
   "outputs": [],
   "source": [
    "import importlib"
   ]
  },
  {
   "cell_type": "code",
   "execution_count": 86,
   "metadata": {},
   "outputs": [],
   "source": [
    "import sys"
   ]
  },
  {
   "cell_type": "code",
   "execution_count": 87,
   "metadata": {},
   "outputs": [],
   "source": [
    "sys.path.insert(0, '..')"
   ]
  },
  {
   "cell_type": "code",
   "execution_count": 88,
   "metadata": {},
   "outputs": [],
   "source": [
    "sys.path.insert(0, '../..')"
   ]
  },
  {
   "cell_type": "code",
   "execution_count": 89,
   "metadata": {},
   "outputs": [],
   "source": [
    "# Read the database from the .csv file into a pandas dataframe\n",
    "df = pd.read_csv('../../databases/insurance.csv')"
   ]
  },
  {
   "cell_type": "markdown",
   "metadata": {},
   "source": [
    "# 2. Preprocesamiento de los datos"
   ]
  },
  {
   "cell_type": "code",
   "execution_count": 90,
   "metadata": {},
   "outputs": [],
   "source": [
    "from sklearn import preprocessing"
   ]
  },
  {
   "cell_type": "code",
   "execution_count": 91,
   "metadata": {},
   "outputs": [],
   "source": [
    "from src import helper\n",
    "importlib.reload(helper);"
   ]
  },
  {
   "cell_type": "markdown",
   "metadata": {},
   "source": [
    "## 2.1. Codificación de variables no numéricas o categóricas"
   ]
  },
  {
   "cell_type": "code",
   "execution_count": 92,
   "metadata": {},
   "outputs": [],
   "source": [
    "# Create a label encoder for the sex variable or feature and create a new column in the dataframe \n",
    "# with the encoded version of the gender\n",
    "sex_encoder = preprocessing.LabelEncoder()\n",
    "sex_encoder.fit(df['sex'])\n",
    "df['sex-encoded'] = sex_encoder.transform(df['sex'])"
   ]
  },
  {
   "cell_type": "code",
   "execution_count": 93,
   "metadata": {},
   "outputs": [],
   "source": [
    "# Create a label encoder for the smoker variable or feature and create a new column in the dataframe\n",
    "# with the encoded version of the smoker\n",
    "smoker_encoder = preprocessing.LabelEncoder()\n",
    "smoker_encoder.fit(df['smoker'])\n",
    "df['smoker-encoded'] = smoker_encoder.transform(df['smoker'])"
   ]
  },
  {
   "cell_type": "code",
   "execution_count": 94,
   "metadata": {},
   "outputs": [],
   "source": [
    "# Create a label encoder for the region variable or feature and create a new column in the dataframe\n",
    "# with the encoded version of the region\n",
    "region_encoder = preprocessing.LabelEncoder()\n",
    "region_encoder.fit(df['region'])\n",
    "df['region-encoded'] = region_encoder.transform(df['region'])"
   ]
  },
  {
   "cell_type": "code",
   "execution_count": 95,
   "metadata": {},
   "outputs": [
    {
     "data": {
      "text/html": [
       "<div>\n",
       "<style scoped>\n",
       "    .dataframe tbody tr th:only-of-type {\n",
       "        vertical-align: middle;\n",
       "    }\n",
       "\n",
       "    .dataframe tbody tr th {\n",
       "        vertical-align: top;\n",
       "    }\n",
       "\n",
       "    .dataframe thead th {\n",
       "        text-align: right;\n",
       "    }\n",
       "</style>\n",
       "<table border=\"1\" class=\"dataframe\">\n",
       "  <thead>\n",
       "    <tr style=\"text-align: right;\">\n",
       "      <th></th>\n",
       "      <th>age</th>\n",
       "      <th>sex</th>\n",
       "      <th>bmi</th>\n",
       "      <th>children</th>\n",
       "      <th>smoker</th>\n",
       "      <th>region</th>\n",
       "      <th>charges</th>\n",
       "      <th>sex-encoded</th>\n",
       "      <th>smoker-encoded</th>\n",
       "      <th>region-encoded</th>\n",
       "    </tr>\n",
       "  </thead>\n",
       "  <tbody>\n",
       "    <tr>\n",
       "      <th>0</th>\n",
       "      <td>19</td>\n",
       "      <td>female</td>\n",
       "      <td>27.900</td>\n",
       "      <td>0</td>\n",
       "      <td>yes</td>\n",
       "      <td>southwest</td>\n",
       "      <td>16884.92400</td>\n",
       "      <td>0</td>\n",
       "      <td>1</td>\n",
       "      <td>3</td>\n",
       "    </tr>\n",
       "    <tr>\n",
       "      <th>1</th>\n",
       "      <td>18</td>\n",
       "      <td>male</td>\n",
       "      <td>33.770</td>\n",
       "      <td>1</td>\n",
       "      <td>no</td>\n",
       "      <td>southeast</td>\n",
       "      <td>1725.55230</td>\n",
       "      <td>1</td>\n",
       "      <td>0</td>\n",
       "      <td>2</td>\n",
       "    </tr>\n",
       "    <tr>\n",
       "      <th>2</th>\n",
       "      <td>28</td>\n",
       "      <td>male</td>\n",
       "      <td>33.000</td>\n",
       "      <td>3</td>\n",
       "      <td>no</td>\n",
       "      <td>southeast</td>\n",
       "      <td>4449.46200</td>\n",
       "      <td>1</td>\n",
       "      <td>0</td>\n",
       "      <td>2</td>\n",
       "    </tr>\n",
       "    <tr>\n",
       "      <th>3</th>\n",
       "      <td>33</td>\n",
       "      <td>male</td>\n",
       "      <td>22.705</td>\n",
       "      <td>0</td>\n",
       "      <td>no</td>\n",
       "      <td>northwest</td>\n",
       "      <td>21984.47061</td>\n",
       "      <td>1</td>\n",
       "      <td>0</td>\n",
       "      <td>1</td>\n",
       "    </tr>\n",
       "    <tr>\n",
       "      <th>4</th>\n",
       "      <td>32</td>\n",
       "      <td>male</td>\n",
       "      <td>28.880</td>\n",
       "      <td>0</td>\n",
       "      <td>no</td>\n",
       "      <td>northwest</td>\n",
       "      <td>3866.85520</td>\n",
       "      <td>1</td>\n",
       "      <td>0</td>\n",
       "      <td>1</td>\n",
       "    </tr>\n",
       "  </tbody>\n",
       "</table>\n",
       "</div>"
      ],
      "text/plain": [
       "   age     sex     bmi  children smoker     region      charges  sex-encoded  \\\n",
       "0   19  female  27.900         0    yes  southwest  16884.92400            0   \n",
       "1   18    male  33.770         1     no  southeast   1725.55230            1   \n",
       "2   28    male  33.000         3     no  southeast   4449.46200            1   \n",
       "3   33    male  22.705         0     no  northwest  21984.47061            1   \n",
       "4   32    male  28.880         0     no  northwest   3866.85520            1   \n",
       "\n",
       "   smoker-encoded  region-encoded  \n",
       "0               1               3  \n",
       "1               0               2  \n",
       "2               0               2  \n",
       "3               0               1  \n",
       "4               0               1  "
      ]
     },
     "execution_count": 95,
     "metadata": {},
     "output_type": "execute_result"
    }
   ],
   "source": [
    "df.head()"
   ]
  },
  {
   "cell_type": "markdown",
   "metadata": {},
   "source": [
    "## 2.2. Eliminando outliers\n",
    "A partir del análisis realizado sobre la base de datos sobre la cual se entrenan los modelos, se detectaron outliers en la variable del índice de masa corporal, se decide remover estos datos por completo ya que no fue necesario tener en cuenta una estrategia para corregir datos incompletos o incorrectos y el impacto que tiene sobre la totalidad de datos es menos del 1%. Entonces, se eliminan los casos con outliers del BMI."
   ]
  },
  {
   "cell_type": "code",
   "execution_count": 96,
   "metadata": {},
   "outputs": [],
   "source": [
    "# Remove outliers by setting NaN on those rows at the column of BMI\n",
    "helper.remove_outliers(df, 'bmi')\n",
    "\n",
    "# Remove NaN values from the dataframe\n",
    "df = df.dropna()"
   ]
  },
  {
   "cell_type": "markdown",
   "metadata": {},
   "source": [
    "## 2.3. Filtrado de variables"
   ]
  },
  {
   "cell_type": "code",
   "execution_count": 97,
   "metadata": {},
   "outputs": [],
   "source": [
    "# Filtering or removing of non desired variables\n",
    "df_x = df[['age', 'bmi', 'smoker-encoded', 'children', 'sex-encoded', 'region-encoded']]\n",
    "df_y = df['charges']"
   ]
  },
  {
   "cell_type": "markdown",
   "metadata": {},
   "source": [
    "# 3. Separación del conjunto de entrenamiento y evaluación"
   ]
  },
  {
   "cell_type": "code",
   "execution_count": 98,
   "metadata": {},
   "outputs": [],
   "source": [
    "from sklearn import model_selection"
   ]
  },
  {
   "cell_type": "code",
   "execution_count": 99,
   "metadata": {},
   "outputs": [],
   "source": [
    "from sklearn import preprocessing"
   ]
  },
  {
   "cell_type": "markdown",
   "metadata": {},
   "source": [
    "## 3.1. Separación de los conjuntos\n",
    "Es importante notar que, se realiza la separación del conjunto de datos original en **train**, **valid** y **test**, por fuera del framework de Keras para garantizar un adecuado tratamiento de los conjuntos acorde a la metodología empleada. En otras palabras, de esta forma nos aseguramos que cualquier preprocesamiento o normalización sobre validación (valid) y evaluación (test) se realiza a partir de la información obtenida en entrenamiento."
   ]
  },
  {
   "cell_type": "code",
   "execution_count": 100,
   "metadata": {},
   "outputs": [],
   "source": [
    "# Split the dataset into train_valid and test\n",
    "x_train_valid, x_test, y_train_valid, y_test = model_selection.train_test_split(df_x, df_y, test_size=0.2, random_state=5, shuffle=True)"
   ]
  },
  {
   "cell_type": "code",
   "execution_count": 101,
   "metadata": {},
   "outputs": [],
   "source": [
    "# Split the dataset into train and valid\n",
    "x_train, x_valid, y_train, y_valid = model_selection.train_test_split(x_train_valid, y_train_valid, test_size=0.2, random_state=15, shuffle=True)"
   ]
  },
  {
   "cell_type": "markdown",
   "metadata": {},
   "source": [
    "## 3.2. Normalización de variables"
   ]
  },
  {
   "cell_type": "code",
   "execution_count": 102,
   "metadata": {},
   "outputs": [],
   "source": [
    "# Select the variables where the z-score will be applied\n",
    "scalable_variables = ['bmi', 'age']\n",
    "\n",
    "if scalable_variables:\n",
    "    # Create an instance of the StandardScaler for each variable\n",
    "    scaler = preprocessing.StandardScaler()\n",
    "\n",
    "    # Fit the distribution\n",
    "    scaler.fit(x_train.loc[:, scalable_variables])\n",
    "\n",
    "    # Transform and normalize all variables\n",
    "    x_train.loc[:, scalable_variables] = scaler.transform(x_train.loc[:, scalable_variables])\n",
    "    x_valid.loc[:, scalable_variables] = scaler.transform(x_valid.loc[:, scalable_variables])\n",
    "    x_test.loc[:, scalable_variables] = scaler.transform(x_test.loc[:, scalable_variables])"
   ]
  },
  {
   "cell_type": "markdown",
   "metadata": {},
   "source": [
    "## 3.3. Conjuntos de entrenamiento, validación y evaluación\n",
    "Particularmente, para las redes neuronales de múltiples capas, en este problema vamos a estar utilizando una capa de *embedding* para poder reducir la dimensionalidad necesaria para desacoplar las categorías de la variable *region*. Es decir, normalmente podríamos utilizar un *one hot encoding* para independizar en diferentes variables, pero produce una mayor dimensionalidad y poca interpretabilidad de lo que la red neuronal aprende durante el entrenamiento. En conclusión, debemos separar los grupos de entradas por el formato de entrada de la red neuronal."
   ]
  },
  {
   "cell_type": "code",
   "execution_count": 103,
   "metadata": {},
   "outputs": [],
   "source": [
    "x_train = [x_train[['age', 'bmi', 'smoker-encoded', 'children', 'sex-encoded']], x_train['region-encoded']]\n",
    "x_valid = [x_valid[['age', 'bmi', 'smoker-encoded', 'children', 'sex-encoded']], x_valid['region-encoded']]\n",
    "x_test = [x_test[['age', 'bmi', 'smoker-encoded', 'children', 'sex-encoded']], x_test['region-encoded']]"
   ]
  },
  {
   "cell_type": "markdown",
   "metadata": {},
   "source": [
    "# 4. Multilayer Perceptron"
   ]
  },
  {
   "cell_type": "code",
   "execution_count": 104,
   "metadata": {},
   "outputs": [],
   "source": [
    "import hyperopt"
   ]
  },
  {
   "cell_type": "code",
   "execution_count": 105,
   "metadata": {},
   "outputs": [],
   "source": [
    "from hyperopt.pyll import scope"
   ]
  },
  {
   "cell_type": "code",
   "execution_count": 106,
   "metadata": {},
   "outputs": [],
   "source": [
    "from src.ej2 import mlp_helper\n",
    "importlib.reload(mlp_helper);"
   ]
  },
  {
   "cell_type": "markdown",
   "metadata": {},
   "source": [
    "## 4.1. Creación de la función **objetivo**\n",
    "Creamos la función **objetivo** la cual recibe los parámetros a partir de los cuales se crea el modelo, se lo entrena y se evalúa su performance."
   ]
  },
  {
   "cell_type": "code",
   "execution_count": 107,
   "metadata": {},
   "outputs": [],
   "source": [
    "def objective(kwargs):\n",
    "    \"\"\" Objective function for the hyperopt algorithm. \"\"\"\n",
    "    \n",
    "    # Setting some fixed values\n",
    "    kwargs['tensorboard_on'] = False\n",
    "    kwargs['summary_on'] = False\n",
    "    kwargs['epochs'] = 500\n",
    "    kwargs['batch_size'] = 32\n",
    "    kwargs['optimizer'] = 'adam'\n",
    "    kwargs['beta_1'] = 0.9\n",
    "    kwargs['beta_2'] = 0.999\n",
    "    \n",
    "    # Running the model with the given hyperparameters and retrieving the test set performance\n",
    "    # WARNING! We're using the same valid set for both valid and test, but can be ignored, it does not affect\n",
    "    # because it was something we had to do to reuse the function...\n",
    "    _, _, mae_test = mlp_helper.run_model(x_train, y_train, x_valid, y_valid, x_valid, y_valid, **kwargs)\n",
    "    return {'loss': mae_test, 'status': hyperopt.STATUS_OK}"
   ]
  },
  {
   "cell_type": "markdown",
   "metadata": {},
   "source": [
    "## 4.2. Creación del **espacio** de hiperparámetros\n",
    "Creamos el **espacio** en el cual se encuentran cada uno de los hiperparámetros que queremos probar, es decir, cuáles son los hiperparámetros y qué valores pueden tomar en cada prueba a realizar por el optimizador de hiperparámetros."
   ]
  },
  {
   "cell_type": "code",
   "execution_count": 108,
   "metadata": {},
   "outputs": [],
   "source": [
    "space = {\n",
    "    'use_batch_normalization': hyperopt.hp.choice('use_batch_normalization', [False, True]),\n",
    "    'regularizer': hyperopt.hp.choice('regularizer', ['l2', None]),\n",
    "    'learning_rate': hyperopt.hp.choice('learning_rate', [1.0, 0.5, 0.1, 0.01]),\n",
    "    'hidden_layers': scope.int(hyperopt.hp.quniform('hidden_layers', 0, 10, 1)),\n",
    "    'units_per_layer': scope.int(hyperopt.hp.quniform('units_per_layer', 2, 50, 1)),\n",
    "    'hidden_layer_activation': hyperopt.hp.choice('hidden_layer_activation', ['relu', 'elu'])\n",
    "}"
   ]
  },
  {
   "cell_type": "markdown",
   "metadata": {},
   "source": [
    "## 4.3. Selección del **algoritmo** de optimización\n",
    "Se puede elegir un **algoritmo** de optimización para el proceso de búsqueda de los mejores hiperparámetros dentro del espacio consignado acorde a los resultados que se van obteniendo de la función objetivo."
   ]
  },
  {
   "cell_type": "code",
   "execution_count": 109,
   "metadata": {},
   "outputs": [],
   "source": [
    "algorithm = hyperopt.tpe.suggest"
   ]
  },
  {
   "cell_type": "markdown",
   "metadata": {},
   "source": [
    "## 4.4. Ejecutando la búsqueda\n",
    "Se ejecuta la búsqueda de los mejores hiperparámetros."
   ]
  },
  {
   "cell_type": "code",
   "execution_count": 110,
   "metadata": {},
   "outputs": [],
   "source": [
    "trials = hyperopt.base.Trials()"
   ]
  },
  {
   "cell_type": "code",
   "execution_count": 111,
   "metadata": {},
   "outputs": [
    {
     "name": "stdout",
     "output_type": "stream",
     "text": [
      "100%|█████████████████████████████████████████████████████████| 100/100 [37:47<00:00, 22.68s/trial, best loss: 1398.42]\n"
     ]
    }
   ],
   "source": [
    "best = hyperopt.fmin(objective, space, algo=algorithm, max_evals=100, trials=trials)"
   ]
  },
  {
   "cell_type": "code",
   "execution_count": 115,
   "metadata": {},
   "outputs": [
    {
     "data": {
      "text/plain": [
       "{'hidden_layer_activation': 'relu',\n",
       " 'hidden_layers': 8,\n",
       " 'learning_rate': 0.1,\n",
       " 'regularizer': 'l2',\n",
       " 'units_per_layer': 42,\n",
       " 'use_batch_normalization': False}"
      ]
     },
     "execution_count": 115,
     "metadata": {},
     "output_type": "execute_result"
    }
   ],
   "source": [
    "hyperopt.space_eval(space, best)"
   ]
  },
  {
   "cell_type": "code",
   "execution_count": 116,
   "metadata": {},
   "outputs": [
    {
     "name": "stdout",
     "output_type": "stream",
     "text": [
      "Model logs at tb-logs/mlp/hyperopt/20210530-213241\n",
      "Model checkpoints at checkpoints/mlp/hyperopt/20210530-213241\n",
      "Model: \"model_305\"\n",
      "__________________________________________________________________________________________________\n",
      "Layer (type)                    Output Shape         Param #     Connected to                     \n",
      "==================================================================================================\n",
      "input_616 (InputLayer)          [(None, 1)]          0                                            \n",
      "__________________________________________________________________________________________________\n",
      "embedding_307 (Embedding)       (None, 1, 2)         8           input_616[0][0]                  \n",
      "__________________________________________________________________________________________________\n",
      "input_615 (InputLayer)          [(None, 5)]          0                                            \n",
      "__________________________________________________________________________________________________\n",
      "flatten_307 (Flatten)           (None, 2)            0           embedding_307[0][0]              \n",
      "__________________________________________________________________________________________________\n",
      "concatenate_307 (Concatenate)   (None, 7)            0           input_615[0][0]                  \n",
      "                                                                 flatten_307[0][0]                \n",
      "__________________________________________________________________________________________________\n",
      "dense_1724 (Dense)              (None, 42)           336         concatenate_307[0][0]            \n",
      "__________________________________________________________________________________________________\n",
      "dense_1725 (Dense)              (None, 42)           1806        dense_1724[0][0]                 \n",
      "__________________________________________________________________________________________________\n",
      "dense_1726 (Dense)              (None, 42)           1806        dense_1725[0][0]                 \n",
      "__________________________________________________________________________________________________\n",
      "dense_1727 (Dense)              (None, 42)           1806        dense_1726[0][0]                 \n",
      "__________________________________________________________________________________________________\n",
      "dense_1728 (Dense)              (None, 42)           1806        dense_1727[0][0]                 \n",
      "__________________________________________________________________________________________________\n",
      "dense_1729 (Dense)              (None, 42)           1806        dense_1728[0][0]                 \n",
      "__________________________________________________________________________________________________\n",
      "dense_1730 (Dense)              (None, 42)           1806        dense_1729[0][0]                 \n",
      "__________________________________________________________________________________________________\n",
      "dense_1731 (Dense)              (None, 42)           1806        dense_1730[0][0]                 \n",
      "__________________________________________________________________________________________________\n",
      "dense_1732 (Dense)              (None, 1)            43          dense_1731[0][0]                 \n",
      "==================================================================================================\n",
      "Total params: 13,029\n",
      "Trainable params: 13,029\n",
      "Non-trainable params: 0\n",
      "__________________________________________________________________________________________________\n",
      "Epoch 1/500\n",
      "27/27 - 212s - loss: 10857.7412 - mean_absolute_error: 10857.7021 - val_loss: 10392.4180 - val_mean_absolute_error: 10392.3213\n",
      "Epoch 2/500\n",
      "27/27 - 0s - loss: 4611.8081 - mean_absolute_error: 4611.6968 - val_loss: 5173.5020 - val_mean_absolute_error: 5173.3770\n",
      "Epoch 3/500\n",
      "27/27 - 0s - loss: 4178.6445 - mean_absolute_error: 4178.5200 - val_loss: 2826.1062 - val_mean_absolute_error: 2825.9812\n",
      "Epoch 4/500\n",
      "27/27 - 0s - loss: 2859.1421 - mean_absolute_error: 2859.0161 - val_loss: 2191.3435 - val_mean_absolute_error: 2191.2170\n",
      "Epoch 5/500\n",
      "27/27 - 0s - loss: 4473.7349 - mean_absolute_error: 4473.6094 - val_loss: 3042.1611 - val_mean_absolute_error: 3042.0364\n",
      "Epoch 6/500\n",
      "27/27 - 0s - loss: 3822.7834 - mean_absolute_error: 3822.6589 - val_loss: 2453.6875 - val_mean_absolute_error: 2453.5645\n",
      "Epoch 7/500\n",
      "27/27 - 0s - loss: 3001.4658 - mean_absolute_error: 3001.3435 - val_loss: 2762.5630 - val_mean_absolute_error: 2762.4404\n",
      "Epoch 8/500\n",
      "27/27 - 0s - loss: 4157.0781 - mean_absolute_error: 4156.9565 - val_loss: 2823.4841 - val_mean_absolute_error: 2823.3630\n",
      "Epoch 9/500\n",
      "27/27 - 0s - loss: 2458.7893 - mean_absolute_error: 2458.6692 - val_loss: 2059.3560 - val_mean_absolute_error: 2059.2363\n",
      "Epoch 10/500\n",
      "27/27 - 0s - loss: 2440.3271 - mean_absolute_error: 2440.2078 - val_loss: 2034.3674 - val_mean_absolute_error: 2034.2491\n",
      "Epoch 11/500\n",
      "27/27 - 0s - loss: 2259.2454 - mean_absolute_error: 2259.1270 - val_loss: 2231.6436 - val_mean_absolute_error: 2231.5261\n",
      "Epoch 12/500\n",
      "27/27 - 0s - loss: 2307.5857 - mean_absolute_error: 2307.4685 - val_loss: 1870.4290 - val_mean_absolute_error: 1870.3123\n",
      "Epoch 13/500\n",
      "27/27 - 0s - loss: 2012.6606 - mean_absolute_error: 2012.5437 - val_loss: 1972.8260 - val_mean_absolute_error: 1972.7100\n",
      "Epoch 14/500\n",
      "27/27 - 0s - loss: 2032.6830 - mean_absolute_error: 2032.5668 - val_loss: 2072.0718 - val_mean_absolute_error: 2071.9563\n",
      "Epoch 15/500\n",
      "27/27 - 0s - loss: 2064.4927 - mean_absolute_error: 2064.3774 - val_loss: 1993.1509 - val_mean_absolute_error: 1993.0359\n",
      "Epoch 16/500\n",
      "27/27 - 0s - loss: 1895.6378 - mean_absolute_error: 1895.5232 - val_loss: 1843.3057 - val_mean_absolute_error: 1843.1909\n",
      "Epoch 17/500\n",
      "27/27 - 0s - loss: 1933.3596 - mean_absolute_error: 1933.2451 - val_loss: 1887.1992 - val_mean_absolute_error: 1887.0848\n",
      "Epoch 18/500\n",
      "27/27 - 0s - loss: 1996.3849 - mean_absolute_error: 1996.2708 - val_loss: 2310.6514 - val_mean_absolute_error: 2310.5376\n",
      "Epoch 19/500\n",
      "27/27 - 0s - loss: 2092.1802 - mean_absolute_error: 2092.0657 - val_loss: 2194.7820 - val_mean_absolute_error: 2194.6677\n",
      "Epoch 20/500\n",
      "27/27 - 0s - loss: 1873.0745 - mean_absolute_error: 1872.9604 - val_loss: 1844.8269 - val_mean_absolute_error: 1844.7126\n",
      "Epoch 21/500\n",
      "27/27 - 0s - loss: 1712.8712 - mean_absolute_error: 1712.7570 - val_loss: 1793.2703 - val_mean_absolute_error: 1793.1553\n",
      "Epoch 22/500\n",
      "27/27 - 0s - loss: 1645.5759 - mean_absolute_error: 1645.4613 - val_loss: 1739.9172 - val_mean_absolute_error: 1739.8026\n",
      "Epoch 23/500\n",
      "27/27 - 0s - loss: 1690.2369 - mean_absolute_error: 1690.1216 - val_loss: 1769.9105 - val_mean_absolute_error: 1769.7955\n",
      "Epoch 24/500\n",
      "27/27 - 0s - loss: 1599.1145 - mean_absolute_error: 1598.9998 - val_loss: 1685.7201 - val_mean_absolute_error: 1685.6049\n",
      "Epoch 25/500\n",
      "27/27 - 0s - loss: 1582.7505 - mean_absolute_error: 1582.6350 - val_loss: 1790.6221 - val_mean_absolute_error: 1790.5068\n",
      "Epoch 26/500\n",
      "27/27 - 0s - loss: 1638.7430 - mean_absolute_error: 1638.6281 - val_loss: 1846.2572 - val_mean_absolute_error: 1846.1420\n",
      "Epoch 27/500\n",
      "27/27 - 0s - loss: 1544.4985 - mean_absolute_error: 1544.3832 - val_loss: 1657.1440 - val_mean_absolute_error: 1657.0286\n",
      "Epoch 28/500\n",
      "27/27 - 0s - loss: 1543.0502 - mean_absolute_error: 1542.9348 - val_loss: 1679.9980 - val_mean_absolute_error: 1679.8824\n",
      "Epoch 29/500\n",
      "27/27 - 0s - loss: 1504.3557 - mean_absolute_error: 1504.2401 - val_loss: 1632.5798 - val_mean_absolute_error: 1632.4645\n",
      "Epoch 30/500\n",
      "27/27 - 0s - loss: 1495.5992 - mean_absolute_error: 1495.4838 - val_loss: 1664.6892 - val_mean_absolute_error: 1664.5741\n",
      "Epoch 31/500\n",
      "27/27 - 0s - loss: 1439.0941 - mean_absolute_error: 1438.9789 - val_loss: 1599.7345 - val_mean_absolute_error: 1599.6194\n",
      "Epoch 32/500\n",
      "27/27 - 0s - loss: 1429.8544 - mean_absolute_error: 1429.7394 - val_loss: 1710.4540 - val_mean_absolute_error: 1710.3392\n",
      "Epoch 33/500\n",
      "27/27 - 0s - loss: 1452.6395 - mean_absolute_error: 1452.5243 - val_loss: 1581.7274 - val_mean_absolute_error: 1581.6124\n",
      "Epoch 34/500\n",
      "27/27 - 0s - loss: 1382.5509 - mean_absolute_error: 1382.4359 - val_loss: 1555.5405 - val_mean_absolute_error: 1555.4254\n",
      "Epoch 35/500\n",
      "27/27 - 0s - loss: 1390.1113 - mean_absolute_error: 1389.9960 - val_loss: 1559.7994 - val_mean_absolute_error: 1559.6844\n",
      "Epoch 36/500\n",
      "27/27 - 0s - loss: 1385.3508 - mean_absolute_error: 1385.2362 - val_loss: 1585.9823 - val_mean_absolute_error: 1585.8676\n",
      "Epoch 37/500\n",
      "27/27 - 0s - loss: 1379.3154 - mean_absolute_error: 1379.2007 - val_loss: 1548.1687 - val_mean_absolute_error: 1548.0540\n",
      "Epoch 38/500\n",
      "27/27 - 0s - loss: 1348.7157 - mean_absolute_error: 1348.6008 - val_loss: 1543.4352 - val_mean_absolute_error: 1543.3203\n",
      "Epoch 39/500\n",
      "27/27 - 0s - loss: 1340.4746 - mean_absolute_error: 1340.3597 - val_loss: 1551.9957 - val_mean_absolute_error: 1551.8809\n",
      "Epoch 40/500\n",
      "27/27 - 0s - loss: 1335.8915 - mean_absolute_error: 1335.7767 - val_loss: 1537.4946 - val_mean_absolute_error: 1537.3799\n",
      "Epoch 41/500\n",
      "27/27 - 0s - loss: 1337.6559 - mean_absolute_error: 1337.5410 - val_loss: 1530.6642 - val_mean_absolute_error: 1530.5494\n",
      "Epoch 42/500\n",
      "27/27 - 0s - loss: 1349.1460 - mean_absolute_error: 1349.0311 - val_loss: 1532.6238 - val_mean_absolute_error: 1532.5093\n",
      "Epoch 43/500\n",
      "27/27 - 0s - loss: 1330.3484 - mean_absolute_error: 1330.2338 - val_loss: 1520.5059 - val_mean_absolute_error: 1520.3912\n",
      "Epoch 44/500\n",
      "27/27 - 0s - loss: 1328.7819 - mean_absolute_error: 1328.6672 - val_loss: 1519.1353 - val_mean_absolute_error: 1519.0205\n",
      "Epoch 45/500\n",
      "27/27 - 0s - loss: 1357.1708 - mean_absolute_error: 1357.0560 - val_loss: 1537.0420 - val_mean_absolute_error: 1536.9272\n",
      "Epoch 46/500\n",
      "27/27 - 0s - loss: 1353.2222 - mean_absolute_error: 1353.1077 - val_loss: 1547.9934 - val_mean_absolute_error: 1547.8788\n",
      "Epoch 47/500\n",
      "27/27 - 0s - loss: 1332.5259 - mean_absolute_error: 1332.4114 - val_loss: 1524.6978 - val_mean_absolute_error: 1524.5831\n",
      "Epoch 48/500\n",
      "27/27 - 0s - loss: 1315.1982 - mean_absolute_error: 1315.0835 - val_loss: 1516.3474 - val_mean_absolute_error: 1516.2330\n",
      "Epoch 49/500\n",
      "27/27 - 0s - loss: 1316.5675 - mean_absolute_error: 1316.4531 - val_loss: 1540.4446 - val_mean_absolute_error: 1540.3300\n",
      "Epoch 50/500\n",
      "27/27 - 0s - loss: 1317.2914 - mean_absolute_error: 1317.1770 - val_loss: 1512.6337 - val_mean_absolute_error: 1512.5192\n",
      "Epoch 51/500\n",
      "27/27 - 0s - loss: 1308.0862 - mean_absolute_error: 1307.9719 - val_loss: 1513.6265 - val_mean_absolute_error: 1513.5121\n",
      "Epoch 52/500\n",
      "27/27 - 0s - loss: 1311.5486 - mean_absolute_error: 1311.4340 - val_loss: 1516.5166 - val_mean_absolute_error: 1516.4019\n",
      "Epoch 53/500\n",
      "27/27 - 0s - loss: 1319.5304 - mean_absolute_error: 1319.4158 - val_loss: 1518.3806 - val_mean_absolute_error: 1518.2660\n",
      "Epoch 54/500\n",
      "27/27 - 0s - loss: 1305.4363 - mean_absolute_error: 1305.3217 - val_loss: 1510.3999 - val_mean_absolute_error: 1510.2855\n",
      "Epoch 55/500\n",
      "27/27 - 0s - loss: 1311.4678 - mean_absolute_error: 1311.3534 - val_loss: 1519.5192 - val_mean_absolute_error: 1519.4045\n",
      "Epoch 56/500\n",
      "27/27 - 0s - loss: 1303.1926 - mean_absolute_error: 1303.0779 - val_loss: 1518.1615 - val_mean_absolute_error: 1518.0470\n",
      "Epoch 57/500\n",
      "27/27 - 0s - loss: 1302.8733 - mean_absolute_error: 1302.7587 - val_loss: 1509.5391 - val_mean_absolute_error: 1509.4247\n",
      "Epoch 58/500\n",
      "27/27 - 0s - loss: 1299.9111 - mean_absolute_error: 1299.7968 - val_loss: 1508.6263 - val_mean_absolute_error: 1508.5117\n",
      "Epoch 59/500\n",
      "27/27 - 0s - loss: 1299.7203 - mean_absolute_error: 1299.6057 - val_loss: 1507.5326 - val_mean_absolute_error: 1507.4181\n",
      "Epoch 60/500\n",
      "27/27 - 0s - loss: 1304.9475 - mean_absolute_error: 1304.8331 - val_loss: 1513.4885 - val_mean_absolute_error: 1513.3743\n",
      "Epoch 61/500\n",
      "27/27 - 0s - loss: 1305.7181 - mean_absolute_error: 1305.6036 - val_loss: 1513.5756 - val_mean_absolute_error: 1513.4612\n",
      "Epoch 62/500\n",
      "27/27 - 0s - loss: 1301.0117 - mean_absolute_error: 1300.8977 - val_loss: 1506.7294 - val_mean_absolute_error: 1506.6147\n",
      "Epoch 63/500\n",
      "27/27 - 0s - loss: 1298.7565 - mean_absolute_error: 1298.6421 - val_loss: 1509.5221 - val_mean_absolute_error: 1509.4076\n",
      "Epoch 64/500\n",
      "27/27 - 0s - loss: 1296.3698 - mean_absolute_error: 1296.2552 - val_loss: 1508.5052 - val_mean_absolute_error: 1508.3910\n",
      "Epoch 65/500\n",
      "27/27 - 0s - loss: 1296.9869 - mean_absolute_error: 1296.8723 - val_loss: 1506.1787 - val_mean_absolute_error: 1506.0645\n",
      "Epoch 66/500\n",
      "27/27 - 0s - loss: 1297.7408 - mean_absolute_error: 1297.6265 - val_loss: 1510.0568 - val_mean_absolute_error: 1509.9425\n",
      "Epoch 67/500\n",
      "27/27 - 0s - loss: 1295.3728 - mean_absolute_error: 1295.2585 - val_loss: 1505.1156 - val_mean_absolute_error: 1505.0012\n",
      "Epoch 68/500\n",
      "27/27 - 0s - loss: 1296.4172 - mean_absolute_error: 1296.3030 - val_loss: 1504.6963 - val_mean_absolute_error: 1504.5820\n",
      "Epoch 69/500\n",
      "27/27 - 0s - loss: 1295.6281 - mean_absolute_error: 1295.5139 - val_loss: 1505.1591 - val_mean_absolute_error: 1505.0446\n",
      "Epoch 70/500\n",
      "27/27 - 0s - loss: 1294.0718 - mean_absolute_error: 1293.9574 - val_loss: 1512.9985 - val_mean_absolute_error: 1512.8842\n",
      "Epoch 71/500\n",
      "27/27 - 0s - loss: 1296.8210 - mean_absolute_error: 1296.7064 - val_loss: 1511.1449 - val_mean_absolute_error: 1511.0306\n",
      "Epoch 72/500\n",
      "27/27 - 0s - loss: 1295.6392 - mean_absolute_error: 1295.5244 - val_loss: 1505.2593 - val_mean_absolute_error: 1505.1449\n",
      "Epoch 73/500\n",
      "27/27 - 0s - loss: 1293.4150 - mean_absolute_error: 1293.3009 - val_loss: 1504.3384 - val_mean_absolute_error: 1504.2239\n",
      "Epoch 74/500\n",
      "27/27 - 0s - loss: 1293.1898 - mean_absolute_error: 1293.0754 - val_loss: 1504.1815 - val_mean_absolute_error: 1504.0671\n",
      "Epoch 75/500\n",
      "27/27 - 0s - loss: 1293.6156 - mean_absolute_error: 1293.5013 - val_loss: 1504.9338 - val_mean_absolute_error: 1504.8197\n",
      "Epoch 76/500\n",
      "27/27 - 0s - loss: 1293.6973 - mean_absolute_error: 1293.5828 - val_loss: 1504.8326 - val_mean_absolute_error: 1504.7183\n",
      "Epoch 77/500\n",
      "27/27 - 0s - loss: 1294.4132 - mean_absolute_error: 1294.2990 - val_loss: 1504.4355 - val_mean_absolute_error: 1504.3213\n",
      "Epoch 78/500\n",
      "27/27 - 0s - loss: 1293.0787 - mean_absolute_error: 1292.9644 - val_loss: 1504.5188 - val_mean_absolute_error: 1504.4045\n",
      "Epoch 79/500\n",
      "27/27 - 0s - loss: 1292.8721 - mean_absolute_error: 1292.7577 - val_loss: 1504.4469 - val_mean_absolute_error: 1504.3326\n",
      "Epoch 80/500\n",
      "27/27 - 0s - loss: 1293.2308 - mean_absolute_error: 1293.1165 - val_loss: 1504.2827 - val_mean_absolute_error: 1504.1685\n",
      "Epoch 81/500\n",
      "27/27 - 0s - loss: 1292.4250 - mean_absolute_error: 1292.3108 - val_loss: 1503.8815 - val_mean_absolute_error: 1503.7672\n",
      "Epoch 82/500\n",
      "27/27 - 0s - loss: 1292.4222 - mean_absolute_error: 1292.3077 - val_loss: 1504.0493 - val_mean_absolute_error: 1503.9352\n",
      "Epoch 83/500\n",
      "27/27 - 0s - loss: 1292.1384 - mean_absolute_error: 1292.0242 - val_loss: 1503.9194 - val_mean_absolute_error: 1503.8053\n",
      "Epoch 84/500\n",
      "27/27 - 0s - loss: 1292.3778 - mean_absolute_error: 1292.2635 - val_loss: 1504.0544 - val_mean_absolute_error: 1503.9402\n",
      "Epoch 85/500\n",
      "27/27 - 0s - loss: 1292.3608 - mean_absolute_error: 1292.2467 - val_loss: 1503.7479 - val_mean_absolute_error: 1503.6337\n",
      "Epoch 86/500\n",
      "27/27 - 0s - loss: 1292.2338 - mean_absolute_error: 1292.1198 - val_loss: 1503.7737 - val_mean_absolute_error: 1503.6593\n",
      "Epoch 87/500\n",
      "27/27 - 0s - loss: 1292.0653 - mean_absolute_error: 1291.9512 - val_loss: 1503.8059 - val_mean_absolute_error: 1503.6917\n",
      "Epoch 88/500\n",
      "27/27 - 0s - loss: 1292.0627 - mean_absolute_error: 1291.9481 - val_loss: 1503.8224 - val_mean_absolute_error: 1503.7080\n",
      "Epoch 89/500\n",
      "27/27 - 0s - loss: 1291.9124 - mean_absolute_error: 1291.7980 - val_loss: 1503.7633 - val_mean_absolute_error: 1503.6490\n",
      "Epoch 90/500\n",
      "27/27 - 0s - loss: 1292.4398 - mean_absolute_error: 1292.3256 - val_loss: 1503.7240 - val_mean_absolute_error: 1503.6096\n",
      "Epoch 91/500\n",
      "27/27 - 0s - loss: 1291.9128 - mean_absolute_error: 1291.7986 - val_loss: 1503.7783 - val_mean_absolute_error: 1503.6642\n",
      "Epoch 92/500\n",
      "27/27 - 0s - loss: 1292.0271 - mean_absolute_error: 1291.9128 - val_loss: 1503.6981 - val_mean_absolute_error: 1503.5837\n",
      "Epoch 93/500\n",
      "27/27 - 0s - loss: 1292.0380 - mean_absolute_error: 1291.9238 - val_loss: 1503.7065 - val_mean_absolute_error: 1503.5924\n",
      "Epoch 94/500\n",
      "27/27 - 0s - loss: 1291.9808 - mean_absolute_error: 1291.8665 - val_loss: 1503.7563 - val_mean_absolute_error: 1503.6420\n",
      "Epoch 95/500\n",
      "27/27 - 0s - loss: 1292.0397 - mean_absolute_error: 1291.9253 - val_loss: 1503.7262 - val_mean_absolute_error: 1503.6119\n",
      "Epoch 96/500\n",
      "27/27 - 0s - loss: 1292.2122 - mean_absolute_error: 1292.0978 - val_loss: 1503.6866 - val_mean_absolute_error: 1503.5724\n",
      "Epoch 97/500\n",
      "27/27 - 0s - loss: 1291.9783 - mean_absolute_error: 1291.8641 - val_loss: 1503.6643 - val_mean_absolute_error: 1503.5502\n",
      "Epoch 98/500\n",
      "27/27 - 0s - loss: 1291.7373 - mean_absolute_error: 1291.6229 - val_loss: 1503.6830 - val_mean_absolute_error: 1503.5688\n",
      "Epoch 99/500\n",
      "27/27 - 0s - loss: 1291.8899 - mean_absolute_error: 1291.7756 - val_loss: 1503.6598 - val_mean_absolute_error: 1503.5457\n",
      "Epoch 100/500\n",
      "27/27 - 0s - loss: 1291.7717 - mean_absolute_error: 1291.6578 - val_loss: 1503.6664 - val_mean_absolute_error: 1503.5522\n",
      "Epoch 101/500\n",
      "27/27 - 0s - loss: 1291.7124 - mean_absolute_error: 1291.5978 - val_loss: 1503.6091 - val_mean_absolute_error: 1503.4948\n",
      "Epoch 102/500\n",
      "27/27 - 0s - loss: 1291.7490 - mean_absolute_error: 1291.6345 - val_loss: 1503.6250 - val_mean_absolute_error: 1503.5107\n",
      "Epoch 103/500\n",
      "27/27 - 0s - loss: 1291.6842 - mean_absolute_error: 1291.5699 - val_loss: 1503.6293 - val_mean_absolute_error: 1503.5150\n",
      "Epoch 104/500\n",
      "27/27 - 0s - loss: 1291.6978 - mean_absolute_error: 1291.5834 - val_loss: 1503.6089 - val_mean_absolute_error: 1503.4946\n",
      "[MAE] Train: 1291.63 Valid: 1503.61 Test: 2209.96\n"
     ]
    }
   ],
   "source": [
    "# Run model\n",
    "mae_train, mae_valid, mae_test = mlp_helper.run_model(x_train, y_train, x_valid, y_valid, x_test, y_test, \n",
    "                                                      epochs=500,\n",
    "                                                      batch_size=32,\n",
    "                                                      optimizer='adam',\n",
    "                                                      beta_1=0.9,\n",
    "                                                      beta_2=0.999,\n",
    "                                                      tag='hyperopt',\n",
    "                                                      verbose=2,\n",
    "                                                      **hyperopt.space_eval(space, best)\n",
    "                                                     )"
   ]
  }
 ],
 "metadata": {
  "kernelspec": {
   "display_name": "Python 3",
   "language": "python",
   "name": "python3"
  },
  "language_info": {
   "codemirror_mode": {
    "name": "ipython",
    "version": 3
   },
   "file_extension": ".py",
   "mimetype": "text/x-python",
   "name": "python",
   "nbconvert_exporter": "python",
   "pygments_lexer": "ipython3",
   "version": "3.8.5"
  }
 },
 "nbformat": 4,
 "nbformat_minor": 4
}
