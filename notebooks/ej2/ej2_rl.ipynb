{
 "cells": [
  {
   "cell_type": "markdown",
   "metadata": {},
   "source": [
    "### Fuentes\n",
    "\n",
    "### Link: https://heartbeat.fritz.ai/5-regression-loss-functions-all-machine-learners-should-know-4fb140e9d4b0\n",
    "En esta fuente se puede encontrar una breve explicación del MAE y del MSE, una comparación entre ambos respecto de su comportamiento en entrenamiento frente a conjuntos de datos con y sin outliers en el error de los resultados, y luego una comparación de su comportamiento durante entrenamiento a razón de cómo son sus gradientes, lo cual provoca en el caso del MAE que la convergencia sea más lenta y sea necesario utilizar un **learning rate dinámico**. Explica que, si nos importa que la presencia de outliers tenga un impacto directo sobre el modelo, deberíamos utilizar MSE, mientras que si deseamos que no afecte demasiado podemos emplear MAE.\n",
    "\n",
    "### Link: https://towardsdatascience.com/learning-rate-schedules-and-adaptive-learning-rate-methods-for-deep-learning-2c8f433990d1\n",
    "En esta fuente se puede encontrar una explicación de los tres métodos para learning rate dinámico utilizados, el **time-based decay**, el **step decay** y el **exponential decay**, empleando para algunos de ellos la clase de Keras llamada Learning Rate Scheduler, que permite modificar a gusto del usuario el valor del learning rate a través del proceso.\n",
    "\n",
    "### Link: https://stackoverflow.com/questions/46308374/what-is-validation-data-used-for-in-a-keras-sequential-model\n",
    "Esta discusión de StackOverflow es interesante sobre la separación de los datasets en entrenamiento, validación y evaluación del modelo, la use para verificar algunas cuestiones sobre cómo usaba la información de validación Keras, entre otras cosas.\n",
    "\n",
    "### Link: https://machinelearningmastery.com/how-to-stop-training-deep-neural-networks-at-the-right-time-using-early-stopping/\n",
    "Explicación sobre el uso de **early stopping**, donde básicamente buscamos parar el entrenamiento aunque no se hayan terminado de correr todos los epochs predefinidos, porque se detecta que no hay mejoría en los resultados obtenidos, para ello se emplea la métrica evaluada sobre el conjunto de validación.\n",
    "\n",
    "### Link: https://machinelearningmastery.com/polynomial-features-transforms-for-machine-learning/\n",
    "Explicación sobre el uso de **features polinomiales**, que básicamente consiste en agregar nuevas variables de entrada al modelo a partir de potencias obtenidas entre las variables de entrada originales. De esta forma, el espacio que conforman las variables es de mayor dimensión y por ello la solución es más flexible, aunque hay que tener cuidado de que no se ajuste demasiado provocando **overfitting**."
   ]
  },
  {
   "cell_type": "markdown",
   "metadata": {},
   "source": [
    "# 1. Cargando base de datos"
   ]
  },
  {
   "cell_type": "code",
   "execution_count": 1,
   "metadata": {},
   "outputs": [],
   "source": [
    "import pandas as pd\n",
    "pd.options.mode.chained_assignment = None  # default='warn'"
   ]
  },
  {
   "cell_type": "code",
   "execution_count": 2,
   "metadata": {},
   "outputs": [],
   "source": [
    "import importlib"
   ]
  },
  {
   "cell_type": "code",
   "execution_count": 3,
   "metadata": {},
   "outputs": [],
   "source": [
    "import sys"
   ]
  },
  {
   "cell_type": "code",
   "execution_count": 4,
   "metadata": {},
   "outputs": [],
   "source": [
    "sys.path.insert(0, '../..')"
   ]
  },
  {
   "cell_type": "code",
   "execution_count": 5,
   "metadata": {},
   "outputs": [],
   "source": [
    "# Read the database from the .csv file into a pandas dataframe\n",
    "df = pd.read_csv('../../databases/insurance.csv')"
   ]
  },
  {
   "cell_type": "markdown",
   "metadata": {},
   "source": [
    "# 2. Preprocesamiento de los datos"
   ]
  },
  {
   "cell_type": "code",
   "execution_count": 6,
   "metadata": {},
   "outputs": [],
   "source": [
    "from sklearn import preprocessing"
   ]
  },
  {
   "cell_type": "code",
   "execution_count": 7,
   "metadata": {},
   "outputs": [],
   "source": [
    "from src import helper\n",
    "importlib.reload(helper);"
   ]
  },
  {
   "cell_type": "markdown",
   "metadata": {},
   "source": [
    "## 2.1. Codificación de variables no numéricas"
   ]
  },
  {
   "cell_type": "code",
   "execution_count": 8,
   "metadata": {},
   "outputs": [],
   "source": [
    "# Create a label encoder for the sex variable or feature and create a new column in the dataframe \n",
    "# with the encoded version of the gender\n",
    "sex_encoder = preprocessing.LabelEncoder()\n",
    "sex_encoder.fit(df['sex'])\n",
    "df['sex-encoded'] = sex_encoder.transform(df['sex'])"
   ]
  },
  {
   "cell_type": "code",
   "execution_count": 9,
   "metadata": {},
   "outputs": [],
   "source": [
    "# Create a label encoder for the smoker variable or feature and create a new column in the dataframe\n",
    "# with the encoded version of the smoker\n",
    "smoker_encoder = preprocessing.LabelEncoder()\n",
    "smoker_encoder.fit(df['smoker'])\n",
    "df['smoker-encoded'] = smoker_encoder.transform(df['smoker'])"
   ]
  },
  {
   "cell_type": "code",
   "execution_count": 10,
   "metadata": {},
   "outputs": [],
   "source": [
    "# Create a one hot encoder and fit the available types of regions in the dataset\n",
    "region_encoder = preprocessing.OneHotEncoder()\n",
    "region_encoder.fit(df['region'].to_numpy().reshape(-1, 1))\n",
    "\n",
    "# Transform all entries into the one hot encoded representation\n",
    "encoded_regions = region_encoder.transform(df['region'].to_numpy().reshape(-1, 1)).toarray()\n",
    "\n",
    "# Add each new encoded variable or feature to the dataset\n",
    "for i, category in enumerate(region_encoder.categories_[0]):\n",
    "    df[f'{category}-encoded'] = encoded_regions.transpose()[i]"
   ]
  },
  {
   "cell_type": "markdown",
   "metadata": {},
   "source": [
    "## 2.2. Eliminando outliers\n",
    "A partir del análisis realizado sobre la base de datos sobre la cual se entrenan los modelos, se detectaron outliers en la variable del índice de masa corporal, se decide remover estos datos por completo ya que no fue necesario tener en cuenta una estrategia para corregir datos incompletos o incorrectos y el impacto que tiene sobre la totalidad de datos es menos del 1%. Entonces, se eliminan los casos con outliers del BMI."
   ]
  },
  {
   "cell_type": "code",
   "execution_count": 11,
   "metadata": {},
   "outputs": [],
   "source": [
    "# Remove outliers by setting NaN on those rows at the column of BMI\n",
    "helper.remove_outliers(df, 'bmi')\n",
    "\n",
    "# Remove NaN values from the dataframe\n",
    "df = df.dropna()"
   ]
  },
  {
   "cell_type": "markdown",
   "metadata": {},
   "source": [
    "## 2.3. Filtrado de variables"
   ]
  },
  {
   "cell_type": "code",
   "execution_count": 12,
   "metadata": {},
   "outputs": [],
   "source": [
    "# Filtering or removing of non desired variables\n",
    "df_x = df[['age', 'bmi', 'smoker-encoded', 'children', 'sex-encoded', 'northwest-encoded', 'northeast-encoded', 'southwest-encoded', 'southeast-encoded']]\n",
    "df_y = df['charges']"
   ]
  },
  {
   "cell_type": "markdown",
   "metadata": {},
   "source": [
    "# 3. Separación del conjunto de entrenamiento y evaluación"
   ]
  },
  {
   "cell_type": "code",
   "execution_count": 13,
   "metadata": {},
   "outputs": [],
   "source": [
    "from sklearn import model_selection"
   ]
  },
  {
   "cell_type": "code",
   "execution_count": 14,
   "metadata": {},
   "outputs": [],
   "source": [
    "from sklearn import preprocessing"
   ]
  },
  {
   "cell_type": "markdown",
   "metadata": {},
   "source": [
    "## 3.1. Separación de los conjuntos\n",
    "Se realiza la separación del conjunto de datos original en **train**, **valid** y **test**."
   ]
  },
  {
   "cell_type": "code",
   "execution_count": 15,
   "metadata": {},
   "outputs": [],
   "source": [
    "# Split the dataset into train_valid and test\n",
    "x_train_valid, x_test, y_train_valid, y_test = model_selection.train_test_split(df_x, df_y, test_size=0.2, random_state=5, shuffle=True)"
   ]
  },
  {
   "cell_type": "code",
   "execution_count": 16,
   "metadata": {},
   "outputs": [],
   "source": [
    "# Split the dataset into train and valid\n",
    "x_train, x_valid, y_train, y_valid = model_selection.train_test_split(x_train_valid, y_train_valid, test_size=0.2, random_state=15, shuffle=True)"
   ]
  },
  {
   "cell_type": "markdown",
   "metadata": {},
   "source": [
    "# 4. Regresión Lineal\n",
    "En este punto, se comienzan las pruebas y experimentos de los modelos utilizados, con el objetivo de ganar intuición en los beneficios, mejores o desventajas en cómo se puedan modificar y agregar hiperparámetros. Las *observaciones y conclusiones* son comentarios de situaciones particulares que sucedieron o suceden en la última versión de los experimentos, a modo de reflexión y relevar las particularlidades más notables con las que nos fuimos encontrando.\n",
    "\n",
    "#### Observaciones y conclusiones\n",
    "1. Al principio, sucedió que el MAE era muy lento para convergencia, lo cual tiene sentido por cómo es su gradiente. Particularmente, comparado con MSE, es mucho más lento. Empezamos probando modificar de forma estática y a mano el **learning rate**.\n",
    "2. Luego, con un learning rate cada vez mayor, pudimos observar que el entrenamiento era más rápido, pero sucedían dos cuestiones. En primer lugar, que se producía una especie oscilación en torno a un valor que asumo que es el mínimo al cual se acerca el entrenamiento, con lo cual sería necesario disminuir cerca de ahí el valor del learning rate. Por otro lado, este mínimo no era el mismo mínimo que obtuve con el MSE, debe ser un plateau, un mínimo local pero no el absoluto. Me propuse usar **learning rate dinámico** y **comenzar de diferentes puntos**.\n",
    "3. Cuando probamos utilizar MSE, si no normalizaba con z-score todas las variables, rápidamente divergía la función de costo y se rompía el entrenamiento. Por otro lado, la misma normalización afectaba mucho al entrenamiento del MAE. *¿Por qué?* Lo pude corregir un poco al aumentar el learning rate por un factor, lo cual debe tener sentido si se considera que ahora las variables estando normalizadas tienen una menor magnitud lo cual puede producir que los pasos sean menores que antes, y por eso se ralentizó.\n",
    "4. Interesante, encontramos esta discusión https://datascience.stackexchange.com/questions/9020/do-i-have-to-standardize-my-new-polynomial-features a raiz de una pregunta bastante sencilla, **¿por qué no está mejorando la métrica con mayor orden de polynomial features?**. Resulta ser que normalizando las variables y luego aplicando polynomial features, obtengo nuevas variables que siguen encontrándose en el intervalo [0,1] pero que su orden de magnitud es mucho menor. *Conclusión, siempre normalizar las variables que entran al modelo, y por ende si aplicas polynomial features tenés que normalizar luego de crear las nuevas variables.*\n",
    "5. Con la corrección mencionada anteriormente con respecto a la normalización, mejoró el resultado de ordenes grandes de polinomios.\n",
    "6. Nos llamó la atención que por lo general los resultados de validación eran mejores que en entrenamiento, y además, esta diferencia se achica más a medida que aumenta el orden de los polinomios. En este escenario, pensamos en dos posibilidades, un posible **underfitting** o bien un problema con los conjuntos de train, valid y test. No obstante, encontramos este artículo como una tercera opción que creemos que no aplica a nuestro problema. Este artículo menciona algo que puede ser útil https://keras.io/getting_started/faq/#why-is-my-training-loss-much-higher-than-my-testing-loss, una posibilidad sería que la validación sobre un epoch siempre tienda a ser mejor que el promedio del train en los batch, porque fue entrenándose mejor. Aunque no me convence después de muchos epochs que suceda esto. **¿Deberíamos estar usando k-folding?** **¿Deberíamos mejorar el modelo para no tener underfitting?**\n",
    "7. Finalmente, se determinó que la baja cantidad de muestras en los datos provoca que los estimadores tengan una mayor varianza lo cual afecta drásticamente la estimación en la evaluación del modelo. En principio, se dejó utilizando el **método hold-out**, conscientes de que deberíamos aplicar **k-folding** para poder dar una estimación de menor varianza en el test.\n",
    "8. En el conjunto de datos utilizados para **train**, **valid** y **test**, existen nueve **outliers** en el **BMI**, es menos de 1% del conjunto de datos pero antes no los estabamos removiendo, al quitarlos disminuyeron notoriamente las métricas de entrenamiento."
   ]
  },
  {
   "cell_type": "code",
   "execution_count": 17,
   "metadata": {},
   "outputs": [],
   "source": [
    "from src.ej2 import rl_helper\n",
    "importlib.reload(rl_helper);"
   ]
  },
  {
   "cell_type": "markdown",
   "metadata": {},
   "source": [
    "## 4.1. Experimentos, análisis y observaciones\n",
    "En los experimentos a continuación se realizan diversas pruebas, y se van presentando comentarios y observaciones o conclusiones sobre los resultados. Vale mencionar, que en todos los escenarios se aplicó **early stop**, monitoreando el resultado de la función de costo sobre el conjunto de validación se busca parar el proceso de entrenamiento cuando no se detectan mejorías, para evitar tiempos de entrenamiento sin un resultado efectivo. Esto se acompaña con el uso de **model checkpoint**, así se registra el estado del modelo en el mejor resultado registrado, el cual se restaura al final del entrenamiento para evaluar los resultados efectivos."
   ]
  },
  {
   "cell_type": "code",
   "execution_count": 18,
   "metadata": {},
   "outputs": [],
   "source": [
    "# Create a list to hold the degree of the polynomial feature used and the performance in train and valid sets,\n",
    "# elements should be of the format (degree, mae_train, mae_valid)\n",
    "results = []"
   ]
  },
  {
   "cell_type": "markdown",
   "metadata": {},
   "source": [
    "### 4.1.1. Regresión lineal\n",
    "En estas primeras pruebas, se emplea una **regresión lineal** sin ninguna modificación, agregado, técnica o método especial. Es decir, se utiliza un modelo con una **capa densa de una única neurona o unidad**, que será la salida del modelo, con una función de activación **lineal** y una función de costo **MAE**. Por defecto, inicialmente se entrena utilizando como optimizador **SGD**.\n",
    "\n",
    "#### Observaciones y conclusiones\n",
    "Durante el entrenamiento del modelo, inicialmente la función de costo es muy elevada y además resulta un proceso muy lento, con lo cual la convergencia a una solución óptima requiere mucho tiempo. Esto se debe particularmente al uso del valor medio del error absoluto (**MAE**) como función de costo, cuya gradiente es menor que para otras funciones de costo como puede ser el caso del **MSE**."
   ]
  },
  {
   "cell_type": "code",
   "execution_count": 19,
   "metadata": {},
   "outputs": [
    {
     "name": "stdout",
     "output_type": "stream",
     "text": [
      "Model logs at tb-logs/rl/experiment-1/20210530-134228\n",
      "Model checkpoints at checkpoints/rl/experiment-1/20210530-134228\n",
      "Model: \"sequential\"\n",
      "_________________________________________________________________\n",
      "Layer (type)                 Output Shape              Param #   \n",
      "=================================================================\n",
      "dense (Dense)                (None, 1)                 10        \n",
      "=================================================================\n",
      "Total params: 10\n",
      "Trainable params: 10\n",
      "Non-trainable params: 0\n",
      "_________________________________________________________________\n",
      "[MAE] Train: 12513.67 Valid: 11605.36 Test: 13234.43\n"
     ]
    }
   ],
   "source": [
    "# Run model experiment\n",
    "mae_train, mae_valid, mae_test = rl_helper.run_model(x_train, y_train, x_valid, y_valid, x_test, y_test,\n",
    "                                                     learning_rate=0.1,\n",
    "                                                     decay_rate=0.01,\n",
    "                                                     epochs=500,\n",
    "                                                     batch_size=64,\n",
    "                                                     tag='experiment-1'\n",
    "                                                    )\n",
    "\n",
    "# Register the results for the degree used\n",
    "results.append([1, mae_train, mae_valid])"
   ]
  },
  {
   "cell_type": "code",
   "execution_count": 20,
   "metadata": {},
   "outputs": [
    {
     "name": "stdout",
     "output_type": "stream",
     "text": [
      "Model logs at tb-logs/rl/experiment-2/20210530-135117\n",
      "Model checkpoints at checkpoints/rl/experiment-2/20210530-135117\n",
      "Model: \"sequential_1\"\n",
      "_________________________________________________________________\n",
      "Layer (type)                 Output Shape              Param #   \n",
      "=================================================================\n",
      "dense_1 (Dense)              (None, 1)                 10        \n",
      "=================================================================\n",
      "Total params: 10\n",
      "Trainable params: 10\n",
      "Non-trainable params: 0\n",
      "_________________________________________________________________\n",
      "[MAE] Train: 7641.9 Valid: 6878.93 Test: 8449.02\n"
     ]
    }
   ],
   "source": [
    "# Run model experiment\n",
    "mae_train, mae_valid, mae_test = rl_helper.run_model(x_train, y_train, x_valid, y_valid, x_test, y_test,\n",
    "                                                     learning_rate=1.0,\n",
    "                                                     decay_rate=0.01,\n",
    "                                                     epochs=500,\n",
    "                                                     batch_size=64,\n",
    "                                                     tag='experiment-2'\n",
    "                                                    )\n",
    "\n",
    "# Register the results for the degree used\n",
    "results.append([1, mae_train, mae_valid])"
   ]
  },
  {
   "cell_type": "markdown",
   "metadata": {},
   "source": [
    "### 4.1.2. Learning Rate Scheduling\n",
    "Se busca solucionar la lenta convergencia que se tiene con una función de costo **MAE** al utilizar valores más grandes de **learning rate**, no obstante, es sabido que esto puede producir divergencia u oscilaciones indeseadas del modelo, entonces se propone probar diferentes esquemas dinámicos en donde el valor empleado puede evolucionar el tiempo, particularmente disminuyendo. Así, se empiezan con valores altos de learning rate que va decayendo con el tiempo, permitiendo alcanzar mínimos de forma más rapida y luego converger sin demasaidas oscilaciones.\n",
    "\n",
    "#### Observaciones y conclusiones\n",
    "Se puede notar una diferencia fuerte en la cantidad de tiempo requerido para entrenar el modelo, gracias al uso del **learning rate scheduling**. Además, eso permitió encontrar resultados mucho mejores. Particularmente, no se detectaron diferencias grandes en el resultado respecto del tipo de variación dinámica que se emplea. Se probó utilizar además el optimizador **adam** y el optimizador **RMSprop** y se vió que la curva de aprendizaje presentaba más variación en forma de picos y valles."
   ]
  },
  {
   "cell_type": "code",
   "execution_count": 21,
   "metadata": {},
   "outputs": [
    {
     "name": "stdout",
     "output_type": "stream",
     "text": [
      "Model logs at tb-logs/rl/experiment-3/20210530-135847\n",
      "Model checkpoints at checkpoints/rl/experiment-3/20210530-135847\n",
      "Model: \"sequential_2\"\n",
      "_________________________________________________________________\n",
      "Layer (type)                 Output Shape              Param #   \n",
      "=================================================================\n",
      "dense_2 (Dense)              (None, 1)                 10        \n",
      "=================================================================\n",
      "Total params: 10\n",
      "Trainable params: 10\n",
      "Non-trainable params: 0\n",
      "_________________________________________________________________\n",
      "[MAE] Train: 3471.11 Valid: 3252.44 Test: 4342.12\n"
     ]
    }
   ],
   "source": [
    "# Run model experiment\n",
    "mae_train, mae_valid, mae_test = rl_helper.run_model(x_train, y_train, x_valid, y_valid, x_test, y_test,\n",
    "                                                     learning_rate=1000,\n",
    "                                                     scheduler='time-decay',\n",
    "                                                     decay_rate=0.01,\n",
    "                                                     epochs=500,\n",
    "                                                     batch_size=64,\n",
    "                                                     tag='experiment-3'\n",
    "                                                    )\n",
    "\n",
    "# Register the results for the degree used\n",
    "results.append([1, mae_train, mae_valid])"
   ]
  },
  {
   "cell_type": "code",
   "execution_count": 22,
   "metadata": {},
   "outputs": [
    {
     "name": "stdout",
     "output_type": "stream",
     "text": [
      "Model logs at tb-logs/rl/experiment-4/20210530-140035\n",
      "Model checkpoints at checkpoints/rl/experiment-4/20210530-140035\n",
      "Model: \"sequential_3\"\n",
      "_________________________________________________________________\n",
      "Layer (type)                 Output Shape              Param #   \n",
      "=================================================================\n",
      "dense_3 (Dense)              (None, 1)                 10        \n",
      "=================================================================\n",
      "Total params: 10\n",
      "Trainable params: 10\n",
      "Non-trainable params: 0\n",
      "_________________________________________________________________\n",
      "[MAE] Train: 10864.05 Valid: 9961.79 Test: 11572.41\n"
     ]
    }
   ],
   "source": [
    "# Run model experiment\n",
    "mae_train, mae_valid, mae_test = rl_helper.run_model(x_train, y_train, x_valid, y_valid, x_test, y_test,\n",
    "                                                     learning_rate=1.0,\n",
    "                                                     scheduler='time-decay',\n",
    "                                                     decay_rate=0.01,\n",
    "                                                     epochs=500,\n",
    "                                                     batch_size=64,\n",
    "                                                     tag='experiment-4'\n",
    "                                                    )"
   ]
  },
  {
   "cell_type": "code",
   "execution_count": 23,
   "metadata": {},
   "outputs": [
    {
     "name": "stdout",
     "output_type": "stream",
     "text": [
      "Model logs at tb-logs/rl/experiment-5/20210530-140543\n",
      "Model checkpoints at checkpoints/rl/experiment-5/20210530-140543\n",
      "Model: \"sequential_4\"\n",
      "_________________________________________________________________\n",
      "Layer (type)                 Output Shape              Param #   \n",
      "=================================================================\n",
      "dense_4 (Dense)              (None, 1)                 10        \n",
      "=================================================================\n",
      "Total params: 10\n",
      "Trainable params: 10\n",
      "Non-trainable params: 0\n",
      "_________________________________________________________________\n",
      "[MAE] Train: 3221.96 Valid: 3534.58 Test: 4221.36\n"
     ]
    }
   ],
   "source": [
    "# Run model experiment\n",
    "mae_train, mae_valid, mae_test = rl_helper.run_model(x_train, y_train, x_valid, y_valid, x_test, y_test,\n",
    "                                                     learning_rate=1000,\n",
    "                                                     scheduler='time-decay',\n",
    "                                                     decay_rate=0.01,\n",
    "                                                     optimizer='adam',\n",
    "                                                     beta_1=0.9,\n",
    "                                                     beta_2=0.99,\n",
    "                                                     epochs=500,\n",
    "                                                     batch_size=64,\n",
    "                                                     tag='experiment-5'\n",
    "                                                    )"
   ]
  },
  {
   "cell_type": "code",
   "execution_count": 24,
   "metadata": {},
   "outputs": [
    {
     "name": "stdout",
     "output_type": "stream",
     "text": [
      "Model logs at tb-logs/rl/experiment-6/20210530-140728\n",
      "Model checkpoints at checkpoints/rl/experiment-6/20210530-140728\n",
      "Model: \"sequential_5\"\n",
      "_________________________________________________________________\n",
      "Layer (type)                 Output Shape              Param #   \n",
      "=================================================================\n",
      "dense_5 (Dense)              (None, 1)                 10        \n",
      "=================================================================\n",
      "Total params: 10\n",
      "Trainable params: 10\n",
      "Non-trainable params: 0\n",
      "_________________________________________________________________\n",
      "[MAE] Train: 3391.66 Valid: 3429.18 Test: 4367.28\n"
     ]
    }
   ],
   "source": [
    "# Run model experiment\n",
    "mae_train, mae_valid, mae_test = rl_helper.run_model(x_train, y_train, x_valid, y_valid, x_test, y_test,\n",
    "                                                     learning_rate=1000,\n",
    "                                                     scheduler='step-decay',\n",
    "                                                     drop_rate=0.5,\n",
    "                                                     epochs_drop=10,\n",
    "                                                     epochs=500,\n",
    "                                                     batch_size=32,\n",
    "                                                     tag='experiment-6'\n",
    "                                                    )"
   ]
  },
  {
   "cell_type": "code",
   "execution_count": 25,
   "metadata": {},
   "outputs": [
    {
     "name": "stdout",
     "output_type": "stream",
     "text": [
      "Model logs at tb-logs/rl/experiment-7/20210530-140917\n",
      "Model checkpoints at checkpoints/rl/experiment-7/20210530-140917\n",
      "Model: \"sequential_6\"\n",
      "_________________________________________________________________\n",
      "Layer (type)                 Output Shape              Param #   \n",
      "=================================================================\n",
      "dense_6 (Dense)              (None, 1)                 10        \n",
      "=================================================================\n",
      "Total params: 10\n",
      "Trainable params: 10\n",
      "Non-trainable params: 0\n",
      "_________________________________________________________________\n",
      "[MAE] Train: 3163.38 Valid: 3540.77 Test: 4207.58\n"
     ]
    }
   ],
   "source": [
    "# Run model experiment\n",
    "mae_train, mae_valid, mae_test = rl_helper.run_model(x_train, y_train, x_valid, y_valid, x_test, y_test,\n",
    "                                                     learning_rate=1000,\n",
    "                                                     scheduler='step-decay',\n",
    "                                                     drop_rate=0.5,\n",
    "                                                     optimizer='adam',\n",
    "                                                     beta_1=0.9,\n",
    "                                                     beta_2=0.99,\n",
    "                                                     epochs_drop=10,\n",
    "                                                     epochs=500,\n",
    "                                                     batch_size=32,\n",
    "                                                     tag='experiment-7'\n",
    "                                                    )"
   ]
  },
  {
   "cell_type": "code",
   "execution_count": 26,
   "metadata": {},
   "outputs": [
    {
     "name": "stdout",
     "output_type": "stream",
     "text": [
      "Model logs at tb-logs/rl/experiment-8/20210530-141114\n",
      "Model checkpoints at checkpoints/rl/experiment-8/20210530-141114\n",
      "Model: \"sequential_7\"\n",
      "_________________________________________________________________\n",
      "Layer (type)                 Output Shape              Param #   \n",
      "=================================================================\n",
      "dense_7 (Dense)              (None, 1)                 10        \n",
      "=================================================================\n",
      "Total params: 10\n",
      "Trainable params: 10\n",
      "Non-trainable params: 0\n",
      "_________________________________________________________________\n",
      "[MAE] Train: 3727.18 Valid: 3262.46 Test: 4485.11\n"
     ]
    }
   ],
   "source": [
    "# Run model experiment\n",
    "mae_train, mae_valid, mae_test = rl_helper.run_model(x_train, y_train, x_valid, y_valid, x_test, y_test,\n",
    "                                                     learning_rate=1000,\n",
    "                                                     scheduler='exponential-decay',\n",
    "                                                     decay_rate=0.07,\n",
    "                                                     epochs=500,\n",
    "                                                     batch_size=32,\n",
    "                                                     tag='experiment-8'\n",
    "                                                    )"
   ]
  },
  {
   "cell_type": "code",
   "execution_count": 27,
   "metadata": {},
   "outputs": [
    {
     "name": "stdout",
     "output_type": "stream",
     "text": [
      "Model logs at tb-logs/rl/experiment-9/20210530-141256\n",
      "Model checkpoints at checkpoints/rl/experiment-9/20210530-141256\n",
      "Model: \"sequential_8\"\n",
      "_________________________________________________________________\n",
      "Layer (type)                 Output Shape              Param #   \n",
      "=================================================================\n",
      "dense_8 (Dense)              (None, 1)                 10        \n",
      "=================================================================\n",
      "Total params: 10\n",
      "Trainable params: 10\n",
      "Non-trainable params: 0\n",
      "_________________________________________________________________\n",
      "[MAE] Train: 3290.03 Valid: 3507.39 Test: 4327.1\n"
     ]
    }
   ],
   "source": [
    "# Run model experiment\n",
    "mae_train, mae_valid, mae_test = rl_helper.run_model(x_train, y_train, x_valid, y_valid, x_test, y_test,\n",
    "                                                     learning_rate=1000,\n",
    "                                                     scheduler='exponential-decay',\n",
    "                                                     decay_rate=0.01,\n",
    "                                                     optimizer='adam',\n",
    "                                                     beta_1=0.9,\n",
    "                                                     beta_2=0.99,\n",
    "                                                     min_delta=5,\n",
    "                                                     epochs=500,\n",
    "                                                     batch_size=32,\n",
    "                                                     tag='experiment-9'\n",
    "                                                    )"
   ]
  },
  {
   "cell_type": "code",
   "execution_count": 28,
   "metadata": {},
   "outputs": [
    {
     "name": "stdout",
     "output_type": "stream",
     "text": [
      "Model logs at tb-logs/rl/experiment-9/20210530-141454\n",
      "Model checkpoints at checkpoints/rl/experiment-9/20210530-141454\n",
      "Model: \"sequential_9\"\n",
      "_________________________________________________________________\n",
      "Layer (type)                 Output Shape              Param #   \n",
      "=================================================================\n",
      "dense_9 (Dense)              (None, 1)                 10        \n",
      "=================================================================\n",
      "Total params: 10\n",
      "Trainable params: 10\n",
      "Non-trainable params: 0\n",
      "_________________________________________________________________\n",
      "[MAE] Train: 4776.55 Valid: 4574.05 Test: 5808.02\n"
     ]
    }
   ],
   "source": [
    "# Run model experiment\n",
    "mae_train, mae_valid, mae_test = rl_helper.run_model(x_train, y_train, x_valid, y_valid, x_test, y_test,\n",
    "                                                     learning_rate=1000,\n",
    "                                                     scheduler='exponential-decay',\n",
    "                                                     decay_rate=0.01,\n",
    "                                                     optimizer='rmsprop',\n",
    "                                                     momentum=0.9,\n",
    "                                                     rho=0.99,\n",
    "                                                     min_delta=5,\n",
    "                                                     epochs=500,\n",
    "                                                     batch_size=32,\n",
    "                                                     tag='experiment-9'\n",
    "                                                    )"
   ]
  },
  {
   "cell_type": "markdown",
   "metadata": {},
   "source": [
    "### 4.1.3. Polynomial Features\n",
    "Es probable que la complejidad del modelo no sea lo suficientemente alta para poder representar correctamente la solución al problema, una posible solución es utilizar **polynomial features** que permite crear un espacio de soluciones más grande. A continuación, se prueba con diferentes órdenes y se observan resultados.\n",
    "\n",
    "#### Observaciones y conclusiones\n",
    "1. En general, los resultados son mucho mejores que con el escenario anterior de primer orden.\n",
    "2. A medida que aumentamos el orden del feature polinomial, se observan pocas variaciones en la métrica de entrenamiento, pero se ve un incremento en la métrica de validación.\n",
    "3. A medida que elevamos más el orden del feature polinomial, se puede observar que empiezan a suceder situaciones de **overfitting**, el modelo nuevamente pierde capacidad de generalización, pero esta vez porque su performance en entrenamiento da mucho mejor que en el resto de los casos. Esto evidencia que aprendió demasiado sobre entrenamiento. En este punto, deberíamos conseguir más datos para permitirle generalizar mejor, o limitar el gran espacio de soluciones que posee frente a la gran complejidad por ser de alto orden.\n",
    "4. Observar que para ordenes muy grandes fue necesario reducir el batch size para poder encontrar una buena solución.\n",
    "5. Observar que el learning rate empleado ahora es menor.\n",
    "6. Observar que para el mayor órden la métrica se deterioró, puede ser que no haya un buen ajuste de hiperparámetros para alcanzar el mínimo, o también podría pasar que la información para obtener un buen resultado no es suficiente y faltan datos para entrenar un orden tan elevado."
   ]
  },
  {
   "cell_type": "code",
   "execution_count": 42,
   "metadata": {},
   "outputs": [
    {
     "name": "stdout",
     "output_type": "stream",
     "text": [
      "Model logs at tb-logs/rl/experiment-10/20210530-162112\n",
      "Model checkpoints at checkpoints/rl/experiment-10/20210530-162112\n",
      "Model: \"sequential_21\"\n",
      "_________________________________________________________________\n",
      "Layer (type)                 Output Shape              Param #   \n",
      "=================================================================\n",
      "dense_21 (Dense)             (None, 1)                 55        \n",
      "=================================================================\n",
      "Total params: 55\n",
      "Trainable params: 55\n",
      "Non-trainable params: 0\n",
      "_________________________________________________________________\n",
      "[MAE] Train: 1781.49 Valid: 1937.73 Test: 2670.43\n"
     ]
    }
   ],
   "source": [
    "# Run model experiment\n",
    "mae_train, mae_valid, mae_test = rl_helper.run_model(x_train, y_train, x_valid, y_valid, x_test, y_test,\n",
    "                                                     learning_rate=1000,\n",
    "                                                     degree=2,\n",
    "                                                     scheduler='exponential-decay',\n",
    "                                                     decay_rate=0.09,\n",
    "                                                     optimizer='adam',\n",
    "                                                     beta_1=0.9,\n",
    "                                                     beta_2=0.99,\n",
    "                                                     patience=50,\n",
    "                                                     min_delta=5,\n",
    "                                                     epochs=1000,\n",
    "                                                     batch_size=64,\n",
    "                                                     tag='experiment-10'\n",
    "                                                    )\n",
    "\n",
    "# Register the results for the degree used\n",
    "results.append([2, mae_train, mae_valid])"
   ]
  },
  {
   "cell_type": "code",
   "execution_count": 30,
   "metadata": {},
   "outputs": [
    {
     "name": "stdout",
     "output_type": "stream",
     "text": [
      "Model logs at tb-logs/rl/experiment-11/20210530-141958\n",
      "Model checkpoints at checkpoints/rl/experiment-11/20210530-141958\n",
      "Model: \"sequential_11\"\n",
      "_________________________________________________________________\n",
      "Layer (type)                 Output Shape              Param #   \n",
      "=================================================================\n",
      "dense_11 (Dense)             (None, 1)                 220       \n",
      "=================================================================\n",
      "Total params: 220\n",
      "Trainable params: 220\n",
      "Non-trainable params: 0\n",
      "_________________________________________________________________\n",
      "[MAE] Train: 1791.72 Valid: 2054.18 Test: 2813.71\n"
     ]
    }
   ],
   "source": [
    "# Run model experiment\n",
    "mae_train, mae_valid, mae_test = rl_helper.run_model(x_train, y_train, x_valid, y_valid, x_test, y_test,\n",
    "                                                     learning_rate=1000,\n",
    "                                                     degree=3,\n",
    "                                                     scheduler='exponential-decay',\n",
    "                                                     decay_rate=0.1,\n",
    "                                                     optimizer='adam',\n",
    "                                                     beta_1=0.9,\n",
    "                                                     beta_2=0.99,\n",
    "                                                     patience=50,\n",
    "                                                     min_delta=5,\n",
    "                                                     epochs=1000,\n",
    "                                                     batch_size=64,\n",
    "                                                     tag='experiment-11'\n",
    "                                                    )\n",
    "\n",
    "# Register the results for the degree used\n",
    "results.append([3, mae_train, mae_valid])"
   ]
  },
  {
   "cell_type": "code",
   "execution_count": 31,
   "metadata": {},
   "outputs": [
    {
     "name": "stdout",
     "output_type": "stream",
     "text": [
      "Model logs at tb-logs/rl/experiment-12/20210530-142206\n",
      "Model checkpoints at checkpoints/rl/experiment-12/20210530-142206\n",
      "Model: \"sequential_12\"\n",
      "_________________________________________________________________\n",
      "Layer (type)                 Output Shape              Param #   \n",
      "=================================================================\n",
      "dense_12 (Dense)             (None, 1)                 715       \n",
      "=================================================================\n",
      "Total params: 715\n",
      "Trainable params: 715\n",
      "Non-trainable params: 0\n",
      "_________________________________________________________________\n",
      "[MAE] Train: 1781.06 Valid: 2188.1 Test: 3039.4\n"
     ]
    }
   ],
   "source": [
    "# Run model experiment\n",
    "mae_train, mae_valid, mae_test = rl_helper.run_model(x_train, y_train, x_valid, y_valid, x_test, y_test,\n",
    "                                                     learning_rate=1000,\n",
    "                                                     degree=4,\n",
    "                                                     scheduler='exponential-decay',\n",
    "                                                     decay_rate=0.1,\n",
    "                                                     optimizer='adam',\n",
    "                                                     beta_1=0.9,\n",
    "                                                     beta_2=0.99,\n",
    "                                                     patience=50,\n",
    "                                                     min_delta=5,\n",
    "                                                     epochs=1000,\n",
    "                                                     batch_size=64,\n",
    "                                                     tag='experiment-12'\n",
    "                                                    )\n",
    "\n",
    "# Register the results for the degree used\n",
    "results.append([4, mae_train, mae_valid])"
   ]
  },
  {
   "cell_type": "code",
   "execution_count": 32,
   "metadata": {},
   "outputs": [
    {
     "name": "stdout",
     "output_type": "stream",
     "text": [
      "Model logs at tb-logs/rl/experiment-13/20210530-142436\n",
      "Model checkpoints at checkpoints/rl/experiment-13/20210530-142436\n",
      "Model: \"sequential_13\"\n",
      "_________________________________________________________________\n",
      "Layer (type)                 Output Shape              Param #   \n",
      "=================================================================\n",
      "dense_13 (Dense)             (None, 1)                 2002      \n",
      "=================================================================\n",
      "Total params: 2,002\n",
      "Trainable params: 2,002\n",
      "Non-trainable params: 0\n",
      "_________________________________________________________________\n",
      "[MAE] Train: 1727.44 Valid: 2009.32 Test: 2884.52\n"
     ]
    }
   ],
   "source": [
    "# Run model experiment\n",
    "mae_train, mae_valid, mae_test = rl_helper.run_model(x_train, y_train, x_valid, y_valid, x_test, y_test,\n",
    "                                                     learning_rate=2.0,\n",
    "                                                     degree=5,\n",
    "                                                     scheduler='exponential-decay',\n",
    "                                                     decay_rate=0.001,\n",
    "                                                     optimizer='adam',\n",
    "                                                     beta_1=0.9,\n",
    "                                                     beta_2=0.99,\n",
    "                                                     patience=50,\n",
    "                                                     min_delta=5,\n",
    "                                                     epochs=1000,\n",
    "                                                     batch_size=64,\n",
    "                                                     tag='experiment-13'\n",
    "                                                    )\n",
    "\n",
    "# Register the results for the degree used\n",
    "results.append([5, mae_train, mae_valid])"
   ]
  },
  {
   "cell_type": "code",
   "execution_count": 33,
   "metadata": {},
   "outputs": [
    {
     "name": "stdout",
     "output_type": "stream",
     "text": [
      "Model logs at tb-logs/rl/experiment-14/20210530-143216\n",
      "Model checkpoints at checkpoints/rl/experiment-14/20210530-143216\n",
      "Model: \"sequential_14\"\n",
      "_________________________________________________________________\n",
      "Layer (type)                 Output Shape              Param #   \n",
      "=================================================================\n",
      "dense_14 (Dense)             (None, 1)                 5005      \n",
      "=================================================================\n",
      "Total params: 5,005\n",
      "Trainable params: 5,005\n",
      "Non-trainable params: 0\n",
      "_________________________________________________________________\n",
      "[MAE] Train: 1730.18 Valid: 2119.03 Test: 2899.7\n"
     ]
    }
   ],
   "source": [
    "# Run model experiment\n",
    "mae_train, mae_valid, mae_test = rl_helper.run_model(x_train, y_train, x_valid, y_valid, x_test, y_test,\n",
    "                                                     learning_rate=5.0,\n",
    "                                                     degree=6,\n",
    "                                                     scheduler='exponential-decay',\n",
    "                                                     decay_rate=0.01,\n",
    "                                                     optimizer='adam',\n",
    "                                                     beta_1=0.9,\n",
    "                                                     beta_2=0.99,\n",
    "                                                     patience=50,\n",
    "                                                     min_delta=5,\n",
    "                                                     epochs=1000,\n",
    "                                                     batch_size=32,\n",
    "                                                     tag='experiment-14'\n",
    "                                                    )\n",
    "\n",
    "# Register the results for the degree used\n",
    "results.append([6, mae_train, mae_valid])"
   ]
  },
  {
   "cell_type": "code",
   "execution_count": 34,
   "metadata": {},
   "outputs": [
    {
     "name": "stdout",
     "output_type": "stream",
     "text": [
      "Model logs at tb-logs/rl/experiment-15/20210530-143813\n",
      "Model checkpoints at checkpoints/rl/experiment-15/20210530-143813\n",
      "Model: \"sequential_15\"\n",
      "_________________________________________________________________\n",
      "Layer (type)                 Output Shape              Param #   \n",
      "=================================================================\n",
      "dense_15 (Dense)             (None, 1)                 11440     \n",
      "=================================================================\n",
      "Total params: 11,440\n",
      "Trainable params: 11,440\n",
      "Non-trainable params: 0\n",
      "_________________________________________________________________\n",
      "[MAE] Train: 1839.03 Valid: 2189.8 Test: 3030.25\n"
     ]
    }
   ],
   "source": [
    "# Run model experiment\n",
    "mae_train, mae_valid, mae_test = rl_helper.run_model(x_train, y_train, x_valid, y_valid, x_test, y_test,\n",
    "                                                     learning_rate=5.0,\n",
    "                                                     degree=7,\n",
    "                                                     scheduler='exponential-decay',\n",
    "                                                     decay_rate=0.01,\n",
    "                                                     optimizer='adam',\n",
    "                                                     beta_1=0.9,\n",
    "                                                     beta_2=0.99,\n",
    "                                                     patience=50,\n",
    "                                                     min_delta=5,\n",
    "                                                     epochs=1000,\n",
    "                                                     batch_size=32,\n",
    "                                                     tag='experiment-15'\n",
    "                                                    )\n",
    "\n",
    "# Register the results for the degree used\n",
    "results.append([7, mae_train, mae_valid])"
   ]
  },
  {
   "cell_type": "code",
   "execution_count": 35,
   "metadata": {},
   "outputs": [
    {
     "name": "stdout",
     "output_type": "stream",
     "text": [
      "Model logs at tb-logs/rl/experiment-16/20210530-144157\n",
      "Model checkpoints at checkpoints/rl/experiment-16/20210530-144157\n",
      "Model: \"sequential_16\"\n",
      "_________________________________________________________________\n",
      "Layer (type)                 Output Shape              Param #   \n",
      "=================================================================\n",
      "dense_16 (Dense)             (None, 1)                 24310     \n",
      "=================================================================\n",
      "Total params: 24,310\n",
      "Trainable params: 24,310\n",
      "Non-trainable params: 0\n",
      "_________________________________________________________________\n",
      "[MAE] Train: 1597.98 Valid: 2120.03 Test: 3281.04\n"
     ]
    }
   ],
   "source": [
    "# Run model experiment\n",
    "mae_train, mae_valid, mae_test = rl_helper.run_model(x_train, y_train, x_valid, y_valid, x_test, y_test,\n",
    "                                                     learning_rate=5.0,\n",
    "                                                     degree=8,\n",
    "                                                     scheduler='exponential-decay',\n",
    "                                                     decay_rate=0.01,\n",
    "                                                     optimizer='adam',\n",
    "                                                     beta_1=0.9,\n",
    "                                                     beta_2=0.99,\n",
    "                                                     patience=50,\n",
    "                                                     min_delta=5,\n",
    "                                                     epochs=1000,\n",
    "                                                     batch_size=32,\n",
    "                                                     tag='experiment-16'\n",
    "                                                    )\n",
    "\n",
    "# Register the results for the degree used\n",
    "results.append([8, mae_train, mae_valid])"
   ]
  },
  {
   "cell_type": "code",
   "execution_count": 36,
   "metadata": {},
   "outputs": [
    {
     "name": "stdout",
     "output_type": "stream",
     "text": [
      "Model logs at tb-logs/rl/experiment-17/20210530-144623\n",
      "Model checkpoints at checkpoints/rl/experiment-17/20210530-144623\n",
      "Model: \"sequential_17\"\n",
      "_________________________________________________________________\n",
      "Layer (type)                 Output Shape              Param #   \n",
      "=================================================================\n",
      "dense_17 (Dense)             (None, 1)                 48620     \n",
      "=================================================================\n",
      "Total params: 48,620\n",
      "Trainable params: 48,620\n",
      "Non-trainable params: 0\n",
      "_________________________________________________________________\n",
      "[MAE] Train: 1571.17 Valid: 2109.92 Test: 3518.94\n"
     ]
    }
   ],
   "source": [
    "# Run model experiment\n",
    "mae_train, mae_valid, mae_test = rl_helper.run_model(x_train, y_train, x_valid, y_valid, x_test, y_test,\n",
    "                                                     learning_rate=5.0,\n",
    "                                                     degree=9,\n",
    "                                                     scheduler='exponential-decay',\n",
    "                                                     decay_rate=0.01,\n",
    "                                                     optimizer='adam',\n",
    "                                                     beta_1=0.9,\n",
    "                                                     beta_2=0.99,\n",
    "                                                     patience=50,\n",
    "                                                     min_delta=5,\n",
    "                                                     epochs=1000,\n",
    "                                                     batch_size=32,\n",
    "                                                     tag='experiment-17'\n",
    "                                                    )\n",
    "\n",
    "# Register the results for the degree used\n",
    "results.append([9, mae_train, mae_valid])"
   ]
  },
  {
   "cell_type": "code",
   "execution_count": 37,
   "metadata": {},
   "outputs": [
    {
     "name": "stdout",
     "output_type": "stream",
     "text": [
      "Model logs at tb-logs/rl/experiment-18/20210530-145232\n",
      "Model checkpoints at checkpoints/rl/experiment-18/20210530-145232\n",
      "Model: \"sequential_18\"\n",
      "_________________________________________________________________\n",
      "Layer (type)                 Output Shape              Param #   \n",
      "=================================================================\n",
      "dense_18 (Dense)             (None, 1)                 92378     \n",
      "=================================================================\n",
      "Total params: 92,378\n",
      "Trainable params: 92,378\n",
      "Non-trainable params: 0\n",
      "_________________________________________________________________\n",
      "[MAE] Train: 6157.9 Valid: 5997.58 Test: 7164.38\n"
     ]
    }
   ],
   "source": [
    "# Run model experiment\n",
    "mae_train, mae_valid, mae_test = rl_helper.run_model(x_train, y_train, x_valid, y_valid, x_test, y_test,\n",
    "                                                     learning_rate=5.0,\n",
    "                                                     degree=10,\n",
    "                                                     scheduler='exponential-decay',\n",
    "                                                     decay_rate=0.001,\n",
    "                                                     optimizer='adam',\n",
    "                                                     beta_1=0.9,\n",
    "                                                     beta_2=0.99,\n",
    "                                                     patience=50,\n",
    "                                                     min_delta=5,\n",
    "                                                     epochs=1000,\n",
    "                                                     batch_size=32,\n",
    "                                                     tag='experiment-18'\n",
    "                                                    )\n",
    "\n",
    "# Register the results for the degree used\n",
    "results.append([10, mae_train, mae_valid])"
   ]
  },
  {
   "cell_type": "markdown",
   "metadata": {},
   "source": [
    "#### Análisis de la métrica en función del orden de feature polinomial\n",
    "Utilizando el registro de los resultados para cada orden de feature polinomial,se grafica la evolución para observar el comportamiento y sacar conclusiones a partir de ello."
   ]
  },
  {
   "cell_type": "code",
   "execution_count": 38,
   "metadata": {},
   "outputs": [],
   "source": [
    "import matplotlib.pyplot as plt"
   ]
  },
  {
   "cell_type": "code",
   "execution_count": 39,
   "metadata": {},
   "outputs": [
    {
     "data": {
      "image/png": "[encoded data removed]",
      "text/plain": [
       "<Figure size 720x360 with 1 Axes>"
      ]
     },
     "metadata": {
      "needs_background": "light"
     },
     "output_type": "display_data"
    }
   ],
   "source": [
    "# Decoding results into its components\n",
    "results_orders = [order for order, mae_train, mae_valid in results]\n",
    "results_mae_train = [mae_train for order, mae_train, mae_valid in results]\n",
    "results_mae_valid = [mae_valid for order, mae_train, mae_valid in results]\n",
    "\n",
    "# Plot each of them with a color and a label\n",
    "fig, ax = plt.subplots(1, 1, figsize=(10, 5))\n",
    "ax.plot(results_orders, results_mae_train, marker='o', color='blue', label='Train')\n",
    "ax.plot(results_orders, results_mae_valid, marker='o', color='orange', label='Valid')\n",
    "ax.set_xlabel('Orden', fontsize=14)\n",
    "ax.set_ylabel('MAE', fontsize=14)\n",
    "ax.set_title('Performance vs Orden', fontsize=15)\n",
    "ax.legend(fontsize=12)\n",
    "ax.grid()\n",
    "plt.show()"
   ]
  },
  {
   "cell_type": "markdown",
   "metadata": {},
   "source": [
    "### 4.1.3. Regularización\n",
    "A partir de los resultados anteriores, se observa que a medida que aumentamos el orden del feature polinomial el modelo es capaz de resolver mejor el problema, no sólo mejorando la métrica, sino generalizando mejor. No obstante, cuando se eleva demasiado el orden del polinomio se empieza a enfrentar un problema de overfitting. Esto es, que el modelo presenta un espacio de soluciones de muy alta dimensionalidad que le permite adaptarse flexiblemente al comportamiento del conjunto de entrenamiento, entonces aunque esto no implique que la métrica de entrenamiento mejore, sí implica que la solución obtenida está muy arraigada a la naturaleza del conjunto de entrenamiento.\n",
    "El objetivo ahora es emplear **regularización** para poder restringir el espacio de soluciones, utilizando los métodos **L1** y **L2**, para ver si se puede reducir el overfitting."
   ]
  },
  {
   "cell_type": "code",
   "execution_count": 40,
   "metadata": {},
   "outputs": [
    {
     "name": "stdout",
     "output_type": "stream",
     "text": [
      "Model logs at tb-logs/rl/experiment-19/20210530-145553\n",
      "Model checkpoints at checkpoints/rl/experiment-19/20210530-145553\n",
      "Model: \"sequential_19\"\n",
      "_________________________________________________________________\n",
      "Layer (type)                 Output Shape              Param #   \n",
      "=================================================================\n",
      "dense_19 (Dense)             (None, 1)                 2002      \n",
      "=================================================================\n",
      "Total params: 2,002\n",
      "Trainable params: 2,002\n",
      "Non-trainable params: 0\n",
      "_________________________________________________________________\n",
      "[MAE] Train: 8322.05 Valid: 7628.17 Test: 8840.11\n"
     ]
    }
   ],
   "source": [
    "# Run model experiment\n",
    "mae_train, mae_valid, mae_test = rl_helper.run_model(x_train, y_train, x_valid, y_valid, x_test, y_test,\n",
    "                                                     learning_rate=1000.0,\n",
    "                                                     degree=5,\n",
    "                                                     regularizer='l2',\n",
    "                                                     regularizer_lambda=6-4,\n",
    "                                                     scheduler='exponential-decay',\n",
    "                                                     decay_rate=0.09,\n",
    "                                                     optimizer='adam',\n",
    "                                                     beta_1=0.9,\n",
    "                                                     beta_2=0.99,\n",
    "                                                     patience=50,\n",
    "                                                     min_delta=5,\n",
    "                                                     epochs=1000,\n",
    "                                                     batch_size=32,\n",
    "                                                     tag='experiment-19'\n",
    "                                                    )"
   ]
  },
  {
   "cell_type": "markdown",
   "metadata": {},
   "source": [
    "### 4.1.4. MSE (Mean Square Error) como función de costo\n",
    "Por lo general, otra función de costo y métrica ampliamente utilizada en problemas de regresión es el **MSE**. Es sabido que la diferencia esencial entre las funciones de costo **MAE** y **MSE**, está en que cada una de ellas maximiza la verosimilitud del modelo con el conjunto de datos de entrenamiento, asumiendo que dada una colección de variables o features de entrada, la salida del modelo se comportará con una distribución de Laplace o Gaussiana respectivamente. Es decir, en **MAE** asumimos que la salida tendrá una distribución de Laplace y en **MSE** una distribución Gaussiana. La solución para cada caso será el punto de mayor probabilidad."
   ]
  },
  {
   "cell_type": "code",
   "execution_count": 41,
   "metadata": {},
   "outputs": [
    {
     "name": "stdout",
     "output_type": "stream",
     "text": [
      "Model logs at tb-logs/rl/experiment-20/20210530-145749\n",
      "Model checkpoints at checkpoints/rl/experiment-20/20210530-145749\n",
      "Model: \"sequential_20\"\n",
      "_________________________________________________________________\n",
      "Layer (type)                 Output Shape              Param #   \n",
      "=================================================================\n",
      "dense_20 (Dense)             (None, 1)                 55        \n",
      "=================================================================\n",
      "Total params: 55\n",
      "Trainable params: 55\n",
      "Non-trainable params: 0\n",
      "_________________________________________________________________\n",
      "[MAE] Train: 19307928.0 Valid: 23018076.0 Test: 36294924.0\n"
     ]
    }
   ],
   "source": [
    "# Run model experiment\n",
    "mae_train, mae_valid, mae_test = rl_helper.run_model(x_train, y_train, x_valid, y_valid, x_test, y_test,\n",
    "                                                     learning_rate=1000,\n",
    "                                                     degree=2,\n",
    "                                                     scheduler='exponential-decay',\n",
    "                                                     decay_rate=0.09,\n",
    "                                                     loss='mse',\n",
    "                                                     optimizer='adam',\n",
    "                                                     beta_1=0.9,\n",
    "                                                     beta_2=0.99,\n",
    "                                                     patience=50,\n",
    "                                                     min_delta=5,\n",
    "                                                     epochs=1000,\n",
    "                                                     batch_size=64,\n",
    "                                                     tag='experiment-20'\n",
    "                                                    )\n",
    "\n",
    "# Register the results for the degree used\n",
    "results.append([2, mae_train, mae_valid])"
   ]
  },
  {
   "cell_type": "markdown",
   "metadata": {},
   "source": [
    "### 4.2. Conclusiones\n",
    "* La diferencia entre **MAE** y **MSE** desde la interpretación de cómo afectan al modelo, es que la penalización de un error es distinta a medida que es mayor. Esto provoca que en el MAE los errores sean tratados de igual forma, con lo cual el modelo tiende a solucionar el problema minimizando ese error que es más sencillo para los errores pequeños, dado que en los valores grandes se pueden encontrar outliers. Por otro lado, MSE da mayor peso o penalización a los pesos altos, esto fuerza al modelo a adaptarse para obtener una solución en donde se tengan en cuenta ampliamente los outliers. En conclusión, si se observan las predicciones de un modelo entrenado minimizando MAE y otro minimizando MSE, se verá esta clara distinción en cómo se distribuyen los errores. El MAE tenderá a tener error en los apartamientos más granes, el MSE tenderá a buscar un compromiso para incluir a los outliers, por lo cual su error tendrá una mayor distribución entre pequeños y grandes errores. **¡Importante! No ingorar**"
   ]
  }
 ],
 "metadata": {
  "kernelspec": {
   "display_name": "Python 3",
   "language": "python",
   "name": "python3"
  },
  "language_info": {
   "codemirror_mode": {
    "name": "ipython",
    "version": 3
   },
   "file_extension": ".py",
   "mimetype": "text/x-python",
   "name": "python",
   "nbconvert_exporter": "python",
   "pygments_lexer": "ipython3",
   "version": "3.8.5"
  }
 },
 "nbformat": 4,
 "nbformat_minor": 4
}
